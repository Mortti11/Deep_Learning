{
 "cells": [
  {
   "cell_type": "markdown",
   "metadata": {},
   "source": [
    "<h1 style=\"\n",
    "    font-family: 'Arial', sans-serif;\n",
    "    font-size: 2.5em;\n",
    "    background: linear-gradient(90deg, #FF7F50, #1E90FF);\n",
    "    -webkit-background-clip: text;\n",
    "    -webkit-text-fill-color: transparent;\n",
    "    text-align: center;\n",
    "    text-shadow: 2px 2px 5px rgba(0, 0, 0, 0.3);\n",
    "    margin-bottom: 20px;\n",
    "    padding: 10px;\n",
    "\">\n",
    "  Import Libraries\n",
    "</h1>"
   ]
  },
  {
   "cell_type": "code",
   "execution_count": 595,
   "metadata": {},
   "outputs": [],
   "source": [
    "# Data Manipulation\n",
    "import pandas as pd        \n",
    "import numpy as np         \n",
    "\n",
    "\n",
    "# Data Visualization\n",
    "import matplotlib.pyplot as plt  \n",
    "import seaborn as sns            \n",
    "\n",
    "\n",
    "# Model Selection and Metrics\n",
    "from sklearn.model_selection import train_test_split  \n",
    "from sklearn import metrics                           \n",
    "from sklearn.metrics import classification_report, confusion_matrix, accuracy_score, roc_auc_score \n",
    "\n",
    "\n",
    "# Preprocessing\n",
    "from sklearn.preprocessing import OneHotEncoder, LabelEncoder \n",
    "\n",
    "\n",
    "# Imbalanced Dataset Handling\n",
    "from imblearn.under_sampling import RandomUnderSampler  \n",
    "\n",
    "\n",
    "# Deep Learning (TensorFlow and Keras)\n",
    "import tensorflow as tf                               \n",
    "import tensorflow as tfr\n",
    "# For converting labels to categorical (one-hot) format                              \n",
    "from tensorflow.keras.utils import to_categorical     \n",
    "from keras import layers      \n",
    "# For using the Leaky ReLU activation function                        \n",
    "from keras.layers import LeakyReLU                    \n",
    "from tensorflow.keras.callbacks import EarlyStopping  \n",
    "\n",
    "\n",
    "# Hyperparameter Tuning\n",
    "import keras_tuner  \n",
    "\n",
    "\n",
    "# PyTorch\n",
    "import torch  \n",
    "\n",
    "\n",
    "# Feature Selection\n",
    "from skfeature.function.similarity_based import fisher_score \n",
    "from sklearn.feature_selection import SelectKBest, chi2\n",
    "\n",
    "\n",
    "# Dataset Creation and Resampling\n",
    "from sklearn.utils import resample  \n",
    "from sklearn.datasets import make_classification  \n",
    "\n"
   ]
  },
  {
   "cell_type": "code",
   "execution_count": 596,
   "metadata": {},
   "outputs": [
    {
     "name": "stdout",
     "output_type": "stream",
     "text": [
      "Using device: cuda\n"
     ]
    }
   ],
   "source": [
    "# Using GPU in PyTorch\n",
    "# Check if CUDA is available and set the device\n",
    "device = torch.device(\"cuda\" if torch.cuda.is_available() else \"cpu\")\n",
    "print(\"Using device:\", device)"
   ]
  },
  {
   "cell_type": "markdown",
   "metadata": {},
   "source": [
    "<h1 style=\"\n",
    "    font-family: 'Arial', sans-serif;\n",
    "    font-size: 2.5em;\n",
    "    background: linear-gradient(90deg, #FF7F50, #1E90FF);\n",
    "    -webkit-background-clip: text;\n",
    "    -webkit-text-fill-color: transparent;\n",
    "    text-align: center;\n",
    "    text-shadow: 2px 2px 5px rgba(0, 0, 0, 0.3);\n",
    "    margin-bottom: 20px;\n",
    "    padding: 10px;\n",
    "\">\n",
    "  Loading and Exploring the dataset\n",
    "</h1>"
   ]
  },
  {
   "cell_type": "code",
   "execution_count": 670,
   "metadata": {},
   "outputs": [],
   "source": [
    "#Load the dataset\n",
    "df = pd.read_csv('star_classification.csv')"
   ]
  },
  {
   "cell_type": "code",
   "execution_count": 598,
   "metadata": {},
   "outputs": [
    {
     "data": {
      "text/html": [
       "<div>\n",
       "<style scoped>\n",
       "    .dataframe tbody tr th:only-of-type {\n",
       "        vertical-align: middle;\n",
       "    }\n",
       "\n",
       "    .dataframe tbody tr th {\n",
       "        vertical-align: top;\n",
       "    }\n",
       "\n",
       "    .dataframe thead th {\n",
       "        text-align: right;\n",
       "    }\n",
       "</style>\n",
       "<table border=\"1\" class=\"dataframe\">\n",
       "  <thead>\n",
       "    <tr style=\"text-align: right;\">\n",
       "      <th></th>\n",
       "      <th>obj_ID</th>\n",
       "      <th>alpha</th>\n",
       "      <th>delta</th>\n",
       "      <th>u</th>\n",
       "      <th>g</th>\n",
       "      <th>r</th>\n",
       "      <th>i</th>\n",
       "      <th>z</th>\n",
       "      <th>run_ID</th>\n",
       "      <th>rerun_ID</th>\n",
       "      <th>cam_col</th>\n",
       "      <th>field_ID</th>\n",
       "      <th>spec_obj_ID</th>\n",
       "      <th>class</th>\n",
       "      <th>redshift</th>\n",
       "      <th>plate</th>\n",
       "      <th>MJD</th>\n",
       "      <th>fiber_ID</th>\n",
       "    </tr>\n",
       "  </thead>\n",
       "  <tbody>\n",
       "    <tr>\n",
       "      <th>0</th>\n",
       "      <td>1237660961327743232.00</td>\n",
       "      <td>135.69</td>\n",
       "      <td>32.49</td>\n",
       "      <td>23.88</td>\n",
       "      <td>22.28</td>\n",
       "      <td>20.40</td>\n",
       "      <td>19.17</td>\n",
       "      <td>18.79</td>\n",
       "      <td>3606</td>\n",
       "      <td>301</td>\n",
       "      <td>2</td>\n",
       "      <td>79</td>\n",
       "      <td>6543777369295181824.00</td>\n",
       "      <td>GALAXY</td>\n",
       "      <td>0.63</td>\n",
       "      <td>5812</td>\n",
       "      <td>56354</td>\n",
       "      <td>171</td>\n",
       "    </tr>\n",
       "    <tr>\n",
       "      <th>1</th>\n",
       "      <td>1237664879951151104.00</td>\n",
       "      <td>144.83</td>\n",
       "      <td>31.27</td>\n",
       "      <td>24.78</td>\n",
       "      <td>22.83</td>\n",
       "      <td>22.58</td>\n",
       "      <td>21.17</td>\n",
       "      <td>21.61</td>\n",
       "      <td>4518</td>\n",
       "      <td>301</td>\n",
       "      <td>5</td>\n",
       "      <td>119</td>\n",
       "      <td>11760142036707334144.00</td>\n",
       "      <td>GALAXY</td>\n",
       "      <td>0.78</td>\n",
       "      <td>10445</td>\n",
       "      <td>58158</td>\n",
       "      <td>427</td>\n",
       "    </tr>\n",
       "    <tr>\n",
       "      <th>2</th>\n",
       "      <td>1237660961330430208.00</td>\n",
       "      <td>142.19</td>\n",
       "      <td>35.58</td>\n",
       "      <td>25.26</td>\n",
       "      <td>22.66</td>\n",
       "      <td>20.61</td>\n",
       "      <td>19.35</td>\n",
       "      <td>18.95</td>\n",
       "      <td>3606</td>\n",
       "      <td>301</td>\n",
       "      <td>2</td>\n",
       "      <td>120</td>\n",
       "      <td>5152200256025548800.00</td>\n",
       "      <td>GALAXY</td>\n",
       "      <td>0.64</td>\n",
       "      <td>4576</td>\n",
       "      <td>55592</td>\n",
       "      <td>299</td>\n",
       "    </tr>\n",
       "    <tr>\n",
       "      <th>3</th>\n",
       "      <td>1237663478724297984.00</td>\n",
       "      <td>338.74</td>\n",
       "      <td>-0.40</td>\n",
       "      <td>22.14</td>\n",
       "      <td>23.78</td>\n",
       "      <td>21.61</td>\n",
       "      <td>20.50</td>\n",
       "      <td>19.25</td>\n",
       "      <td>4192</td>\n",
       "      <td>301</td>\n",
       "      <td>3</td>\n",
       "      <td>214</td>\n",
       "      <td>10301071412954419200.00</td>\n",
       "      <td>GALAXY</td>\n",
       "      <td>0.93</td>\n",
       "      <td>9149</td>\n",
       "      <td>58039</td>\n",
       "      <td>775</td>\n",
       "    </tr>\n",
       "    <tr>\n",
       "      <th>4</th>\n",
       "      <td>1237680272041378048.00</td>\n",
       "      <td>345.28</td>\n",
       "      <td>21.18</td>\n",
       "      <td>19.44</td>\n",
       "      <td>17.58</td>\n",
       "      <td>16.50</td>\n",
       "      <td>15.98</td>\n",
       "      <td>15.54</td>\n",
       "      <td>8102</td>\n",
       "      <td>301</td>\n",
       "      <td>3</td>\n",
       "      <td>137</td>\n",
       "      <td>6891864880783316992.00</td>\n",
       "      <td>GALAXY</td>\n",
       "      <td>0.12</td>\n",
       "      <td>6121</td>\n",
       "      <td>56187</td>\n",
       "      <td>842</td>\n",
       "    </tr>\n",
       "    <tr>\n",
       "      <th>5</th>\n",
       "      <td>1237680272039609088.00</td>\n",
       "      <td>341.00</td>\n",
       "      <td>20.59</td>\n",
       "      <td>23.49</td>\n",
       "      <td>23.34</td>\n",
       "      <td>21.32</td>\n",
       "      <td>20.26</td>\n",
       "      <td>19.55</td>\n",
       "      <td>8102</td>\n",
       "      <td>301</td>\n",
       "      <td>3</td>\n",
       "      <td>110</td>\n",
       "      <td>5658976714552007680.00</td>\n",
       "      <td>QSO</td>\n",
       "      <td>1.42</td>\n",
       "      <td>5026</td>\n",
       "      <td>55855</td>\n",
       "      <td>741</td>\n",
       "    </tr>\n",
       "    <tr>\n",
       "      <th>6</th>\n",
       "      <td>1237678858481565952.00</td>\n",
       "      <td>23.23</td>\n",
       "      <td>11.42</td>\n",
       "      <td>21.47</td>\n",
       "      <td>21.18</td>\n",
       "      <td>20.93</td>\n",
       "      <td>20.61</td>\n",
       "      <td>20.43</td>\n",
       "      <td>7773</td>\n",
       "      <td>301</td>\n",
       "      <td>2</td>\n",
       "      <td>462</td>\n",
       "      <td>12462617271914000384.00</td>\n",
       "      <td>QSO</td>\n",
       "      <td>0.59</td>\n",
       "      <td>11069</td>\n",
       "      <td>58456</td>\n",
       "      <td>113</td>\n",
       "    </tr>\n",
       "    <tr>\n",
       "      <th>7</th>\n",
       "      <td>1237678858473963520.00</td>\n",
       "      <td>5.43</td>\n",
       "      <td>12.07</td>\n",
       "      <td>22.25</td>\n",
       "      <td>22.02</td>\n",
       "      <td>20.34</td>\n",
       "      <td>19.49</td>\n",
       "      <td>18.85</td>\n",
       "      <td>7773</td>\n",
       "      <td>301</td>\n",
       "      <td>2</td>\n",
       "      <td>346</td>\n",
       "      <td>6961443351364392960.00</td>\n",
       "      <td>GALAXY</td>\n",
       "      <td>0.48</td>\n",
       "      <td>6183</td>\n",
       "      <td>56210</td>\n",
       "      <td>15</td>\n",
       "    </tr>\n",
       "    <tr>\n",
       "      <th>8</th>\n",
       "      <td>1237661435386659840.00</td>\n",
       "      <td>200.29</td>\n",
       "      <td>47.20</td>\n",
       "      <td>24.40</td>\n",
       "      <td>22.36</td>\n",
       "      <td>20.61</td>\n",
       "      <td>19.46</td>\n",
       "      <td>18.96</td>\n",
       "      <td>3716</td>\n",
       "      <td>301</td>\n",
       "      <td>5</td>\n",
       "      <td>108</td>\n",
       "      <td>7459284627188110336.00</td>\n",
       "      <td>GALAXY</td>\n",
       "      <td>0.66</td>\n",
       "      <td>6625</td>\n",
       "      <td>56386</td>\n",
       "      <td>719</td>\n",
       "    </tr>\n",
       "    <tr>\n",
       "      <th>9</th>\n",
       "      <td>1237670961088167936.00</td>\n",
       "      <td>39.15</td>\n",
       "      <td>28.10</td>\n",
       "      <td>21.75</td>\n",
       "      <td>20.03</td>\n",
       "      <td>19.18</td>\n",
       "      <td>18.82</td>\n",
       "      <td>18.65</td>\n",
       "      <td>5934</td>\n",
       "      <td>301</td>\n",
       "      <td>4</td>\n",
       "      <td>122</td>\n",
       "      <td>2751763212482406400.00</td>\n",
       "      <td>STAR</td>\n",
       "      <td>-0.00</td>\n",
       "      <td>2444</td>\n",
       "      <td>54082</td>\n",
       "      <td>232</td>\n",
       "    </tr>\n",
       "  </tbody>\n",
       "</table>\n",
       "</div>"
      ],
      "text/plain": [
       "                  obj_ID  alpha  delta     u     g     r     i     z  run_ID  \\\n",
       "0 1237660961327743232.00 135.69  32.49 23.88 22.28 20.40 19.17 18.79    3606   \n",
       "1 1237664879951151104.00 144.83  31.27 24.78 22.83 22.58 21.17 21.61    4518   \n",
       "2 1237660961330430208.00 142.19  35.58 25.26 22.66 20.61 19.35 18.95    3606   \n",
       "3 1237663478724297984.00 338.74  -0.40 22.14 23.78 21.61 20.50 19.25    4192   \n",
       "4 1237680272041378048.00 345.28  21.18 19.44 17.58 16.50 15.98 15.54    8102   \n",
       "5 1237680272039609088.00 341.00  20.59 23.49 23.34 21.32 20.26 19.55    8102   \n",
       "6 1237678858481565952.00  23.23  11.42 21.47 21.18 20.93 20.61 20.43    7773   \n",
       "7 1237678858473963520.00   5.43  12.07 22.25 22.02 20.34 19.49 18.85    7773   \n",
       "8 1237661435386659840.00 200.29  47.20 24.40 22.36 20.61 19.46 18.96    3716   \n",
       "9 1237670961088167936.00  39.15  28.10 21.75 20.03 19.18 18.82 18.65    5934   \n",
       "\n",
       "   rerun_ID  cam_col  field_ID             spec_obj_ID   class  redshift  \\\n",
       "0       301        2        79  6543777369295181824.00  GALAXY      0.63   \n",
       "1       301        5       119 11760142036707334144.00  GALAXY      0.78   \n",
       "2       301        2       120  5152200256025548800.00  GALAXY      0.64   \n",
       "3       301        3       214 10301071412954419200.00  GALAXY      0.93   \n",
       "4       301        3       137  6891864880783316992.00  GALAXY      0.12   \n",
       "5       301        3       110  5658976714552007680.00     QSO      1.42   \n",
       "6       301        2       462 12462617271914000384.00     QSO      0.59   \n",
       "7       301        2       346  6961443351364392960.00  GALAXY      0.48   \n",
       "8       301        5       108  7459284627188110336.00  GALAXY      0.66   \n",
       "9       301        4       122  2751763212482406400.00    STAR     -0.00   \n",
       "\n",
       "   plate    MJD  fiber_ID  \n",
       "0   5812  56354       171  \n",
       "1  10445  58158       427  \n",
       "2   4576  55592       299  \n",
       "3   9149  58039       775  \n",
       "4   6121  56187       842  \n",
       "5   5026  55855       741  \n",
       "6  11069  58456       113  \n",
       "7   6183  56210        15  \n",
       "8   6625  56386       719  \n",
       "9   2444  54082       232  "
      ]
     },
     "execution_count": 598,
     "metadata": {},
     "output_type": "execute_result"
    }
   ],
   "source": [
    "\n",
    "df.head(10)"
   ]
  },
  {
   "cell_type": "code",
   "execution_count": 599,
   "metadata": {},
   "outputs": [
    {
     "data": {
      "text/html": [
       "<div>\n",
       "<style scoped>\n",
       "    .dataframe tbody tr th:only-of-type {\n",
       "        vertical-align: middle;\n",
       "    }\n",
       "\n",
       "    .dataframe tbody tr th {\n",
       "        vertical-align: top;\n",
       "    }\n",
       "\n",
       "    .dataframe thead th {\n",
       "        text-align: right;\n",
       "    }\n",
       "</style>\n",
       "<table border=\"1\" class=\"dataframe\">\n",
       "  <thead>\n",
       "    <tr style=\"text-align: right;\">\n",
       "      <th></th>\n",
       "      <th>obj_ID</th>\n",
       "      <th>alpha</th>\n",
       "      <th>delta</th>\n",
       "      <th>u</th>\n",
       "      <th>g</th>\n",
       "      <th>r</th>\n",
       "      <th>i</th>\n",
       "      <th>z</th>\n",
       "      <th>run_ID</th>\n",
       "      <th>rerun_ID</th>\n",
       "      <th>cam_col</th>\n",
       "      <th>field_ID</th>\n",
       "      <th>spec_obj_ID</th>\n",
       "      <th>class</th>\n",
       "      <th>redshift</th>\n",
       "      <th>plate</th>\n",
       "      <th>MJD</th>\n",
       "      <th>fiber_ID</th>\n",
       "    </tr>\n",
       "  </thead>\n",
       "  <tbody>\n",
       "    <tr>\n",
       "      <th>99995</th>\n",
       "      <td>1237678879964201472.00</td>\n",
       "      <td>39.62</td>\n",
       "      <td>-2.59</td>\n",
       "      <td>22.17</td>\n",
       "      <td>22.98</td>\n",
       "      <td>21.90</td>\n",
       "      <td>21.31</td>\n",
       "      <td>20.74</td>\n",
       "      <td>7778</td>\n",
       "      <td>301</td>\n",
       "      <td>2</td>\n",
       "      <td>581</td>\n",
       "      <td>10554306253273999360.00</td>\n",
       "      <td>GALAXY</td>\n",
       "      <td>0.00</td>\n",
       "      <td>9374</td>\n",
       "      <td>57749</td>\n",
       "      <td>438</td>\n",
       "    </tr>\n",
       "    <tr>\n",
       "      <th>99996</th>\n",
       "      <td>1237679476408647936.00</td>\n",
       "      <td>29.49</td>\n",
       "      <td>19.80</td>\n",
       "      <td>22.69</td>\n",
       "      <td>22.39</td>\n",
       "      <td>20.45</td>\n",
       "      <td>19.76</td>\n",
       "      <td>19.42</td>\n",
       "      <td>7917</td>\n",
       "      <td>301</td>\n",
       "      <td>1</td>\n",
       "      <td>289</td>\n",
       "      <td>8586350850183813120.00</td>\n",
       "      <td>GALAXY</td>\n",
       "      <td>0.40</td>\n",
       "      <td>7626</td>\n",
       "      <td>56934</td>\n",
       "      <td>866</td>\n",
       "    </tr>\n",
       "    <tr>\n",
       "      <th>99997</th>\n",
       "      <td>1237668298220634368.00</td>\n",
       "      <td>224.59</td>\n",
       "      <td>15.70</td>\n",
       "      <td>21.17</td>\n",
       "      <td>19.27</td>\n",
       "      <td>18.20</td>\n",
       "      <td>17.69</td>\n",
       "      <td>17.35</td>\n",
       "      <td>5314</td>\n",
       "      <td>301</td>\n",
       "      <td>4</td>\n",
       "      <td>308</td>\n",
       "      <td>3112007759562827776.00</td>\n",
       "      <td>GALAXY</td>\n",
       "      <td>0.14</td>\n",
       "      <td>2764</td>\n",
       "      <td>54535</td>\n",
       "      <td>74</td>\n",
       "    </tr>\n",
       "    <tr>\n",
       "      <th>99998</th>\n",
       "      <td>1237661151383454208.00</td>\n",
       "      <td>212.27</td>\n",
       "      <td>46.66</td>\n",
       "      <td>25.35</td>\n",
       "      <td>21.64</td>\n",
       "      <td>19.91</td>\n",
       "      <td>19.07</td>\n",
       "      <td>18.62</td>\n",
       "      <td>3650</td>\n",
       "      <td>301</td>\n",
       "      <td>4</td>\n",
       "      <td>131</td>\n",
       "      <td>7601079570549462016.00</td>\n",
       "      <td>GALAXY</td>\n",
       "      <td>0.46</td>\n",
       "      <td>6751</td>\n",
       "      <td>56368</td>\n",
       "      <td>470</td>\n",
       "    </tr>\n",
       "    <tr>\n",
       "      <th>99999</th>\n",
       "      <td>1237661151378801152.00</td>\n",
       "      <td>196.90</td>\n",
       "      <td>49.46</td>\n",
       "      <td>22.62</td>\n",
       "      <td>21.80</td>\n",
       "      <td>20.60</td>\n",
       "      <td>20.01</td>\n",
       "      <td>19.28</td>\n",
       "      <td>3650</td>\n",
       "      <td>301</td>\n",
       "      <td>4</td>\n",
       "      <td>60</td>\n",
       "      <td>8343152349989327872.00</td>\n",
       "      <td>GALAXY</td>\n",
       "      <td>0.54</td>\n",
       "      <td>7410</td>\n",
       "      <td>57104</td>\n",
       "      <td>851</td>\n",
       "    </tr>\n",
       "  </tbody>\n",
       "</table>\n",
       "</div>"
      ],
      "text/plain": [
       "                      obj_ID  alpha  delta     u     g     r     i     z  \\\n",
       "99995 1237678879964201472.00  39.62  -2.59 22.17 22.98 21.90 21.31 20.74   \n",
       "99996 1237679476408647936.00  29.49  19.80 22.69 22.39 20.45 19.76 19.42   \n",
       "99997 1237668298220634368.00 224.59  15.70 21.17 19.27 18.20 17.69 17.35   \n",
       "99998 1237661151383454208.00 212.27  46.66 25.35 21.64 19.91 19.07 18.62   \n",
       "99999 1237661151378801152.00 196.90  49.46 22.62 21.80 20.60 20.01 19.28   \n",
       "\n",
       "       run_ID  rerun_ID  cam_col  field_ID             spec_obj_ID   class  \\\n",
       "99995    7778       301        2       581 10554306253273999360.00  GALAXY   \n",
       "99996    7917       301        1       289  8586350850183813120.00  GALAXY   \n",
       "99997    5314       301        4       308  3112007759562827776.00  GALAXY   \n",
       "99998    3650       301        4       131  7601079570549462016.00  GALAXY   \n",
       "99999    3650       301        4        60  8343152349989327872.00  GALAXY   \n",
       "\n",
       "       redshift  plate    MJD  fiber_ID  \n",
       "99995      0.00   9374  57749       438  \n",
       "99996      0.40   7626  56934       866  \n",
       "99997      0.14   2764  54535        74  \n",
       "99998      0.46   6751  56368       470  \n",
       "99999      0.54   7410  57104       851  "
      ]
     },
     "execution_count": 599,
     "metadata": {},
     "output_type": "execute_result"
    }
   ],
   "source": [
    "df.tail()"
   ]
  },
  {
   "cell_type": "code",
   "execution_count": 600,
   "metadata": {},
   "outputs": [
    {
     "data": {
      "text/plain": [
       "obj_ID         0\n",
       "alpha          0\n",
       "delta          0\n",
       "u              0\n",
       "g              0\n",
       "r              0\n",
       "i              0\n",
       "z              0\n",
       "run_ID         0\n",
       "rerun_ID       0\n",
       "cam_col        0\n",
       "field_ID       0\n",
       "spec_obj_ID    0\n",
       "class          0\n",
       "redshift       0\n",
       "plate          0\n",
       "MJD            0\n",
       "fiber_ID       0\n",
       "dtype: int64"
      ]
     },
     "execution_count": 600,
     "metadata": {},
     "output_type": "execute_result"
    }
   ],
   "source": [
    "# Check for missing values\n",
    "df.isnull().sum()"
   ]
  },
  {
   "cell_type": "code",
   "execution_count": 601,
   "metadata": {},
   "outputs": [
    {
     "data": {
      "text/plain": [
       "obj_ID         float64\n",
       "alpha          float64\n",
       "delta          float64\n",
       "u              float64\n",
       "g              float64\n",
       "r              float64\n",
       "i              float64\n",
       "z              float64\n",
       "run_ID           int64\n",
       "rerun_ID         int64\n",
       "cam_col          int64\n",
       "field_ID         int64\n",
       "spec_obj_ID    float64\n",
       "class           object\n",
       "redshift       float64\n",
       "plate            int64\n",
       "MJD              int64\n",
       "fiber_ID         int64\n",
       "dtype: object"
      ]
     },
     "execution_count": 601,
     "metadata": {},
     "output_type": "execute_result"
    }
   ],
   "source": [
    "# Check the data types\n",
    "df.dtypes\n"
   ]
  },
  {
   "cell_type": "code",
   "execution_count": 602,
   "metadata": {},
   "outputs": [
    {
     "data": {
      "text/plain": [
       "0"
      ]
     },
     "execution_count": 602,
     "metadata": {},
     "output_type": "execute_result"
    }
   ],
   "source": [
    "# Check the duplicates\n",
    "\n",
    "df.duplicated().sum()"
   ]
  },
  {
   "cell_type": "code",
   "execution_count": 603,
   "metadata": {},
   "outputs": [
    {
     "data": {
      "text/html": [
       "<div>\n",
       "<style scoped>\n",
       "    .dataframe tbody tr th:only-of-type {\n",
       "        vertical-align: middle;\n",
       "    }\n",
       "\n",
       "    .dataframe tbody tr th {\n",
       "        vertical-align: top;\n",
       "    }\n",
       "\n",
       "    .dataframe thead th {\n",
       "        text-align: right;\n",
       "    }\n",
       "</style>\n",
       "<table border=\"1\" class=\"dataframe\">\n",
       "  <thead>\n",
       "    <tr style=\"text-align: right;\">\n",
       "      <th></th>\n",
       "      <th>obj_ID</th>\n",
       "      <th>alpha</th>\n",
       "      <th>delta</th>\n",
       "      <th>u</th>\n",
       "      <th>g</th>\n",
       "      <th>r</th>\n",
       "      <th>i</th>\n",
       "      <th>z</th>\n",
       "      <th>run_ID</th>\n",
       "      <th>rerun_ID</th>\n",
       "      <th>cam_col</th>\n",
       "      <th>field_ID</th>\n",
       "      <th>spec_obj_ID</th>\n",
       "      <th>redshift</th>\n",
       "      <th>plate</th>\n",
       "      <th>MJD</th>\n",
       "      <th>fiber_ID</th>\n",
       "    </tr>\n",
       "  </thead>\n",
       "  <tbody>\n",
       "    <tr>\n",
       "      <th>count</th>\n",
       "      <td>100000.00</td>\n",
       "      <td>100000.00</td>\n",
       "      <td>100000.00</td>\n",
       "      <td>100000.00</td>\n",
       "      <td>100000.00</td>\n",
       "      <td>100000.00</td>\n",
       "      <td>100000.00</td>\n",
       "      <td>100000.00</td>\n",
       "      <td>100000.00</td>\n",
       "      <td>100000.00</td>\n",
       "      <td>100000.00</td>\n",
       "      <td>100000.00</td>\n",
       "      <td>100000.00</td>\n",
       "      <td>100000.00</td>\n",
       "      <td>100000.00</td>\n",
       "      <td>100000.00</td>\n",
       "      <td>100000.00</td>\n",
       "    </tr>\n",
       "    <tr>\n",
       "      <th>mean</th>\n",
       "      <td>1237664721814903296.00</td>\n",
       "      <td>177.63</td>\n",
       "      <td>24.14</td>\n",
       "      <td>21.98</td>\n",
       "      <td>20.53</td>\n",
       "      <td>19.65</td>\n",
       "      <td>19.08</td>\n",
       "      <td>18.67</td>\n",
       "      <td>4481.37</td>\n",
       "      <td>301.00</td>\n",
       "      <td>3.51</td>\n",
       "      <td>186.13</td>\n",
       "      <td>5783882297552056320.00</td>\n",
       "      <td>0.58</td>\n",
       "      <td>5137.01</td>\n",
       "      <td>55588.65</td>\n",
       "      <td>449.31</td>\n",
       "    </tr>\n",
       "    <tr>\n",
       "      <th>std</th>\n",
       "      <td>8438559894562.57</td>\n",
       "      <td>96.50</td>\n",
       "      <td>19.64</td>\n",
       "      <td>31.77</td>\n",
       "      <td>31.75</td>\n",
       "      <td>1.85</td>\n",
       "      <td>1.76</td>\n",
       "      <td>31.73</td>\n",
       "      <td>1964.76</td>\n",
       "      <td>0.00</td>\n",
       "      <td>1.59</td>\n",
       "      <td>149.01</td>\n",
       "      <td>3324016169583858176.00</td>\n",
       "      <td>0.73</td>\n",
       "      <td>2952.30</td>\n",
       "      <td>1808.48</td>\n",
       "      <td>272.50</td>\n",
       "    </tr>\n",
       "    <tr>\n",
       "      <th>min</th>\n",
       "      <td>1237645942904389888.00</td>\n",
       "      <td>0.01</td>\n",
       "      <td>-18.79</td>\n",
       "      <td>-9999.00</td>\n",
       "      <td>-9999.00</td>\n",
       "      <td>9.82</td>\n",
       "      <td>9.47</td>\n",
       "      <td>-9999.00</td>\n",
       "      <td>109.00</td>\n",
       "      <td>301.00</td>\n",
       "      <td>1.00</td>\n",
       "      <td>11.00</td>\n",
       "      <td>299519089380976640.00</td>\n",
       "      <td>-0.01</td>\n",
       "      <td>266.00</td>\n",
       "      <td>51608.00</td>\n",
       "      <td>1.00</td>\n",
       "    </tr>\n",
       "    <tr>\n",
       "      <th>25%</th>\n",
       "      <td>1237659161195119360.00</td>\n",
       "      <td>127.52</td>\n",
       "      <td>5.15</td>\n",
       "      <td>20.35</td>\n",
       "      <td>18.97</td>\n",
       "      <td>18.14</td>\n",
       "      <td>17.73</td>\n",
       "      <td>17.46</td>\n",
       "      <td>3187.00</td>\n",
       "      <td>301.00</td>\n",
       "      <td>2.00</td>\n",
       "      <td>82.00</td>\n",
       "      <td>2844137590766986752.00</td>\n",
       "      <td>0.05</td>\n",
       "      <td>2526.00</td>\n",
       "      <td>54234.00</td>\n",
       "      <td>221.00</td>\n",
       "    </tr>\n",
       "    <tr>\n",
       "      <th>50%</th>\n",
       "      <td>1237663463144292864.00</td>\n",
       "      <td>180.90</td>\n",
       "      <td>23.65</td>\n",
       "      <td>22.18</td>\n",
       "      <td>21.10</td>\n",
       "      <td>20.13</td>\n",
       "      <td>19.41</td>\n",
       "      <td>19.00</td>\n",
       "      <td>4188.00</td>\n",
       "      <td>301.00</td>\n",
       "      <td>4.00</td>\n",
       "      <td>146.00</td>\n",
       "      <td>5614883135353542656.00</td>\n",
       "      <td>0.42</td>\n",
       "      <td>4987.00</td>\n",
       "      <td>55868.50</td>\n",
       "      <td>433.00</td>\n",
       "    </tr>\n",
       "    <tr>\n",
       "      <th>75%</th>\n",
       "      <td>1237668350286447104.00</td>\n",
       "      <td>233.90</td>\n",
       "      <td>39.90</td>\n",
       "      <td>23.69</td>\n",
       "      <td>22.12</td>\n",
       "      <td>21.04</td>\n",
       "      <td>20.40</td>\n",
       "      <td>19.92</td>\n",
       "      <td>5326.00</td>\n",
       "      <td>301.00</td>\n",
       "      <td>5.00</td>\n",
       "      <td>241.00</td>\n",
       "      <td>8332144107427485696.00</td>\n",
       "      <td>0.70</td>\n",
       "      <td>7400.25</td>\n",
       "      <td>56777.00</td>\n",
       "      <td>645.00</td>\n",
       "    </tr>\n",
       "    <tr>\n",
       "      <th>max</th>\n",
       "      <td>1237680531356386304.00</td>\n",
       "      <td>360.00</td>\n",
       "      <td>83.00</td>\n",
       "      <td>32.78</td>\n",
       "      <td>31.60</td>\n",
       "      <td>29.57</td>\n",
       "      <td>32.14</td>\n",
       "      <td>29.38</td>\n",
       "      <td>8162.00</td>\n",
       "      <td>301.00</td>\n",
       "      <td>6.00</td>\n",
       "      <td>989.00</td>\n",
       "      <td>14126940609093851136.00</td>\n",
       "      <td>7.01</td>\n",
       "      <td>12547.00</td>\n",
       "      <td>58932.00</td>\n",
       "      <td>1000.00</td>\n",
       "    </tr>\n",
       "  </tbody>\n",
       "</table>\n",
       "</div>"
      ],
      "text/plain": [
       "                      obj_ID     alpha     delta         u         g  \\\n",
       "count              100000.00 100000.00 100000.00 100000.00 100000.00   \n",
       "mean  1237664721814903296.00    177.63     24.14     21.98     20.53   \n",
       "std         8438559894562.57     96.50     19.64     31.77     31.75   \n",
       "min   1237645942904389888.00      0.01    -18.79  -9999.00  -9999.00   \n",
       "25%   1237659161195119360.00    127.52      5.15     20.35     18.97   \n",
       "50%   1237663463144292864.00    180.90     23.65     22.18     21.10   \n",
       "75%   1237668350286447104.00    233.90     39.90     23.69     22.12   \n",
       "max   1237680531356386304.00    360.00     83.00     32.78     31.60   \n",
       "\n",
       "              r         i         z    run_ID  rerun_ID   cam_col  field_ID  \\\n",
       "count 100000.00 100000.00 100000.00 100000.00 100000.00 100000.00 100000.00   \n",
       "mean      19.65     19.08     18.67   4481.37    301.00      3.51    186.13   \n",
       "std        1.85      1.76     31.73   1964.76      0.00      1.59    149.01   \n",
       "min        9.82      9.47  -9999.00    109.00    301.00      1.00     11.00   \n",
       "25%       18.14     17.73     17.46   3187.00    301.00      2.00     82.00   \n",
       "50%       20.13     19.41     19.00   4188.00    301.00      4.00    146.00   \n",
       "75%       21.04     20.40     19.92   5326.00    301.00      5.00    241.00   \n",
       "max       29.57     32.14     29.38   8162.00    301.00      6.00    989.00   \n",
       "\n",
       "                  spec_obj_ID  redshift     plate       MJD  fiber_ID  \n",
       "count               100000.00 100000.00 100000.00 100000.00 100000.00  \n",
       "mean   5783882297552056320.00      0.58   5137.01  55588.65    449.31  \n",
       "std    3324016169583858176.00      0.73   2952.30   1808.48    272.50  \n",
       "min     299519089380976640.00     -0.01    266.00  51608.00      1.00  \n",
       "25%    2844137590766986752.00      0.05   2526.00  54234.00    221.00  \n",
       "50%    5614883135353542656.00      0.42   4987.00  55868.50    433.00  \n",
       "75%    8332144107427485696.00      0.70   7400.25  56777.00    645.00  \n",
       "max   14126940609093851136.00      7.01  12547.00  58932.00   1000.00  "
      ]
     },
     "execution_count": 603,
     "metadata": {},
     "output_type": "execute_result"
    }
   ],
   "source": [
    "# Check the statistical summary\n",
    "\n",
    "df.describe()\n"
   ]
  },
  {
   "cell_type": "code",
   "execution_count": 604,
   "metadata": {},
   "outputs": [
    {
     "name": "stdout",
     "output_type": "stream",
     "text": [
      "<class 'pandas.core.frame.DataFrame'>\n",
      "RangeIndex: 100000 entries, 0 to 99999\n",
      "Data columns (total 18 columns):\n",
      " #   Column       Non-Null Count   Dtype  \n",
      "---  ------       --------------   -----  \n",
      " 0   obj_ID       100000 non-null  float64\n",
      " 1   alpha        100000 non-null  float64\n",
      " 2   delta        100000 non-null  float64\n",
      " 3   u            100000 non-null  float64\n",
      " 4   g            100000 non-null  float64\n",
      " 5   r            100000 non-null  float64\n",
      " 6   i            100000 non-null  float64\n",
      " 7   z            100000 non-null  float64\n",
      " 8   run_ID       100000 non-null  int64  \n",
      " 9   rerun_ID     100000 non-null  int64  \n",
      " 10  cam_col      100000 non-null  int64  \n",
      " 11  field_ID     100000 non-null  int64  \n",
      " 12  spec_obj_ID  100000 non-null  float64\n",
      " 13  class        100000 non-null  object \n",
      " 14  redshift     100000 non-null  float64\n",
      " 15  plate        100000 non-null  int64  \n",
      " 16  MJD          100000 non-null  int64  \n",
      " 17  fiber_ID     100000 non-null  int64  \n",
      "dtypes: float64(10), int64(7), object(1)\n",
      "memory usage: 13.7+ MB\n"
     ]
    }
   ],
   "source": [
    "# Check the details of the dataset\n",
    "\n",
    "df.info()"
   ]
  },
  {
   "cell_type": "markdown",
   "metadata": {},
   "source": [
    "<h1 style=\"\n",
    "    font-family: 'Arial', sans-serif;\n",
    "    font-size: 2.5em;\n",
    "    background: linear-gradient(90deg, #FF7F50, #1E90FF);\n",
    "    -webkit-background-clip: text;\n",
    "    -webkit-text-fill-color: transparent;\n",
    "    text-align: center;\n",
    "    text-shadow: 2px 2px 5px rgba(0, 0, 0, 0.3);\n",
    "    margin-bottom: 20px;\n",
    "    padding: 10px;\n",
    "\">\n",
    "  Visualization of the dataset\n",
    "</h1>"
   ]
  },
  {
   "cell_type": "code",
   "execution_count": 605,
   "metadata": {},
   "outputs": [
    {
     "data": {
      "image/png": "[encoded data removed]",
      "text/plain": [
       "<Figure size 800x600 with 1 Axes>"
      ]
     },
     "metadata": {},
     "output_type": "display_data"
    }
   ],
   "source": [
    "# Check the class distribution\n",
    "plt.figure(figsize=(8, 6))\n",
    "sns.countplot(x='class', data=df, hue='class', palette='Set2', legend=False)\n",
    "plt.title('Class Distribution')\n",
    "plt.xlabel('Class')\n",
    "plt.ylabel('Count')\n",
    "plt.show()\n"
   ]
  },
  {
   "cell_type": "markdown",
   "metadata": {},
   "source": [
    "<div style=\"background-color:#f9f9f9; border-left: 6px solid #ff6b6b; padding: 10px;\">\n",
    "    <h3 style=\"color:#ff6b6b;\">Personal Analysis</h3>\n",
    "    <p style=\"font-size: 14px; color:#333;\">As you can see, the target values (class) are imbalanced, which will affect the accuracy and performance of the model. Therefore, I will need to use a balancing method for the class values.</p>\n",
    "</div>\n"
   ]
  },
  {
   "cell_type": "code",
   "execution_count": 606,
   "metadata": {},
   "outputs": [
    {
     "data": {
      "image/png": "[encoded data removed]",
      "text/plain": [
       "<Figure size 1000x600 with 1 Axes>"
      ]
     },
     "metadata": {},
     "output_type": "display_data"
    }
   ],
   "source": [
    "# Violin plots to show the distribution of 'redshift' across different classes\n",
    "plt.figure(figsize=(10, 6))\n",
    "sns.violinplot(x='class', y='redshift', data=df, palette='muted', hue='class')\n",
    "plt.title(' Redshift by Class')\n",
    "plt.xlabel('Class')\n",
    "plt.ylabel('Redshift')\n",
    "plt.show()"
   ]
  },
  {
   "cell_type": "markdown",
   "metadata": {},
   "source": [
    "<div style=\"background-color:#f0f8ff; border-left: 6px solid #4682b4; padding: 10px;\">\n",
    "    <h3 style=\"color:#4682b4;\">Personal Analysis</h3>\n",
    "    <p style=\"font-size: 14px; color:#333;\">This pattern aligns with my understanding of redshift in cosmology, where higher redshift values correspond to objects further away from Earth, with QSOs (Quasi-Stellar Objects) being some of the most distant observable objects in the universe.</p>\n",
    "</div>\n"
   ]
  },
  {
   "cell_type": "code",
   "execution_count": 681,
   "metadata": {},
   "outputs": [],
   "source": [
    "# Convert the 'class' column to numerical values with LabelEncoder\n",
    "LE = LabelEncoder()\n",
    "df['class'] = LE.fit_transform(df['class'])\n"
   ]
  },
  {
   "cell_type": "code",
   "execution_count": 671,
   "metadata": {},
   "outputs": [
    {
     "data": {
      "text/plain": [
       "rerun_ID\n",
       "301    100000\n",
       "Name: count, dtype: int64"
      ]
     },
     "execution_count": 671,
     "metadata": {},
     "output_type": "execute_result"
    }
   ],
   "source": [
    "# check value counts of the rerun_ID column\n",
    "df['rerun_ID'].value_counts()"
   ]
  },
  {
   "cell_type": "code",
   "execution_count": 672,
   "metadata": {},
   "outputs": [],
   "source": [
    "# since the rerun_ID has only 1 unique value, it's not useful for our analysis, so we can drop it.\n",
    "\n",
    "df.drop('rerun_ID', axis=1, inplace=True)"
   ]
  },
  {
   "cell_type": "code",
   "execution_count": 610,
   "metadata": {},
   "outputs": [
    {
     "data": {
      "image/png": "[encoded data removed]",
      "text/plain": [
       "<Figure size 1400x1000 with 2 Axes>"
      ]
     },
     "metadata": {},
     "output_type": "display_data"
    }
   ],
   "source": [
    "# Correlation Matrix Visualization\n",
    "plt.figure(figsize=(14, 10))\n",
    "sns.heatmap(df.corr(), annot=True, cmap='coolwarm', center=0, linewidths=0.5, linecolor='black', fmt=\".2f\", cbar_kws={\"shrink\": 0.8})\n",
    "plt.xticks(rotation=45, ha='right', fontsize=10)\n",
    "plt.yticks(fontsize=10)\n",
    "plt.title('Correlation Matrix', fontsize=18, pad=20)\n",
    "plt.show()"
   ]
  },
  {
   "cell_type": "markdown",
   "metadata": {},
   "source": [
    "<div style=\"background-color:#f0f8ff; border-left: 6px solid #4682b4; padding: 10px;\">\n",
    "    <h3 style=\"color:#4682b4;\">Personal Analysis</h3>\n",
    "    <p style=\"font-size: 14px; color:#333;\">e r, i, z bands are highly correlated (0.96–1.00).</p>\n",
    "    <p style=\"font-size: 14px; color:#333;\">  Class weakly correlates with redshift (0.39) and moderately with spec_obj_ID (0.43), showing slight influence on these features, but minimal correlation with others.</p>\n",
    "</div>\n"
   ]
  },
  {
   "cell_type": "markdown",
   "metadata": {},
   "source": [
    "<h1 style=\"\n",
    "    font-family: 'Arial', sans-serif;\n",
    "    font-size: 2.5em;\n",
    "    background: linear-gradient(90deg, #FF7F50, #1E90FF);\n",
    "    -webkit-background-clip: text;\n",
    "    -webkit-text-fill-color: transparent;\n",
    "    text-align: center;\n",
    "    text-shadow: 2px 2px 5px rgba(0, 0, 0, 0.3);\n",
    "    margin-bottom: 20px;\n",
    "    padding: 10px;\n",
    "\">\n",
    "  Data Preprocessing\n",
    "</h1>"
   ]
  },
  {
   "cell_type": "code",
   "execution_count": 611,
   "metadata": {},
   "outputs": [
    {
     "data": {
      "text/html": [
       "<div>\n",
       "<style scoped>\n",
       "    .dataframe tbody tr th:only-of-type {\n",
       "        vertical-align: middle;\n",
       "    }\n",
       "\n",
       "    .dataframe tbody tr th {\n",
       "        vertical-align: top;\n",
       "    }\n",
       "\n",
       "    .dataframe thead th {\n",
       "        text-align: right;\n",
       "    }\n",
       "</style>\n",
       "<table border=\"1\" class=\"dataframe\">\n",
       "  <thead>\n",
       "    <tr style=\"text-align: right;\">\n",
       "      <th></th>\n",
       "      <th>obj_ID</th>\n",
       "      <th>alpha</th>\n",
       "      <th>delta</th>\n",
       "      <th>u</th>\n",
       "      <th>g</th>\n",
       "      <th>r</th>\n",
       "      <th>i</th>\n",
       "      <th>z</th>\n",
       "      <th>run_ID</th>\n",
       "      <th>cam_col</th>\n",
       "      <th>field_ID</th>\n",
       "      <th>spec_obj_ID</th>\n",
       "      <th>class</th>\n",
       "      <th>redshift</th>\n",
       "      <th>plate</th>\n",
       "      <th>MJD</th>\n",
       "      <th>fiber_ID</th>\n",
       "    </tr>\n",
       "  </thead>\n",
       "  <tbody>\n",
       "    <tr>\n",
       "      <th>0</th>\n",
       "      <td>1237660961327743232.00</td>\n",
       "      <td>135.69</td>\n",
       "      <td>32.49</td>\n",
       "      <td>23.88</td>\n",
       "      <td>22.28</td>\n",
       "      <td>20.40</td>\n",
       "      <td>19.17</td>\n",
       "      <td>18.79</td>\n",
       "      <td>3606</td>\n",
       "      <td>2</td>\n",
       "      <td>79</td>\n",
       "      <td>6543777369295181824.00</td>\n",
       "      <td>0</td>\n",
       "      <td>0.63</td>\n",
       "      <td>5812</td>\n",
       "      <td>56354</td>\n",
       "      <td>171</td>\n",
       "    </tr>\n",
       "    <tr>\n",
       "      <th>1</th>\n",
       "      <td>1237664879951151104.00</td>\n",
       "      <td>144.83</td>\n",
       "      <td>31.27</td>\n",
       "      <td>24.78</td>\n",
       "      <td>22.83</td>\n",
       "      <td>22.58</td>\n",
       "      <td>21.17</td>\n",
       "      <td>21.61</td>\n",
       "      <td>4518</td>\n",
       "      <td>5</td>\n",
       "      <td>119</td>\n",
       "      <td>11760142036707334144.00</td>\n",
       "      <td>0</td>\n",
       "      <td>0.78</td>\n",
       "      <td>10445</td>\n",
       "      <td>58158</td>\n",
       "      <td>427</td>\n",
       "    </tr>\n",
       "    <tr>\n",
       "      <th>2</th>\n",
       "      <td>1237660961330430208.00</td>\n",
       "      <td>142.19</td>\n",
       "      <td>35.58</td>\n",
       "      <td>25.26</td>\n",
       "      <td>22.66</td>\n",
       "      <td>20.61</td>\n",
       "      <td>19.35</td>\n",
       "      <td>18.95</td>\n",
       "      <td>3606</td>\n",
       "      <td>2</td>\n",
       "      <td>120</td>\n",
       "      <td>5152200256025548800.00</td>\n",
       "      <td>0</td>\n",
       "      <td>0.64</td>\n",
       "      <td>4576</td>\n",
       "      <td>55592</td>\n",
       "      <td>299</td>\n",
       "    </tr>\n",
       "    <tr>\n",
       "      <th>3</th>\n",
       "      <td>1237663478724297984.00</td>\n",
       "      <td>338.74</td>\n",
       "      <td>-0.40</td>\n",
       "      <td>22.14</td>\n",
       "      <td>23.78</td>\n",
       "      <td>21.61</td>\n",
       "      <td>20.50</td>\n",
       "      <td>19.25</td>\n",
       "      <td>4192</td>\n",
       "      <td>3</td>\n",
       "      <td>214</td>\n",
       "      <td>10301071412954419200.00</td>\n",
       "      <td>0</td>\n",
       "      <td>0.93</td>\n",
       "      <td>9149</td>\n",
       "      <td>58039</td>\n",
       "      <td>775</td>\n",
       "    </tr>\n",
       "    <tr>\n",
       "      <th>4</th>\n",
       "      <td>1237680272041378048.00</td>\n",
       "      <td>345.28</td>\n",
       "      <td>21.18</td>\n",
       "      <td>19.44</td>\n",
       "      <td>17.58</td>\n",
       "      <td>16.50</td>\n",
       "      <td>15.98</td>\n",
       "      <td>15.54</td>\n",
       "      <td>8102</td>\n",
       "      <td>3</td>\n",
       "      <td>137</td>\n",
       "      <td>6891864880783316992.00</td>\n",
       "      <td>0</td>\n",
       "      <td>0.12</td>\n",
       "      <td>6121</td>\n",
       "      <td>56187</td>\n",
       "      <td>842</td>\n",
       "    </tr>\n",
       "  </tbody>\n",
       "</table>\n",
       "</div>"
      ],
      "text/plain": [
       "                  obj_ID  alpha  delta     u     g     r     i     z  run_ID  \\\n",
       "0 1237660961327743232.00 135.69  32.49 23.88 22.28 20.40 19.17 18.79    3606   \n",
       "1 1237664879951151104.00 144.83  31.27 24.78 22.83 22.58 21.17 21.61    4518   \n",
       "2 1237660961330430208.00 142.19  35.58 25.26 22.66 20.61 19.35 18.95    3606   \n",
       "3 1237663478724297984.00 338.74  -0.40 22.14 23.78 21.61 20.50 19.25    4192   \n",
       "4 1237680272041378048.00 345.28  21.18 19.44 17.58 16.50 15.98 15.54    8102   \n",
       "\n",
       "   cam_col  field_ID             spec_obj_ID  class  redshift  plate    MJD  \\\n",
       "0        2        79  6543777369295181824.00      0      0.63   5812  56354   \n",
       "1        5       119 11760142036707334144.00      0      0.78  10445  58158   \n",
       "2        2       120  5152200256025548800.00      0      0.64   4576  55592   \n",
       "3        3       214 10301071412954419200.00      0      0.93   9149  58039   \n",
       "4        3       137  6891864880783316992.00      0      0.12   6121  56187   \n",
       "\n",
       "   fiber_ID  \n",
       "0       171  \n",
       "1       427  \n",
       "2       299  \n",
       "3       775  \n",
       "4       842  "
      ]
     },
     "execution_count": 611,
     "metadata": {},
     "output_type": "execute_result"
    }
   ],
   "source": [
    "df.head()"
   ]
  },
  {
   "cell_type": "code",
   "execution_count": 705,
   "metadata": {},
   "outputs": [
    {
     "data": {
      "text/plain": [
       "class\n",
       "0    18961\n",
       "1    18961\n",
       "2    18961\n",
       "Name: count, dtype: int64"
      ]
     },
     "execution_count": 705,
     "metadata": {},
     "output_type": "execute_result"
    }
   ],
   "source": [
    "# Get the value counts of the 'class' column\n",
    "df['class'].value_counts()\n"
   ]
  },
  {
   "cell_type": "code",
   "execution_count": 706,
   "metadata": {},
   "outputs": [
    {
     "name": "stderr",
     "output_type": "stream",
     "text": [
      "C:\\Users\\iot-poweruser\\AppData\\Local\\Temp\\ipykernel_13784\\256540686.py:5: DeprecationWarning: DataFrameGroupBy.apply operated on the grouping columns. This behavior is deprecated, and in a future version of pandas the grouping columns will be excluded from the operation. Either pass `include_groups=False` to exclude the groupings or explicitly select the grouping columns after groupby to silence this warning.\n",
      "  df = df.groupby('class').apply(lambda x: x.sample(min_class_count)).reset_index(drop=True)\n"
     ]
    },
    {
     "data": {
      "text/plain": [
       "class\n",
       "0    18961\n",
       "1    18961\n",
       "2    18961\n",
       "Name: count, dtype: int64"
      ]
     },
     "execution_count": 706,
     "metadata": {},
     "output_type": "execute_result"
    }
   ],
   "source": [
    "# Find the minimum class count\n",
    "min_class_count = df['class'].value_counts().min()\n",
    "\n",
    "# Perform undersampling to match the minimum class size for each class\n",
    "df = df.groupby('class').apply(lambda x: x.sample(min_class_count)).reset_index(drop=True)\n",
    "\n",
    "# Check the class distribution after undersampling\n",
    "df['class'].value_counts()"
   ]
  },
  {
   "cell_type": "code",
   "execution_count": 707,
   "metadata": {},
   "outputs": [],
   "source": [
    "# Create X and y\n",
    "X = df.drop(\"class\", axis = 1)\n",
    "y= df[\"class\"]"
   ]
  },
  {
   "cell_type": "code",
   "execution_count": 708,
   "metadata": {},
   "outputs": [],
   "source": [
    "#le = LabelEncoder()\n",
    "#y_enc = le.fit_transform(y)\n",
    "\n",
    "# Converting the label into a matrix form\n",
    "y = tf.keras.utils.to_categorical(y)"
   ]
  },
  {
   "cell_type": "code",
   "execution_count": 616,
   "metadata": {},
   "outputs": [
    {
     "name": "stdout",
     "output_type": "stream",
     "text": [
      "X_train shape: (56883, 16)\n",
      "y_train shape: (56883, 3)\n"
     ]
    }
   ],
   "source": [
    "print(\"X_train shape:\", X.shape)\n",
    "print(\"y_train shape:\", y.shape)"
   ]
  },
  {
   "cell_type": "code",
   "execution_count": 617,
   "metadata": {},
   "outputs": [
    {
     "data": {
      "text/html": [
       "<div>\n",
       "<style scoped>\n",
       "    .dataframe tbody tr th:only-of-type {\n",
       "        vertical-align: middle;\n",
       "    }\n",
       "\n",
       "    .dataframe tbody tr th {\n",
       "        vertical-align: top;\n",
       "    }\n",
       "\n",
       "    .dataframe thead th {\n",
       "        text-align: right;\n",
       "    }\n",
       "</style>\n",
       "<table border=\"1\" class=\"dataframe\">\n",
       "  <thead>\n",
       "    <tr style=\"text-align: right;\">\n",
       "      <th></th>\n",
       "      <th>obj_ID</th>\n",
       "      <th>alpha</th>\n",
       "      <th>delta</th>\n",
       "      <th>u</th>\n",
       "      <th>g</th>\n",
       "      <th>r</th>\n",
       "      <th>i</th>\n",
       "      <th>z</th>\n",
       "      <th>run_ID</th>\n",
       "      <th>cam_col</th>\n",
       "      <th>field_ID</th>\n",
       "      <th>spec_obj_ID</th>\n",
       "      <th>class</th>\n",
       "      <th>redshift</th>\n",
       "      <th>plate</th>\n",
       "      <th>MJD</th>\n",
       "      <th>fiber_ID</th>\n",
       "    </tr>\n",
       "  </thead>\n",
       "  <tbody>\n",
       "    <tr>\n",
       "      <th>0</th>\n",
       "      <td>1237658205041591296.00</td>\n",
       "      <td>161.42</td>\n",
       "      <td>47.92</td>\n",
       "      <td>22.72</td>\n",
       "      <td>24.30</td>\n",
       "      <td>21.52</td>\n",
       "      <td>20.38</td>\n",
       "      <td>19.51</td>\n",
       "      <td>2964</td>\n",
       "      <td>4</td>\n",
       "      <td>218</td>\n",
       "      <td>8320520003079395328.00</td>\n",
       "      <td>0</td>\n",
       "      <td>0.76</td>\n",
       "      <td>7390</td>\n",
       "      <td>57130</td>\n",
       "      <td>435</td>\n",
       "    </tr>\n",
       "    <tr>\n",
       "      <th>1</th>\n",
       "      <td>1237659133284188416.00</td>\n",
       "      <td>222.69</td>\n",
       "      <td>49.25</td>\n",
       "      <td>25.84</td>\n",
       "      <td>21.48</td>\n",
       "      <td>19.67</td>\n",
       "      <td>18.83</td>\n",
       "      <td>18.47</td>\n",
       "      <td>3180</td>\n",
       "      <td>5</td>\n",
       "      <td>108</td>\n",
       "      <td>7579800722050668544.00</td>\n",
       "      <td>0</td>\n",
       "      <td>0.00</td>\n",
       "      <td>6732</td>\n",
       "      <td>56370</td>\n",
       "      <td>882</td>\n",
       "    </tr>\n",
       "    <tr>\n",
       "      <th>2</th>\n",
       "      <td>1237661362377589504.00</td>\n",
       "      <td>220.24</td>\n",
       "      <td>42.27</td>\n",
       "      <td>24.75</td>\n",
       "      <td>21.62</td>\n",
       "      <td>20.09</td>\n",
       "      <td>19.31</td>\n",
       "      <td>18.87</td>\n",
       "      <td>3699</td>\n",
       "      <td>5</td>\n",
       "      <td>190</td>\n",
       "      <td>6824293017446537216.00</td>\n",
       "      <td>0</td>\n",
       "      <td>0.40</td>\n",
       "      <td>6061</td>\n",
       "      <td>56076</td>\n",
       "      <td>777</td>\n",
       "    </tr>\n",
       "    <tr>\n",
       "      <th>3</th>\n",
       "      <td>1237678439701938688.00</td>\n",
       "      <td>42.45</td>\n",
       "      <td>3.10</td>\n",
       "      <td>23.87</td>\n",
       "      <td>23.05</td>\n",
       "      <td>21.01</td>\n",
       "      <td>19.92</td>\n",
       "      <td>19.36</td>\n",
       "      <td>7675</td>\n",
       "      <td>6</td>\n",
       "      <td>152</td>\n",
       "      <td>4795445015169226752.00</td>\n",
       "      <td>0</td>\n",
       "      <td>0.60</td>\n",
       "      <td>4259</td>\n",
       "      <td>55501</td>\n",
       "      <td>863</td>\n",
       "    </tr>\n",
       "    <tr>\n",
       "      <th>4</th>\n",
       "      <td>1237678847184405248.00</td>\n",
       "      <td>329.11</td>\n",
       "      <td>8.57</td>\n",
       "      <td>21.94</td>\n",
       "      <td>21.50</td>\n",
       "      <td>20.08</td>\n",
       "      <td>19.06</td>\n",
       "      <td>18.52</td>\n",
       "      <td>7770</td>\n",
       "      <td>5</td>\n",
       "      <td>113</td>\n",
       "      <td>4613028889379493888.00</td>\n",
       "      <td>0</td>\n",
       "      <td>0.56</td>\n",
       "      <td>4097</td>\n",
       "      <td>55506</td>\n",
       "      <td>789</td>\n",
       "    </tr>\n",
       "  </tbody>\n",
       "</table>\n",
       "</div>"
      ],
      "text/plain": [
       "                  obj_ID  alpha  delta     u     g     r     i     z  run_ID  \\\n",
       "0 1237658205041591296.00 161.42  47.92 22.72 24.30 21.52 20.38 19.51    2964   \n",
       "1 1237659133284188416.00 222.69  49.25 25.84 21.48 19.67 18.83 18.47    3180   \n",
       "2 1237661362377589504.00 220.24  42.27 24.75 21.62 20.09 19.31 18.87    3699   \n",
       "3 1237678439701938688.00  42.45   3.10 23.87 23.05 21.01 19.92 19.36    7675   \n",
       "4 1237678847184405248.00 329.11   8.57 21.94 21.50 20.08 19.06 18.52    7770   \n",
       "\n",
       "   cam_col  field_ID            spec_obj_ID  class  redshift  plate    MJD  \\\n",
       "0        4       218 8320520003079395328.00      0      0.76   7390  57130   \n",
       "1        5       108 7579800722050668544.00      0      0.00   6732  56370   \n",
       "2        5       190 6824293017446537216.00      0      0.40   6061  56076   \n",
       "3        6       152 4795445015169226752.00      0      0.60   4259  55501   \n",
       "4        5       113 4613028889379493888.00      0      0.56   4097  55506   \n",
       "\n",
       "   fiber_ID  \n",
       "0       435  \n",
       "1       882  \n",
       "2       777  \n",
       "3       863  \n",
       "4       789  "
      ]
     },
     "execution_count": 617,
     "metadata": {},
     "output_type": "execute_result"
    }
   ],
   "source": [
    "df.head()"
   ]
  },
  {
   "cell_type": "code",
   "execution_count": 686,
   "metadata": {},
   "outputs": [
    {
     "data": {
      "text/plain": [
       "obj_ID         float64\n",
       "alpha          float64\n",
       "delta          float64\n",
       "u              float64\n",
       "g              float64\n",
       "r              float64\n",
       "i              float64\n",
       "z              float64\n",
       "run_ID           int64\n",
       "cam_col          int64\n",
       "field_ID         int64\n",
       "spec_obj_ID    float64\n",
       "class            int32\n",
       "redshift       float64\n",
       "plate            int64\n",
       "MJD              int64\n",
       "fiber_ID         int64\n",
       "dtype: object"
      ]
     },
     "execution_count": 686,
     "metadata": {},
     "output_type": "execute_result"
    }
   ],
   "source": [
    "# Check the data types\n",
    "df.dtypes"
   ]
  },
  {
   "cell_type": "code",
   "execution_count": 619,
   "metadata": {},
   "outputs": [
    {
     "data": {
      "text/html": [
       "<div>\n",
       "<style scoped>\n",
       "    .dataframe tbody tr th:only-of-type {\n",
       "        vertical-align: middle;\n",
       "    }\n",
       "\n",
       "    .dataframe tbody tr th {\n",
       "        vertical-align: top;\n",
       "    }\n",
       "\n",
       "    .dataframe thead th {\n",
       "        text-align: right;\n",
       "    }\n",
       "</style>\n",
       "<table border=\"1\" class=\"dataframe\">\n",
       "  <thead>\n",
       "    <tr style=\"text-align: right;\">\n",
       "      <th></th>\n",
       "      <th>Features</th>\n",
       "      <th>Score</th>\n",
       "    </tr>\n",
       "  </thead>\n",
       "  <tbody>\n",
       "    <tr>\n",
       "      <th>13</th>\n",
       "      <td>plate</td>\n",
       "      <td>13854704.47</td>\n",
       "    </tr>\n",
       "    <tr>\n",
       "      <th>14</th>\n",
       "      <td>MJD</td>\n",
       "      <td>430819.27</td>\n",
       "    </tr>\n",
       "    <tr>\n",
       "      <th>8</th>\n",
       "      <td>run_ID</td>\n",
       "      <td>175580.02</td>\n",
       "    </tr>\n",
       "    <tr>\n",
       "      <th>15</th>\n",
       "      <td>fiber_ID</td>\n",
       "      <td>133220.03</td>\n",
       "    </tr>\n",
       "    <tr>\n",
       "      <th>12</th>\n",
       "      <td>redshift</td>\n",
       "      <td>45503.95</td>\n",
       "    </tr>\n",
       "    <tr>\n",
       "      <th>10</th>\n",
       "      <td>field_ID</td>\n",
       "      <td>12135.84</td>\n",
       "    </tr>\n",
       "    <tr>\n",
       "      <th>2</th>\n",
       "      <td>delta</td>\n",
       "      <td>4822.96</td>\n",
       "    </tr>\n",
       "    <tr>\n",
       "      <th>7</th>\n",
       "      <td>z</td>\n",
       "      <td>2406.69</td>\n",
       "    </tr>\n",
       "    <tr>\n",
       "      <th>1</th>\n",
       "      <td>alpha</td>\n",
       "      <td>2067.33</td>\n",
       "    </tr>\n",
       "    <tr>\n",
       "      <th>6</th>\n",
       "      <td>i</td>\n",
       "      <td>2065.94</td>\n",
       "    </tr>\n",
       "    <tr>\n",
       "      <th>5</th>\n",
       "      <td>r</td>\n",
       "      <td>1407.82</td>\n",
       "    </tr>\n",
       "    <tr>\n",
       "      <th>4</th>\n",
       "      <td>g</td>\n",
       "      <td>1079.37</td>\n",
       "    </tr>\n",
       "    <tr>\n",
       "      <th>3</th>\n",
       "      <td>u</td>\n",
       "      <td>996.69</td>\n",
       "    </tr>\n",
       "    <tr>\n",
       "      <th>9</th>\n",
       "      <td>cam_col</td>\n",
       "      <td>24.25</td>\n",
       "    </tr>\n",
       "    <tr>\n",
       "      <th>0</th>\n",
       "      <td>obj_ID</td>\n",
       "      <td>NaN</td>\n",
       "    </tr>\n",
       "    <tr>\n",
       "      <th>11</th>\n",
       "      <td>spec_obj_ID</td>\n",
       "      <td>NaN</td>\n",
       "    </tr>\n",
       "  </tbody>\n",
       "</table>\n",
       "</div>"
      ],
      "text/plain": [
       "       Features       Score\n",
       "13        plate 13854704.47\n",
       "14          MJD   430819.27\n",
       "8        run_ID   175580.02\n",
       "15     fiber_ID   133220.03\n",
       "12     redshift    45503.95\n",
       "10     field_ID    12135.84\n",
       "2         delta     4822.96\n",
       "7             z     2406.69\n",
       "1         alpha     2067.33\n",
       "6             i     2065.94\n",
       "5             r     1407.82\n",
       "4             g     1079.37\n",
       "3             u      996.69\n",
       "9       cam_col       24.25\n",
       "0        obj_ID         NaN\n",
       "11  spec_obj_ID         NaN"
      ]
     },
     "execution_count": 619,
     "metadata": {},
     "output_type": "execute_result"
    }
   ],
   "source": [
    "\n",
    "# Convert all continuous variables to integer,\n",
    "# and convert all negative numbers to 0\n",
    "X_cat = X.astype(int)\n",
    "X_cat = X_cat.clip(lower=0)\n",
    "\n",
    "# initialize chi2 and SelectKBest\n",
    "\n",
    "chi_2_features = SelectKBest(chi2, k=len(X_cat.columns))\n",
    "\n",
    "# fit our data to the SelectKBest\n",
    "best_features = chi_2_features.fit(X_cat,y.astype(int))\n",
    "\n",
    "# use decimal format in table print later\n",
    "pd.options.display.float_format = '{:.2f}'.format\n",
    "\n",
    "# wrap it up, and show the results\n",
    "# the higher the score, the more effect that column has on price\n",
    "df_features = pd.DataFrame(best_features.scores_)\n",
    "df_columns = pd.DataFrame(X_cat.columns)\n",
    "f_scores = pd.concat([df_columns,df_features],axis=1)\n",
    "f_scores.columns = ['Features','Score']\n",
    "f_scores.sort_values(by='Score',ascending=False)"
   ]
  },
  {
   "cell_type": "code",
   "execution_count": 620,
   "metadata": {},
   "outputs": [],
   "source": [
    "# According the table print, three columns are useless so,  I will drop them.\n",
    "df = df.drop([\"cam_col\", \"obj_ID\", \"spec_obj_ID\"], axis=1)"
   ]
  },
  {
   "cell_type": "code",
   "execution_count": 703,
   "metadata": {},
   "outputs": [],
   "source": [
    "X_train, X_temp, y_train, y_temp = train_test_split(X, y, test_size=0.3)\n",
    "X_val, X_test, y_val, y_test = train_test_split(X_temp, y_temp, test_size=0.5)"
   ]
  },
  {
   "cell_type": "code",
   "execution_count": 704,
   "metadata": {},
   "outputs": [
    {
     "name": "stdout",
     "output_type": "stream",
     "text": [
      "[0, 1, 2]\n"
     ]
    }
   ],
   "source": [
    "# Save the categories into a list\n",
    "categories = list(np.unique(df[\"class\"]))\n",
    "print(categories)"
   ]
  },
  {
   "cell_type": "code",
   "execution_count": 623,
   "metadata": {},
   "outputs": [
    {
     "name": "stdout",
     "output_type": "stream",
     "text": [
      "Trial 8 Complete [00h 00m 22s]\n",
      "val_accuracy: 0.9484880268573761\n",
      "\n",
      "Best val_accuracy So Far: 0.9497773051261902\n",
      "Total elapsed time: 00h 05m 53s\n"
     ]
    }
   ],
   "source": [
    "\n",
    "def build_model(hp):\n",
    "    # iniatlize sequential test neural network\n",
    "    model = keras.Sequential()\n",
    "     # first layer, batch normalization + input shape, same as in typical neural network\n",
    "    model.add(layers.BatchNormalization(input_shape=(len(X.columns),)),)\n",
    "    # add the first actual layer including the regularizer\n",
    "    model.add(\n",
    "        layers.Dense(\n",
    "            # Tune number of units separately.\n",
    "            units=hp.Int(f\"units_0\", min_value=16, max_value=32, step=4),\n",
    "            activation=hp.Choice(\"activation\", [\"relu\"]),\n",
    "            kernel_regularizer=keras.regularizers.l1(l1=0.1)\n",
    "        )\n",
    "    ) \n",
    "\n",
    "    # try additional layers, 1 or 2 extra layers\n",
    "    for i in range(hp.Int(\"num_layers\", 1, 2)):\n",
    "        model.add(\n",
    "            layers.Dense(\n",
    "                # Tune number of units separately.\n",
    "                units=hp.Int(f\"units_{i + 1}\", min_value=16, max_value=32, step=4),\n",
    "                activation=hp.Choice(\"activation\", [\"relu\"]),\n",
    "            )\n",
    "        )\n",
    "    \n",
    "    # add dropout\n",
    "\n",
    "    model.add(layers.Dropout(hp.Float(\"dropout\", min_value=0.3, max_value=0.5, step=0.1)))\n",
    "    # output layer, only one node since this is regression\n",
    "    model.add(layers.Dense(len(categories), activation=\"softmax\"))\n",
    "\n",
    "    # automate learning rate tests\n",
    "    learning_rate = hp.Float(\"lr\", min_value=1e-4, max_value=1e-2, sampling=\"log\")\n",
    "\n",
    "    # compile the test neural network\n",
    "    model.compile(\n",
    "        optimizer=keras.optimizers.Adam(learning_rate=learning_rate),\n",
    "        loss='categorical_crossentropy', metrics=['accuracy']\n",
    "    )\n",
    "\n",
    "    return model\n",
    "\n",
    "\n",
    "# build the model + use RandomSearch to actually search the best options for our neural network\n",
    "build_model(keras_tuner.HyperParameters())\n",
    "\n",
    "# use val_loss as the objective, because regression tasks do not have accuracy\n",
    "tuner = keras_tuner.RandomSearch(\n",
    "    hypermodel=build_model,\n",
    "    objective=\"val_accuracy\",\n",
    "    max_trials=8,\n",
    "    executions_per_trial=2,\n",
    "    overwrite=True,\n",
    "    directory=\"optimizations4\",\n",
    "    project_name=\"classification2test\",\n",
    ")\n",
    "early_stopping = keras.callbacks.EarlyStopping(monitor='val_loss', patience=4, restore_best_weights=True)\n",
    "\n",
    "# start searching\n",
    "tuner.search(X_train, y_train, epochs=250, validation_data=(X_val, y_val), batch_size=256, callbacks=[early_stopping])"
   ]
  },
  {
   "cell_type": "code",
   "execution_count": 624,
   "metadata": {},
   "outputs": [
    {
     "name": "stdout",
     "output_type": "stream",
     "text": [
      "Results summary\n",
      "Results in optimizations4\\classification2test\n",
      "Showing 10 best trials\n",
      "Objective(name=\"val_accuracy\", direction=\"max\")\n",
      "\n",
      "Trial 0 summary\n",
      "Hyperparameters:\n",
      "units_0: 20\n",
      "activation: relu\n",
      "num_layers: 2\n",
      "units_1: 24\n",
      "dropout: 0.3\n",
      "lr: 0.009595273759688992\n",
      "units_2: 16\n",
      "Score: 0.9497773051261902\n",
      "\n",
      "Trial 7 summary\n",
      "Hyperparameters:\n",
      "units_0: 24\n",
      "activation: relu\n",
      "num_layers: 1\n",
      "units_1: 16\n",
      "dropout: 0.4\n",
      "lr: 0.0029006203636140547\n",
      "units_2: 32\n",
      "Score: 0.9484880268573761\n",
      "\n",
      "Trial 2 summary\n",
      "Hyperparameters:\n",
      "units_0: 24\n",
      "activation: relu\n",
      "num_layers: 1\n",
      "units_1: 24\n",
      "dropout: 0.4\n",
      "lr: 0.006991661056032743\n",
      "units_2: 16\n",
      "Score: 0.946847140789032\n",
      "\n",
      "Trial 3 summary\n",
      "Hyperparameters:\n",
      "units_0: 16\n",
      "activation: relu\n",
      "num_layers: 2\n",
      "units_1: 20\n",
      "dropout: 0.3\n",
      "lr: 0.00014544861934043347\n",
      "units_2: 16\n",
      "Score: 0.9465541541576385\n",
      "\n",
      "Trial 4 summary\n",
      "Hyperparameters:\n",
      "units_0: 24\n",
      "activation: relu\n",
      "num_layers: 1\n",
      "units_1: 16\n",
      "dropout: 0.3\n",
      "lr: 0.007168071802725966\n",
      "units_2: 24\n",
      "Score: 0.9446202516555786\n",
      "\n",
      "Trial 1 summary\n",
      "Hyperparameters:\n",
      "units_0: 28\n",
      "activation: relu\n",
      "num_layers: 1\n",
      "units_1: 32\n",
      "dropout: 0.3\n",
      "lr: 0.0001359986503983054\n",
      "units_2: 32\n",
      "Score: 0.944561630487442\n",
      "\n",
      "Trial 5 summary\n",
      "Hyperparameters:\n",
      "units_0: 24\n",
      "activation: relu\n",
      "num_layers: 1\n",
      "units_1: 20\n",
      "dropout: 0.3\n",
      "lr: 0.00010948067065592716\n",
      "units_2: 16\n",
      "Score: 0.9428621530532837\n",
      "\n",
      "Trial 6 summary\n",
      "Hyperparameters:\n",
      "units_0: 32\n",
      "activation: relu\n",
      "num_layers: 1\n",
      "units_1: 28\n",
      "dropout: 0.3\n",
      "lr: 0.002177828475108628\n",
      "units_2: 32\n",
      "Score: 0.9414556920528412\n"
     ]
    }
   ],
   "source": [
    "# print out the result and suggestions\n",
    "tuner.results_summary()"
   ]
  },
  {
   "cell_type": "code",
   "execution_count": 625,
   "metadata": {},
   "outputs": [
    {
     "name": "stderr",
     "output_type": "stream",
     "text": [
      "d:\\Deep_Learning\\.venv\\lib\\site-packages\\keras\\src\\layers\\normalization\\batch_normalization.py:142: UserWarning: Do not pass an `input_shape`/`input_dim` argument to a layer. When using Sequential models, prefer using an `Input(shape)` object as the first layer in the model instead.\n",
      "  super().__init__(**kwargs)\n",
      "d:\\Deep_Learning\\.venv\\lib\\site-packages\\keras\\src\\saving\\saving_lib.py:719: UserWarning: Skipping variable loading for optimizer 'adam', because it has 2 variables whereas the saved optimizer has 22 variables. \n",
      "  saveable.load_own_variables(weights_store.get(inner_path))\n",
      "d:\\Deep_Learning\\.venv\\lib\\site-packages\\keras\\src\\saving\\saving_lib.py:719: UserWarning: Skipping variable loading for optimizer 'adam', because it has 2 variables whereas the saved optimizer has 18 variables. \n",
      "  saveable.load_own_variables(weights_store.get(inner_path))\n"
     ]
    },
    {
     "data": {
      "text/html": [
       "<pre style=\"white-space:pre;overflow-x:auto;line-height:normal;font-family:Menlo,'DejaVu Sans Mono',consolas,'Courier New',monospace\"><span style=\"font-weight: bold\">Model: \"sequential\"</span>\n",
       "</pre>\n"
      ],
      "text/plain": [
       "\u001b[1mModel: \"sequential\"\u001b[0m\n"
      ]
     },
     "metadata": {},
     "output_type": "display_data"
    },
    {
     "data": {
      "text/html": [
       "<pre style=\"white-space:pre;overflow-x:auto;line-height:normal;font-family:Menlo,'DejaVu Sans Mono',consolas,'Courier New',monospace\">┏━━━━━━━━━━━━━━━━━━━━━━━━━━━━━━━━━┳━━━━━━━━━━━━━━━━━━━━━━━━┳━━━━━━━━━━━━━━━┓\n",
       "┃<span style=\"font-weight: bold\"> Layer (type)                    </span>┃<span style=\"font-weight: bold\"> Output Shape           </span>┃<span style=\"font-weight: bold\">       Param # </span>┃\n",
       "┡━━━━━━━━━━━━━━━━━━━━━━━━━━━━━━━━━╇━━━━━━━━━━━━━━━━━━━━━━━━╇━━━━━━━━━━━━━━━┩\n",
       "│ batch_normalization             │ (<span style=\"color: #00d7ff; text-decoration-color: #00d7ff\">None</span>, <span style=\"color: #00af00; text-decoration-color: #00af00\">16</span>)             │            <span style=\"color: #00af00; text-decoration-color: #00af00\">64</span> │\n",
       "│ (<span style=\"color: #0087ff; text-decoration-color: #0087ff\">BatchNormalization</span>)            │                        │               │\n",
       "├─────────────────────────────────┼────────────────────────┼───────────────┤\n",
       "│ dense (<span style=\"color: #0087ff; text-decoration-color: #0087ff\">Dense</span>)                   │ (<span style=\"color: #00d7ff; text-decoration-color: #00d7ff\">None</span>, <span style=\"color: #00af00; text-decoration-color: #00af00\">20</span>)             │           <span style=\"color: #00af00; text-decoration-color: #00af00\">340</span> │\n",
       "├─────────────────────────────────┼────────────────────────┼───────────────┤\n",
       "│ dense_1 (<span style=\"color: #0087ff; text-decoration-color: #0087ff\">Dense</span>)                 │ (<span style=\"color: #00d7ff; text-decoration-color: #00d7ff\">None</span>, <span style=\"color: #00af00; text-decoration-color: #00af00\">24</span>)             │           <span style=\"color: #00af00; text-decoration-color: #00af00\">504</span> │\n",
       "├─────────────────────────────────┼────────────────────────┼───────────────┤\n",
       "│ dense_2 (<span style=\"color: #0087ff; text-decoration-color: #0087ff\">Dense</span>)                 │ (<span style=\"color: #00d7ff; text-decoration-color: #00d7ff\">None</span>, <span style=\"color: #00af00; text-decoration-color: #00af00\">16</span>)             │           <span style=\"color: #00af00; text-decoration-color: #00af00\">400</span> │\n",
       "├─────────────────────────────────┼────────────────────────┼───────────────┤\n",
       "│ dropout (<span style=\"color: #0087ff; text-decoration-color: #0087ff\">Dropout</span>)               │ (<span style=\"color: #00d7ff; text-decoration-color: #00d7ff\">None</span>, <span style=\"color: #00af00; text-decoration-color: #00af00\">16</span>)             │             <span style=\"color: #00af00; text-decoration-color: #00af00\">0</span> │\n",
       "├─────────────────────────────────┼────────────────────────┼───────────────┤\n",
       "│ dense_3 (<span style=\"color: #0087ff; text-decoration-color: #0087ff\">Dense</span>)                 │ (<span style=\"color: #00d7ff; text-decoration-color: #00d7ff\">None</span>, <span style=\"color: #00af00; text-decoration-color: #00af00\">3</span>)              │            <span style=\"color: #00af00; text-decoration-color: #00af00\">51</span> │\n",
       "└─────────────────────────────────┴────────────────────────┴───────────────┘\n",
       "</pre>\n"
      ],
      "text/plain": [
       "┏━━━━━━━━━━━━━━━━━━━━━━━━━━━━━━━━━┳━━━━━━━━━━━━━━━━━━━━━━━━┳━━━━━━━━━━━━━━━┓\n",
       "┃\u001b[1m \u001b[0m\u001b[1mLayer (type)                   \u001b[0m\u001b[1m \u001b[0m┃\u001b[1m \u001b[0m\u001b[1mOutput Shape          \u001b[0m\u001b[1m \u001b[0m┃\u001b[1m \u001b[0m\u001b[1m      Param #\u001b[0m\u001b[1m \u001b[0m┃\n",
       "┡━━━━━━━━━━━━━━━━━━━━━━━━━━━━━━━━━╇━━━━━━━━━━━━━━━━━━━━━━━━╇━━━━━━━━━━━━━━━┩\n",
       "│ batch_normalization             │ (\u001b[38;5;45mNone\u001b[0m, \u001b[38;5;34m16\u001b[0m)             │            \u001b[38;5;34m64\u001b[0m │\n",
       "│ (\u001b[38;5;33mBatchNormalization\u001b[0m)            │                        │               │\n",
       "├─────────────────────────────────┼────────────────────────┼───────────────┤\n",
       "│ dense (\u001b[38;5;33mDense\u001b[0m)                   │ (\u001b[38;5;45mNone\u001b[0m, \u001b[38;5;34m20\u001b[0m)             │           \u001b[38;5;34m340\u001b[0m │\n",
       "├─────────────────────────────────┼────────────────────────┼───────────────┤\n",
       "│ dense_1 (\u001b[38;5;33mDense\u001b[0m)                 │ (\u001b[38;5;45mNone\u001b[0m, \u001b[38;5;34m24\u001b[0m)             │           \u001b[38;5;34m504\u001b[0m │\n",
       "├─────────────────────────────────┼────────────────────────┼───────────────┤\n",
       "│ dense_2 (\u001b[38;5;33mDense\u001b[0m)                 │ (\u001b[38;5;45mNone\u001b[0m, \u001b[38;5;34m16\u001b[0m)             │           \u001b[38;5;34m400\u001b[0m │\n",
       "├─────────────────────────────────┼────────────────────────┼───────────────┤\n",
       "│ dropout (\u001b[38;5;33mDropout\u001b[0m)               │ (\u001b[38;5;45mNone\u001b[0m, \u001b[38;5;34m16\u001b[0m)             │             \u001b[38;5;34m0\u001b[0m │\n",
       "├─────────────────────────────────┼────────────────────────┼───────────────┤\n",
       "│ dense_3 (\u001b[38;5;33mDense\u001b[0m)                 │ (\u001b[38;5;45mNone\u001b[0m, \u001b[38;5;34m3\u001b[0m)              │            \u001b[38;5;34m51\u001b[0m │\n",
       "└─────────────────────────────────┴────────────────────────┴───────────────┘\n"
      ]
     },
     "metadata": {},
     "output_type": "display_data"
    },
    {
     "data": {
      "text/html": [
       "<pre style=\"white-space:pre;overflow-x:auto;line-height:normal;font-family:Menlo,'DejaVu Sans Mono',consolas,'Courier New',monospace\"><span style=\"font-weight: bold\"> Total params: </span><span style=\"color: #00af00; text-decoration-color: #00af00\">1,359</span> (5.31 KB)\n",
       "</pre>\n"
      ],
      "text/plain": [
       "\u001b[1m Total params: \u001b[0m\u001b[38;5;34m1,359\u001b[0m (5.31 KB)\n"
      ]
     },
     "metadata": {},
     "output_type": "display_data"
    },
    {
     "data": {
      "text/html": [
       "<pre style=\"white-space:pre;overflow-x:auto;line-height:normal;font-family:Menlo,'DejaVu Sans Mono',consolas,'Courier New',monospace\"><span style=\"font-weight: bold\"> Trainable params: </span><span style=\"color: #00af00; text-decoration-color: #00af00\">1,327</span> (5.18 KB)\n",
       "</pre>\n"
      ],
      "text/plain": [
       "\u001b[1m Trainable params: \u001b[0m\u001b[38;5;34m1,327\u001b[0m (5.18 KB)\n"
      ]
     },
     "metadata": {},
     "output_type": "display_data"
    },
    {
     "data": {
      "text/html": [
       "<pre style=\"white-space:pre;overflow-x:auto;line-height:normal;font-family:Menlo,'DejaVu Sans Mono',consolas,'Courier New',monospace\"><span style=\"font-weight: bold\"> Non-trainable params: </span><span style=\"color: #00af00; text-decoration-color: #00af00\">32</span> (128.00 B)\n",
       "</pre>\n"
      ],
      "text/plain": [
       "\u001b[1m Non-trainable params: \u001b[0m\u001b[38;5;34m32\u001b[0m (128.00 B)\n"
      ]
     },
     "metadata": {},
     "output_type": "display_data"
    }
   ],
   "source": [
    "# Get the top 2 models.\n",
    "models = tuner.get_best_models(num_models=2)\n",
    "best_model = models[0]\n",
    "best_model.summary()"
   ]
  },
  {
   "cell_type": "markdown",
   "metadata": {},
   "source": [
    "<div style=\"background-color:#f9f9f9; border-left: 6px solid #ff6b6b; padding: 10px;\">\n",
    "    <h3 style=\"color:#ff6b6b;\">Personal Analysis</h3>\n",
    "    <p style=\"font-size: 14px; color:#333;\">I used the hyperparameters from the Keras Tuner model, but they did not give me good results. So, I used a different structure and hyperparameters and got better results. Maybe I was not able to fully utilize the Keras Tuner.</p>\n",
    "</div>\n"
   ]
  },
  {
   "cell_type": "markdown",
   "metadata": {},
   "source": [
    "<h1 style=\"\n",
    "    font-family: 'Arial', sans-serif;\n",
    "    font-size: 2.5em;\n",
    "    background: linear-gradient(90deg, #FF7F50, #1E90FF);\n",
    "    -webkit-background-clip: text;\n",
    "    -webkit-text-fill-color: transparent;\n",
    "    text-align: center;\n",
    "    text-shadow: 2px 2px 5px rgba(0, 0, 0, 0.3);\n",
    "    margin-bottom: 20px;\n",
    "    padding: 10px;\n",
    "\">\n",
    "    Creating neural network structure\n",
    "</h1>\n"
   ]
  },
  {
   "cell_type": "code",
   "execution_count": 720,
   "metadata": {},
   "outputs": [
    {
     "data": {
      "text/html": [
       "<pre style=\"white-space:pre;overflow-x:auto;line-height:normal;font-family:Menlo,'DejaVu Sans Mono',consolas,'Courier New',monospace\"><span style=\"font-weight: bold\">Model: \"sequential_16\"</span>\n",
       "</pre>\n"
      ],
      "text/plain": [
       "\u001b[1mModel: \"sequential_16\"\u001b[0m\n"
      ]
     },
     "metadata": {},
     "output_type": "display_data"
    },
    {
     "data": {
      "text/html": [
       "<pre style=\"white-space:pre;overflow-x:auto;line-height:normal;font-family:Menlo,'DejaVu Sans Mono',consolas,'Courier New',monospace\">┏━━━━━━━━━━━━━━━━━━━━━━━━━━━━━━━━━┳━━━━━━━━━━━━━━━━━━━━━━━━┳━━━━━━━━━━━━━━━┓\n",
       "┃<span style=\"font-weight: bold\"> Layer (type)                    </span>┃<span style=\"font-weight: bold\"> Output Shape           </span>┃<span style=\"font-weight: bold\">       Param # </span>┃\n",
       "┡━━━━━━━━━━━━━━━━━━━━━━━━━━━━━━━━━╇━━━━━━━━━━━━━━━━━━━━━━━━╇━━━━━━━━━━━━━━━┩\n",
       "│ batch_normalization_16          │ (<span style=\"color: #00d7ff; text-decoration-color: #00d7ff\">None</span>, <span style=\"color: #00af00; text-decoration-color: #00af00\">16</span>)             │            <span style=\"color: #00af00; text-decoration-color: #00af00\">64</span> │\n",
       "│ (<span style=\"color: #0087ff; text-decoration-color: #0087ff\">BatchNormalization</span>)            │                        │               │\n",
       "├─────────────────────────────────┼────────────────────────┼───────────────┤\n",
       "│ dense_63 (<span style=\"color: #0087ff; text-decoration-color: #0087ff\">Dense</span>)                │ (<span style=\"color: #00d7ff; text-decoration-color: #00d7ff\">None</span>, <span style=\"color: #00af00; text-decoration-color: #00af00\">20</span>)             │           <span style=\"color: #00af00; text-decoration-color: #00af00\">340</span> │\n",
       "├─────────────────────────────────┼────────────────────────┼───────────────┤\n",
       "│ dropout_20 (<span style=\"color: #0087ff; text-decoration-color: #0087ff\">Dropout</span>)            │ (<span style=\"color: #00d7ff; text-decoration-color: #00d7ff\">None</span>, <span style=\"color: #00af00; text-decoration-color: #00af00\">20</span>)             │             <span style=\"color: #00af00; text-decoration-color: #00af00\">0</span> │\n",
       "├─────────────────────────────────┼────────────────────────┼───────────────┤\n",
       "│ dense_64 (<span style=\"color: #0087ff; text-decoration-color: #0087ff\">Dense</span>)                │ (<span style=\"color: #00d7ff; text-decoration-color: #00d7ff\">None</span>, <span style=\"color: #00af00; text-decoration-color: #00af00\">32</span>)             │           <span style=\"color: #00af00; text-decoration-color: #00af00\">672</span> │\n",
       "├─────────────────────────────────┼────────────────────────┼───────────────┤\n",
       "│ dropout_21 (<span style=\"color: #0087ff; text-decoration-color: #0087ff\">Dropout</span>)            │ (<span style=\"color: #00d7ff; text-decoration-color: #00d7ff\">None</span>, <span style=\"color: #00af00; text-decoration-color: #00af00\">32</span>)             │             <span style=\"color: #00af00; text-decoration-color: #00af00\">0</span> │\n",
       "├─────────────────────────────────┼────────────────────────┼───────────────┤\n",
       "│ dense_65 (<span style=\"color: #0087ff; text-decoration-color: #0087ff\">Dense</span>)                │ (<span style=\"color: #00d7ff; text-decoration-color: #00d7ff\">None</span>, <span style=\"color: #00af00; text-decoration-color: #00af00\">16</span>)             │           <span style=\"color: #00af00; text-decoration-color: #00af00\">528</span> │\n",
       "├─────────────────────────────────┼────────────────────────┼───────────────┤\n",
       "│ dense_66 (<span style=\"color: #0087ff; text-decoration-color: #0087ff\">Dense</span>)                │ (<span style=\"color: #00d7ff; text-decoration-color: #00d7ff\">None</span>, <span style=\"color: #00af00; text-decoration-color: #00af00\">3</span>)              │            <span style=\"color: #00af00; text-decoration-color: #00af00\">51</span> │\n",
       "└─────────────────────────────────┴────────────────────────┴───────────────┘\n",
       "</pre>\n"
      ],
      "text/plain": [
       "┏━━━━━━━━━━━━━━━━━━━━━━━━━━━━━━━━━┳━━━━━━━━━━━━━━━━━━━━━━━━┳━━━━━━━━━━━━━━━┓\n",
       "┃\u001b[1m \u001b[0m\u001b[1mLayer (type)                   \u001b[0m\u001b[1m \u001b[0m┃\u001b[1m \u001b[0m\u001b[1mOutput Shape          \u001b[0m\u001b[1m \u001b[0m┃\u001b[1m \u001b[0m\u001b[1m      Param #\u001b[0m\u001b[1m \u001b[0m┃\n",
       "┡━━━━━━━━━━━━━━━━━━━━━━━━━━━━━━━━━╇━━━━━━━━━━━━━━━━━━━━━━━━╇━━━━━━━━━━━━━━━┩\n",
       "│ batch_normalization_16          │ (\u001b[38;5;45mNone\u001b[0m, \u001b[38;5;34m16\u001b[0m)             │            \u001b[38;5;34m64\u001b[0m │\n",
       "│ (\u001b[38;5;33mBatchNormalization\u001b[0m)            │                        │               │\n",
       "├─────────────────────────────────┼────────────────────────┼───────────────┤\n",
       "│ dense_63 (\u001b[38;5;33mDense\u001b[0m)                │ (\u001b[38;5;45mNone\u001b[0m, \u001b[38;5;34m20\u001b[0m)             │           \u001b[38;5;34m340\u001b[0m │\n",
       "├─────────────────────────────────┼────────────────────────┼───────────────┤\n",
       "│ dropout_20 (\u001b[38;5;33mDropout\u001b[0m)            │ (\u001b[38;5;45mNone\u001b[0m, \u001b[38;5;34m20\u001b[0m)             │             \u001b[38;5;34m0\u001b[0m │\n",
       "├─────────────────────────────────┼────────────────────────┼───────────────┤\n",
       "│ dense_64 (\u001b[38;5;33mDense\u001b[0m)                │ (\u001b[38;5;45mNone\u001b[0m, \u001b[38;5;34m32\u001b[0m)             │           \u001b[38;5;34m672\u001b[0m │\n",
       "├─────────────────────────────────┼────────────────────────┼───────────────┤\n",
       "│ dropout_21 (\u001b[38;5;33mDropout\u001b[0m)            │ (\u001b[38;5;45mNone\u001b[0m, \u001b[38;5;34m32\u001b[0m)             │             \u001b[38;5;34m0\u001b[0m │\n",
       "├─────────────────────────────────┼────────────────────────┼───────────────┤\n",
       "│ dense_65 (\u001b[38;5;33mDense\u001b[0m)                │ (\u001b[38;5;45mNone\u001b[0m, \u001b[38;5;34m16\u001b[0m)             │           \u001b[38;5;34m528\u001b[0m │\n",
       "├─────────────────────────────────┼────────────────────────┼───────────────┤\n",
       "│ dense_66 (\u001b[38;5;33mDense\u001b[0m)                │ (\u001b[38;5;45mNone\u001b[0m, \u001b[38;5;34m3\u001b[0m)              │            \u001b[38;5;34m51\u001b[0m │\n",
       "└─────────────────────────────────┴────────────────────────┴───────────────┘\n"
      ]
     },
     "metadata": {},
     "output_type": "display_data"
    },
    {
     "data": {
      "text/html": [
       "<pre style=\"white-space:pre;overflow-x:auto;line-height:normal;font-family:Menlo,'DejaVu Sans Mono',consolas,'Courier New',monospace\"><span style=\"font-weight: bold\"> Total params: </span><span style=\"color: #00af00; text-decoration-color: #00af00\">1,655</span> (6.46 KB)\n",
       "</pre>\n"
      ],
      "text/plain": [
       "\u001b[1m Total params: \u001b[0m\u001b[38;5;34m1,655\u001b[0m (6.46 KB)\n"
      ]
     },
     "metadata": {},
     "output_type": "display_data"
    },
    {
     "data": {
      "text/html": [
       "<pre style=\"white-space:pre;overflow-x:auto;line-height:normal;font-family:Menlo,'DejaVu Sans Mono',consolas,'Courier New',monospace\"><span style=\"font-weight: bold\"> Trainable params: </span><span style=\"color: #00af00; text-decoration-color: #00af00\">1,623</span> (6.34 KB)\n",
       "</pre>\n"
      ],
      "text/plain": [
       "\u001b[1m Trainable params: \u001b[0m\u001b[38;5;34m1,623\u001b[0m (6.34 KB)\n"
      ]
     },
     "metadata": {},
     "output_type": "display_data"
    },
    {
     "data": {
      "text/html": [
       "<pre style=\"white-space:pre;overflow-x:auto;line-height:normal;font-family:Menlo,'DejaVu Sans Mono',consolas,'Courier New',monospace\"><span style=\"font-weight: bold\"> Non-trainable params: </span><span style=\"color: #00af00; text-decoration-color: #00af00\">32</span> (128.00 B)\n",
       "</pre>\n"
      ],
      "text/plain": [
       "\u001b[1m Non-trainable params: \u001b[0m\u001b[38;5;34m32\u001b[0m (128.00 B)\n"
      ]
     },
     "metadata": {},
     "output_type": "display_data"
    }
   ],
   "source": [
    "model = keras.Sequential(\n",
    "    [\n",
    "        layers.BatchNormalization(input_shape=(len(X.columns),)),\n",
    "        layers.Dense(20, activation=LeakyReLU()),\n",
    "         layers.Dropout(0.3),\n",
    "        layers.Dense(32, activation=LeakyReLU()),\n",
    "        # add dropout\n",
    "        layers.Dropout(0.5),\n",
    "        layers.Dense(16, activation=LeakyReLU()),\n",
    "        layers.Dense(len(categories), activation=\"softmax\")\n",
    "    ]\n",
    ")\n",
    "\n",
    "# Compile the model\n",
    "learning_rate = 0.009595273759688992\n",
    "model.compile(\n",
    "    optimizer=keras.optimizers.Adam(learning_rate=learning_rate),\n",
    "    loss='categorical_crossentropy',\n",
    "    metrics=['accuracy']\n",
    ")\n",
    "\n",
    "# Print the model summary\n",
    "model.summary()"
   ]
  },
  {
   "cell_type": "markdown",
   "metadata": {},
   "source": [
    "<div style=\"background-color:#eef9f1; border-left: 6px solid #8bc34a; padding: 10px;\">\n",
    "    <h3 style=\"color:#8bc34a;\">Peronal Analysis</h3>\n",
    "    <p style=\"font-size: 14px; color:#333;\">I built the model with <strong>BatchNormalization</strong> to help it learn faster. For the hidden layers, I went to with  <strong>LeakyReLU</strong> in hiden layers because it handles negative values better than standard ReLU, which helped avoid dead neurons. I also added <strong>Dropout (0.5)<br></strong> to reduce overfitting, and the final layer uses <strong>softmax</strong> to predict 3 categories.</p>\n",
    "    <p style=\"font-size: 14px; color:#333;\">I played around with the structure and this setup worked better than what Keras Tuner suggested. With 1,623 trainable parameters, it's lightweight and works well for the size of my dataset.</p>\n",
    "</div>\n"
   ]
  },
  {
   "cell_type": "code",
   "execution_count": 722,
   "metadata": {},
   "outputs": [],
   "source": [
    "# Define EarlyStopping callback\n",
    "early_stopping = EarlyStopping(\n",
    "    monitor='val_loss',  \n",
    "    patience=50,  \n",
    "    restore_best_weights=True \n",
    ")"
   ]
  },
  {
   "cell_type": "code",
   "execution_count": 723,
   "metadata": {},
   "outputs": [
    {
     "name": "stdout",
     "output_type": "stream",
     "text": [
      "Epoch 1/600\n",
      "\u001b[1m317/317\u001b[0m \u001b[32m━━━━━━━━━━━━━━━━━━━━\u001b[0m\u001b[37m\u001b[0m \u001b[1m2s\u001b[0m 4ms/step - accuracy: 0.7711 - loss: 0.5212 - val_accuracy: 0.3281 - val_loss: 1292.3223\n",
      "Epoch 2/600\n",
      "\u001b[1m317/317\u001b[0m \u001b[32m━━━━━━━━━━━━━━━━━━━━\u001b[0m\u001b[37m\u001b[0m \u001b[1m1s\u001b[0m 3ms/step - accuracy: 0.9005 - loss: 0.2825 - val_accuracy: 0.3867 - val_loss: 14.4806\n",
      "Epoch 3/600\n",
      "\u001b[1m317/317\u001b[0m \u001b[32m━━━━━━━━━━━━━━━━━━━━\u001b[0m\u001b[37m\u001b[0m \u001b[1m1s\u001b[0m 3ms/step - accuracy: 0.9024 - loss: 0.2846 - val_accuracy: 0.7392 - val_loss: 0.6405\n",
      "Epoch 4/600\n",
      "\u001b[1m317/317\u001b[0m \u001b[32m━━━━━━━━━━━━━━━━━━━━\u001b[0m\u001b[37m\u001b[0m \u001b[1m1s\u001b[0m 3ms/step - accuracy: 0.8914 - loss: 0.3110 - val_accuracy: 0.8562 - val_loss: 0.3268\n",
      "Epoch 5/600\n",
      "\u001b[1m317/317\u001b[0m \u001b[32m━━━━━━━━━━━━━━━━━━━━\u001b[0m\u001b[37m\u001b[0m \u001b[1m1s\u001b[0m 3ms/step - accuracy: 0.9067 - loss: 0.2739 - val_accuracy: 0.8499 - val_loss: 0.3499\n",
      "Epoch 6/600\n",
      "\u001b[1m317/317\u001b[0m \u001b[32m━━━━━━━━━━━━━━━━━━━━\u001b[0m\u001b[37m\u001b[0m \u001b[1m1s\u001b[0m 3ms/step - accuracy: 0.9079 - loss: 0.2767 - val_accuracy: 0.8424 - val_loss: 0.3783\n",
      "Epoch 7/600\n",
      "\u001b[1m317/317\u001b[0m \u001b[32m━━━━━━━━━━━━━━━━━━━━\u001b[0m\u001b[37m\u001b[0m \u001b[1m1s\u001b[0m 3ms/step - accuracy: 0.9064 - loss: 0.2733 - val_accuracy: 0.8547 - val_loss: 0.3627\n",
      "Epoch 8/600\n",
      "\u001b[1m317/317\u001b[0m \u001b[32m━━━━━━━━━━━━━━━━━━━━\u001b[0m\u001b[37m\u001b[0m \u001b[1m1s\u001b[0m 2ms/step - accuracy: 0.8966 - loss: 0.2955 - val_accuracy: 0.8824 - val_loss: 0.2926\n",
      "Epoch 9/600\n",
      "\u001b[1m317/317\u001b[0m \u001b[32m━━━━━━━━━━━━━━━━━━━━\u001b[0m\u001b[37m\u001b[0m \u001b[1m1s\u001b[0m 2ms/step - accuracy: 0.9068 - loss: 0.2759 - val_accuracy: 0.8673 - val_loss: 0.3267\n",
      "Epoch 10/600\n",
      "\u001b[1m317/317\u001b[0m \u001b[32m━━━━━━━━━━━━━━━━━━━━\u001b[0m\u001b[37m\u001b[0m \u001b[1m1s\u001b[0m 2ms/step - accuracy: 0.9073 - loss: 0.2627 - val_accuracy: 0.8561 - val_loss: 0.3853\n",
      "Epoch 11/600\n",
      "\u001b[1m317/317\u001b[0m \u001b[32m━━━━━━━━━━━━━━━━━━━━\u001b[0m\u001b[37m\u001b[0m \u001b[1m1s\u001b[0m 2ms/step - accuracy: 0.9002 - loss: 0.2794 - val_accuracy: 0.8561 - val_loss: 0.3572\n",
      "Epoch 12/600\n",
      "\u001b[1m317/317\u001b[0m \u001b[32m━━━━━━━━━━━━━━━━━━━━\u001b[0m\u001b[37m\u001b[0m \u001b[1m1s\u001b[0m 2ms/step - accuracy: 0.9028 - loss: 0.2780 - val_accuracy: 0.8962 - val_loss: 0.2810\n",
      "Epoch 13/600\n",
      "\u001b[1m317/317\u001b[0m \u001b[32m━━━━━━━━━━━━━━━━━━━━\u001b[0m\u001b[37m\u001b[0m \u001b[1m1s\u001b[0m 2ms/step - accuracy: 0.8998 - loss: 0.2900 - val_accuracy: 0.8594 - val_loss: 0.3436\n",
      "Epoch 14/600\n",
      "\u001b[1m317/317\u001b[0m \u001b[32m━━━━━━━━━━━━━━━━━━━━\u001b[0m\u001b[37m\u001b[0m \u001b[1m1s\u001b[0m 2ms/step - accuracy: 0.9002 - loss: 0.2867 - val_accuracy: 0.9027 - val_loss: 0.2814\n",
      "Epoch 15/600\n",
      "\u001b[1m317/317\u001b[0m \u001b[32m━━━━━━━━━━━━━━━━━━━━\u001b[0m\u001b[37m\u001b[0m \u001b[1m1s\u001b[0m 2ms/step - accuracy: 0.8998 - loss: 0.2974 - val_accuracy: 0.8608 - val_loss: 0.3607\n",
      "Epoch 16/600\n",
      "\u001b[1m317/317\u001b[0m \u001b[32m━━━━━━━━━━━━━━━━━━━━\u001b[0m\u001b[37m\u001b[0m \u001b[1m1s\u001b[0m 2ms/step - accuracy: 0.9097 - loss: 0.2683 - val_accuracy: 0.8405 - val_loss: 0.3914\n",
      "Epoch 17/600\n",
      "\u001b[1m317/317\u001b[0m \u001b[32m━━━━━━━━━━━━━━━━━━━━\u001b[0m\u001b[37m\u001b[0m \u001b[1m1s\u001b[0m 2ms/step - accuracy: 0.9157 - loss: 0.2555 - val_accuracy: 0.8568 - val_loss: 0.3515\n",
      "Epoch 18/600\n",
      "\u001b[1m317/317\u001b[0m \u001b[32m━━━━━━━━━━━━━━━━━━━━\u001b[0m\u001b[37m\u001b[0m \u001b[1m1s\u001b[0m 1ms/step - accuracy: 0.9232 - loss: 0.2343 - val_accuracy: 0.8640 - val_loss: 0.3376\n",
      "Epoch 19/600\n",
      "\u001b[1m317/317\u001b[0m \u001b[32m━━━━━━━━━━━━━━━━━━━━\u001b[0m\u001b[37m\u001b[0m \u001b[1m1s\u001b[0m 2ms/step - accuracy: 0.9012 - loss: 0.2820 - val_accuracy: 0.8506 - val_loss: 0.3859\n",
      "Epoch 20/600\n",
      "\u001b[1m317/317\u001b[0m \u001b[32m━━━━━━━━━━━━━━━━━━━━\u001b[0m\u001b[37m\u001b[0m \u001b[1m1s\u001b[0m 2ms/step - accuracy: 0.9117 - loss: 0.2576 - val_accuracy: 0.8636 - val_loss: 0.3549\n",
      "Epoch 21/600\n",
      "\u001b[1m317/317\u001b[0m \u001b[32m━━━━━━━━━━━━━━━━━━━━\u001b[0m\u001b[37m\u001b[0m \u001b[1m1s\u001b[0m 2ms/step - accuracy: 0.9148 - loss: 0.2480 - val_accuracy: 0.8442 - val_loss: 0.3901\n",
      "Epoch 22/600\n",
      "\u001b[1m317/317\u001b[0m \u001b[32m━━━━━━━━━━━━━━━━━━━━\u001b[0m\u001b[37m\u001b[0m \u001b[1m1s\u001b[0m 2ms/step - accuracy: 0.8993 - loss: 0.2867 - val_accuracy: 0.8501 - val_loss: 0.3987\n",
      "Epoch 23/600\n",
      "\u001b[1m317/317\u001b[0m \u001b[32m━━━━━━━━━━━━━━━━━━━━\u001b[0m\u001b[37m\u001b[0m \u001b[1m1s\u001b[0m 2ms/step - accuracy: 0.9124 - loss: 0.2522 - val_accuracy: 0.7373 - val_loss: 0.5620\n",
      "Epoch 24/600\n",
      "\u001b[1m317/317\u001b[0m \u001b[32m━━━━━━━━━━━━━━━━━━━━\u001b[0m\u001b[37m\u001b[0m \u001b[1m1s\u001b[0m 2ms/step - accuracy: 0.8955 - loss: 0.3164 - val_accuracy: 0.9161 - val_loss: 0.2662\n",
      "Epoch 25/600\n",
      "\u001b[1m317/317\u001b[0m \u001b[32m━━━━━━━━━━━━━━━━━━━━\u001b[0m\u001b[37m\u001b[0m \u001b[1m1s\u001b[0m 2ms/step - accuracy: 0.8979 - loss: 0.3113 - val_accuracy: 0.8211 - val_loss: 0.4566\n",
      "Epoch 26/600\n",
      "\u001b[1m317/317\u001b[0m \u001b[32m━━━━━━━━━━━━━━━━━━━━\u001b[0m\u001b[37m\u001b[0m \u001b[1m1s\u001b[0m 2ms/step - accuracy: 0.8960 - loss: 0.2998 - val_accuracy: 0.8669 - val_loss: 0.3242\n",
      "Epoch 27/600\n",
      "\u001b[1m317/317\u001b[0m \u001b[32m━━━━━━━━━━━━━━━━━━━━\u001b[0m\u001b[37m\u001b[0m \u001b[1m1s\u001b[0m 2ms/step - accuracy: 0.9076 - loss: 0.2682 - val_accuracy: 0.8452 - val_loss: 0.4190\n",
      "Epoch 28/600\n",
      "\u001b[1m317/317\u001b[0m \u001b[32m━━━━━━━━━━━━━━━━━━━━\u001b[0m\u001b[37m\u001b[0m \u001b[1m1s\u001b[0m 2ms/step - accuracy: 0.9114 - loss: 0.2576 - val_accuracy: 0.8135 - val_loss: 0.4533\n",
      "Epoch 29/600\n",
      "\u001b[1m317/317\u001b[0m \u001b[32m━━━━━━━━━━━━━━━━━━━━\u001b[0m\u001b[37m\u001b[0m \u001b[1m1s\u001b[0m 2ms/step - accuracy: 0.8954 - loss: 0.2954 - val_accuracy: 0.8521 - val_loss: 0.3581\n",
      "Epoch 30/600\n",
      "\u001b[1m317/317\u001b[0m \u001b[32m━━━━━━━━━━━━━━━━━━━━\u001b[0m\u001b[37m\u001b[0m \u001b[1m1s\u001b[0m 2ms/step - accuracy: 0.9159 - loss: 0.2455 - val_accuracy: 0.8326 - val_loss: 0.3958\n",
      "Epoch 31/600\n",
      "\u001b[1m317/317\u001b[0m \u001b[32m━━━━━━━━━━━━━━━━━━━━\u001b[0m\u001b[37m\u001b[0m \u001b[1m1s\u001b[0m 2ms/step - accuracy: 0.9130 - loss: 0.2533 - val_accuracy: 0.8756 - val_loss: 0.3097\n",
      "Epoch 32/600\n",
      "\u001b[1m317/317\u001b[0m \u001b[32m━━━━━━━━━━━━━━━━━━━━\u001b[0m\u001b[37m\u001b[0m \u001b[1m1s\u001b[0m 2ms/step - accuracy: 0.9028 - loss: 0.2854 - val_accuracy: 0.8674 - val_loss: 0.3280\n",
      "Epoch 33/600\n",
      "\u001b[1m317/317\u001b[0m \u001b[32m━━━━━━━━━━━━━━━━━━━━\u001b[0m\u001b[37m\u001b[0m \u001b[1m1s\u001b[0m 2ms/step - accuracy: 0.9006 - loss: 0.2895 - val_accuracy: 0.8599 - val_loss: 0.3920\n",
      "Epoch 34/600\n",
      "\u001b[1m317/317\u001b[0m \u001b[32m━━━━━━━━━━━━━━━━━━━━\u001b[0m\u001b[37m\u001b[0m \u001b[1m1s\u001b[0m 2ms/step - accuracy: 0.9164 - loss: 0.2445 - val_accuracy: 0.8469 - val_loss: 0.3841\n",
      "Epoch 35/600\n",
      "\u001b[1m317/317\u001b[0m \u001b[32m━━━━━━━━━━━━━━━━━━━━\u001b[0m\u001b[37m\u001b[0m \u001b[1m1s\u001b[0m 2ms/step - accuracy: 0.8962 - loss: 0.3038 - val_accuracy: 0.8775 - val_loss: 0.3013\n",
      "Epoch 36/600\n",
      "\u001b[1m317/317\u001b[0m \u001b[32m━━━━━━━━━━━━━━━━━━━━\u001b[0m\u001b[37m\u001b[0m \u001b[1m1s\u001b[0m 2ms/step - accuracy: 0.8853 - loss: 0.3233 - val_accuracy: 0.9049 - val_loss: 0.2766\n",
      "Epoch 37/600\n",
      "\u001b[1m317/317\u001b[0m \u001b[32m━━━━━━━━━━━━━━━━━━━━\u001b[0m\u001b[37m\u001b[0m \u001b[1m1s\u001b[0m 2ms/step - accuracy: 0.8895 - loss: 0.3068 - val_accuracy: 0.8931 - val_loss: 0.2770\n",
      "Epoch 38/600\n",
      "\u001b[1m317/317\u001b[0m \u001b[32m━━━━━━━━━━━━━━━━━━━━\u001b[0m\u001b[37m\u001b[0m \u001b[1m1s\u001b[0m 2ms/step - accuracy: 0.9061 - loss: 0.2664 - val_accuracy: 0.8752 - val_loss: 0.3608\n",
      "Epoch 39/600\n",
      "\u001b[1m317/317\u001b[0m \u001b[32m━━━━━━━━━━━━━━━━━━━━\u001b[0m\u001b[37m\u001b[0m \u001b[1m1s\u001b[0m 2ms/step - accuracy: 0.8870 - loss: 0.3204 - val_accuracy: 0.8885 - val_loss: 0.2867\n",
      "Epoch 40/600\n",
      "\u001b[1m317/317\u001b[0m \u001b[32m━━━━━━━━━━━━━━━━━━━━\u001b[0m\u001b[37m\u001b[0m \u001b[1m1s\u001b[0m 2ms/step - accuracy: 0.9023 - loss: 0.2928 - val_accuracy: 0.8876 - val_loss: 0.2876\n",
      "Epoch 41/600\n",
      "\u001b[1m317/317\u001b[0m \u001b[32m━━━━━━━━━━━━━━━━━━━━\u001b[0m\u001b[37m\u001b[0m \u001b[1m1s\u001b[0m 2ms/step - accuracy: 0.9025 - loss: 0.2826 - val_accuracy: 0.8530 - val_loss: 0.3512\n",
      "Epoch 42/600\n",
      "\u001b[1m317/317\u001b[0m \u001b[32m━━━━━━━━━━━━━━━━━━━━\u001b[0m\u001b[37m\u001b[0m \u001b[1m1s\u001b[0m 2ms/step - accuracy: 0.9190 - loss: 0.2355 - val_accuracy: 0.8799 - val_loss: 0.3053\n",
      "Epoch 43/600\n",
      "\u001b[1m317/317\u001b[0m \u001b[32m━━━━━━━━━━━━━━━━━━━━\u001b[0m\u001b[37m\u001b[0m \u001b[1m1s\u001b[0m 2ms/step - accuracy: 0.8948 - loss: 0.2929 - val_accuracy: 0.8820 - val_loss: 0.3009\n",
      "Epoch 44/600\n",
      "\u001b[1m317/317\u001b[0m \u001b[32m━━━━━━━━━━━━━━━━━━━━\u001b[0m\u001b[37m\u001b[0m \u001b[1m1s\u001b[0m 2ms/step - accuracy: 0.9126 - loss: 0.2517 - val_accuracy: 0.8582 - val_loss: 0.3377\n",
      "Epoch 45/600\n",
      "\u001b[1m317/317\u001b[0m \u001b[32m━━━━━━━━━━━━━━━━━━━━\u001b[0m\u001b[37m\u001b[0m \u001b[1m1s\u001b[0m 2ms/step - accuracy: 0.9098 - loss: 0.2628 - val_accuracy: 0.8511 - val_loss: 0.3823\n",
      "Epoch 46/600\n",
      "\u001b[1m317/317\u001b[0m \u001b[32m━━━━━━━━━━━━━━━━━━━━\u001b[0m\u001b[37m\u001b[0m \u001b[1m1s\u001b[0m 2ms/step - accuracy: 0.8936 - loss: 0.3063 - val_accuracy: 0.8885 - val_loss: 0.3027\n",
      "Epoch 47/600\n",
      "\u001b[1m317/317\u001b[0m \u001b[32m━━━━━━━━━━━━━━━━━━━━\u001b[0m\u001b[37m\u001b[0m \u001b[1m1s\u001b[0m 2ms/step - accuracy: 0.9045 - loss: 0.2665 - val_accuracy: 0.8663 - val_loss: 0.3300\n",
      "Epoch 48/600\n",
      "\u001b[1m317/317\u001b[0m \u001b[32m━━━━━━━━━━━━━━━━━━━━\u001b[0m\u001b[37m\u001b[0m \u001b[1m1s\u001b[0m 2ms/step - accuracy: 0.9020 - loss: 0.2873 - val_accuracy: 0.8861 - val_loss: 0.3015\n",
      "Epoch 49/600\n",
      "\u001b[1m317/317\u001b[0m \u001b[32m━━━━━━━━━━━━━━━━━━━━\u001b[0m\u001b[37m\u001b[0m \u001b[1m1s\u001b[0m 2ms/step - accuracy: 0.9161 - loss: 0.2455 - val_accuracy: 0.8956 - val_loss: 0.2813\n",
      "Epoch 50/600\n",
      "\u001b[1m317/317\u001b[0m \u001b[32m━━━━━━━━━━━━━━━━━━━━\u001b[0m\u001b[37m\u001b[0m \u001b[1m1s\u001b[0m 2ms/step - accuracy: 0.8945 - loss: 0.3085 - val_accuracy: 0.8487 - val_loss: 0.3826\n",
      "Epoch 51/600\n",
      "\u001b[1m317/317\u001b[0m \u001b[32m━━━━━━━━━━━━━━━━━━━━\u001b[0m\u001b[37m\u001b[0m \u001b[1m1s\u001b[0m 2ms/step - accuracy: 0.8797 - loss: 0.3356 - val_accuracy: 0.8673 - val_loss: 0.3159\n",
      "Epoch 52/600\n",
      "\u001b[1m317/317\u001b[0m \u001b[32m━━━━━━━━━━━━━━━━━━━━\u001b[0m\u001b[37m\u001b[0m \u001b[1m1s\u001b[0m 2ms/step - accuracy: 0.8976 - loss: 0.2920 - val_accuracy: 0.8746 - val_loss: 0.3461\n",
      "Epoch 53/600\n",
      "\u001b[1m317/317\u001b[0m \u001b[32m━━━━━━━━━━━━━━━━━━━━\u001b[0m\u001b[37m\u001b[0m \u001b[1m1s\u001b[0m 2ms/step - accuracy: 0.9015 - loss: 0.2848 - val_accuracy: 0.8713 - val_loss: 0.3252\n",
      "Epoch 54/600\n",
      "\u001b[1m317/317\u001b[0m \u001b[32m━━━━━━━━━━━━━━━━━━━━\u001b[0m\u001b[37m\u001b[0m \u001b[1m1s\u001b[0m 2ms/step - accuracy: 0.9159 - loss: 0.2498 - val_accuracy: 0.8637 - val_loss: 0.3302\n",
      "Epoch 55/600\n",
      "\u001b[1m317/317\u001b[0m \u001b[32m━━━━━━━━━━━━━━━━━━━━\u001b[0m\u001b[37m\u001b[0m \u001b[1m1s\u001b[0m 2ms/step - accuracy: 0.8968 - loss: 0.2922 - val_accuracy: 0.8734 - val_loss: 0.3133\n",
      "Epoch 56/600\n",
      "\u001b[1m317/317\u001b[0m \u001b[32m━━━━━━━━━━━━━━━━━━━━\u001b[0m\u001b[37m\u001b[0m \u001b[1m1s\u001b[0m 2ms/step - accuracy: 0.9094 - loss: 0.2604 - val_accuracy: 0.8540 - val_loss: 0.3816\n",
      "Epoch 57/600\n",
      "\u001b[1m317/317\u001b[0m \u001b[32m━━━━━━━━━━━━━━━━━━━━\u001b[0m\u001b[37m\u001b[0m \u001b[1m1s\u001b[0m 2ms/step - accuracy: 0.8965 - loss: 0.2926 - val_accuracy: 0.8779 - val_loss: 0.3013\n",
      "Epoch 58/600\n",
      "\u001b[1m317/317\u001b[0m \u001b[32m━━━━━━━━━━━━━━━━━━━━\u001b[0m\u001b[37m\u001b[0m \u001b[1m1s\u001b[0m 2ms/step - accuracy: 0.8949 - loss: 0.2967 - val_accuracy: 0.8748 - val_loss: 0.3158\n",
      "Epoch 59/600\n",
      "\u001b[1m317/317\u001b[0m \u001b[32m━━━━━━━━━━━━━━━━━━━━\u001b[0m\u001b[37m\u001b[0m \u001b[1m1s\u001b[0m 2ms/step - accuracy: 0.9158 - loss: 0.2451 - val_accuracy: 0.8889 - val_loss: 0.3362\n",
      "Epoch 60/600\n",
      "\u001b[1m317/317\u001b[0m \u001b[32m━━━━━━━━━━━━━━━━━━━━\u001b[0m\u001b[37m\u001b[0m \u001b[1m1s\u001b[0m 2ms/step - accuracy: 0.9091 - loss: 0.2667 - val_accuracy: 0.8830 - val_loss: 0.3035\n",
      "Epoch 61/600\n",
      "\u001b[1m317/317\u001b[0m \u001b[32m━━━━━━━━━━━━━━━━━━━━\u001b[0m\u001b[37m\u001b[0m \u001b[1m1s\u001b[0m 2ms/step - accuracy: 0.9094 - loss: 0.2603 - val_accuracy: 0.8522 - val_loss: 0.3685\n",
      "Epoch 62/600\n",
      "\u001b[1m317/317\u001b[0m \u001b[32m━━━━━━━━━━━━━━━━━━━━\u001b[0m\u001b[37m\u001b[0m \u001b[1m1s\u001b[0m 2ms/step - accuracy: 0.8973 - loss: 0.3006 - val_accuracy: 0.8081 - val_loss: 0.4633\n",
      "Epoch 63/600\n",
      "\u001b[1m317/317\u001b[0m \u001b[32m━━━━━━━━━━━━━━━━━━━━\u001b[0m\u001b[37m\u001b[0m \u001b[1m1s\u001b[0m 2ms/step - accuracy: 0.8921 - loss: 0.3515 - val_accuracy: 0.8915 - val_loss: 0.2739\n",
      "Epoch 64/600\n",
      "\u001b[1m317/317\u001b[0m \u001b[32m━━━━━━━━━━━━━━━━━━━━\u001b[0m\u001b[37m\u001b[0m \u001b[1m1s\u001b[0m 2ms/step - accuracy: 0.8901 - loss: 0.2976 - val_accuracy: 0.8638 - val_loss: 0.3218\n",
      "Epoch 65/600\n",
      "\u001b[1m317/317\u001b[0m \u001b[32m━━━━━━━━━━━━━━━━━━━━\u001b[0m\u001b[37m\u001b[0m \u001b[1m1s\u001b[0m 2ms/step - accuracy: 0.9129 - loss: 0.2451 - val_accuracy: 0.8555 - val_loss: 0.3601\n",
      "Epoch 66/600\n",
      "\u001b[1m317/317\u001b[0m \u001b[32m━━━━━━━━━━━━━━━━━━━━\u001b[0m\u001b[37m\u001b[0m \u001b[1m1s\u001b[0m 2ms/step - accuracy: 0.9176 - loss: 0.2432 - val_accuracy: 0.8380 - val_loss: 0.3830\n",
      "Epoch 67/600\n",
      "\u001b[1m317/317\u001b[0m \u001b[32m━━━━━━━━━━━━━━━━━━━━\u001b[0m\u001b[37m\u001b[0m \u001b[1m1s\u001b[0m 2ms/step - accuracy: 0.9108 - loss: 0.2636 - val_accuracy: 0.8570 - val_loss: 0.3410\n",
      "Epoch 68/600\n",
      "\u001b[1m317/317\u001b[0m \u001b[32m━━━━━━━━━━━━━━━━━━━━\u001b[0m\u001b[37m\u001b[0m \u001b[1m1s\u001b[0m 2ms/step - accuracy: 0.8915 - loss: 0.3171 - val_accuracy: 0.8604 - val_loss: 0.3520\n",
      "Epoch 69/600\n",
      "\u001b[1m317/317\u001b[0m \u001b[32m━━━━━━━━━━━━━━━━━━━━\u001b[0m\u001b[37m\u001b[0m \u001b[1m1s\u001b[0m 2ms/step - accuracy: 0.8913 - loss: 0.3130 - val_accuracy: 0.8624 - val_loss: 0.3288\n",
      "Epoch 70/600\n",
      "\u001b[1m317/317\u001b[0m \u001b[32m━━━━━━━━━━━━━━━━━━━━\u001b[0m\u001b[37m\u001b[0m \u001b[1m1s\u001b[0m 2ms/step - accuracy: 0.9162 - loss: 0.2472 - val_accuracy: 0.8574 - val_loss: 0.3521\n",
      "Epoch 71/600\n",
      "\u001b[1m317/317\u001b[0m \u001b[32m━━━━━━━━━━━━━━━━━━━━\u001b[0m\u001b[37m\u001b[0m \u001b[1m1s\u001b[0m 2ms/step - accuracy: 0.9161 - loss: 0.2418 - val_accuracy: 0.8436 - val_loss: 0.3674\n",
      "Epoch 72/600\n",
      "\u001b[1m317/317\u001b[0m \u001b[32m━━━━━━━━━━━━━━━━━━━━\u001b[0m\u001b[37m\u001b[0m \u001b[1m1s\u001b[0m 2ms/step - accuracy: 0.9166 - loss: 0.2459 - val_accuracy: 0.8460 - val_loss: 0.3883\n",
      "Epoch 73/600\n",
      "\u001b[1m317/317\u001b[0m \u001b[32m━━━━━━━━━━━━━━━━━━━━\u001b[0m\u001b[37m\u001b[0m \u001b[1m1s\u001b[0m 2ms/step - accuracy: 0.9046 - loss: 0.2782 - val_accuracy: 0.8841 - val_loss: 0.2888\n",
      "Epoch 74/600\n",
      "\u001b[1m317/317\u001b[0m \u001b[32m━━━━━━━━━━━━━━━━━━━━\u001b[0m\u001b[37m\u001b[0m \u001b[1m1s\u001b[0m 2ms/step - accuracy: 0.9083 - loss: 0.2677 - val_accuracy: 0.8304 - val_loss: 0.4008\n"
     ]
    }
   ],
   "source": [
    "\n",
    "\n",
    "history = model.fit(\n",
    "    X_train,\n",
    "    y_train,\n",
    "    epochs=600,  \n",
    "    batch_size=126,\n",
    "    validation_data=(X_val, y_val),\n",
    "    callbacks=[early_stopping] \n",
    ")\n"
   ]
  },
  {
   "cell_type": "code",
   "execution_count": 724,
   "metadata": {},
   "outputs": [],
   "source": [
    "# save the model\n",
    "model.save('classification_ann.keras')"
   ]
  },
  {
   "cell_type": "code",
   "execution_count": 727,
   "metadata": {},
   "outputs": [
    {
     "data": {
      "image/png": "[encoded data removed]",
      "text/plain": [
       "<Figure size 1000x600 with 1 Axes>"
      ]
     },
     "metadata": {},
     "output_type": "display_data"
    }
   ],
   "source": [
    "loss_df = pd.DataFrame(model.history.history)\n",
    "# Create a larger figure\n",
    "plt.figure(figsize=(10, 6))\n",
    "\n",
    "# Plot the loss and validation loss\n",
    "loss_df[['loss', 'val_loss']].plot(ax=plt.gca())\n",
    "\n",
    "plt.title('Model Loss Over Epochs', fontsize=16)\n",
    "plt.xlabel('Epochs', fontsize=14)\n",
    "plt.ylabel('Loss', fontsize=14)\n",
    "y\n",
    "plt.grid(True)\n",
    "\n",
    "plt.show()"
   ]
  },
  {
   "cell_type": "code",
   "execution_count": 728,
   "metadata": {},
   "outputs": [
    {
     "data": {
      "image/png": "[encoded data removed]",
      "text/plain": [
       "<Figure size 1000x600 with 1 Axes>"
      ]
     },
     "metadata": {},
     "output_type": "display_data"
    }
   ],
   "source": [
    "# Create a larger figure\n",
    "plt.figure(figsize=(10, 6))\n",
    "\n",
    "# Plot the accuracy and validation accuracy\n",
    "loss_df[['accuracy', 'val_accuracy']].plot(ax=plt.gca())\n",
    "\n",
    "\n",
    "plt.title('Model Accuracy Over Epochs', fontsize=16)\n",
    "plt.xlabel('Epochs', fontsize=14)\n",
    "plt.ylabel('Accuracy', fontsize=14)\n",
    "\n",
    "plt.grid(True)\n",
    "\n",
    "plt.show()"
   ]
  },
  {
   "cell_type": "code",
   "execution_count": 729,
   "metadata": {},
   "outputs": [
    {
     "name": "stdout",
     "output_type": "stream",
     "text": [
      "Test data evaluation:\n"
     ]
    },
    {
     "ename": "ValueError",
     "evalue": "Arguments `target` and `output` must have the same rank (ndim). Received: target.shape=(None,), output.shape=(None, 3)",
     "output_type": "error",
     "traceback": [
      "\u001b[1;31m---------------------------------------------------------------------------\u001b[0m",
      "\u001b[1;31mValueError\u001b[0m                                Traceback (most recent call last)",
      "Cell \u001b[1;32mIn[729], line 4\u001b[0m\n\u001b[0;32m      1\u001b[0m \u001b[38;5;66;03m# compare the final model loss/accuracy/evaluation values\u001b[39;00m\n\u001b[0;32m      2\u001b[0m \u001b[38;5;66;03m# the values should again match mostly\u001b[39;00m\n\u001b[0;32m      3\u001b[0m \u001b[38;5;28mprint\u001b[39m(\u001b[38;5;124m\"\u001b[39m\u001b[38;5;124mTest data evaluation:\u001b[39m\u001b[38;5;124m\"\u001b[39m)\n\u001b[1;32m----> 4\u001b[0m \u001b[38;5;28mprint\u001b[39m(\u001b[43mmodel\u001b[49m\u001b[38;5;241;43m.\u001b[39;49m\u001b[43mevaluate\u001b[49m\u001b[43m(\u001b[49m\u001b[43mX_test\u001b[49m\u001b[43m,\u001b[49m\u001b[43m \u001b[49m\u001b[43my_test\u001b[49m\u001b[43m,\u001b[49m\u001b[43m \u001b[49m\u001b[43mverbose\u001b[49m\u001b[38;5;241;43m=\u001b[39;49m\u001b[38;5;241;43m0\u001b[39;49m\u001b[43m)\u001b[49m)\n\u001b[0;32m      5\u001b[0m \u001b[38;5;28mprint\u001b[39m(\u001b[38;5;124m\"\u001b[39m\u001b[38;5;130;01m\\n\u001b[39;00m\u001b[38;5;124mTrain data evaluation:\u001b[39m\u001b[38;5;124m\"\u001b[39m)\n\u001b[0;32m      6\u001b[0m \u001b[38;5;28mprint\u001b[39m(model\u001b[38;5;241m.\u001b[39mevaluate(X_train, y_train, verbose\u001b[38;5;241m=\u001b[39m\u001b[38;5;241m0\u001b[39m))\n",
      "File \u001b[1;32md:\\Deep_Learning\\.venv\\lib\\site-packages\\keras\\src\\utils\\traceback_utils.py:122\u001b[0m, in \u001b[0;36mfilter_traceback.<locals>.error_handler\u001b[1;34m(*args, **kwargs)\u001b[0m\n\u001b[0;32m    119\u001b[0m     filtered_tb \u001b[38;5;241m=\u001b[39m _process_traceback_frames(e\u001b[38;5;241m.\u001b[39m__traceback__)\n\u001b[0;32m    120\u001b[0m     \u001b[38;5;66;03m# To get the full stack trace, call:\u001b[39;00m\n\u001b[0;32m    121\u001b[0m     \u001b[38;5;66;03m# `keras.config.disable_traceback_filtering()`\u001b[39;00m\n\u001b[1;32m--> 122\u001b[0m     \u001b[38;5;28;01mraise\u001b[39;00m e\u001b[38;5;241m.\u001b[39mwith_traceback(filtered_tb) \u001b[38;5;28;01mfrom\u001b[39;00m \u001b[38;5;28;01mNone\u001b[39;00m\n\u001b[0;32m    123\u001b[0m \u001b[38;5;28;01mfinally\u001b[39;00m:\n\u001b[0;32m    124\u001b[0m     \u001b[38;5;28;01mdel\u001b[39;00m filtered_tb\n",
      "File \u001b[1;32md:\\Deep_Learning\\.venv\\lib\\site-packages\\keras\\src\\backend\\tensorflow\\nn.py:580\u001b[0m, in \u001b[0;36mcategorical_crossentropy\u001b[1;34m(target, output, from_logits, axis)\u001b[0m\n\u001b[0;32m    574\u001b[0m     \u001b[38;5;28;01mraise\u001b[39;00m \u001b[38;5;167;01mValueError\u001b[39;00m(\n\u001b[0;32m    575\u001b[0m         \u001b[38;5;124m\"\u001b[39m\u001b[38;5;124mArguments `target` and `output` must be at least rank 1. \u001b[39m\u001b[38;5;124m\"\u001b[39m\n\u001b[0;32m    576\u001b[0m         \u001b[38;5;124m\"\u001b[39m\u001b[38;5;124mReceived: \u001b[39m\u001b[38;5;124m\"\u001b[39m\n\u001b[0;32m    577\u001b[0m         \u001b[38;5;124mf\u001b[39m\u001b[38;5;124m\"\u001b[39m\u001b[38;5;124mtarget.shape=\u001b[39m\u001b[38;5;132;01m{\u001b[39;00mtarget\u001b[38;5;241m.\u001b[39mshape\u001b[38;5;132;01m}\u001b[39;00m\u001b[38;5;124m, output.shape=\u001b[39m\u001b[38;5;132;01m{\u001b[39;00moutput\u001b[38;5;241m.\u001b[39mshape\u001b[38;5;132;01m}\u001b[39;00m\u001b[38;5;124m\"\u001b[39m\n\u001b[0;32m    578\u001b[0m     )\n\u001b[0;32m    579\u001b[0m \u001b[38;5;28;01mif\u001b[39;00m \u001b[38;5;28mlen\u001b[39m(target\u001b[38;5;241m.\u001b[39mshape) \u001b[38;5;241m!=\u001b[39m \u001b[38;5;28mlen\u001b[39m(output\u001b[38;5;241m.\u001b[39mshape):\n\u001b[1;32m--> 580\u001b[0m     \u001b[38;5;28;01mraise\u001b[39;00m \u001b[38;5;167;01mValueError\u001b[39;00m(\n\u001b[0;32m    581\u001b[0m         \u001b[38;5;124m\"\u001b[39m\u001b[38;5;124mArguments `target` and `output` must have the same rank \u001b[39m\u001b[38;5;124m\"\u001b[39m\n\u001b[0;32m    582\u001b[0m         \u001b[38;5;124m\"\u001b[39m\u001b[38;5;124m(ndim). Received: \u001b[39m\u001b[38;5;124m\"\u001b[39m\n\u001b[0;32m    583\u001b[0m         \u001b[38;5;124mf\u001b[39m\u001b[38;5;124m\"\u001b[39m\u001b[38;5;124mtarget.shape=\u001b[39m\u001b[38;5;132;01m{\u001b[39;00mtarget\u001b[38;5;241m.\u001b[39mshape\u001b[38;5;132;01m}\u001b[39;00m\u001b[38;5;124m, output.shape=\u001b[39m\u001b[38;5;132;01m{\u001b[39;00moutput\u001b[38;5;241m.\u001b[39mshape\u001b[38;5;132;01m}\u001b[39;00m\u001b[38;5;124m\"\u001b[39m\n\u001b[0;32m    584\u001b[0m     )\n\u001b[0;32m    585\u001b[0m \u001b[38;5;28;01mfor\u001b[39;00m e1, e2 \u001b[38;5;129;01min\u001b[39;00m \u001b[38;5;28mzip\u001b[39m(target\u001b[38;5;241m.\u001b[39mshape, output\u001b[38;5;241m.\u001b[39mshape):\n\u001b[0;32m    586\u001b[0m     \u001b[38;5;28;01mif\u001b[39;00m e1 \u001b[38;5;129;01mis\u001b[39;00m \u001b[38;5;129;01mnot\u001b[39;00m \u001b[38;5;28;01mNone\u001b[39;00m \u001b[38;5;129;01mand\u001b[39;00m e2 \u001b[38;5;129;01mis\u001b[39;00m \u001b[38;5;129;01mnot\u001b[39;00m \u001b[38;5;28;01mNone\u001b[39;00m \u001b[38;5;129;01mand\u001b[39;00m e1 \u001b[38;5;241m!=\u001b[39m e2:\n",
      "\u001b[1;31mValueError\u001b[0m: Arguments `target` and `output` must have the same rank (ndim). Received: target.shape=(None,), output.shape=(None, 3)"
     ]
    }
   ],
   "source": [
    "# compare the final model loss/accuracy/evaluation values\n",
    "# the values should again match mostly\n",
    "print(\"Test data evaluation:\")\n",
    "print(model.evaluate(X_test, y_test, verbose=0))\n",
    "print(\"\\nTrain data evaluation:\")\n",
    "print(model.evaluate(X_train, y_train, verbose=0))"
   ]
  },
  {
   "cell_type": "code",
   "execution_count": 710,
   "metadata": {},
   "outputs": [
    {
     "name": "stdout",
     "output_type": "stream",
     "text": [
      "\u001b[1m267/267\u001b[0m \u001b[32m━━━━━━━━━━━━━━━━━━━━\u001b[0m\u001b[37m\u001b[0m \u001b[1m1s\u001b[0m 2ms/step\n"
     ]
    }
   ],
   "source": [
    "test_predictions = model.predict(X_test)\n",
    "test_predictions = np.argmax(test_predictions, axis=1)\n",
    "\n",
    "# convert also y-test -values with argmax\n",
    "y_test = np.argmax(y_test, axis=1)"
   ]
  },
  {
   "cell_type": "code",
   "execution_count": 711,
   "metadata": {},
   "outputs": [
    {
     "name": "stdout",
     "output_type": "stream",
     "text": [
      "<class 'numpy.ndarray'>\n",
      "<class 'numpy.ndarray'>\n",
      "(8533,)\n",
      "(8533,)\n"
     ]
    }
   ],
   "source": [
    "print(type(y_test))\n",
    "print(type(test_predictions))\n",
    "print(y_test.shape)\n",
    "print(test_predictions.shape)\n"
   ]
  },
  {
   "cell_type": "code",
   "execution_count": 712,
   "metadata": {},
   "outputs": [
    {
     "data": {
      "text/plain": [
       "<Axes: >"
      ]
     },
     "execution_count": 712,
     "metadata": {},
     "output_type": "execute_result"
    },
    {
     "data": {
      "image/png": "[encoded data removed]",
      "text/plain": [
       "<Figure size 640x480 with 2 Axes>"
      ]
     },
     "metadata": {},
     "output_type": "display_data"
    }
   ],
   "source": [
    "# confusion matrix\n",
    "sns.heatmap(confusion_matrix(y_test, test_predictions), xticklabels=categories, yticklabels=categories, annot=True, fmt='g')"
   ]
  },
  {
   "cell_type": "code",
   "execution_count": 715,
   "metadata": {},
   "outputs": [
    {
     "data": {
      "text/plain": [
       "['0', '1', '2']"
      ]
     },
     "execution_count": 715,
     "metadata": {},
     "output_type": "execute_result"
    }
   ],
   "source": [
    "categories"
   ]
  },
  {
   "cell_type": "code",
   "execution_count": 713,
   "metadata": {},
   "outputs": [
    {
     "name": "stdout",
     "output_type": "stream",
     "text": [
      "              precision    recall  f1-score   support\n",
      "\n",
      "           0       0.92      0.94      0.93      2813\n",
      "           1       0.97      0.93      0.95      2940\n",
      "           2       0.96      0.99      0.98      2780\n",
      "\n",
      "    accuracy                           0.95      8533\n",
      "   macro avg       0.95      0.95      0.95      8533\n",
      "weighted avg       0.95      0.95      0.95      8533\n",
      "\n",
      "\n",
      "Model overall accuracy: 95.17%\n"
     ]
    }
   ],
   "source": [
    "# Convert categories to strings if they are integers\n",
    "categories = [str(cat) for cat in categories]\n",
    "# print the classification report based on true values and predictions\n",
    "print(classification_report(y_test, test_predictions, target_names=categories))\n",
    "\n",
    "# get overall accuracy of the model and print it\n",
    "acc = accuracy_score(y_test, test_predictions)\n",
    "print(\"\\nModel overall accuracy: {:.2f}%\".format(acc * 100))\n"
   ]
  },
  {
   "cell_type": "code",
   "execution_count": 714,
   "metadata": {},
   "outputs": [
    {
     "name": "stdout",
     "output_type": "stream",
     "text": [
      "\u001b[1m1778/1778\u001b[0m \u001b[32m━━━━━━━━━━━━━━━━━━━━\u001b[0m\u001b[37m\u001b[0m \u001b[1m3s\u001b[0m 2ms/step\n"
     ]
    },
    {
     "data": {
      "text/plain": [
       "0.9898392967466524"
      ]
     },
     "execution_count": 714,
     "metadata": {},
     "output_type": "execute_result"
    }
   ],
   "source": [
    "# get ROC-AUC -score\n",
    "roc_auc_score(y, model.predict(X), multi_class=\"ovr\")"
   ]
  }
 ],
 "metadata": {
  "kernelspec": {
   "display_name": ".venv",
   "language": "python",
   "name": "python3"
  },
  "language_info": {
   "codemirror_mode": {
    "name": "ipython",
    "version": 3
   },
   "file_extension": ".py",
   "mimetype": "text/x-python",
   "name": "python",
   "nbconvert_exporter": "python",
   "pygments_lexer": "ipython3",
   "version": "3.10.11"
  }
 },
 "nbformat": 4,
 "nbformat_minor": 2
}

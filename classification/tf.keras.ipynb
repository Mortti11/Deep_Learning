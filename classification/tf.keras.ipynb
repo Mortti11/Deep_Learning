{
 "cells": [
  {
   "cell_type": "code",
   "execution_count": 2,
   "id": "52ea11d2",
   "metadata": {},
   "outputs": [],
   "source": [
    "import pandas as pd\n",
    "import numpy as np\n",
    "import matplotlib.pyplot as plt\n",
    "import seaborn as sns\n",
    "\n",
    "from sklearn.model_selection import train_test_split\n",
    "from sklearn.preprocessing import StandardScaler, RobustScaler\n",
    "from sklearn.utils.class_weight import compute_class_weight\n",
    "from sklearn.metrics import classification_report, confusion_matrix\n",
    "from sklearn.manifold import TSNE\n",
    "from imblearn.under_sampling import NearMiss, TomekLinks, ClusterCentroids\n",
    "from collections import Counter\n",
    "\n",
    "import tensorflow as tf\n",
    "from tensorflow import keras\n",
    "\n",
    "from tensorflow.keras.models import Sequential\n",
    "from tensorflow.keras.layers import Dense, Dropout, BatchNormalization, Input, LeakyReLU\n",
    "from tensorflow.keras.utils import to_categorical\n",
    "from tensorflow.keras.callbacks import EarlyStopping, ReduceLROnPlateau, ModelCheckpoint\n",
    "from tensorflow.keras import regularizers, metrics\n",
    "\n",
    "\n",
    "import pickle, os\n"
   ]
  },
  {
   "cell_type": "markdown",
   "id": "d0459f4a",
   "metadata": {},
   "source": [
    "<h1><center>Preparing for training</center><h1>"
   ]
  },
  {
   "cell_type": "code",
   "execution_count": 3,
   "id": "e76c0788",
   "metadata": {},
   "outputs": [],
   "source": [
    "# Loading the DS and class names\n",
    "df = pd.read_csv('classification_cleaned.csv')\n",
    "df.head()\n",
    "\n",
    "with open('class_names.pkl', 'rb') as f:\n",
    "    class_names = pickle.load(f)"
   ]
  },
  {
   "cell_type": "code",
   "execution_count": 4,
   "id": "e087a733",
   "metadata": {},
   "outputs": [
    {
     "data": {
      "application/vnd.microsoft.datawrangler.viewer.v0+json": {
       "columns": [
        {
         "name": "index",
         "rawType": "object",
         "type": "string"
        },
        {
         "name": "alpha",
         "rawType": "float64",
         "type": "float"
        },
        {
         "name": "delta",
         "rawType": "float64",
         "type": "float"
        },
        {
         "name": "class",
         "rawType": "float64",
         "type": "float"
        },
        {
         "name": "redshift",
         "rawType": "float64",
         "type": "float"
        },
        {
         "name": "photometric_filters",
         "rawType": "float64",
         "type": "float"
        }
       ],
       "ref": "2723f008-be95-4edb-8a69-b0aa6d4247da",
       "rows": [
        [
         "count",
         "90000.0",
         "90000.0",
         "90000.0",
         "90000.0",
         "90000.0"
        ],
        [
         "mean",
         "178.48430244444444",
         "24.833369444444443",
         "0.5497111111111112",
         "0.49798600000000004",
         "19.875031888888884"
        ],
        [
         "std",
         "91.07603855752174",
         "19.0019399379927",
         "0.8015556747862849",
         "0.5437957526721123",
         "1.6381131629720742"
        ],
        [
         "min",
         "0.01",
         "-17.64",
         "0.0",
         "-0.01",
         "13.6"
        ],
        [
         "25%",
         "130.59",
         "6.98",
         "0.0",
         "0.07",
         "18.5775"
        ],
        [
         "50%",
         "181.64",
         "24.95",
         "0.0",
         "0.42",
         "20.34"
        ],
        [
         "75%",
         "231.38",
         "40.19",
         "1.0",
         "0.66",
         "21.13"
        ],
        [
         "max",
         "360.0",
         "70.17",
         "2.0",
         "3.25",
         "24.76"
        ]
       ],
       "shape": {
        "columns": 5,
        "rows": 8
       }
      },
      "text/html": [
       "<div>\n",
       "<style scoped>\n",
       "    .dataframe tbody tr th:only-of-type {\n",
       "        vertical-align: middle;\n",
       "    }\n",
       "\n",
       "    .dataframe tbody tr th {\n",
       "        vertical-align: top;\n",
       "    }\n",
       "\n",
       "    .dataframe thead th {\n",
       "        text-align: right;\n",
       "    }\n",
       "</style>\n",
       "<table border=\"1\" class=\"dataframe\">\n",
       "  <thead>\n",
       "    <tr style=\"text-align: right;\">\n",
       "      <th></th>\n",
       "      <th>alpha</th>\n",
       "      <th>delta</th>\n",
       "      <th>class</th>\n",
       "      <th>redshift</th>\n",
       "      <th>photometric_filters</th>\n",
       "    </tr>\n",
       "  </thead>\n",
       "  <tbody>\n",
       "    <tr>\n",
       "      <th>count</th>\n",
       "      <td>90000.000000</td>\n",
       "      <td>90000.000000</td>\n",
       "      <td>90000.000000</td>\n",
       "      <td>90000.000000</td>\n",
       "      <td>90000.000000</td>\n",
       "    </tr>\n",
       "    <tr>\n",
       "      <th>mean</th>\n",
       "      <td>178.484302</td>\n",
       "      <td>24.833369</td>\n",
       "      <td>0.549711</td>\n",
       "      <td>0.497986</td>\n",
       "      <td>19.875032</td>\n",
       "    </tr>\n",
       "    <tr>\n",
       "      <th>std</th>\n",
       "      <td>91.076039</td>\n",
       "      <td>19.001940</td>\n",
       "      <td>0.801556</td>\n",
       "      <td>0.543796</td>\n",
       "      <td>1.638113</td>\n",
       "    </tr>\n",
       "    <tr>\n",
       "      <th>min</th>\n",
       "      <td>0.010000</td>\n",
       "      <td>-17.640000</td>\n",
       "      <td>0.000000</td>\n",
       "      <td>-0.010000</td>\n",
       "      <td>13.600000</td>\n",
       "    </tr>\n",
       "    <tr>\n",
       "      <th>25%</th>\n",
       "      <td>130.590000</td>\n",
       "      <td>6.980000</td>\n",
       "      <td>0.000000</td>\n",
       "      <td>0.070000</td>\n",
       "      <td>18.577500</td>\n",
       "    </tr>\n",
       "    <tr>\n",
       "      <th>50%</th>\n",
       "      <td>181.640000</td>\n",
       "      <td>24.950000</td>\n",
       "      <td>0.000000</td>\n",
       "      <td>0.420000</td>\n",
       "      <td>20.340000</td>\n",
       "    </tr>\n",
       "    <tr>\n",
       "      <th>75%</th>\n",
       "      <td>231.380000</td>\n",
       "      <td>40.190000</td>\n",
       "      <td>1.000000</td>\n",
       "      <td>0.660000</td>\n",
       "      <td>21.130000</td>\n",
       "    </tr>\n",
       "    <tr>\n",
       "      <th>max</th>\n",
       "      <td>360.000000</td>\n",
       "      <td>70.170000</td>\n",
       "      <td>2.000000</td>\n",
       "      <td>3.250000</td>\n",
       "      <td>24.760000</td>\n",
       "    </tr>\n",
       "  </tbody>\n",
       "</table>\n",
       "</div>"
      ],
      "text/plain": [
       "              alpha         delta         class      redshift  \\\n",
       "count  90000.000000  90000.000000  90000.000000  90000.000000   \n",
       "mean     178.484302     24.833369      0.549711      0.497986   \n",
       "std       91.076039     19.001940      0.801556      0.543796   \n",
       "min        0.010000    -17.640000      0.000000     -0.010000   \n",
       "25%      130.590000      6.980000      0.000000      0.070000   \n",
       "50%      181.640000     24.950000      0.000000      0.420000   \n",
       "75%      231.380000     40.190000      1.000000      0.660000   \n",
       "max      360.000000     70.170000      2.000000      3.250000   \n",
       "\n",
       "       photometric_filters  \n",
       "count         90000.000000  \n",
       "mean             19.875032  \n",
       "std               1.638113  \n",
       "min              13.600000  \n",
       "25%              18.577500  \n",
       "50%              20.340000  \n",
       "75%              21.130000  \n",
       "max              24.760000  "
      ]
     },
     "execution_count": 4,
     "metadata": {},
     "output_type": "execute_result"
    }
   ],
   "source": [
    "df.describe()"
   ]
  },
  {
   "cell_type": "code",
   "execution_count": 5,
   "id": "33fd7cf8",
   "metadata": {},
   "outputs": [
    {
     "data": {
      "application/vnd.microsoft.datawrangler.viewer.v0+json": {
       "columns": [
        {
         "name": "class",
         "rawType": "int64",
         "type": "integer"
        },
        {
         "name": "count",
         "rawType": "int64",
         "type": "integer"
        }
       ],
       "ref": "74dd7f70-4768-4523-8018-afa13e93632c",
       "rows": [
        [
         "0",
         "58299"
        ],
        [
         "2",
         "17773"
        ],
        [
         "1",
         "13928"
        ]
       ],
       "shape": {
        "columns": 1,
        "rows": 3
       }
      },
      "text/plain": [
       "class\n",
       "0    58299\n",
       "2    17773\n",
       "1    13928\n",
       "Name: count, dtype: int64"
      ]
     },
     "execution_count": 5,
     "metadata": {},
     "output_type": "execute_result"
    }
   ],
   "source": [
    "df['class'].value_counts()"
   ]
  },
  {
   "cell_type": "code",
   "execution_count": 6,
   "id": "7e80e632",
   "metadata": {},
   "outputs": [
    {
     "data": {
      "text/plain": [
       "['GALAXY', 'QSO', 'STAR']"
      ]
     },
     "execution_count": 6,
     "metadata": {},
     "output_type": "execute_result"
    }
   ],
   "source": [
    "# Print clas name \n",
    "class_names"
   ]
  },
  {
   "cell_type": "code",
   "execution_count": 7,
   "id": "bf3f9816",
   "metadata": {},
   "outputs": [],
   "source": [
    "# I am going to separate features and target columns \n",
    "X = df.drop('class', axis=1).values\n",
    "y = df['class'].values"
   ]
  },
  {
   "cell_type": "code",
   "execution_count": 8,
   "id": "99a8b687",
   "metadata": {},
   "outputs": [
    {
     "name": "stdout",
     "output_type": "stream",
     "text": [
      "Resampled class distribution: Counter({0: 13928, 1: 13928, 2: 13928})\n"
     ]
    }
   ],
   "source": [
    "# Balacing the ds using NearMiss\n",
    "nm = NearMiss(version=2)\n",
    "X, y = nm.fit_resample(X, y)\n",
    "print(\"Resampled class distribution:\", Counter(y))"
   ]
  },
  {
   "cell_type": "code",
   "execution_count": 9,
   "id": "a2015843",
   "metadata": {},
   "outputs": [
    {
     "name": "stdout",
     "output_type": "stream",
     "text": [
      "Training set: (29248, 4)\n",
      "Validation set: (6268, 4)\n",
      "Test set: (6268, 4)\n",
      "One hot encoded: [1. 0. 0.]\n"
     ]
    }
   ],
   "source": [
    "# I am going to split the X and y before scaling\n",
    "X_train, X_temp, y_train, y_temp = train_test_split(X, y, test_size=0.3, random_state=42)\n",
    "X_val, X_test, y_val, y_test = train_test_split(X_temp, y_temp, test_size=0.5, random_state=42)\n",
    "# Feature Scaling:\n",
    "scaler = RobustScaler()\n",
    "X_train = scaler.fit_transform(X_train)\n",
    "X_val = scaler.transform(X_val)\n",
    "X_test = scaler.transform(X_test)\n",
    "\n",
    "# I used stratify=y to maintain class balance in splitting\n",
    "# Also, I fit the scaler only for training data, then transform validation and test to avoid data leakage\n",
    "# Scale only learns mean and std from training data\n",
    "print(f\"Training set: {X_train.shape}\")\n",
    "print(f\"Validation set: {X_val.shape}\")\n",
    "print(f\"Test set: {X_test.shape}\")\n",
    "\n",
    "# Labeling for the model because softmax  gives probabilities for each class\n",
    "#  One hot encoding let me to  compare these probabilities with true labels using categorical crossentropy\n",
    "y_train = to_categorical(y_train, num_classes=3)\n",
    "y_val = to_categorical(y_val, num_classes=3)\n",
    "y_test = to_categorical(y_test, num_classes=3)\n",
    "print(\"One hot encoded:\", y_train[70])"
   ]
  },
  {
   "cell_type": "markdown",
   "id": "0cd69da4",
   "metadata": {},
   "source": [
    "<h1><center>Building the Neural Network Architecture</center><h1>"
   ]
  },
  {
   "cell_type": "code",
   "execution_count": 10,
   "id": "35ad83b8",
   "metadata": {},
   "outputs": [
    {
     "data": {
      "text/html": [
       "<pre style=\"white-space:pre;overflow-x:auto;line-height:normal;font-family:Menlo,'DejaVu Sans Mono',consolas,'Courier New',monospace\"><span style=\"font-weight: bold\">Model: \"sequential\"</span>\n",
       "</pre>\n"
      ],
      "text/plain": [
       "\u001b[1mModel: \"sequential\"\u001b[0m\n"
      ]
     },
     "metadata": {},
     "output_type": "display_data"
    },
    {
     "data": {
      "text/html": [
       "<pre style=\"white-space:pre;overflow-x:auto;line-height:normal;font-family:Menlo,'DejaVu Sans Mono',consolas,'Courier New',monospace\">┏━━━━━━━━━━━━━━━━━━━━━━━━━━━━━━━━━┳━━━━━━━━━━━━━━━━━━━━━━━━┳━━━━━━━━━━━━━━━┓\n",
       "┃<span style=\"font-weight: bold\"> Layer (type)                    </span>┃<span style=\"font-weight: bold\"> Output Shape           </span>┃<span style=\"font-weight: bold\">       Param # </span>┃\n",
       "┡━━━━━━━━━━━━━━━━━━━━━━━━━━━━━━━━━╇━━━━━━━━━━━━━━━━━━━━━━━━╇━━━━━━━━━━━━━━━┩\n",
       "│ dense (<span style=\"color: #0087ff; text-decoration-color: #0087ff\">Dense</span>)                   │ (<span style=\"color: #00d7ff; text-decoration-color: #00d7ff\">None</span>, <span style=\"color: #00af00; text-decoration-color: #00af00\">128</span>)            │           <span style=\"color: #00af00; text-decoration-color: #00af00\">640</span> │\n",
       "├─────────────────────────────────┼────────────────────────┼───────────────┤\n",
       "│ dropout (<span style=\"color: #0087ff; text-decoration-color: #0087ff\">Dropout</span>)               │ (<span style=\"color: #00d7ff; text-decoration-color: #00d7ff\">None</span>, <span style=\"color: #00af00; text-decoration-color: #00af00\">128</span>)            │             <span style=\"color: #00af00; text-decoration-color: #00af00\">0</span> │\n",
       "├─────────────────────────────────┼────────────────────────┼───────────────┤\n",
       "│ dense_1 (<span style=\"color: #0087ff; text-decoration-color: #0087ff\">Dense</span>)                 │ (<span style=\"color: #00d7ff; text-decoration-color: #00d7ff\">None</span>, <span style=\"color: #00af00; text-decoration-color: #00af00\">64</span>)             │         <span style=\"color: #00af00; text-decoration-color: #00af00\">8,256</span> │\n",
       "├─────────────────────────────────┼────────────────────────┼───────────────┤\n",
       "│ dropout_1 (<span style=\"color: #0087ff; text-decoration-color: #0087ff\">Dropout</span>)             │ (<span style=\"color: #00d7ff; text-decoration-color: #00d7ff\">None</span>, <span style=\"color: #00af00; text-decoration-color: #00af00\">64</span>)             │             <span style=\"color: #00af00; text-decoration-color: #00af00\">0</span> │\n",
       "├─────────────────────────────────┼────────────────────────┼───────────────┤\n",
       "│ dense_2 (<span style=\"color: #0087ff; text-decoration-color: #0087ff\">Dense</span>)                 │ (<span style=\"color: #00d7ff; text-decoration-color: #00d7ff\">None</span>, <span style=\"color: #00af00; text-decoration-color: #00af00\">32</span>)             │         <span style=\"color: #00af00; text-decoration-color: #00af00\">2,080</span> │\n",
       "├─────────────────────────────────┼────────────────────────┼───────────────┤\n",
       "│ dense_3 (<span style=\"color: #0087ff; text-decoration-color: #0087ff\">Dense</span>)                 │ (<span style=\"color: #00d7ff; text-decoration-color: #00d7ff\">None</span>, <span style=\"color: #00af00; text-decoration-color: #00af00\">16</span>)             │           <span style=\"color: #00af00; text-decoration-color: #00af00\">528</span> │\n",
       "├─────────────────────────────────┼────────────────────────┼───────────────┤\n",
       "│ dense_4 (<span style=\"color: #0087ff; text-decoration-color: #0087ff\">Dense</span>)                 │ (<span style=\"color: #00d7ff; text-decoration-color: #00d7ff\">None</span>, <span style=\"color: #00af00; text-decoration-color: #00af00\">3</span>)              │            <span style=\"color: #00af00; text-decoration-color: #00af00\">51</span> │\n",
       "└─────────────────────────────────┴────────────────────────┴───────────────┘\n",
       "</pre>\n"
      ],
      "text/plain": [
       "┏━━━━━━━━━━━━━━━━━━━━━━━━━━━━━━━━━┳━━━━━━━━━━━━━━━━━━━━━━━━┳━━━━━━━━━━━━━━━┓\n",
       "┃\u001b[1m \u001b[0m\u001b[1mLayer (type)                   \u001b[0m\u001b[1m \u001b[0m┃\u001b[1m \u001b[0m\u001b[1mOutput Shape          \u001b[0m\u001b[1m \u001b[0m┃\u001b[1m \u001b[0m\u001b[1m      Param #\u001b[0m\u001b[1m \u001b[0m┃\n",
       "┡━━━━━━━━━━━━━━━━━━━━━━━━━━━━━━━━━╇━━━━━━━━━━━━━━━━━━━━━━━━╇━━━━━━━━━━━━━━━┩\n",
       "│ dense (\u001b[38;5;33mDense\u001b[0m)                   │ (\u001b[38;5;45mNone\u001b[0m, \u001b[38;5;34m128\u001b[0m)            │           \u001b[38;5;34m640\u001b[0m │\n",
       "├─────────────────────────────────┼────────────────────────┼───────────────┤\n",
       "│ dropout (\u001b[38;5;33mDropout\u001b[0m)               │ (\u001b[38;5;45mNone\u001b[0m, \u001b[38;5;34m128\u001b[0m)            │             \u001b[38;5;34m0\u001b[0m │\n",
       "├─────────────────────────────────┼────────────────────────┼───────────────┤\n",
       "│ dense_1 (\u001b[38;5;33mDense\u001b[0m)                 │ (\u001b[38;5;45mNone\u001b[0m, \u001b[38;5;34m64\u001b[0m)             │         \u001b[38;5;34m8,256\u001b[0m │\n",
       "├─────────────────────────────────┼────────────────────────┼───────────────┤\n",
       "│ dropout_1 (\u001b[38;5;33mDropout\u001b[0m)             │ (\u001b[38;5;45mNone\u001b[0m, \u001b[38;5;34m64\u001b[0m)             │             \u001b[38;5;34m0\u001b[0m │\n",
       "├─────────────────────────────────┼────────────────────────┼───────────────┤\n",
       "│ dense_2 (\u001b[38;5;33mDense\u001b[0m)                 │ (\u001b[38;5;45mNone\u001b[0m, \u001b[38;5;34m32\u001b[0m)             │         \u001b[38;5;34m2,080\u001b[0m │\n",
       "├─────────────────────────────────┼────────────────────────┼───────────────┤\n",
       "│ dense_3 (\u001b[38;5;33mDense\u001b[0m)                 │ (\u001b[38;5;45mNone\u001b[0m, \u001b[38;5;34m16\u001b[0m)             │           \u001b[38;5;34m528\u001b[0m │\n",
       "├─────────────────────────────────┼────────────────────────┼───────────────┤\n",
       "│ dense_4 (\u001b[38;5;33mDense\u001b[0m)                 │ (\u001b[38;5;45mNone\u001b[0m, \u001b[38;5;34m3\u001b[0m)              │            \u001b[38;5;34m51\u001b[0m │\n",
       "└─────────────────────────────────┴────────────────────────┴───────────────┘\n"
      ]
     },
     "metadata": {},
     "output_type": "display_data"
    },
    {
     "data": {
      "text/html": [
       "<pre style=\"white-space:pre;overflow-x:auto;line-height:normal;font-family:Menlo,'DejaVu Sans Mono',consolas,'Courier New',monospace\"><span style=\"font-weight: bold\"> Total params: </span><span style=\"color: #00af00; text-decoration-color: #00af00\">11,555</span> (45.14 KB)\n",
       "</pre>\n"
      ],
      "text/plain": [
       "\u001b[1m Total params: \u001b[0m\u001b[38;5;34m11,555\u001b[0m (45.14 KB)\n"
      ]
     },
     "metadata": {},
     "output_type": "display_data"
    },
    {
     "data": {
      "text/html": [
       "<pre style=\"white-space:pre;overflow-x:auto;line-height:normal;font-family:Menlo,'DejaVu Sans Mono',consolas,'Courier New',monospace\"><span style=\"font-weight: bold\"> Trainable params: </span><span style=\"color: #00af00; text-decoration-color: #00af00\">11,555</span> (45.14 KB)\n",
       "</pre>\n"
      ],
      "text/plain": [
       "\u001b[1m Trainable params: \u001b[0m\u001b[38;5;34m11,555\u001b[0m (45.14 KB)\n"
      ]
     },
     "metadata": {},
     "output_type": "display_data"
    },
    {
     "data": {
      "text/html": [
       "<pre style=\"white-space:pre;overflow-x:auto;line-height:normal;font-family:Menlo,'DejaVu Sans Mono',consolas,'Courier New',monospace\"><span style=\"font-weight: bold\"> Non-trainable params: </span><span style=\"color: #00af00; text-decoration-color: #00af00\">0</span> (0.00 B)\n",
       "</pre>\n"
      ],
      "text/plain": [
       "\u001b[1m Non-trainable params: \u001b[0m\u001b[38;5;34m0\u001b[0m (0.00 B)\n"
      ]
     },
     "metadata": {},
     "output_type": "display_data"
    }
   ],
   "source": [
    "# I am going to build the model now, I will use Sequential model \n",
    "model = Sequential()\n",
    "model.add(Input(shape=(4,))) \n",
    "model.add(Dense(128, activation='relu', kernel_regularizer=tf.keras.regularizers.l2(0.00001)))\n",
    "model.add(Dropout(0.15))\n",
    "model.add(Dense(64, activation='relu'))\n",
    "model.add(Dropout(0.1))\n",
    "model.add(Dense(32, activation='relu'))\n",
    "model.add(Dense(16, activation='relu'))\n",
    "model.add(Dense(3, activation='softmax'))\n",
    "model.summary()"
   ]
  },
  {
   "cell_type": "code",
   "execution_count": 11,
   "id": "21499142",
   "metadata": {},
   "outputs": [],
   "source": [
    "# Compiling the model:\n",
    "# I am going to use catergorical crossentropy because it is used for multi class \n",
    "model.compile(optimizer='adam', loss='categorical_crossentropy', metrics=['accuracy', tf.keras.metrics.Precision(), tf.keras.metrics.Recall()])\n",
    "# Early stopping \n",
    "early_stop = EarlyStopping(monitor='val_loss', patience=20, restore_best_weights=True, verbose=1)\n",
    "# Reducing learning rate when stuck\n",
    "reduce_lr = ReduceLROnPlateau(monitor='val_loss',factor=0.5, patience=5, verbose=1)\n"
   ]
  },
  {
   "cell_type": "code",
   "execution_count": 12,
   "id": "065da4ad",
   "metadata": {},
   "outputs": [
    {
     "name": "stdout",
     "output_type": "stream",
     "text": [
      "Epoch 1/300\n",
      "\u001b[1m229/229\u001b[0m \u001b[32m━━━━━━━━━━━━━━━━━━━━\u001b[0m\u001b[37m\u001b[0m \u001b[1m2s\u001b[0m 3ms/step - accuracy: 0.8763 - loss: 0.3427 - precision: 0.9299 - recall: 0.7938 - val_accuracy: 0.9556 - val_loss: 0.1437 - val_precision: 0.9565 - val_recall: 0.9550 - learning_rate: 0.0010\n",
      "Epoch 2/300\n",
      "\u001b[1m229/229\u001b[0m \u001b[32m━━━━━━━━━━━━━━━━━━━━\u001b[0m\u001b[37m\u001b[0m \u001b[1m0s\u001b[0m 1ms/step - accuracy: 0.9534 - loss: 0.1432 - precision: 0.9539 - recall: 0.9526 - val_accuracy: 0.9603 - val_loss: 0.1204 - val_precision: 0.9606 - val_recall: 0.9601 - learning_rate: 0.0010\n",
      "Epoch 3/300\n",
      "\u001b[1m229/229\u001b[0m \u001b[32m━━━━━━━━━━━━━━━━━━━━\u001b[0m\u001b[37m\u001b[0m \u001b[1m0s\u001b[0m 1ms/step - accuracy: 0.9595 - loss: 0.1259 - precision: 0.9598 - recall: 0.9590 - val_accuracy: 0.9638 - val_loss: 0.1141 - val_precision: 0.9639 - val_recall: 0.9638 - learning_rate: 0.0010\n",
      "Epoch 4/300\n",
      "\u001b[1m229/229\u001b[0m \u001b[32m━━━━━━━━━━━━━━━━━━━━\u001b[0m\u001b[37m\u001b[0m \u001b[1m0s\u001b[0m 1ms/step - accuracy: 0.9643 - loss: 0.1132 - precision: 0.9645 - recall: 0.9640 - val_accuracy: 0.9673 - val_loss: 0.1051 - val_precision: 0.9673 - val_recall: 0.9673 - learning_rate: 0.0010\n",
      "Epoch 5/300\n",
      "\u001b[1m229/229\u001b[0m \u001b[32m━━━━━━━━━━━━━━━━━━━━\u001b[0m\u001b[37m\u001b[0m \u001b[1m0s\u001b[0m 1ms/step - accuracy: 0.9669 - loss: 0.1050 - precision: 0.9670 - recall: 0.9667 - val_accuracy: 0.9698 - val_loss: 0.1020 - val_precision: 0.9698 - val_recall: 0.9698 - learning_rate: 0.0010\n",
      "Epoch 6/300\n",
      "\u001b[1m229/229\u001b[0m \u001b[32m━━━━━━━━━━━━━━━━━━━━\u001b[0m\u001b[37m\u001b[0m \u001b[1m0s\u001b[0m 1ms/step - accuracy: 0.9691 - loss: 0.1018 - precision: 0.9692 - recall: 0.9691 - val_accuracy: 0.9724 - val_loss: 0.0957 - val_precision: 0.9724 - val_recall: 0.9724 - learning_rate: 0.0010\n",
      "Epoch 7/300\n",
      "\u001b[1m229/229\u001b[0m \u001b[32m━━━━━━━━━━━━━━━━━━━━\u001b[0m\u001b[37m\u001b[0m \u001b[1m0s\u001b[0m 1ms/step - accuracy: 0.9704 - loss: 0.0966 - precision: 0.9704 - recall: 0.9703 - val_accuracy: 0.9740 - val_loss: 0.0949 - val_precision: 0.9740 - val_recall: 0.9740 - learning_rate: 0.0010\n",
      "Epoch 8/300\n",
      "\u001b[1m229/229\u001b[0m \u001b[32m━━━━━━━━━━━━━━━━━━━━\u001b[0m\u001b[37m\u001b[0m \u001b[1m0s\u001b[0m 1ms/step - accuracy: 0.9718 - loss: 0.0927 - precision: 0.9719 - recall: 0.9718 - val_accuracy: 0.9740 - val_loss: 0.0926 - val_precision: 0.9740 - val_recall: 0.9740 - learning_rate: 0.0010\n",
      "Epoch 9/300\n",
      "\u001b[1m229/229\u001b[0m \u001b[32m━━━━━━━━━━━━━━━━━━━━\u001b[0m\u001b[37m\u001b[0m \u001b[1m0s\u001b[0m 2ms/step - accuracy: 0.9717 - loss: 0.0926 - precision: 0.9717 - recall: 0.9717 - val_accuracy: 0.9719 - val_loss: 0.0951 - val_precision: 0.9719 - val_recall: 0.9719 - learning_rate: 0.0010\n",
      "Epoch 10/300\n",
      "\u001b[1m229/229\u001b[0m \u001b[32m━━━━━━━━━━━━━━━━━━━━\u001b[0m\u001b[37m\u001b[0m \u001b[1m0s\u001b[0m 2ms/step - accuracy: 0.9724 - loss: 0.0898 - precision: 0.9724 - recall: 0.9724 - val_accuracy: 0.9702 - val_loss: 0.1021 - val_precision: 0.9702 - val_recall: 0.9702 - learning_rate: 0.0010\n",
      "Epoch 11/300\n",
      "\u001b[1m229/229\u001b[0m \u001b[32m━━━━━━━━━━━━━━━━━━━━\u001b[0m\u001b[37m\u001b[0m \u001b[1m0s\u001b[0m 2ms/step - accuracy: 0.9740 - loss: 0.0876 - precision: 0.9740 - recall: 0.9740 - val_accuracy: 0.9719 - val_loss: 0.0941 - val_precision: 0.9719 - val_recall: 0.9719 - learning_rate: 0.0010\n",
      "Epoch 12/300\n",
      "\u001b[1m229/229\u001b[0m \u001b[32m━━━━━━━━━━━━━━━━━━━━\u001b[0m\u001b[37m\u001b[0m \u001b[1m0s\u001b[0m 2ms/step - accuracy: 0.9742 - loss: 0.0861 - precision: 0.9743 - recall: 0.9742 - val_accuracy: 0.9713 - val_loss: 0.0978 - val_precision: 0.9713 - val_recall: 0.9713 - learning_rate: 0.0010\n",
      "Epoch 13/300\n",
      "\u001b[1m229/229\u001b[0m \u001b[32m━━━━━━━━━━━━━━━━━━━━\u001b[0m\u001b[37m\u001b[0m \u001b[1m0s\u001b[0m 1ms/step - accuracy: 0.9746 - loss: 0.0854 - precision: 0.9746 - recall: 0.9745 - val_accuracy: 0.9740 - val_loss: 0.0880 - val_precision: 0.9740 - val_recall: 0.9740 - learning_rate: 0.0010\n",
      "Epoch 14/300\n",
      "\u001b[1m229/229\u001b[0m \u001b[32m━━━━━━━━━━━━━━━━━━━━\u001b[0m\u001b[37m\u001b[0m \u001b[1m0s\u001b[0m 1ms/step - accuracy: 0.9751 - loss: 0.0850 - precision: 0.9751 - recall: 0.9751 - val_accuracy: 0.9743 - val_loss: 0.0912 - val_precision: 0.9743 - val_recall: 0.9743 - learning_rate: 0.0010\n",
      "Epoch 15/300\n",
      "\u001b[1m229/229\u001b[0m \u001b[32m━━━━━━━━━━━━━━━━━━━━\u001b[0m\u001b[37m\u001b[0m \u001b[1m0s\u001b[0m 1ms/step - accuracy: 0.9756 - loss: 0.0832 - precision: 0.9756 - recall: 0.9756 - val_accuracy: 0.9732 - val_loss: 0.0925 - val_precision: 0.9732 - val_recall: 0.9730 - learning_rate: 0.0010\n",
      "Epoch 16/300\n",
      "\u001b[1m229/229\u001b[0m \u001b[32m━━━━━━━━━━━━━━━━━━━━\u001b[0m\u001b[37m\u001b[0m \u001b[1m0s\u001b[0m 1ms/step - accuracy: 0.9759 - loss: 0.0826 - precision: 0.9759 - recall: 0.9758 - val_accuracy: 0.9729 - val_loss: 0.0918 - val_precision: 0.9729 - val_recall: 0.9729 - learning_rate: 0.0010\n",
      "Epoch 17/300\n",
      "\u001b[1m229/229\u001b[0m \u001b[32m━━━━━━━━━━━━━━━━━━━━\u001b[0m\u001b[37m\u001b[0m \u001b[1m0s\u001b[0m 1ms/step - accuracy: 0.9763 - loss: 0.0810 - precision: 0.9763 - recall: 0.9763 - val_accuracy: 0.9745 - val_loss: 0.0864 - val_precision: 0.9745 - val_recall: 0.9745 - learning_rate: 0.0010\n",
      "Epoch 18/300\n",
      "\u001b[1m229/229\u001b[0m \u001b[32m━━━━━━━━━━━━━━━━━━━━\u001b[0m\u001b[37m\u001b[0m \u001b[1m0s\u001b[0m 1ms/step - accuracy: 0.9754 - loss: 0.0812 - precision: 0.9754 - recall: 0.9754 - val_accuracy: 0.9756 - val_loss: 0.0869 - val_precision: 0.9756 - val_recall: 0.9756 - learning_rate: 0.0010\n",
      "Epoch 19/300\n",
      "\u001b[1m229/229\u001b[0m \u001b[32m━━━━━━━━━━━━━━━━━━━━\u001b[0m\u001b[37m\u001b[0m \u001b[1m0s\u001b[0m 1ms/step - accuracy: 0.9758 - loss: 0.0807 - precision: 0.9758 - recall: 0.9758 - val_accuracy: 0.9714 - val_loss: 0.1130 - val_precision: 0.9714 - val_recall: 0.9714 - learning_rate: 0.0010\n",
      "Epoch 20/300\n",
      "\u001b[1m229/229\u001b[0m \u001b[32m━━━━━━━━━━━━━━━━━━━━\u001b[0m\u001b[37m\u001b[0m \u001b[1m0s\u001b[0m 2ms/step - accuracy: 0.9744 - loss: 0.0844 - precision: 0.9744 - recall: 0.9744 - val_accuracy: 0.9759 - val_loss: 0.0864 - val_precision: 0.9759 - val_recall: 0.9759 - learning_rate: 0.0010\n",
      "Epoch 21/300\n",
      "\u001b[1m229/229\u001b[0m \u001b[32m━━━━━━━━━━━━━━━━━━━━\u001b[0m\u001b[37m\u001b[0m \u001b[1m0s\u001b[0m 1ms/step - accuracy: 0.9756 - loss: 0.0807 - precision: 0.9756 - recall: 0.9756 - val_accuracy: 0.9737 - val_loss: 0.0949 - val_precision: 0.9737 - val_recall: 0.9737 - learning_rate: 0.0010\n",
      "Epoch 22/300\n",
      "\u001b[1m229/229\u001b[0m \u001b[32m━━━━━━━━━━━━━━━━━━━━\u001b[0m\u001b[37m\u001b[0m \u001b[1m0s\u001b[0m 1ms/step - accuracy: 0.9764 - loss: 0.0784 - precision: 0.9764 - recall: 0.9763 - val_accuracy: 0.9761 - val_loss: 0.0834 - val_precision: 0.9761 - val_recall: 0.9761 - learning_rate: 0.0010\n",
      "Epoch 23/300\n",
      "\u001b[1m229/229\u001b[0m \u001b[32m━━━━━━━━━━━━━━━━━━━━\u001b[0m\u001b[37m\u001b[0m \u001b[1m0s\u001b[0m 1ms/step - accuracy: 0.9760 - loss: 0.0809 - precision: 0.9760 - recall: 0.9759 - val_accuracy: 0.9757 - val_loss: 0.0865 - val_precision: 0.9757 - val_recall: 0.9756 - learning_rate: 0.0010\n",
      "Epoch 24/300\n",
      "\u001b[1m229/229\u001b[0m \u001b[32m━━━━━━━━━━━━━━━━━━━━\u001b[0m\u001b[37m\u001b[0m \u001b[1m0s\u001b[0m 1ms/step - accuracy: 0.9752 - loss: 0.0820 - precision: 0.9752 - recall: 0.9752 - val_accuracy: 0.9750 - val_loss: 0.0912 - val_precision: 0.9750 - val_recall: 0.9750 - learning_rate: 0.0010\n",
      "Epoch 25/300\n",
      "\u001b[1m229/229\u001b[0m \u001b[32m━━━━━━━━━━━━━━━━━━━━\u001b[0m\u001b[37m\u001b[0m \u001b[1m0s\u001b[0m 1ms/step - accuracy: 0.9759 - loss: 0.0807 - precision: 0.9759 - recall: 0.9759 - val_accuracy: 0.9753 - val_loss: 0.0886 - val_precision: 0.9753 - val_recall: 0.9753 - learning_rate: 0.0010\n",
      "Epoch 26/300\n",
      "\u001b[1m229/229\u001b[0m \u001b[32m━━━━━━━━━━━━━━━━━━━━\u001b[0m\u001b[37m\u001b[0m \u001b[1m0s\u001b[0m 1ms/step - accuracy: 0.9767 - loss: 0.0799 - precision: 0.9767 - recall: 0.9766 - val_accuracy: 0.9759 - val_loss: 0.0888 - val_precision: 0.9759 - val_recall: 0.9759 - learning_rate: 0.0010\n",
      "Epoch 27/300\n",
      "\u001b[1m189/229\u001b[0m \u001b[32m━━━━━━━━━━━━━━━━\u001b[0m\u001b[37m━━━━\u001b[0m \u001b[1m0s\u001b[0m 1ms/step - accuracy: 0.9768 - loss: 0.0784 - precision: 0.9768 - recall: 0.9768\n",
      "Epoch 27: ReduceLROnPlateau reducing learning rate to 0.0005000000237487257.\n",
      "\u001b[1m229/229\u001b[0m \u001b[32m━━━━━━━━━━━━━━━━━━━━\u001b[0m\u001b[37m\u001b[0m \u001b[1m0s\u001b[0m 1ms/step - accuracy: 0.9763 - loss: 0.0787 - precision: 0.9763 - recall: 0.9763 - val_accuracy: 0.9748 - val_loss: 0.0900 - val_precision: 0.9748 - val_recall: 0.9748 - learning_rate: 0.0010\n",
      "Epoch 28/300\n",
      "\u001b[1m229/229\u001b[0m \u001b[32m━━━━━━━━━━━━━━━━━━━━\u001b[0m\u001b[37m\u001b[0m \u001b[1m0s\u001b[0m 1ms/step - accuracy: 0.9774 - loss: 0.0759 - precision: 0.9774 - recall: 0.9774 - val_accuracy: 0.9762 - val_loss: 0.0883 - val_precision: 0.9762 - val_recall: 0.9762 - learning_rate: 5.0000e-04\n",
      "Epoch 29/300\n",
      "\u001b[1m229/229\u001b[0m \u001b[32m━━━━━━━━━━━━━━━━━━━━\u001b[0m\u001b[37m\u001b[0m \u001b[1m0s\u001b[0m 1ms/step - accuracy: 0.9773 - loss: 0.0754 - precision: 0.9773 - recall: 0.9773 - val_accuracy: 0.9756 - val_loss: 0.0849 - val_precision: 0.9756 - val_recall: 0.9756 - learning_rate: 5.0000e-04\n",
      "Epoch 30/300\n",
      "\u001b[1m229/229\u001b[0m \u001b[32m━━━━━━━━━━━━━━━━━━━━\u001b[0m\u001b[37m\u001b[0m \u001b[1m0s\u001b[0m 1ms/step - accuracy: 0.9774 - loss: 0.0752 - precision: 0.9774 - recall: 0.9774 - val_accuracy: 0.9759 - val_loss: 0.0874 - val_precision: 0.9759 - val_recall: 0.9759 - learning_rate: 5.0000e-04\n",
      "Epoch 31/300\n",
      "\u001b[1m229/229\u001b[0m \u001b[32m━━━━━━━━━━━━━━━━━━━━\u001b[0m\u001b[37m\u001b[0m \u001b[1m0s\u001b[0m 1ms/step - accuracy: 0.9776 - loss: 0.0748 - precision: 0.9776 - recall: 0.9776 - val_accuracy: 0.9748 - val_loss: 0.0910 - val_precision: 0.9748 - val_recall: 0.9748 - learning_rate: 5.0000e-04\n",
      "Epoch 32/300\n",
      "\u001b[1m189/229\u001b[0m \u001b[32m━━━━━━━━━━━━━━━━\u001b[0m\u001b[37m━━━━\u001b[0m \u001b[1m0s\u001b[0m 1ms/step - accuracy: 0.9782 - loss: 0.0738 - precision: 0.9782 - recall: 0.9782\n",
      "Epoch 32: ReduceLROnPlateau reducing learning rate to 0.0002500000118743628.\n",
      "\u001b[1m229/229\u001b[0m \u001b[32m━━━━━━━━━━━━━━━━━━━━\u001b[0m\u001b[37m\u001b[0m \u001b[1m0s\u001b[0m 1ms/step - accuracy: 0.9778 - loss: 0.0753 - precision: 0.9778 - recall: 0.9778 - val_accuracy: 0.9756 - val_loss: 0.0881 - val_precision: 0.9756 - val_recall: 0.9756 - learning_rate: 5.0000e-04\n",
      "Epoch 33/300\n",
      "\u001b[1m229/229\u001b[0m \u001b[32m━━━━━━━━━━━━━━━━━━━━\u001b[0m\u001b[37m\u001b[0m \u001b[1m0s\u001b[0m 1ms/step - accuracy: 0.9786 - loss: 0.0734 - precision: 0.9786 - recall: 0.9786 - val_accuracy: 0.9759 - val_loss: 0.0850 - val_precision: 0.9759 - val_recall: 0.9759 - learning_rate: 2.5000e-04\n",
      "Epoch 34/300\n",
      "\u001b[1m229/229\u001b[0m \u001b[32m━━━━━━━━━━━━━━━━━━━━\u001b[0m\u001b[37m\u001b[0m \u001b[1m0s\u001b[0m 1ms/step - accuracy: 0.9783 - loss: 0.0730 - precision: 0.9783 - recall: 0.9783 - val_accuracy: 0.9761 - val_loss: 0.0845 - val_precision: 0.9761 - val_recall: 0.9761 - learning_rate: 2.5000e-04\n",
      "Epoch 35/300\n",
      "\u001b[1m229/229\u001b[0m \u001b[32m━━━━━━━━━━━━━━━━━━━━\u001b[0m\u001b[37m\u001b[0m \u001b[1m0s\u001b[0m 1ms/step - accuracy: 0.9786 - loss: 0.0724 - precision: 0.9786 - recall: 0.9786 - val_accuracy: 0.9765 - val_loss: 0.0851 - val_precision: 0.9765 - val_recall: 0.9765 - learning_rate: 2.5000e-04\n",
      "Epoch 36/300\n",
      "\u001b[1m229/229\u001b[0m \u001b[32m━━━━━━━━━━━━━━━━━━━━\u001b[0m\u001b[37m\u001b[0m \u001b[1m0s\u001b[0m 2ms/step - accuracy: 0.9781 - loss: 0.0728 - precision: 0.9782 - recall: 0.9781 - val_accuracy: 0.9761 - val_loss: 0.0846 - val_precision: 0.9761 - val_recall: 0.9759 - learning_rate: 2.5000e-04\n",
      "Epoch 37/300\n",
      "\u001b[1m222/229\u001b[0m \u001b[32m━━━━━━━━━━━━━━━━━━━\u001b[0m\u001b[37m━\u001b[0m \u001b[1m0s\u001b[0m 1ms/step - accuracy: 0.9793 - loss: 0.0706 - precision: 0.9793 - recall: 0.9793\n",
      "Epoch 37: ReduceLROnPlateau reducing learning rate to 0.0001250000059371814.\n",
      "\u001b[1m229/229\u001b[0m \u001b[32m━━━━━━━━━━━━━━━━━━━━\u001b[0m\u001b[37m\u001b[0m \u001b[1m0s\u001b[0m 2ms/step - accuracy: 0.9787 - loss: 0.0719 - precision: 0.9787 - recall: 0.9786 - val_accuracy: 0.9767 - val_loss: 0.0849 - val_precision: 0.9767 - val_recall: 0.9767 - learning_rate: 2.5000e-04\n",
      "Epoch 38/300\n",
      "\u001b[1m229/229\u001b[0m \u001b[32m━━━━━━━━━━━━━━━━━━━━\u001b[0m\u001b[37m\u001b[0m \u001b[1m0s\u001b[0m 1ms/step - accuracy: 0.9785 - loss: 0.0723 - precision: 0.9785 - recall: 0.9785 - val_accuracy: 0.9770 - val_loss: 0.0839 - val_precision: 0.9770 - val_recall: 0.9770 - learning_rate: 1.2500e-04\n",
      "Epoch 39/300\n",
      "\u001b[1m229/229\u001b[0m \u001b[32m━━━━━━━━━━━━━━━━━━━━\u001b[0m\u001b[37m\u001b[0m \u001b[1m0s\u001b[0m 1ms/step - accuracy: 0.9787 - loss: 0.0720 - precision: 0.9787 - recall: 0.9787 - val_accuracy: 0.9770 - val_loss: 0.0842 - val_precision: 0.9770 - val_recall: 0.9770 - learning_rate: 1.2500e-04\n",
      "Epoch 40/300\n",
      "\u001b[1m229/229\u001b[0m \u001b[32m━━━━━━━━━━━━━━━━━━━━\u001b[0m\u001b[37m\u001b[0m \u001b[1m0s\u001b[0m 1ms/step - accuracy: 0.9794 - loss: 0.0706 - precision: 0.9794 - recall: 0.9794 - val_accuracy: 0.9767 - val_loss: 0.0840 - val_precision: 0.9767 - val_recall: 0.9767 - learning_rate: 1.2500e-04\n",
      "Epoch 41/300\n",
      "\u001b[1m229/229\u001b[0m \u001b[32m━━━━━━━━━━━━━━━━━━━━\u001b[0m\u001b[37m\u001b[0m \u001b[1m0s\u001b[0m 1ms/step - accuracy: 0.9790 - loss: 0.0713 - precision: 0.9790 - recall: 0.9790 - val_accuracy: 0.9769 - val_loss: 0.0840 - val_precision: 0.9769 - val_recall: 0.9769 - learning_rate: 1.2500e-04\n",
      "Epoch 42/300\n",
      "\u001b[1m189/229\u001b[0m \u001b[32m━━━━━━━━━━━━━━━━\u001b[0m\u001b[37m━━━━\u001b[0m \u001b[1m0s\u001b[0m 1ms/step - accuracy: 0.9792 - loss: 0.0693 - precision: 0.9792 - recall: 0.9792\n",
      "Epoch 42: ReduceLROnPlateau reducing learning rate to 6.25000029685907e-05.\n",
      "\u001b[1m229/229\u001b[0m \u001b[32m━━━━━━━━━━━━━━━━━━━━\u001b[0m\u001b[37m\u001b[0m \u001b[1m0s\u001b[0m 1ms/step - accuracy: 0.9790 - loss: 0.0707 - precision: 0.9790 - recall: 0.9790 - val_accuracy: 0.9767 - val_loss: 0.0847 - val_precision: 0.9767 - val_recall: 0.9767 - learning_rate: 1.2500e-04\n",
      "Epoch 42: early stopping\n",
      "Restoring model weights from the end of the best epoch: 22.\n"
     ]
    }
   ],
   "source": [
    "# Training the Model\n",
    "history = model.fit(X_train, y_train, validation_data=(X_val, y_val), epochs=300, batch_size=128,\n",
    "                    callbacks=[early_stop, reduce_lr], verbose=1)"
   ]
  },
  {
   "cell_type": "markdown",
   "id": "aa2aaf93",
   "metadata": {},
   "source": [
    "<h1><center>Evaluation</center><h1>"
   ]
  },
  {
   "cell_type": "code",
   "execution_count": 13,
   "id": "507981b8",
   "metadata": {},
   "outputs": [
    {
     "data": {
      "text/plain": [
       "<matplotlib.legend.Legend at 0x16891b158a0>"
      ]
     },
     "execution_count": 13,
     "metadata": {},
     "output_type": "execute_result"
    },
    {
     "data": {
      "image/png": "[encoded data removed]",
      "text/plain": [
       "<Figure size 1000x400 with 1 Axes>"
      ]
     },
     "metadata": {},
     "output_type": "display_data"
    },
    {
     "data": {
      "image/png": "[encoded data removed]",
      "text/plain": [
       "<Figure size 1000x400 with 1 Axes>"
      ]
     },
     "metadata": {},
     "output_type": "display_data"
    }
   ],
   "source": [
    "fig, ax = plt.subplots(figsize=(10, 4))\n",
    "ax.plot(history.history['loss'], label='Training loss', color='orange', linewidth=2, markersize=6)\n",
    "ax.plot(history.history['val_loss'], label='Validation loss', color='blue', linewidth=2, markersize=6)\n",
    "ax.set_title('Validity and Training Loss')\n",
    "ax.set_xlabel('Epoch')\n",
    "ax.set_ylabel('Loss')\n",
    "ax.legend()\n",
    "\n",
    "fig, ax = plt.subplots(figsize=(10, 4))\n",
    "ax.plot(history.history['accuracy'], label='Training accuracy', color='orange', linewidth=2, markersize=6)\n",
    "ax.plot(history.history['val_accuracy'], label='Validation accuracy', color='blue', linewidth=2, markersize=6)\n",
    "ax.set_title('Accuracy')\n",
    "ax.set_xlabel('Epoch')\n",
    "ax.set_ylabel('Accuracy')\n",
    "ax.legend()\n",
    "\n",
    "# Model learns quickly and  I don t see overfitting\n",
    "# Val loss and train loss are matching "
   ]
  },
  {
   "cell_type": "code",
   "execution_count": 14,
   "id": "ccfbb107",
   "metadata": {},
   "outputs": [
    {
     "name": "stdout",
     "output_type": "stream",
     "text": [
      "\u001b[1m196/196\u001b[0m \u001b[32m━━━━━━━━━━━━━━━━━━━━\u001b[0m\u001b[37m\u001b[0m \u001b[1m0s\u001b[0m 719us/step\n",
      "\n",
      "Classification Report:\n",
      "\n",
      "              precision    recall  f1-score   support\n",
      "\n",
      "      GALAXY       0.96      0.98      0.97      2148\n",
      "         QSO       0.99      0.95      0.97      2032\n",
      "        STAR       0.99      1.00      1.00      2088\n",
      "\n",
      "    accuracy                           0.98      6268\n",
      "   macro avg       0.98      0.98      0.98      6268\n",
      "weighted avg       0.98      0.98      0.98      6268\n",
      "\n"
     ]
    }
   ],
   "source": [
    "# Making predictions\n",
    "predictions = model.predict(X_test)\n",
    "predicted_values = np.argmax(predictions, axis=1)\n",
    "correct_labels = np.argmax(y_test, axis=1)\n",
    "print(\"\\nClassification Report:\\n\")\n",
    "print(classification_report(correct_labels, predicted_values, target_names=class_names))"
   ]
  },
  {
   "cell_type": "code",
   "execution_count": 15,
   "id": "cc4a163f",
   "metadata": {},
   "outputs": [
    {
     "data": {
      "image/png": "[encoded data removed]",
      "text/plain": [
       "<Figure size 640x480 with 2 Axes>"
      ]
     },
     "metadata": {},
     "output_type": "display_data"
    }
   ],
   "source": [
    "# Confusion Matrix \n",
    "Confusion_matrix = confusion_matrix(correct_labels, predicted_values)\n",
    "# After getting the confusion matrix, I need to convert values to float and sum each row of matrix. for dividing each row by its total\n",
    "# array must be 2D, so I use None to add new axis\n",
    "Confusion_matrix_percent = Confusion_matrix.astype('float') / Confusion_matrix.sum(axis=1)[:, None] * 100\n",
    "sns.heatmap(Confusion_matrix, fmt='d', annot=True, cmap='Blues', xticklabels=class_names, yticklabels=class_names)\n",
    "# Adding new percentages to the confusion matrix\n",
    "for  i in range(Confusion_matrix.shape[0]):\n",
    "    for j in range(Confusion_matrix.shape[1]):\n",
    "        plt.text(j + 0.5, i + 0.7, f'({Confusion_matrix_percent[i, j]:.1f}%)', \n",
    "                 ha='center', va='center', fontsize=8, color='gray')\n",
    "plt.ylabel('True Label')\n",
    "plt.xlabel('Predicted Label')\n",
    "plt.show() \n",
    "# I got the code structure from:\n",
    "# https://stackoverflow.com/questions/20927368/how-to-normalize-a-confusion-matrix\n",
    "# Almost  5 % of QSO is misclassified as Galaxy "
   ]
  },
  {
   "cell_type": "code",
   "execution_count": 16,
   "id": "4a18516b",
   "metadata": {},
   "outputs": [
    {
     "name": "stdout",
     "output_type": "stream",
     "text": [
      "Uncertainty in Predictions:\n",
      " [3.0960643e-03 9.0666050e-03 4.9537838e-02 ... 1.3738342e-12 8.5204086e-15\n",
      " 1.2609564e-02]\n"
     ]
    }
   ],
   "source": [
    "#  Calculating Uncertainty Monte Carlo Dropout\n",
    "prediction = []\n",
    "# 50 times gernerating predictions\n",
    "\n",
    "for _ in range(50):\n",
    "    preds = model(X_test, training=True)\n",
    "    prediction.append(preds)\n",
    "# I set up the training=True in the model which means dropout is active during prediction\n",
    "# The predictions will be different each time because of dropout\n",
    "\n",
    "\n",
    "# Converting to array and calculating statistics\n",
    "prediction = np.array(prediction)\n",
    "mean_pred = np.mean(prediction, axis=0)\n",
    "std_pred = np.std(prediction, axis=0)\n",
    "uncertainty = np.max(std_pred, axis=1)\n",
    "print(\"Uncertainty in Predictions:\\n\", uncertainty)\n",
    "# Source : https://medium.com/biased-algorithms/uncertainty-estimation-in-machine-learning-with-monte-carlo-dropout-72377f5ee276"
   ]
  },
  {
   "cell_type": "code",
   "execution_count": 17,
   "id": "94fcb27b",
   "metadata": {},
   "outputs": [
    {
     "data": {
      "text/plain": [
       "(50, 6268, 3)"
      ]
     },
     "execution_count": 17,
     "metadata": {},
     "output_type": "execute_result"
    }
   ],
   "source": [
    "prediction.shape"
   ]
  },
  {
   "cell_type": "code",
   "execution_count": 18,
   "id": "1a17f484",
   "metadata": {},
   "outputs": [
    {
     "data": {
      "image/png": "[encoded data removed]",
      "text/plain": [
       "<Figure size 1200x500 with 1 Axes>"
      ]
     },
     "metadata": {},
     "output_type": "display_data"
    }
   ],
   "source": [
    "# Visualizing uncertainty \n",
    "plt.figure(figsize=(12, 5))\n",
    "for i in range(3):\n",
    "    sns.histplot(std_pred[:, i], label=class_names[i], bins=30, element='step', fill=False)\n",
    "plt.title('Uncertainty for Star, Galaxy, and QSO')\n",
    "plt.xlabel('Uncertainty')\n",
    "plt.ylabel('Number of Samples')\n",
    "plt.grid(True)\n",
    "plt.legend()\n",
    "plt.show()\n",
    "# The model has enough confidence in its predictions"
   ]
  },
  {
   "cell_type": "code",
   "execution_count": 19,
   "id": "bf269dc9",
   "metadata": {},
   "outputs": [
    {
     "name": "stdout",
     "output_type": "stream",
     "text": [
      "\u001b[1m1/1\u001b[0m \u001b[32m━━━━━━━━━━━━━━━━━━━━\u001b[0m\u001b[37m\u001b[0m \u001b[1m0s\u001b[0m 26ms/step\n",
      "Prediction Probabilities:\n",
      "GALAXY: 0.00%\n",
      "QSO: 100.00%\n",
      "STAR: 0.00%\n"
     ]
    }
   ],
   "source": [
    "# Testing with new data:\n",
    "new_data = {\n",
    "    'alpha': 11.17,\n",
    "    'delta': 12,\n",
    "    'redshift': 1.31,\n",
    "    'photometric_filters': 19\n",
    "}\n",
    "\n",
    "new_data_df = pd.DataFrame([new_data])\n",
    "new_data = scaler.transform(new_data_df.values)\n",
    "\n",
    "\n",
    "prediction = model.predict(new_data)\n",
    "predicted_class = np.argmax(prediction, axis=1)[0]\n",
    "probability = prediction[0]*100\n",
    "\n",
    "print('Prediction Probabilities:')\n",
    "for name, percentage in zip(class_names, probability):\n",
    "    print(f\"{name}: {percentage:.2f}%\")\n"
   ]
  },
  {
   "cell_type": "code",
   "execution_count": 22,
   "id": "3dcd2849",
   "metadata": {},
   "outputs": [],
   "source": [
    "# Save the model and scaler pkle \n",
    "model.save('multi_class_model.keras')\n",
    "with open('scaler.pkl', 'wb') as f:\n",
    "    pickle.dump(scaler, f)"
   ]
  }
 ],
 "metadata": {
  "kernelspec": {
   "display_name": ".venv",
   "language": "python",
   "name": "python3"
  },
  "language_info": {
   "codemirror_mode": {
    "name": "ipython",
    "version": 3
   },
   "file_extension": ".py",
   "mimetype": "text/x-python",
   "name": "python",
   "nbconvert_exporter": "python",
   "pygments_lexer": "ipython3",
   "version": "3.10.11"
  }
 },
 "nbformat": 4,
 "nbformat_minor": 5
}

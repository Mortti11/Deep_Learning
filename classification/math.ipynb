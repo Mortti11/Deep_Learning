{
 "cells": [
  {
   "cell_type": "code",
   "execution_count": 12,
   "metadata": {},
   "outputs": [],
   "source": [
    "import math\n",
    "import numpy as np"
   ]
  },
  {
   "cell_type": "code",
   "execution_count": 13,
   "metadata": {},
   "outputs": [
    {
     "name": "stdout",
     "output_type": "stream",
     "text": [
      "44.05\n"
     ]
    }
   ],
   "source": [
    "# finding the angle of a triangle with two sides\n",
    "a  = 23\n",
    "b = 32\n",
    "angle = math.degrees(math.acos(a/b))\n",
    "print(round(angle,2))"
   ]
  },
  {
   "cell_type": "code",
   "execution_count": 14,
   "metadata": {},
   "outputs": [
    {
     "name": "stdout",
     "output_type": "stream",
     "text": [
      "18.950000000000003\n"
     ]
    }
   ],
   "source": [
    "# I have a triangle with 3 sides with three angles\n",
    "a = 23\n",
    "b = 32\n",
    "# c = ?\n",
    "angle_1 = 117\n",
    "angle_2 = 44.05\n",
    "\n",
    "angle_3 = 180 - angle_1 - angle_2\n",
    "print(angle_3)"
   ]
  }
 ],
 "metadata": {
  "kernelspec": {
   "display_name": ".venv",
   "language": "python",
   "name": "python3"
  },
  "language_info": {
   "codemirror_mode": {
    "name": "ipython",
    "version": 3
   },
   "file_extension": ".py",
   "mimetype": "text/x-python",
   "name": "python",
   "nbconvert_exporter": "python",
   "pygments_lexer": "ipython3",
   "version": "3.10.11"
  }
 },
 "nbformat": 4,
 "nbformat_minor": 2
}

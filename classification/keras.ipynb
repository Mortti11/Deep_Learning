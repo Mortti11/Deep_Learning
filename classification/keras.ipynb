{
 "cells": [
  {
   "cell_type": "code",
   "execution_count": 1,
   "id": "52ea11d2",
   "metadata": {},
   "outputs": [],
   "source": [
    "import pandas as pd\n",
    "import numpy as np\n",
    "from sklearn.model_selection import train_test_split\n",
    "from sklearn.preprocessing import StandardScaler\n",
    "from sklearn.utils.class_weight import compute_class_weight\n",
    "from sklearn.metrics import classification_report, confusion_matrix\n",
    "import matplotlib.pyplot as plt\n",
    "import seaborn as sns\n",
    "\n",
    "\n",
    "from tensorflow.keras.models import Sequential\n",
    "from tensorflow.keras.layers import Dense, Dropout, BatchNormalization, Input\n",
    "from tensorflow.keras.utils import to_categorical\n",
    "from tensorflow.keras.callbacks import EarlyStopping, ReduceLROnPlateau, ModelCheckpoint\n",
    "import tensorflow as tf \n",
    "from tensorflow import keras\n",
    "\n",
    "from sklearn.manifold import TSNE"
   ]
  },
  {
   "cell_type": "code",
   "execution_count": 2,
   "id": "e76c0788",
   "metadata": {},
   "outputs": [
    {
     "data": {
      "application/vnd.microsoft.datawrangler.viewer.v0+json": {
       "columns": [
        {
         "name": "index",
         "rawType": "int64",
         "type": "integer"
        },
        {
         "name": "alpha",
         "rawType": "float64",
         "type": "float"
        },
        {
         "name": "delta",
         "rawType": "float64",
         "type": "float"
        },
        {
         "name": "class",
         "rawType": "int64",
         "type": "integer"
        },
        {
         "name": "redshift",
         "rawType": "float64",
         "type": "float"
        },
        {
         "name": "photometric_filters",
         "rawType": "float64",
         "type": "float"
        }
       ],
       "ref": "3880ca7e-fe88-4dda-8775-b7d0b1b7be99",
       "rows": [
        [
         "0",
         "135.6891066036",
         "32.4946318397087",
         "0",
         "0.6347936",
         "21.44214915483356"
        ],
        [
         "1",
         "144.826100550256",
         "31.2741848944939",
         "0",
         "0.779136",
         "22.9302319996858"
        ],
        [
         "2",
         "142.188789562506",
         "35.5824441819976",
         "0",
         "0.6441945",
         "22.024389960081123"
        ],
        [
         "3",
         "338.741037753146",
         "-0.402827574587482",
         "0",
         "0.9323456",
         "21.77901977522428"
        ],
        [
         "4",
         "345.282593210935",
         "21.1838656010284",
         "0",
         "0.1161227",
         "17.3954783391376"
        ]
       ],
       "shape": {
        "columns": 5,
        "rows": 5
       }
      },
      "text/html": [
       "<div>\n",
       "<style scoped>\n",
       "    .dataframe tbody tr th:only-of-type {\n",
       "        vertical-align: middle;\n",
       "    }\n",
       "\n",
       "    .dataframe tbody tr th {\n",
       "        vertical-align: top;\n",
       "    }\n",
       "\n",
       "    .dataframe thead th {\n",
       "        text-align: right;\n",
       "    }\n",
       "</style>\n",
       "<table border=\"1\" class=\"dataframe\">\n",
       "  <thead>\n",
       "    <tr style=\"text-align: right;\">\n",
       "      <th></th>\n",
       "      <th>alpha</th>\n",
       "      <th>delta</th>\n",
       "      <th>class</th>\n",
       "      <th>redshift</th>\n",
       "      <th>photometric_filters</th>\n",
       "    </tr>\n",
       "  </thead>\n",
       "  <tbody>\n",
       "    <tr>\n",
       "      <th>0</th>\n",
       "      <td>135.689107</td>\n",
       "      <td>32.494632</td>\n",
       "      <td>0</td>\n",
       "      <td>0.634794</td>\n",
       "      <td>21.442149</td>\n",
       "    </tr>\n",
       "    <tr>\n",
       "      <th>1</th>\n",
       "      <td>144.826101</td>\n",
       "      <td>31.274185</td>\n",
       "      <td>0</td>\n",
       "      <td>0.779136</td>\n",
       "      <td>22.930232</td>\n",
       "    </tr>\n",
       "    <tr>\n",
       "      <th>2</th>\n",
       "      <td>142.188790</td>\n",
       "      <td>35.582444</td>\n",
       "      <td>0</td>\n",
       "      <td>0.644195</td>\n",
       "      <td>22.024390</td>\n",
       "    </tr>\n",
       "    <tr>\n",
       "      <th>3</th>\n",
       "      <td>338.741038</td>\n",
       "      <td>-0.402828</td>\n",
       "      <td>0</td>\n",
       "      <td>0.932346</td>\n",
       "      <td>21.779020</td>\n",
       "    </tr>\n",
       "    <tr>\n",
       "      <th>4</th>\n",
       "      <td>345.282593</td>\n",
       "      <td>21.183866</td>\n",
       "      <td>0</td>\n",
       "      <td>0.116123</td>\n",
       "      <td>17.395478</td>\n",
       "    </tr>\n",
       "  </tbody>\n",
       "</table>\n",
       "</div>"
      ],
      "text/plain": [
       "        alpha      delta  class  redshift  photometric_filters\n",
       "0  135.689107  32.494632      0  0.634794            21.442149\n",
       "1  144.826101  31.274185      0  0.779136            22.930232\n",
       "2  142.188790  35.582444      0  0.644195            22.024390\n",
       "3  338.741038  -0.402828      0  0.932346            21.779020\n",
       "4  345.282593  21.183866      0  0.116123            17.395478"
      ]
     },
     "execution_count": 2,
     "metadata": {},
     "output_type": "execute_result"
    }
   ],
   "source": [
    "df = pd.read_csv('classification_cleaned.csv')\n",
    "df.head()"
   ]
  },
  {
   "cell_type": "code",
   "execution_count": 3,
   "id": "e087a733",
   "metadata": {},
   "outputs": [
    {
     "data": {
      "application/vnd.microsoft.datawrangler.viewer.v0+json": {
       "columns": [
        {
         "name": "index",
         "rawType": "object",
         "type": "string"
        },
        {
         "name": "alpha",
         "rawType": "float64",
         "type": "float"
        },
        {
         "name": "delta",
         "rawType": "float64",
         "type": "float"
        },
        {
         "name": "class",
         "rawType": "float64",
         "type": "float"
        },
        {
         "name": "redshift",
         "rawType": "float64",
         "type": "float"
        },
        {
         "name": "photometric_filters",
         "rawType": "float64",
         "type": "float"
        }
       ],
       "ref": "7265b419-9fdc-48eb-9a36-ea018f4cfd5e",
       "rows": [
        [
         "count",
         "100000.0",
         "100000.0",
         "100000.0",
         "100000.0",
         "100000.0"
        ],
        [
         "mean",
         "177.6291166216363",
         "24.135304595352267",
         "0.62149",
         "0.5766608040203002",
         "20.31189616147823"
        ],
        [
         "std",
         "96.502240898332",
         "19.644665404293715",
         "0.8167783366180273",
         "0.7307072761888087",
         "21.23187153353684"
        ],
        [
         "min",
         "0.0055278279239701",
         "-18.7853280771825",
         "0.0",
         "-0.009970667",
         "-6669.000164573708"
        ],
        [
         "25%",
         "127.5182215421235",
         "5.146770857937234",
         "0.0",
         "0.054516844999999994",
         "18.90651167178878"
        ],
        [
         "50%",
         "180.9007001209685",
         "23.64592229835845",
         "0.0",
         "0.42417325",
         "20.894890345323855"
        ],
        [
         "75%",
         "233.89500494592176",
         "39.90155009764588",
         "1.0",
         "0.704154325",
         "21.79477941604489"
        ],
        [
         "max",
         "359.999809770956",
         "83.00051858898",
         "2.0",
         "7.011245",
         "28.411402698605183"
        ]
       ],
       "shape": {
        "columns": 5,
        "rows": 8
       }
      },
      "text/html": [
       "<div>\n",
       "<style scoped>\n",
       "    .dataframe tbody tr th:only-of-type {\n",
       "        vertical-align: middle;\n",
       "    }\n",
       "\n",
       "    .dataframe tbody tr th {\n",
       "        vertical-align: top;\n",
       "    }\n",
       "\n",
       "    .dataframe thead th {\n",
       "        text-align: right;\n",
       "    }\n",
       "</style>\n",
       "<table border=\"1\" class=\"dataframe\">\n",
       "  <thead>\n",
       "    <tr style=\"text-align: right;\">\n",
       "      <th></th>\n",
       "      <th>alpha</th>\n",
       "      <th>delta</th>\n",
       "      <th>class</th>\n",
       "      <th>redshift</th>\n",
       "      <th>photometric_filters</th>\n",
       "    </tr>\n",
       "  </thead>\n",
       "  <tbody>\n",
       "    <tr>\n",
       "      <th>count</th>\n",
       "      <td>100000.000000</td>\n",
       "      <td>100000.000000</td>\n",
       "      <td>100000.000000</td>\n",
       "      <td>100000.000000</td>\n",
       "      <td>100000.000000</td>\n",
       "    </tr>\n",
       "    <tr>\n",
       "      <th>mean</th>\n",
       "      <td>177.629117</td>\n",
       "      <td>24.135305</td>\n",
       "      <td>0.621490</td>\n",
       "      <td>0.576661</td>\n",
       "      <td>20.311896</td>\n",
       "    </tr>\n",
       "    <tr>\n",
       "      <th>std</th>\n",
       "      <td>96.502241</td>\n",
       "      <td>19.644665</td>\n",
       "      <td>0.816778</td>\n",
       "      <td>0.730707</td>\n",
       "      <td>21.231872</td>\n",
       "    </tr>\n",
       "    <tr>\n",
       "      <th>min</th>\n",
       "      <td>0.005528</td>\n",
       "      <td>-18.785328</td>\n",
       "      <td>0.000000</td>\n",
       "      <td>-0.009971</td>\n",
       "      <td>-6669.000165</td>\n",
       "    </tr>\n",
       "    <tr>\n",
       "      <th>25%</th>\n",
       "      <td>127.518222</td>\n",
       "      <td>5.146771</td>\n",
       "      <td>0.000000</td>\n",
       "      <td>0.054517</td>\n",
       "      <td>18.906512</td>\n",
       "    </tr>\n",
       "    <tr>\n",
       "      <th>50%</th>\n",
       "      <td>180.900700</td>\n",
       "      <td>23.645922</td>\n",
       "      <td>0.000000</td>\n",
       "      <td>0.424173</td>\n",
       "      <td>20.894890</td>\n",
       "    </tr>\n",
       "    <tr>\n",
       "      <th>75%</th>\n",
       "      <td>233.895005</td>\n",
       "      <td>39.901550</td>\n",
       "      <td>1.000000</td>\n",
       "      <td>0.704154</td>\n",
       "      <td>21.794779</td>\n",
       "    </tr>\n",
       "    <tr>\n",
       "      <th>max</th>\n",
       "      <td>359.999810</td>\n",
       "      <td>83.000519</td>\n",
       "      <td>2.000000</td>\n",
       "      <td>7.011245</td>\n",
       "      <td>28.411403</td>\n",
       "    </tr>\n",
       "  </tbody>\n",
       "</table>\n",
       "</div>"
      ],
      "text/plain": [
       "               alpha          delta          class       redshift  \\\n",
       "count  100000.000000  100000.000000  100000.000000  100000.000000   \n",
       "mean      177.629117      24.135305       0.621490       0.576661   \n",
       "std        96.502241      19.644665       0.816778       0.730707   \n",
       "min         0.005528     -18.785328       0.000000      -0.009971   \n",
       "25%       127.518222       5.146771       0.000000       0.054517   \n",
       "50%       180.900700      23.645922       0.000000       0.424173   \n",
       "75%       233.895005      39.901550       1.000000       0.704154   \n",
       "max       359.999810      83.000519       2.000000       7.011245   \n",
       "\n",
       "       photometric_filters  \n",
       "count        100000.000000  \n",
       "mean             20.311896  \n",
       "std              21.231872  \n",
       "min           -6669.000165  \n",
       "25%              18.906512  \n",
       "50%              20.894890  \n",
       "75%              21.794779  \n",
       "max              28.411403  "
      ]
     },
     "execution_count": 3,
     "metadata": {},
     "output_type": "execute_result"
    }
   ],
   "source": [
    "df.describe()"
   ]
  },
  {
   "cell_type": "code",
   "execution_count": 4,
   "id": "bf3f9816",
   "metadata": {},
   "outputs": [],
   "source": [
    "# I am going to separate features and target columns \n",
    "X = df.drop('class', axis=1).values\n",
    "y = df['class'].values"
   ]
  },
  {
   "cell_type": "code",
   "execution_count": 5,
   "id": "e27317f5",
   "metadata": {},
   "outputs": [
    {
     "name": "stdout",
     "output_type": "stream",
     "text": [
      "Class weights: {0: 0.5607424229680097, 1: 1.757994479897333, 2: 1.5436386650612826}\n"
     ]
    }
   ],
   "source": [
    "# My class column is imbalanced, so I should handle it\n",
    "# For handling imbalanced data, there are many ways like oversampling, undersampling, SMOTE and  Class Weights\n",
    "# I prefer to go with  Weighted Classes that model can pay more attention to the QSO and star \n",
    "# I need to find all the unique class labels in my target column \n",
    "# for calculating the weights of each class that QSO and star can get more weight\n",
    "class_weights = compute_class_weight('balanced', classes=np.unique(y), y=y)\n",
    "class_weight_dict = dict(enumerate(class_weights))\n",
    "print(\"Class weights:\", class_weight_dict)\n",
    "# QSO is 1 and it's weight is 1.757 \n",
    "# Source : https://machinelearningmastery.com/5-effective-ways-to-handle-imbalanced-data-in-machine-learning/"
   ]
  },
  {
   "cell_type": "code",
   "execution_count": 6,
   "id": "a2015843",
   "metadata": {},
   "outputs": [
    {
     "name": "stdout",
     "output_type": "stream",
     "text": [
      "Training set: (70000, 4)\n",
      "Validation set: (15000, 4)\n",
      "Test set: (15000, 4)\n",
      "One hot encoded: [1. 0. 0.]\n"
     ]
    }
   ],
   "source": [
    "# I am going to split the X and y before scaling\n",
    "X_train, X_temp, y_train, y_temp = train_test_split(X, y, test_size=0.30, random_state=42, stratify=y)\n",
    "X_val, X_test, y_val, y_test = train_test_split(X_temp, y_temp, test_size=0.5, random_state=42, stratify=y_temp)\n",
    "# Feature Scaling:\n",
    "scaler = StandardScaler()\n",
    "X_train = scaler.fit_transform(X_train)\n",
    "X_val = scaler.transform(X_val)\n",
    "X_test = scaler.transform(X_test)\n",
    "\n",
    "# I used stratify=y to maintain class balance in splitting\n",
    "# Also, I fit the scaler only for training data, then transform validation and test to avoid data leakage\n",
    "# Scale only learns mean and std from training data\n",
    "print(f\"Training set: {X_train.shape}\")\n",
    "print(f\"Validation set: {X_val.shape}\")\n",
    "print(f\"Test set: {X_test.shape}\")\n",
    "\n",
    "# Labeling for the model because softmax  gives probabilities for each class\n",
    "#  One hot encoding let me to  compare these probabilities with true labels using categorical crossentropy\n",
    "y_train = to_categorical(y_train, num_classes=3)\n",
    "y_val = to_categorical(y_val, num_classes=3)\n",
    "y_test = to_categorical(y_test, num_classes=3)\n",
    "print(\"One hot encoded:\", y_train[0])"
   ]
  },
  {
   "cell_type": "markdown",
   "id": "0cd69da4",
   "metadata": {},
   "source": [
    "<h1><center>Building the Neural Network Architecture</center><h1>"
   ]
  },
  {
   "cell_type": "code",
   "execution_count": 7,
   "id": "35ad83b8",
   "metadata": {},
   "outputs": [
    {
     "data": {
      "text/html": [
       "<pre style=\"white-space:pre;overflow-x:auto;line-height:normal;font-family:Menlo,'DejaVu Sans Mono',consolas,'Courier New',monospace\"><span style=\"font-weight: bold\">Model: \"sequential\"</span>\n",
       "</pre>\n"
      ],
      "text/plain": [
       "\u001b[1mModel: \"sequential\"\u001b[0m\n"
      ]
     },
     "metadata": {},
     "output_type": "display_data"
    },
    {
     "data": {
      "text/html": [
       "<pre style=\"white-space:pre;overflow-x:auto;line-height:normal;font-family:Menlo,'DejaVu Sans Mono',consolas,'Courier New',monospace\">┏━━━━━━━━━━━━━━━━━━━━━━━━━━━━━━━━━┳━━━━━━━━━━━━━━━━━━━━━━━━┳━━━━━━━━━━━━━━━┓\n",
       "┃<span style=\"font-weight: bold\"> Layer (type)                    </span>┃<span style=\"font-weight: bold\"> Output Shape           </span>┃<span style=\"font-weight: bold\">       Param # </span>┃\n",
       "┡━━━━━━━━━━━━━━━━━━━━━━━━━━━━━━━━━╇━━━━━━━━━━━━━━━━━━━━━━━━╇━━━━━━━━━━━━━━━┩\n",
       "│ dense (<span style=\"color: #0087ff; text-decoration-color: #0087ff\">Dense</span>)                   │ (<span style=\"color: #00d7ff; text-decoration-color: #00d7ff\">None</span>, <span style=\"color: #00af00; text-decoration-color: #00af00\">16</span>)             │            <span style=\"color: #00af00; text-decoration-color: #00af00\">80</span> │\n",
       "├─────────────────────────────────┼────────────────────────┼───────────────┤\n",
       "│ dropout (<span style=\"color: #0087ff; text-decoration-color: #0087ff\">Dropout</span>)               │ (<span style=\"color: #00d7ff; text-decoration-color: #00d7ff\">None</span>, <span style=\"color: #00af00; text-decoration-color: #00af00\">16</span>)             │             <span style=\"color: #00af00; text-decoration-color: #00af00\">0</span> │\n",
       "├─────────────────────────────────┼────────────────────────┼───────────────┤\n",
       "│ dense_1 (<span style=\"color: #0087ff; text-decoration-color: #0087ff\">Dense</span>)                 │ (<span style=\"color: #00d7ff; text-decoration-color: #00d7ff\">None</span>, <span style=\"color: #00af00; text-decoration-color: #00af00\">12</span>)             │           <span style=\"color: #00af00; text-decoration-color: #00af00\">204</span> │\n",
       "├─────────────────────────────────┼────────────────────────┼───────────────┤\n",
       "│ dense_2 (<span style=\"color: #0087ff; text-decoration-color: #0087ff\">Dense</span>)                 │ (<span style=\"color: #00d7ff; text-decoration-color: #00d7ff\">None</span>, <span style=\"color: #00af00; text-decoration-color: #00af00\">3</span>)              │            <span style=\"color: #00af00; text-decoration-color: #00af00\">39</span> │\n",
       "└─────────────────────────────────┴────────────────────────┴───────────────┘\n",
       "</pre>\n"
      ],
      "text/plain": [
       "┏━━━━━━━━━━━━━━━━━━━━━━━━━━━━━━━━━┳━━━━━━━━━━━━━━━━━━━━━━━━┳━━━━━━━━━━━━━━━┓\n",
       "┃\u001b[1m \u001b[0m\u001b[1mLayer (type)                   \u001b[0m\u001b[1m \u001b[0m┃\u001b[1m \u001b[0m\u001b[1mOutput Shape          \u001b[0m\u001b[1m \u001b[0m┃\u001b[1m \u001b[0m\u001b[1m      Param #\u001b[0m\u001b[1m \u001b[0m┃\n",
       "┡━━━━━━━━━━━━━━━━━━━━━━━━━━━━━━━━━╇━━━━━━━━━━━━━━━━━━━━━━━━╇━━━━━━━━━━━━━━━┩\n",
       "│ dense (\u001b[38;5;33mDense\u001b[0m)                   │ (\u001b[38;5;45mNone\u001b[0m, \u001b[38;5;34m16\u001b[0m)             │            \u001b[38;5;34m80\u001b[0m │\n",
       "├─────────────────────────────────┼────────────────────────┼───────────────┤\n",
       "│ dropout (\u001b[38;5;33mDropout\u001b[0m)               │ (\u001b[38;5;45mNone\u001b[0m, \u001b[38;5;34m16\u001b[0m)             │             \u001b[38;5;34m0\u001b[0m │\n",
       "├─────────────────────────────────┼────────────────────────┼───────────────┤\n",
       "│ dense_1 (\u001b[38;5;33mDense\u001b[0m)                 │ (\u001b[38;5;45mNone\u001b[0m, \u001b[38;5;34m12\u001b[0m)             │           \u001b[38;5;34m204\u001b[0m │\n",
       "├─────────────────────────────────┼────────────────────────┼───────────────┤\n",
       "│ dense_2 (\u001b[38;5;33mDense\u001b[0m)                 │ (\u001b[38;5;45mNone\u001b[0m, \u001b[38;5;34m3\u001b[0m)              │            \u001b[38;5;34m39\u001b[0m │\n",
       "└─────────────────────────────────┴────────────────────────┴───────────────┘\n"
      ]
     },
     "metadata": {},
     "output_type": "display_data"
    },
    {
     "data": {
      "text/html": [
       "<pre style=\"white-space:pre;overflow-x:auto;line-height:normal;font-family:Menlo,'DejaVu Sans Mono',consolas,'Courier New',monospace\"><span style=\"font-weight: bold\"> Total params: </span><span style=\"color: #00af00; text-decoration-color: #00af00\">323</span> (1.26 KB)\n",
       "</pre>\n"
      ],
      "text/plain": [
       "\u001b[1m Total params: \u001b[0m\u001b[38;5;34m323\u001b[0m (1.26 KB)\n"
      ]
     },
     "metadata": {},
     "output_type": "display_data"
    },
    {
     "data": {
      "text/html": [
       "<pre style=\"white-space:pre;overflow-x:auto;line-height:normal;font-family:Menlo,'DejaVu Sans Mono',consolas,'Courier New',monospace\"><span style=\"font-weight: bold\"> Trainable params: </span><span style=\"color: #00af00; text-decoration-color: #00af00\">323</span> (1.26 KB)\n",
       "</pre>\n"
      ],
      "text/plain": [
       "\u001b[1m Trainable params: \u001b[0m\u001b[38;5;34m323\u001b[0m (1.26 KB)\n"
      ]
     },
     "metadata": {},
     "output_type": "display_data"
    },
    {
     "data": {
      "text/html": [
       "<pre style=\"white-space:pre;overflow-x:auto;line-height:normal;font-family:Menlo,'DejaVu Sans Mono',consolas,'Courier New',monospace\"><span style=\"font-weight: bold\"> Non-trainable params: </span><span style=\"color: #00af00; text-decoration-color: #00af00\">0</span> (0.00 B)\n",
       "</pre>\n"
      ],
      "text/plain": [
       "\u001b[1m Non-trainable params: \u001b[0m\u001b[38;5;34m0\u001b[0m (0.00 B)\n"
      ]
     },
     "metadata": {},
     "output_type": "display_data"
    }
   ],
   "source": [
    "# I am going to build the model now, I will use Sequential model \n",
    "model = Sequential()\n",
    "model.add(Input(shape=(4,))) \n",
    "model.add(Dense(16, activation='relu', kernel_regularizer=tf.keras.regularizers.l2(0.001)))\n",
    "#model.add(BatchNormalization())\n",
    "model.add(Dropout(0.1))\n",
    "model.add(Dense(12, activation='relu'))\n",
    "#model.add(BatchNormalization())\n",
    "model.add(Dense(3, activation='softmax'))\n",
    "model.summary()"
   ]
  },
  {
   "cell_type": "code",
   "execution_count": 8,
   "id": "21499142",
   "metadata": {},
   "outputs": [],
   "source": [
    "# Compiling the model:\n",
    "# I am going to use catergorical crossentropy because it is used for multi class \n",
    "model.compile(optimizer='adam', loss='categorical_crossentropy', metrics=['accuracy', tf.keras.metrics.AUC(multi_label=False)])\n",
    "# Early stopping \n",
    "early_stop = EarlyStopping(monitor='val_loss', patience=3, restore_best_weights=True, verbose=1)\n",
    "# Reducing learning rate when stuck\n",
    "reduce_lr = ReduceLROnPlateau(monitor='val_loss',factor=0.5, patience=7, verbose=1)\n",
    "# Save best model\n",
    "checkpoint = ModelCheckpoint('best_astro_model.h5', monitor='val_accuracy', save_best_only=True, mode='max', verbose=1)"
   ]
  },
  {
   "cell_type": "code",
   "execution_count": 9,
   "id": "065da4ad",
   "metadata": {},
   "outputs": [
    {
     "name": "stdout",
     "output_type": "stream",
     "text": [
      "Epoch 1/30\n",
      "\u001b[1m255/274\u001b[0m \u001b[32m━━━━━━━━━━━━━━━━━━\u001b[0m\u001b[37m━━\u001b[0m \u001b[1m0s\u001b[0m 929us/step - accuracy: 0.4468 - auc: 0.6582 - loss: 0.8699\n",
      "Epoch 1: val_accuracy improved from None to 0.75453, saving model to best_astro_model.h5\n"
     ]
    },
    {
     "name": "stderr",
     "output_type": "stream",
     "text": [
      "WARNING:absl:You are saving your model as an HDF5 file via `model.save()` or `keras.saving.save_model(model)`. This file format is considered legacy. We recommend using instead the native Keras format, e.g. `model.save('my_model.keras')` or `keras.saving.save_model(model, 'my_model.keras')`. \n"
     ]
    },
    {
     "name": "stdout",
     "output_type": "stream",
     "text": [
      "\u001b[1m274/274\u001b[0m \u001b[32m━━━━━━━━━━━━━━━━━━━━\u001b[0m\u001b[37m\u001b[0m \u001b[1m1s\u001b[0m 2ms/step - accuracy: 0.5748 - auc: 0.7989 - loss: 0.7115 - val_accuracy: 0.7545 - val_auc: 0.9114 - val_loss: 0.5877 - learning_rate: 0.0010\n",
      "Epoch 2/30\n",
      "\u001b[1m273/274\u001b[0m \u001b[32m━━━━━━━━━━━━━━━━━━━\u001b[0m\u001b[37m━\u001b[0m \u001b[1m0s\u001b[0m 871us/step - accuracy: 0.7533 - auc: 0.9142 - loss: 0.4625\n",
      "Epoch 2: val_accuracy improved from 0.75453 to 0.84207, saving model to best_astro_model.h5\n"
     ]
    },
    {
     "name": "stderr",
     "output_type": "stream",
     "text": [
      "WARNING:absl:You are saving your model as an HDF5 file via `model.save()` or `keras.saving.save_model(model)`. This file format is considered legacy. We recommend using instead the native Keras format, e.g. `model.save('my_model.keras')` or `keras.saving.save_model(model, 'my_model.keras')`. \n"
     ]
    },
    {
     "name": "stdout",
     "output_type": "stream",
     "text": [
      "\u001b[1m274/274\u001b[0m \u001b[32m━━━━━━━━━━━━━━━━━━━━\u001b[0m\u001b[37m\u001b[0m \u001b[1m0s\u001b[0m 1ms/step - accuracy: 0.7787 - auc: 0.9308 - loss: 0.4447 - val_accuracy: 0.8421 - val_auc: 0.9623 - val_loss: 0.3849 - learning_rate: 0.0010\n",
      "Epoch 3/30\n",
      "\u001b[1m220/274\u001b[0m \u001b[32m━━━━━━━━━━━━━━━━\u001b[0m\u001b[37m━━━━\u001b[0m \u001b[1m0s\u001b[0m 866us/step - accuracy: 0.8388 - auc: 0.9575 - loss: 0.4040\n",
      "Epoch 3: val_accuracy improved from 0.84207 to 0.91027, saving model to best_astro_model.h5\n"
     ]
    },
    {
     "name": "stderr",
     "output_type": "stream",
     "text": [
      "WARNING:absl:You are saving your model as an HDF5 file via `model.save()` or `keras.saving.save_model(model)`. This file format is considered legacy. We recommend using instead the native Keras format, e.g. `model.save('my_model.keras')` or `keras.saving.save_model(model, 'my_model.keras')`. \n"
     ]
    },
    {
     "name": "stdout",
     "output_type": "stream",
     "text": [
      "\u001b[1m274/274\u001b[0m \u001b[32m━━━━━━━━━━━━━━━━━━━━\u001b[0m\u001b[37m\u001b[0m \u001b[1m0s\u001b[0m 1ms/step - accuracy: 0.8550 - auc: 0.9625 - loss: 0.3461 - val_accuracy: 0.9103 - val_auc: 0.9767 - val_loss: 0.2944 - learning_rate: 0.0010\n",
      "Epoch 4/30\n",
      "\u001b[1m205/274\u001b[0m \u001b[32m━━━━━━━━━━━━━━\u001b[0m\u001b[37m━━━━━━\u001b[0m \u001b[1m0s\u001b[0m 851us/step - accuracy: 0.8803 - auc: 0.9686 - loss: 0.3015\n",
      "Epoch 4: val_accuracy improved from 0.91027 to 0.92253, saving model to best_astro_model.h5\n"
     ]
    },
    {
     "name": "stderr",
     "output_type": "stream",
     "text": [
      "WARNING:absl:You are saving your model as an HDF5 file via `model.save()` or `keras.saving.save_model(model)`. This file format is considered legacy. We recommend using instead the native Keras format, e.g. `model.save('my_model.keras')` or `keras.saving.save_model(model, 'my_model.keras')`. \n"
     ]
    },
    {
     "name": "stdout",
     "output_type": "stream",
     "text": [
      "\u001b[1m274/274\u001b[0m \u001b[32m━━━━━━━━━━━━━━━━━━━━\u001b[0m\u001b[37m\u001b[0m \u001b[1m0s\u001b[0m 1ms/step - accuracy: 0.8879 - auc: 0.9715 - loss: 0.3005 - val_accuracy: 0.9225 - val_auc: 0.9795 - val_loss: 0.2680 - learning_rate: 0.0010\n",
      "Epoch 5/30\n",
      "\u001b[1m274/274\u001b[0m \u001b[32m━━━━━━━━━━━━━━━━━━━━\u001b[0m\u001b[37m\u001b[0m \u001b[1m0s\u001b[0m 861us/step - accuracy: 0.9017 - auc: 0.9753 - loss: 0.3062\n",
      "Epoch 5: val_accuracy improved from 0.92253 to 0.92287, saving model to best_astro_model.h5\n"
     ]
    },
    {
     "name": "stderr",
     "output_type": "stream",
     "text": [
      "WARNING:absl:You are saving your model as an HDF5 file via `model.save()` or `keras.saving.save_model(model)`. This file format is considered legacy. We recommend using instead the native Keras format, e.g. `model.save('my_model.keras')` or `keras.saving.save_model(model, 'my_model.keras')`. \n"
     ]
    },
    {
     "name": "stdout",
     "output_type": "stream",
     "text": [
      "\u001b[1m274/274\u001b[0m \u001b[32m━━━━━━━━━━━━━━━━━━━━\u001b[0m\u001b[37m\u001b[0m \u001b[1m0s\u001b[0m 1ms/step - accuracy: 0.9036 - auc: 0.9759 - loss: 0.2808 - val_accuracy: 0.9229 - val_auc: 0.9803 - val_loss: 0.2574 - learning_rate: 0.0010\n",
      "Epoch 6/30\n",
      "\u001b[1m271/274\u001b[0m \u001b[32m━━━━━━━━━━━━━━━━━━━\u001b[0m\u001b[37m━\u001b[0m \u001b[1m0s\u001b[0m 867us/step - accuracy: 0.9092 - auc: 0.9773 - loss: 0.2490\n",
      "Epoch 6: val_accuracy improved from 0.92287 to 0.93527, saving model to best_astro_model.h5\n"
     ]
    },
    {
     "name": "stderr",
     "output_type": "stream",
     "text": [
      "WARNING:absl:You are saving your model as an HDF5 file via `model.save()` or `keras.saving.save_model(model)`. This file format is considered legacy. We recommend using instead the native Keras format, e.g. `model.save('my_model.keras')` or `keras.saving.save_model(model, 'my_model.keras')`. \n"
     ]
    },
    {
     "name": "stdout",
     "output_type": "stream",
     "text": [
      "\u001b[1m274/274\u001b[0m \u001b[32m━━━━━━━━━━━━━━━━━━━━\u001b[0m\u001b[37m\u001b[0m \u001b[1m0s\u001b[0m 1ms/step - accuracy: 0.9140 - auc: 0.9785 - loss: 0.2617 - val_accuracy: 0.9353 - val_auc: 0.9830 - val_loss: 0.2347 - learning_rate: 0.0010\n",
      "Epoch 7/30\n",
      "\u001b[1m218/274\u001b[0m \u001b[32m━━━━━━━━━━━━━━━\u001b[0m\u001b[37m━━━━━\u001b[0m \u001b[1m0s\u001b[0m 869us/step - accuracy: 0.9165 - auc: 0.9793 - loss: 0.2764\n",
      "Epoch 7: val_accuracy improved from 0.93527 to 0.93587, saving model to best_astro_model.h5\n"
     ]
    },
    {
     "name": "stderr",
     "output_type": "stream",
     "text": [
      "WARNING:absl:You are saving your model as an HDF5 file via `model.save()` or `keras.saving.save_model(model)`. This file format is considered legacy. We recommend using instead the native Keras format, e.g. `model.save('my_model.keras')` or `keras.saving.save_model(model, 'my_model.keras')`. \n"
     ]
    },
    {
     "name": "stdout",
     "output_type": "stream",
     "text": [
      "\u001b[1m274/274\u001b[0m \u001b[32m━━━━━━━━━━━━━━━━━━━━\u001b[0m\u001b[37m\u001b[0m \u001b[1m0s\u001b[0m 1ms/step - accuracy: 0.9192 - auc: 0.9802 - loss: 0.2427 - val_accuracy: 0.9359 - val_auc: 0.9838 - val_loss: 0.2291 - learning_rate: 0.0010\n",
      "Epoch 8/30\n",
      "\u001b[1m218/274\u001b[0m \u001b[32m━━━━━━━━━━━━━━━\u001b[0m\u001b[37m━━━━━\u001b[0m \u001b[1m0s\u001b[0m 872us/step - accuracy: 0.9225 - auc: 0.9811 - loss: 0.2238\n",
      "Epoch 8: val_accuracy improved from 0.93587 to 0.93667, saving model to best_astro_model.h5\n"
     ]
    },
    {
     "name": "stderr",
     "output_type": "stream",
     "text": [
      "WARNING:absl:You are saving your model as an HDF5 file via `model.save()` or `keras.saving.save_model(model)`. This file format is considered legacy. We recommend using instead the native Keras format, e.g. `model.save('my_model.keras')` or `keras.saving.save_model(model, 'my_model.keras')`. \n"
     ]
    },
    {
     "name": "stdout",
     "output_type": "stream",
     "text": [
      "\u001b[1m274/274\u001b[0m \u001b[32m━━━━━━━━━━━━━━━━━━━━\u001b[0m\u001b[37m\u001b[0m \u001b[1m0s\u001b[0m 1ms/step - accuracy: 0.9238 - auc: 0.9816 - loss: 0.2373 - val_accuracy: 0.9367 - val_auc: 0.9840 - val_loss: 0.2284 - learning_rate: 0.0010\n",
      "Epoch 9/30\n",
      "\u001b[1m265/274\u001b[0m \u001b[32m━━━━━━━━━━━━━━━━━━━\u001b[0m\u001b[37m━\u001b[0m \u001b[1m0s\u001b[0m 880us/step - accuracy: 0.9259 - auc: 0.9826 - loss: 0.2181\n",
      "Epoch 9: val_accuracy improved from 0.93667 to 0.94100, saving model to best_astro_model.h5\n"
     ]
    },
    {
     "name": "stderr",
     "output_type": "stream",
     "text": [
      "WARNING:absl:You are saving your model as an HDF5 file via `model.save()` or `keras.saving.save_model(model)`. This file format is considered legacy. We recommend using instead the native Keras format, e.g. `model.save('my_model.keras')` or `keras.saving.save_model(model, 'my_model.keras')`. \n"
     ]
    },
    {
     "name": "stdout",
     "output_type": "stream",
     "text": [
      "\u001b[1m274/274\u001b[0m \u001b[32m━━━━━━━━━━━━━━━━━━━━\u001b[0m\u001b[37m\u001b[0m \u001b[1m0s\u001b[0m 1ms/step - accuracy: 0.9265 - auc: 0.9827 - loss: 0.2282 - val_accuracy: 0.9410 - val_auc: 0.9853 - val_loss: 0.2178 - learning_rate: 0.0010\n",
      "Epoch 10/30\n",
      "\u001b[1m207/274\u001b[0m \u001b[32m━━━━━━━━━━━━━━━\u001b[0m\u001b[37m━━━━━\u001b[0m \u001b[1m0s\u001b[0m 858us/step - accuracy: 0.9304 - auc: 0.9834 - loss: 0.2125\n",
      "Epoch 10: val_accuracy did not improve from 0.94100\n",
      "\u001b[1m274/274\u001b[0m \u001b[32m━━━━━━━━━━━━━━━━━━━━\u001b[0m\u001b[37m\u001b[0m \u001b[1m0s\u001b[0m 1ms/step - accuracy: 0.9305 - auc: 0.9838 - loss: 0.2159 - val_accuracy: 0.9383 - val_auc: 0.9848 - val_loss: 0.2225 - learning_rate: 0.0010\n",
      "Epoch 11/30\n",
      "\u001b[1m212/274\u001b[0m \u001b[32m━━━━━━━━━━━━━━━\u001b[0m\u001b[37m━━━━━\u001b[0m \u001b[1m0s\u001b[0m 897us/step - accuracy: 0.9331 - auc: 0.9844 - loss: 0.2066\n",
      "Epoch 11: val_accuracy improved from 0.94100 to 0.94287, saving model to best_astro_model.h5\n"
     ]
    },
    {
     "name": "stderr",
     "output_type": "stream",
     "text": [
      "WARNING:absl:You are saving your model as an HDF5 file via `model.save()` or `keras.saving.save_model(model)`. This file format is considered legacy. We recommend using instead the native Keras format, e.g. `model.save('my_model.keras')` or `keras.saving.save_model(model, 'my_model.keras')`. \n"
     ]
    },
    {
     "name": "stdout",
     "output_type": "stream",
     "text": [
      "\u001b[1m274/274\u001b[0m \u001b[32m━━━━━━━━━━━━━━━━━━━━\u001b[0m\u001b[37m\u001b[0m \u001b[1m0s\u001b[0m 1ms/step - accuracy: 0.9338 - auc: 0.9846 - loss: 0.2072 - val_accuracy: 0.9429 - val_auc: 0.9858 - val_loss: 0.2128 - learning_rate: 0.0010\n",
      "Epoch 12/30\n",
      "\u001b[1m270/274\u001b[0m \u001b[32m━━━━━━━━━━━━━━━━━━━\u001b[0m\u001b[37m━\u001b[0m \u001b[1m0s\u001b[0m 863us/step - accuracy: 0.9359 - auc: 0.9851 - loss: 0.2020\n",
      "Epoch 12: val_accuracy improved from 0.94287 to 0.94307, saving model to best_astro_model.h5\n"
     ]
    },
    {
     "name": "stderr",
     "output_type": "stream",
     "text": [
      "WARNING:absl:You are saving your model as an HDF5 file via `model.save()` or `keras.saving.save_model(model)`. This file format is considered legacy. We recommend using instead the native Keras format, e.g. `model.save('my_model.keras')` or `keras.saving.save_model(model, 'my_model.keras')`. \n"
     ]
    },
    {
     "name": "stdout",
     "output_type": "stream",
     "text": [
      "\u001b[1m274/274\u001b[0m \u001b[32m━━━━━━━━━━━━━━━━━━━━\u001b[0m\u001b[37m\u001b[0m \u001b[1m0s\u001b[0m 1ms/step - accuracy: 0.9367 - auc: 0.9852 - loss: 0.2019 - val_accuracy: 0.9431 - val_auc: 0.9859 - val_loss: 0.2117 - learning_rate: 0.0010\n",
      "Epoch 13/30\n",
      "\u001b[1m261/274\u001b[0m \u001b[32m━━━━━━━━━━━━━━━━━━━\u001b[0m\u001b[37m━\u001b[0m \u001b[1m0s\u001b[0m 931us/step - accuracy: 0.9379 - auc: 0.9854 - loss: 0.1944\n",
      "Epoch 13: val_accuracy improved from 0.94307 to 0.94673, saving model to best_astro_model.h5\n"
     ]
    },
    {
     "name": "stderr",
     "output_type": "stream",
     "text": [
      "WARNING:absl:You are saving your model as an HDF5 file via `model.save()` or `keras.saving.save_model(model)`. This file format is considered legacy. We recommend using instead the native Keras format, e.g. `model.save('my_model.keras')` or `keras.saving.save_model(model, 'my_model.keras')`. \n"
     ]
    },
    {
     "name": "stdout",
     "output_type": "stream",
     "text": [
      "\u001b[1m274/274\u001b[0m \u001b[32m━━━━━━━━━━━━━━━━━━━━\u001b[0m\u001b[37m\u001b[0m \u001b[1m0s\u001b[0m 1ms/step - accuracy: 0.9383 - auc: 0.9858 - loss: 0.1941 - val_accuracy: 0.9467 - val_auc: 0.9866 - val_loss: 0.2023 - learning_rate: 0.0010\n",
      "Epoch 14/30\n",
      "\u001b[1m269/274\u001b[0m \u001b[32m━━━━━━━━━━━━━━━━━━━\u001b[0m\u001b[37m━\u001b[0m \u001b[1m0s\u001b[0m 897us/step - accuracy: 0.9392 - auc: 0.9856 - loss: 0.1933\n",
      "Epoch 14: val_accuracy improved from 0.94673 to 0.95080, saving model to best_astro_model.h5\n"
     ]
    },
    {
     "name": "stderr",
     "output_type": "stream",
     "text": [
      "WARNING:absl:You are saving your model as an HDF5 file via `model.save()` or `keras.saving.save_model(model)`. This file format is considered legacy. We recommend using instead the native Keras format, e.g. `model.save('my_model.keras')` or `keras.saving.save_model(model, 'my_model.keras')`. \n"
     ]
    },
    {
     "name": "stdout",
     "output_type": "stream",
     "text": [
      "\u001b[1m274/274\u001b[0m \u001b[32m━━━━━━━━━━━━━━━━━━━━\u001b[0m\u001b[37m\u001b[0m \u001b[1m0s\u001b[0m 1ms/step - accuracy: 0.9399 - auc: 0.9860 - loss: 0.1908 - val_accuracy: 0.9508 - val_auc: 0.9874 - val_loss: 0.1952 - learning_rate: 0.0010\n",
      "Epoch 15/30\n",
      "\u001b[1m228/274\u001b[0m \u001b[32m━━━━━━━━━━━━━━━━\u001b[0m\u001b[37m━━━━\u001b[0m \u001b[1m0s\u001b[0m 835us/step - accuracy: 0.9404 - auc: 0.9867 - loss: 0.1891\n",
      "Epoch 15: val_accuracy improved from 0.95080 to 0.95187, saving model to best_astro_model.h5\n"
     ]
    },
    {
     "name": "stderr",
     "output_type": "stream",
     "text": [
      "WARNING:absl:You are saving your model as an HDF5 file via `model.save()` or `keras.saving.save_model(model)`. This file format is considered legacy. We recommend using instead the native Keras format, e.g. `model.save('my_model.keras')` or `keras.saving.save_model(model, 'my_model.keras')`. \n"
     ]
    },
    {
     "name": "stdout",
     "output_type": "stream",
     "text": [
      "\u001b[1m274/274\u001b[0m \u001b[32m━━━━━━━━━━━━━━━━━━━━\u001b[0m\u001b[37m\u001b[0m \u001b[1m0s\u001b[0m 1ms/step - accuracy: 0.9415 - auc: 0.9867 - loss: 0.1867 - val_accuracy: 0.9519 - val_auc: 0.9878 - val_loss: 0.1902 - learning_rate: 0.0010\n",
      "Epoch 16/30\n",
      "\u001b[1m224/274\u001b[0m \u001b[32m━━━━━━━━━━━━━━━━\u001b[0m\u001b[37m━━━━\u001b[0m \u001b[1m0s\u001b[0m 850us/step - accuracy: 0.9432 - auc: 0.9869 - loss: 0.1857\n",
      "Epoch 16: val_accuracy improved from 0.95187 to 0.95367, saving model to best_astro_model.h5\n"
     ]
    },
    {
     "name": "stderr",
     "output_type": "stream",
     "text": [
      "WARNING:absl:You are saving your model as an HDF5 file via `model.save()` or `keras.saving.save_model(model)`. This file format is considered legacy. We recommend using instead the native Keras format, e.g. `model.save('my_model.keras')` or `keras.saving.save_model(model, 'my_model.keras')`. \n"
     ]
    },
    {
     "name": "stdout",
     "output_type": "stream",
     "text": [
      "\u001b[1m274/274\u001b[0m \u001b[32m━━━━━━━━━━━━━━━━━━━━\u001b[0m\u001b[37m\u001b[0m \u001b[1m0s\u001b[0m 1ms/step - accuracy: 0.9432 - auc: 0.9869 - loss: 0.1843 - val_accuracy: 0.9537 - val_auc: 0.9881 - val_loss: 0.1862 - learning_rate: 0.0010\n",
      "Epoch 17/30\n",
      "\u001b[1m224/274\u001b[0m \u001b[32m━━━━━━━━━━━━━━━━\u001b[0m\u001b[37m━━━━\u001b[0m \u001b[1m0s\u001b[0m 848us/step - accuracy: 0.9441 - auc: 0.9876 - loss: 0.1805\n",
      "Epoch 17: val_accuracy did not improve from 0.95367\n",
      "\u001b[1m274/274\u001b[0m \u001b[32m━━━━━━━━━━━━━━━━━━━━\u001b[0m\u001b[37m\u001b[0m \u001b[1m0s\u001b[0m 1ms/step - accuracy: 0.9440 - auc: 0.9873 - loss: 0.1810 - val_accuracy: 0.9520 - val_auc: 0.9877 - val_loss: 0.1895 - learning_rate: 0.0010\n",
      "Epoch 18/30\n",
      "\u001b[1m274/274\u001b[0m \u001b[32m━━━━━━━━━━━━━━━━━━━━\u001b[0m\u001b[37m\u001b[0m \u001b[1m0s\u001b[0m 863us/step - accuracy: 0.9442 - auc: 0.9874 - loss: 0.1805\n",
      "Epoch 18: val_accuracy improved from 0.95367 to 0.95407, saving model to best_astro_model.h5\n"
     ]
    },
    {
     "name": "stderr",
     "output_type": "stream",
     "text": [
      "WARNING:absl:You are saving your model as an HDF5 file via `model.save()` or `keras.saving.save_model(model)`. This file format is considered legacy. We recommend using instead the native Keras format, e.g. `model.save('my_model.keras')` or `keras.saving.save_model(model, 'my_model.keras')`. \n"
     ]
    },
    {
     "name": "stdout",
     "output_type": "stream",
     "text": [
      "\u001b[1m274/274\u001b[0m \u001b[32m━━━━━━━━━━━━━━━━━━━━\u001b[0m\u001b[37m\u001b[0m \u001b[1m0s\u001b[0m 1ms/step - accuracy: 0.9448 - auc: 0.9873 - loss: 0.1804 - val_accuracy: 0.9541 - val_auc: 0.9881 - val_loss: 0.1829 - learning_rate: 0.0010\n",
      "Epoch 19/30\n",
      "\u001b[1m268/274\u001b[0m \u001b[32m━━━━━━━━━━━━━━━━━━━\u001b[0m\u001b[37m━\u001b[0m \u001b[1m0s\u001b[0m 902us/step - accuracy: 0.9469 - auc: 0.9876 - loss: 0.1771\n",
      "Epoch 19: val_accuracy did not improve from 0.95407\n",
      "\u001b[1m274/274\u001b[0m \u001b[32m━━━━━━━━━━━━━━━━━━━━\u001b[0m\u001b[37m\u001b[0m \u001b[1m0s\u001b[0m 1ms/step - accuracy: 0.9467 - auc: 0.9876 - loss: 0.1774 - val_accuracy: 0.9531 - val_auc: 0.9878 - val_loss: 0.1873 - learning_rate: 0.0010\n",
      "Epoch 20/30\n",
      "\u001b[1m268/274\u001b[0m \u001b[32m━━━━━━━━━━━━━━━━━━━\u001b[0m\u001b[37m━\u001b[0m \u001b[1m0s\u001b[0m 887us/step - accuracy: 0.9459 - auc: 0.9870 - loss: 0.1799\n",
      "Epoch 20: val_accuracy improved from 0.95407 to 0.95567, saving model to best_astro_model.h5\n"
     ]
    },
    {
     "name": "stderr",
     "output_type": "stream",
     "text": [
      "WARNING:absl:You are saving your model as an HDF5 file via `model.save()` or `keras.saving.save_model(model)`. This file format is considered legacy. We recommend using instead the native Keras format, e.g. `model.save('my_model.keras')` or `keras.saving.save_model(model, 'my_model.keras')`. \n"
     ]
    },
    {
     "name": "stdout",
     "output_type": "stream",
     "text": [
      "\u001b[1m274/274\u001b[0m \u001b[32m━━━━━━━━━━━━━━━━━━━━\u001b[0m\u001b[37m\u001b[0m \u001b[1m0s\u001b[0m 1ms/step - accuracy: 0.9476 - auc: 0.9876 - loss: 0.1748 - val_accuracy: 0.9557 - val_auc: 0.9886 - val_loss: 0.1766 - learning_rate: 0.0010\n",
      "Epoch 21/30\n",
      "\u001b[1m229/274\u001b[0m \u001b[32m━━━━━━━━━━━━━━━━\u001b[0m\u001b[37m━━━━\u001b[0m \u001b[1m0s\u001b[0m 835us/step - accuracy: 0.9478 - auc: 0.9879 - loss: 0.1747\n",
      "Epoch 21: val_accuracy did not improve from 0.95567\n",
      "\u001b[1m274/274\u001b[0m \u001b[32m━━━━━━━━━━━━━━━━━━━━\u001b[0m\u001b[37m\u001b[0m \u001b[1m0s\u001b[0m 1ms/step - accuracy: 0.9470 - auc: 0.9877 - loss: 0.1740 - val_accuracy: 0.9552 - val_auc: 0.9886 - val_loss: 0.1769 - learning_rate: 0.0010\n",
      "Epoch 22/30\n",
      "\u001b[1m200/274\u001b[0m \u001b[32m━━━━━━━━━━━━━━\u001b[0m\u001b[37m━━━━━━\u001b[0m \u001b[1m0s\u001b[0m 858us/step - accuracy: 0.9474 - auc: 0.9879 - loss: 0.1729\n",
      "Epoch 22: val_accuracy improved from 0.95567 to 0.95713, saving model to best_astro_model.h5\n"
     ]
    },
    {
     "name": "stderr",
     "output_type": "stream",
     "text": [
      "WARNING:absl:You are saving your model as an HDF5 file via `model.save()` or `keras.saving.save_model(model)`. This file format is considered legacy. We recommend using instead the native Keras format, e.g. `model.save('my_model.keras')` or `keras.saving.save_model(model, 'my_model.keras')`. \n"
     ]
    },
    {
     "name": "stdout",
     "output_type": "stream",
     "text": [
      "\u001b[1m274/274\u001b[0m \u001b[32m━━━━━━━━━━━━━━━━━━━━\u001b[0m\u001b[37m\u001b[0m \u001b[1m0s\u001b[0m 1ms/step - accuracy: 0.9486 - auc: 0.9881 - loss: 0.1710 - val_accuracy: 0.9571 - val_auc: 0.9890 - val_loss: 0.1705 - learning_rate: 0.0010\n",
      "Epoch 23/30\n",
      "\u001b[1m227/274\u001b[0m \u001b[32m━━━━━━━━━━━━━━━━\u001b[0m\u001b[37m━━━━\u001b[0m \u001b[1m0s\u001b[0m 839us/step - accuracy: 0.9494 - auc: 0.9883 - loss: 0.1701\n",
      "Epoch 23: val_accuracy did not improve from 0.95713\n",
      "\u001b[1m274/274\u001b[0m \u001b[32m━━━━━━━━━━━━━━━━━━━━\u001b[0m\u001b[37m\u001b[0m \u001b[1m0s\u001b[0m 1ms/step - accuracy: 0.9489 - auc: 0.9881 - loss: 0.1706 - val_accuracy: 0.9555 - val_auc: 0.9887 - val_loss: 0.1741 - learning_rate: 0.0010\n",
      "Epoch 24/30\n",
      "\u001b[1m215/274\u001b[0m \u001b[32m━━━━━━━━━━━━━━━\u001b[0m\u001b[37m━━━━━\u001b[0m \u001b[1m0s\u001b[0m 886us/step - accuracy: 0.9500 - auc: 0.9886 - loss: 0.1660\n",
      "Epoch 24: val_accuracy improved from 0.95713 to 0.95827, saving model to best_astro_model.h5\n"
     ]
    },
    {
     "name": "stderr",
     "output_type": "stream",
     "text": [
      "WARNING:absl:You are saving your model as an HDF5 file via `model.save()` or `keras.saving.save_model(model)`. This file format is considered legacy. We recommend using instead the native Keras format, e.g. `model.save('my_model.keras')` or `keras.saving.save_model(model, 'my_model.keras')`. \n"
     ]
    },
    {
     "name": "stdout",
     "output_type": "stream",
     "text": [
      "\u001b[1m274/274\u001b[0m \u001b[32m━━━━━━━━━━━━━━━━━━━━\u001b[0m\u001b[37m\u001b[0m \u001b[1m0s\u001b[0m 1ms/step - accuracy: 0.9501 - auc: 0.9882 - loss: 0.1685 - val_accuracy: 0.9583 - val_auc: 0.9892 - val_loss: 0.1691 - learning_rate: 0.0010\n",
      "Epoch 25/30\n",
      "\u001b[1m252/274\u001b[0m \u001b[32m━━━━━━━━━━━━━━━━━━\u001b[0m\u001b[37m━━\u001b[0m \u001b[1m0s\u001b[0m 855us/step - accuracy: 0.9513 - auc: 0.9888 - loss: 0.1676\n",
      "Epoch 25: val_accuracy did not improve from 0.95827\n",
      "\u001b[1m274/274\u001b[0m \u001b[32m━━━━━━━━━━━━━━━━━━━━\u001b[0m\u001b[37m\u001b[0m \u001b[1m0s\u001b[0m 1ms/step - accuracy: 0.9498 - auc: 0.9884 - loss: 0.1704 - val_accuracy: 0.9538 - val_auc: 0.9881 - val_loss: 0.1810 - learning_rate: 0.0010\n",
      "Epoch 26/30\n",
      "\u001b[1m251/274\u001b[0m \u001b[32m━━━━━━━━━━━━━━━━━━\u001b[0m\u001b[37m━━\u001b[0m \u001b[1m0s\u001b[0m 847us/step - accuracy: 0.9514 - auc: 0.9883 - loss: 0.1666\n",
      "Epoch 26: val_accuracy improved from 0.95827 to 0.95860, saving model to best_astro_model.h5\n"
     ]
    },
    {
     "name": "stderr",
     "output_type": "stream",
     "text": [
      "WARNING:absl:You are saving your model as an HDF5 file via `model.save()` or `keras.saving.save_model(model)`. This file format is considered legacy. We recommend using instead the native Keras format, e.g. `model.save('my_model.keras')` or `keras.saving.save_model(model, 'my_model.keras')`. \n"
     ]
    },
    {
     "name": "stdout",
     "output_type": "stream",
     "text": [
      "\u001b[1m274/274\u001b[0m \u001b[32m━━━━━━━━━━━━━━━━━━━━\u001b[0m\u001b[37m\u001b[0m \u001b[1m0s\u001b[0m 1ms/step - accuracy: 0.9514 - auc: 0.9885 - loss: 0.1656 - val_accuracy: 0.9586 - val_auc: 0.9892 - val_loss: 0.1633 - learning_rate: 0.0010\n",
      "Epoch 27/30\n",
      "\u001b[1m251/274\u001b[0m \u001b[32m━━━━━━━━━━━━━━━━━━\u001b[0m\u001b[37m━━\u001b[0m \u001b[1m0s\u001b[0m 833us/step - accuracy: 0.9501 - auc: 0.9889 - loss: 0.1634\n",
      "Epoch 27: val_accuracy improved from 0.95860 to 0.95887, saving model to best_astro_model.h5\n"
     ]
    },
    {
     "name": "stderr",
     "output_type": "stream",
     "text": [
      "WARNING:absl:You are saving your model as an HDF5 file via `model.save()` or `keras.saving.save_model(model)`. This file format is considered legacy. We recommend using instead the native Keras format, e.g. `model.save('my_model.keras')` or `keras.saving.save_model(model, 'my_model.keras')`. \n"
     ]
    },
    {
     "name": "stdout",
     "output_type": "stream",
     "text": [
      "\u001b[1m274/274\u001b[0m \u001b[32m━━━━━━━━━━━━━━━━━━━━\u001b[0m\u001b[37m\u001b[0m \u001b[1m0s\u001b[0m 1ms/step - accuracy: 0.9501 - auc: 0.9884 - loss: 0.1656 - val_accuracy: 0.9589 - val_auc: 0.9896 - val_loss: 0.1627 - learning_rate: 0.0010\n",
      "Epoch 28/30\n",
      "\u001b[1m255/274\u001b[0m \u001b[32m━━━━━━━━━━━━━━━━━━\u001b[0m\u001b[37m━━\u001b[0m \u001b[1m0s\u001b[0m 845us/step - accuracy: 0.9525 - auc: 0.9887 - loss: 0.1649\n",
      "Epoch 28: val_accuracy did not improve from 0.95887\n",
      "\u001b[1m274/274\u001b[0m \u001b[32m━━━━━━━━━━━━━━━━━━━━\u001b[0m\u001b[37m\u001b[0m \u001b[1m0s\u001b[0m 1ms/step - accuracy: 0.9513 - auc: 0.9886 - loss: 0.1643 - val_accuracy: 0.9565 - val_auc: 0.9887 - val_loss: 0.1717 - learning_rate: 0.0010\n",
      "Epoch 29/30\n",
      "\u001b[1m251/274\u001b[0m \u001b[32m━━━━━━━━━━━━━━━━━━\u001b[0m\u001b[37m━━\u001b[0m \u001b[1m0s\u001b[0m 838us/step - accuracy: 0.9511 - auc: 0.9881 - loss: 0.1678\n",
      "Epoch 29: val_accuracy did not improve from 0.95887\n",
      "\u001b[1m274/274\u001b[0m \u001b[32m━━━━━━━━━━━━━━━━━━━━\u001b[0m\u001b[37m\u001b[0m \u001b[1m0s\u001b[0m 1ms/step - accuracy: 0.9514 - auc: 0.9885 - loss: 0.1643 - val_accuracy: 0.9577 - val_auc: 0.9894 - val_loss: 0.1660 - learning_rate: 0.0010\n",
      "Epoch 30/30\n",
      "\u001b[1m258/274\u001b[0m \u001b[32m━━━━━━━━━━━━━━━━━━\u001b[0m\u001b[37m━━\u001b[0m \u001b[1m0s\u001b[0m 833us/step - accuracy: 0.9513 - auc: 0.9890 - loss: 0.1621\n",
      "Epoch 30: val_accuracy did not improve from 0.95887\n",
      "\u001b[1m274/274\u001b[0m \u001b[32m━━━━━━━━━━━━━━━━━━━━\u001b[0m\u001b[37m\u001b[0m \u001b[1m0s\u001b[0m 1ms/step - accuracy: 0.9516 - auc: 0.9888 - loss: 0.1624 - val_accuracy: 0.9572 - val_auc: 0.9889 - val_loss: 0.1688 - learning_rate: 0.0010\n",
      "Epoch 30: early stopping\n",
      "Restoring model weights from the end of the best epoch: 27.\n"
     ]
    }
   ],
   "source": [
    "# Training the Model\n",
    "history = model.fit(X_train, y_train, validation_data=(X_val, y_val), epochs=30, batch_size=256, class_weight=class_weight_dict,\n",
    "                    callbacks=[early_stop, reduce_lr, checkpoint], verbose=1)"
   ]
  },
  {
   "cell_type": "code",
   "execution_count": 10,
   "id": "507981b8",
   "metadata": {},
   "outputs": [
    {
     "data": {
      "text/plain": [
       "<matplotlib.legend.Legend at 0x20850d247c0>"
      ]
     },
     "execution_count": 10,
     "metadata": {},
     "output_type": "execute_result"
    },
    {
     "data": {
      "image/png": "[encoded data removed]",
      "text/plain": [
       "<Figure size 1500x800 with 1 Axes>"
      ]
     },
     "metadata": {},
     "output_type": "display_data"
    },
    {
     "data": {
      "image/png": "[encoded data removed]",
      "text/plain": [
       "<Figure size 1500x800 with 1 Axes>"
      ]
     },
     "metadata": {},
     "output_type": "display_data"
    }
   ],
   "source": [
    "fig, ax = plt.subplots(figsize=(15, 8))\n",
    "ax.plot(history.history['loss'], label='Training loss', color='orange', linewidth=2, markersize=6)\n",
    "ax.plot(history.history['val_loss'], label='Validation loss', color='blue', linewidth=2, markersize=6)\n",
    "ax.set_title('Validity and Training Loss')\n",
    "ax.set_xlabel('Epoch')\n",
    "ax.set_ylabel('Loss')\n",
    "ax.legend()\n",
    "\n",
    "fig, ax = plt.subplots(figsize=(15, 8))\n",
    "ax.plot(history.history['accuracy'], label='Training accuracy', color='orange', linewidth=2, markersize=6)\n",
    "ax.plot(history.history['val_accuracy'], label='Validation accuracy', color='blue', linewidth=2, markersize=6)\n",
    "ax.set_title('Accuracy')\n",
    "ax.set_xlabel('Epoch')\n",
    "ax.set_ylabel('Accuracy')\n",
    "ax.legend()\n",
    "\n",
    "# Model learns quickly and  I don t see overfitting\n",
    "# Val loss and train loss are matching "
   ]
  },
  {
   "cell_type": "code",
   "execution_count": 11,
   "id": "ccfbb107",
   "metadata": {},
   "outputs": [
    {
     "name": "stdout",
     "output_type": "stream",
     "text": [
      "\u001b[1m469/469\u001b[0m \u001b[32m━━━━━━━━━━━━━━━━━━━━\u001b[0m\u001b[37m\u001b[0m \u001b[1m0s\u001b[0m 519us/step\n",
      "\n",
      "Classification Report:\n",
      "\n",
      "              precision    recall  f1-score   support\n",
      "\n",
      "        Star       0.97      0.96      0.97      8917\n",
      "      Galaxy       0.93      0.89      0.91      2844\n",
      "         QSO       0.96      1.00      0.98      3239\n",
      "\n",
      "    accuracy                           0.96     15000\n",
      "   macro avg       0.95      0.95      0.95     15000\n",
      "weighted avg       0.96      0.96      0.96     15000\n",
      "\n"
     ]
    }
   ],
   "source": [
    "# Make predictions\n",
    "y_pred_proba = model.predict(X_test)\n",
    "y_pred = np.argmax(y_pred_proba, axis=1)\n",
    "y_test = np.argmax(y_test, axis=1)\n",
    "# Detailed classification report\n",
    "print(\"\\nClassification Report:\\n\")\n",
    "target_names = ['Star', 'Galaxy', 'QSO']\n",
    "print(classification_report(y_test, y_pred, target_names=target_names))"
   ]
  },
  {
   "cell_type": "code",
   "execution_count": 12,
   "id": "cc4a163f",
   "metadata": {},
   "outputs": [
    {
     "data": {
      "image/png": "[encoded data removed]",
      "text/plain": [
       "<Figure size 640x480 with 2 Axes>"
      ]
     },
     "metadata": {},
     "output_type": "display_data"
    }
   ],
   "source": [
    "# Confusion Matrix \n",
    "confusion_matrix = confusion_matrix(y_test, y_pred)\n",
    "# After getting the confusion matrix, I need to convert values to float and sum each row of matrix. for dividing each row by its total\n",
    "# array must be 2D, so I use None to add new axis\n",
    "confusion_matrix_percent = confusion_matrix.astype('float') / confusion_matrix.sum(axis=1)[:, None] * 100\n",
    "sns.heatmap(confusion_matrix, fmt='d', annot=True, cmap='Blues', xticklabels=target_names, yticklabels=target_names)\n",
    "# Adding new percentages to the confusion matrix\n",
    "for  i in range(confusion_matrix.shape[0]):\n",
    "    for j in range(confusion_matrix.shape[1]):\n",
    "        plt.text(j + 0.5, i + 0.7, f'({confusion_matrix_percent[i, j]:.1f}%)', \n",
    "                 ha='center', va='center', fontsize=8, color='gray')\n",
    "plt.ylabel('True Label')\n",
    "plt.xlabel('Predicted Label')\n",
    "plt.show() \n",
    "# I got the code structure from:\n",
    "# https://stackoverflow.com/questions/20927368/how-to-normalize-a-confusion-matrix\n",
    "# Almost 11 % of Galaxies are misclassified as stars, I think it is because both have close redshift distributions"
   ]
  },
  {
   "cell_type": "code",
   "execution_count": 18,
   "id": "4a18516b",
   "metadata": {},
   "outputs": [
    {
     "name": "stdout",
     "output_type": "stream",
     "text": [
      "Uncertainty in Predictions:\n",
      " [0.02232758 0.11389975 0.00324451 ... 0.03169277 0.03588613 0.00305523]\n"
     ]
    }
   ],
   "source": [
    "#  Calculating Uncertainty Monte Carlo Dropout\n",
    "predictions = []\n",
    "# 50 times gernerating predictions\n",
    "\n",
    "for _ in range(50):\n",
    "    preds = model(X_test, training=True )\n",
    "    predictions.append(preds)\n",
    "# I set up the training=True in the model which means dropout is active during prediction\n",
    "# The predictions will be different each time because of dropout\n",
    "\n",
    "\n",
    "# Converting to array and calculating statistics\n",
    "predictions = np.array(predictions)\n",
    "mean_pred = np.mean(predictions, axis=0)\n",
    "# Finding which class has the highest probability\n",
    "high_probability = np.argmax(mean_pred, axis=1)\n",
    "std_pred = np.std(predictions, axis=0)\n",
    "uncertainty = std_pred[np.arange(len(std_pred)), high_probability]\n",
    "print(\"Uncertainty in Predictions:\\n\", uncertainty)\n",
    "# Source : https://medium.com/biased-algorithms/uncertainty-estimation-in-machine-learning-with-monte-carlo-dropout-72377f5ee276"
   ]
  },
  {
   "cell_type": "code",
   "execution_count": 20,
   "id": "94fcb27b",
   "metadata": {},
   "outputs": [
    {
     "data": {
      "text/plain": [
       "array([0, 0, 2, ..., 0, 1, 1], dtype=int64)"
      ]
     },
     "execution_count": 20,
     "metadata": {},
     "output_type": "execute_result"
    }
   ],
   "source": [
    "high_probability"
   ]
  },
  {
   "cell_type": "code",
   "execution_count": 19,
   "id": "1a17f484",
   "metadata": {},
   "outputs": [
    {
     "data": {
      "image/png": "[encoded data removed]",
      "text/plain": [
       "<Figure size 1200x500 with 1 Axes>"
      ]
     },
     "metadata": {},
     "output_type": "display_data"
    }
   ],
   "source": [
    "# Visualizing uncertainty \n",
    "plt.figure(figsize=(12, 5))\n",
    "for i in range(3):\n",
    "    sns.histplot(std_pred[:, i], label=target_names[i], bins=30, element='step', fill=False)\n",
    "plt.title('Uncertainty for Star, Galaxy, and QSO')\n",
    "plt.xlabel('Uncertainty')\n",
    "plt.ylabel('Number of Samples')\n",
    "plt.grid(True)\n",
    "plt.legend()\n",
    "plt.show()\n",
    "# I used MC Dropout and ran the model  10 times to get different predictions\n",
    "# what I can see from the  graph is that the model has more confidence for most QSO, but few of them are hard for the model to classify 0.3\n",
    "#  Model has less confidence for stars and galaxies that confuction shows the same thing. "
   ]
  }
 ],
 "metadata": {
  "kernelspec": {
   "display_name": ".venv",
   "language": "python",
   "name": "python3"
  },
  "language_info": {
   "codemirror_mode": {
    "name": "ipython",
    "version": 3
   },
   "file_extension": ".py",
   "mimetype": "text/x-python",
   "name": "python",
   "nbconvert_exporter": "python",
   "pygments_lexer": "ipython3",
   "version": "3.10.11"
  }
 },
 "nbformat": 4,
 "nbformat_minor": 5
}

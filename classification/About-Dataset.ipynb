{
 "cells": [
  {
   "cell_type": "markdown",
   "metadata": {},
   "source": [
    "<h2 style=\"color:#33ccff;\">About Dataset</h2>\n",
    "<h2 style=\"color:#33ccff;\">Context</h2>\n",
    "<p style=\"font-size:14px; color:#cccccc;\">\n",
    "In astronomy, stellar classification is the classification of stars based on their spectral characteristics. The classification scheme of galaxies, quasars, and stars is one of the most fundamental in astronomy. The early cataloguing of stars and their distribution in the sky has led to the understanding that they make up our own galaxy and, following the distinction that Andromeda was a separate galaxy to our own, numerous galaxies began to be surveyed as more powerful telescopes were built. This dataset aims to classify stars, galaxies, and quasars based on their spectral characteristics.\n",
    "</p>\n",
    "<h2 style=\"color:#33ccff;\">Content</h2>\n",
    "<p style=\"font-size:14px; color:#cccccc;\">\n",
    "The data consists of 100,000 observations of space taken by the SDSS (Sloan Digital Sky Survey). Every observation is described by 17 feature columns and 1 class column which identifies it to be either a star, galaxy, or quasar.\n",
    "</p>\n",
    "ul style=\"font-size:14px; color:#cccccc;\">\n",
    "    <li><b>obj_ID</b> = Object Identifier, the unique value that identifies the object in the image catalog used by the CAS</li>\n",
    "    <li><b>alpha</b> = Right Ascension angle (at J2000 epoch)</li>\n",
    "    <li><b>delta</b> = Declination angle (at J2000 epoch)</li>\n",
    "    <li><b>u</b> = Ultraviolet filter in the photometric system</li>\n",
    "    <li><b>g</b> = Green filter in the photometric system</li>\n",
    "    <li><b>r</b> = Red filter in the photometric system</li>\n",
    "    <li><b>i</b> = Near Infrared filter in the photometric system</li>\n",
    "    <li><b>z</b> = Infrared filter in the photometric system</li>\n",
    "    <li><b>run_ID</b> = Run Number used to identify the specific scan</li>\n",
    "    <li><b>rereun_ID</b> = Rerun Number to specify how the image was processed</li>\n",
    "    <li><b>cam_col</b> = Camera column to identify the scanline within the run</li>\n",
    "    <li><b>field_ID</b> = Field number to identify each field</li>\n",
    "    <li><b>spec_obj_ID</b> = Unique ID used for optical spectroscopic objects (this means that 2 different observations with the same spec_obj_ID must share the output class)</li>\n",
    "    <li><b>class</b> = object class (galaxy, star or quasar object)</li>\n",
    "    <li><b>redshift</b> = redshift value based on the increase in wavelength</li>\n",
    "    <li><b>plate</b> = plate ID, identifies each plate in SDSS</li>\n",
    "    <li><b>MJD</b> = Modified Julian Date, used to indicate when a given piece of SDSS data was taken</li>\n",
    "    <li><b>fiber_ID</b> = fiber ID that identifies the fiber that pointed the light at the focal plane in each observation</li>\n",
    "</ul>\n"
   ]
  }
 ],
 "metadata": {
  "kernelspec": {
   "display_name": ".venv",
   "language": "python",
   "name": "python3"
  },
  "language_info": {
   "name": "python",
   "version": "3.10.11"
  }
 },
 "nbformat": 4,
 "nbformat_minor": 2
}

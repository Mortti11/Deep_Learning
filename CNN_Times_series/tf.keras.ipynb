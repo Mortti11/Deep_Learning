{
 "cells": [
  {
   "cell_type": "code",
   "execution_count": 1,
   "id": "bd2ef928",
   "metadata": {},
   "outputs": [],
   "source": [
    "import numpy as np\n",
    "import pandas as pd\n",
    "import matplotlib.pyplot as plt\n",
    "import seaborn as sns\n",
    "\n",
    "from sklearn.metrics import confusion_matrix, precision_score, recall_score, f1_score, roc_auc_score\n",
    "from sklearn.preprocessing import MinMaxScaler, StandardScaler, RobustScaler\n",
    "from sklearn.metrics import classification_report, confusion_matrix\n",
    "from sklearn.utils.class_weight import compute_class_weight\n",
    "\n",
    "\n",
    "import tensorflow as tf\n",
    "from tensorflow.keras import Sequential\n",
    "from tensorflow.keras.layers import Conv1D, BatchNormalization, Activation, MaxPooling1D\n",
    "from tensorflow.keras.layers import SpatialDropout1D, GlobalAveragePooling1D, Dense, Dropout\n",
    "from tensorflow.keras.regularizers import l2\n",
    "from tensorflow.keras.callbacks import EarlyStopping, ReduceLROnPlateau, ModelCheckpoint\n",
    "from tensorflow.keras.optimizers import Adam\n",
    "from tensorflow.keras.losses import BinaryCrossentropy"
   ]
  },
  {
   "cell_type": "code",
   "execution_count": 2,
   "id": "b50bbfb6",
   "metadata": {},
   "outputs": [
    {
     "data": {
      "application/vnd.microsoft.datawrangler.viewer.v0+json": {
       "columns": [
        {
         "name": "index",
         "rawType": "int64",
         "type": "integer"
        },
        {
         "name": "Temperature",
         "rawType": "float64",
         "type": "float"
        },
        {
         "name": "Humidity",
         "rawType": "float64",
         "type": "float"
        },
        {
         "name": "Occupancy",
         "rawType": "int64",
         "type": "integer"
        },
        {
         "name": "Hour",
         "rawType": "int64",
         "type": "integer"
        },
        {
         "name": "Minute",
         "rawType": "int64",
         "type": "integer"
        }
       ],
       "ref": "50e13d49-8fbc-49ef-897d-2cda4bd28ed7",
       "rows": [
        [
         "0",
         "21.76",
         "31.13333",
         "1",
         "14",
         "48"
        ],
        [
         "1",
         "21.79",
         "31.0",
         "1",
         "14",
         "49"
        ],
        [
         "2",
         "21.77",
         "31.1225",
         "1",
         "14",
         "50"
        ],
        [
         "3",
         "21.77",
         "31.1225",
         "1",
         "14",
         "51"
        ],
        [
         "4",
         "21.79",
         "31.13333",
         "1",
         "14",
         "51"
        ]
       ],
       "shape": {
        "columns": 5,
        "rows": 5
       }
      },
      "text/html": [
       "<div>\n",
       "<style scoped>\n",
       "    .dataframe tbody tr th:only-of-type {\n",
       "        vertical-align: middle;\n",
       "    }\n",
       "\n",
       "    .dataframe tbody tr th {\n",
       "        vertical-align: top;\n",
       "    }\n",
       "\n",
       "    .dataframe thead th {\n",
       "        text-align: right;\n",
       "    }\n",
       "</style>\n",
       "<table border=\"1\" class=\"dataframe\">\n",
       "  <thead>\n",
       "    <tr style=\"text-align: right;\">\n",
       "      <th></th>\n",
       "      <th>Temperature</th>\n",
       "      <th>Humidity</th>\n",
       "      <th>Occupancy</th>\n",
       "      <th>Hour</th>\n",
       "      <th>Minute</th>\n",
       "    </tr>\n",
       "  </thead>\n",
       "  <tbody>\n",
       "    <tr>\n",
       "      <th>0</th>\n",
       "      <td>21.76</td>\n",
       "      <td>31.13333</td>\n",
       "      <td>1</td>\n",
       "      <td>14</td>\n",
       "      <td>48</td>\n",
       "    </tr>\n",
       "    <tr>\n",
       "      <th>1</th>\n",
       "      <td>21.79</td>\n",
       "      <td>31.00000</td>\n",
       "      <td>1</td>\n",
       "      <td>14</td>\n",
       "      <td>49</td>\n",
       "    </tr>\n",
       "    <tr>\n",
       "      <th>2</th>\n",
       "      <td>21.77</td>\n",
       "      <td>31.12250</td>\n",
       "      <td>1</td>\n",
       "      <td>14</td>\n",
       "      <td>50</td>\n",
       "    </tr>\n",
       "    <tr>\n",
       "      <th>3</th>\n",
       "      <td>21.77</td>\n",
       "      <td>31.12250</td>\n",
       "      <td>1</td>\n",
       "      <td>14</td>\n",
       "      <td>51</td>\n",
       "    </tr>\n",
       "    <tr>\n",
       "      <th>4</th>\n",
       "      <td>21.79</td>\n",
       "      <td>31.13333</td>\n",
       "      <td>1</td>\n",
       "      <td>14</td>\n",
       "      <td>51</td>\n",
       "    </tr>\n",
       "  </tbody>\n",
       "</table>\n",
       "</div>"
      ],
      "text/plain": [
       "   Temperature  Humidity  Occupancy  Hour  Minute\n",
       "0        21.76  31.13333          1    14      48\n",
       "1        21.79  31.00000          1    14      49\n",
       "2        21.77  31.12250          1    14      50\n",
       "3        21.77  31.12250          1    14      51\n",
       "4        21.79  31.13333          1    14      51"
      ]
     },
     "execution_count": 2,
     "metadata": {},
     "output_type": "execute_result"
    }
   ],
   "source": [
    "# Loading the DSs \n",
    "df_test = pd.read_csv('cleaned_datatest.csv')\n",
    "df_val = pd.read_csv('datavalidation.csv')\n",
    "df_train = pd.read_csv('datatraining.csv')\n",
    "df_train.head()"
   ]
  },
  {
   "cell_type": "code",
   "execution_count": 3,
   "id": "0c85aab3",
   "metadata": {},
   "outputs": [
    {
     "data": {
      "text/plain": [
       "503"
      ]
     },
     "execution_count": 3,
     "metadata": {},
     "output_type": "execute_result"
    }
   ],
   "source": [
    "df_train.duplicated().sum()\n"
   ]
  },
  {
   "cell_type": "code",
   "execution_count": 4,
   "id": "991ee7fe",
   "metadata": {},
   "outputs": [],
   "source": [
    "df_train = df_train.drop_duplicates(ignore_index=True)"
   ]
  },
  {
   "cell_type": "code",
   "execution_count": 5,
   "id": "30debb1f",
   "metadata": {},
   "outputs": [
    {
     "data": {
      "text/plain": [
       "(9249, 5)"
      ]
     },
     "execution_count": 5,
     "metadata": {},
     "output_type": "execute_result"
    }
   ],
   "source": [
    "df_train.shape"
   ]
  },
  {
   "cell_type": "code",
   "execution_count": 6,
   "id": "407ba437",
   "metadata": {},
   "outputs": [
    {
     "data": {
      "text/plain": [
       "139"
      ]
     },
     "execution_count": 6,
     "metadata": {},
     "output_type": "execute_result"
    }
   ],
   "source": [
    "df_val.duplicated().sum()"
   ]
  },
  {
   "cell_type": "code",
   "execution_count": 7,
   "id": "96350ce3",
   "metadata": {},
   "outputs": [],
   "source": [
    "df_val = df_val.drop_duplicates(ignore_index=True)"
   ]
  },
  {
   "cell_type": "code",
   "execution_count": 8,
   "id": "bb062e72",
   "metadata": {},
   "outputs": [
    {
     "data": {
      "text/plain": [
       "(2526, 5)"
      ]
     },
     "execution_count": 8,
     "metadata": {},
     "output_type": "execute_result"
    }
   ],
   "source": [
    "df_val.shape"
   ]
  },
  {
   "cell_type": "code",
   "execution_count": 9,
   "id": "7f6d112e",
   "metadata": {},
   "outputs": [
    {
     "data": {
      "text/plain": [
       "518"
      ]
     },
     "execution_count": 9,
     "metadata": {},
     "output_type": "execute_result"
    }
   ],
   "source": [
    "df_test.duplicated().sum()"
   ]
  },
  {
   "cell_type": "code",
   "execution_count": 10,
   "id": "6394ecf2",
   "metadata": {},
   "outputs": [],
   "source": [
    "df_test = df_test.drop_duplicates(ignore_index=True)"
   ]
  },
  {
   "cell_type": "code",
   "execution_count": 11,
   "id": "84154c3b",
   "metadata": {},
   "outputs": [
    {
     "data": {
      "text/plain": [
       "(7625, 5)"
      ]
     },
     "execution_count": 11,
     "metadata": {},
     "output_type": "execute_result"
    }
   ],
   "source": [
    "df_test.shape"
   ]
  },
  {
   "cell_type": "code",
   "execution_count": 12,
   "id": "6c99b5e8",
   "metadata": {},
   "outputs": [],
   "source": [
    "# Splitting into X and y\n",
    "X_train = df_train.drop('Occupancy', axis=1).values\n",
    "y_train = df_train['Occupancy'].values\n",
    "X_val = df_val.drop('Occupancy', axis=1).values\n",
    "y_val = df_val['Occupancy'].values\n",
    "X_test = df_test.drop('Occupancy', axis=1).values\n",
    "y_test = df_test['Occupancy'].values"
   ]
  },
  {
   "cell_type": "code",
   "execution_count": 13,
   "id": "b9430009",
   "metadata": {},
   "outputs": [
    {
     "name": "stdout",
     "output_type": "stream",
     "text": [
      "Shapes: (9249, 4) (2526, 4) (7625, 4)\n"
     ]
    }
   ],
   "source": [
    "# Scaling the data:\n",
    "# For continues columns like Temperature, Humidity, I will use StandardScaler\n",
    "# to avoid from outliers effect.\n",
    "# For minute and hour columns, I will use MinMaxScaler, because they are bounded. \n",
    "# While I was researching about this, there was another option, which is sin and cos encoding for cyclical features.\n",
    "\n",
    "\n",
    "# Column index for minute and hour\n",
    "time_columns = [2, 3]\n",
    "# First and second columns are continuous\n",
    "continuous_columns = [0, 1]\n",
    "\n",
    "# Scaling oonly first two columns\n",
    "scaler = StandardScaler()\n",
    "X_train[:, continuous_columns] = scaler.fit_transform(X_train[:, continuous_columns])\n",
    "X_test[:, continuous_columns]  = scaler.transform(X_test[:, continuous_columns])\n",
    "X_val[:, continuous_columns]  = scaler.transform(X_val[:, continuous_columns])\n",
    "\n",
    "time_scaler = MinMaxScaler()\n",
    "X_train[:, time_columns] = time_scaler.fit_transform(X_train[:, time_columns])\n",
    "X_test[:, time_columns]  = time_scaler.transform(X_test[:, time_columns])\n",
    "X_val[:, time_columns]  = time_scaler.transform(X_val[:, time_columns])\n",
    "print(\"Shapes:\", X_train.shape, X_val.shape, X_test.shape)"
   ]
  },
  {
   "cell_type": "code",
   "execution_count": 14,
   "id": "8c115a00",
   "metadata": {},
   "outputs": [
    {
     "name": "stdout",
     "output_type": "stream",
     "text": [
      "Training sequences shape: (9229, 20, 4)\n",
      "Training class shape: (9229,)\n",
      "Example  X: [[0.72887849 0.32646912 0.60869565 0.81355932]\n",
      " [0.7582453  0.2927464  0.60869565 0.83050847]\n",
      " [0.73866743 0.32372993 0.60869565 0.84745763]\n",
      " [0.73866743 0.32372993 0.60869565 0.86440678]\n",
      " [0.7582453  0.32646912 0.60869565 0.86440678]\n",
      " [0.72887849 0.35850735 0.60869565 0.89830508]\n",
      " [0.7582453  0.34269943 0.60869565 0.91525424]\n",
      " [0.7582453  0.39223007 0.60869565 0.93220339]\n",
      " [0.7582453  0.37305064 0.60869565 0.93220339]\n",
      " [0.7582453  0.40993495 0.60869565 0.96610169]\n",
      " [0.7582453  0.42553294 0.60869565 0.96610169]\n",
      " [0.7582453  0.43817927 0.60869565 0.98305085]\n",
      " [0.7582453  0.39265246 0.65217391 0.        ]\n",
      " [0.7582453  0.39202014 0.65217391 0.01694915]\n",
      " [0.7582453  0.41920977 0.65217391 0.03389831]\n",
      " [0.78761212 0.41920977 0.65217391 0.05084746]\n",
      " [0.78761212 0.41225428 0.65217391 0.06779661]\n",
      " [0.85613469 0.44450244 0.65217391 0.06779661]\n",
      " [0.7582453  0.43185611 0.65217391 0.10169492]\n",
      " [0.78761212 0.47738292 0.65217391 0.11864407]]\n",
      "Example  y: 1\n"
     ]
    }
   ],
   "source": [
    "# MAKING SEQUENCES:\n",
    "# Since The CNN needs sequences to capture the relevant patterns\n",
    "\n",
    "window_size = 20\n",
    "# I need to create a function for making windows\n",
    "def time_windows(X, y, window_size, step_ahead = 1):\n",
    "    # Creating two list for features and labels\n",
    "    X_windows = []\n",
    "    y_windows = []\n",
    "    for i in range(0, len(X) - window_size - step_ahead + 1):\n",
    "        X_windows.append(X[i:i+window_size])\n",
    "        # so the next step after the window must be predicted\n",
    "        # if window_size from 0 to 60, the next step is 60\n",
    "        y_windows.append(y[i+window_size-1 + step_ahead])\n",
    "    return np.array(X_windows), np.array(y_windows)\n",
    "# Applying the function:\n",
    "X_train, y_train = time_windows(X_train, y_train, window_size)\n",
    "X_val, y_val = time_windows(X_val, y_val, window_size)\n",
    "X_test, y_test = time_windows(X_test, y_test, window_size)\n",
    "\n",
    "print('Training sequences shape:', X_train.shape)\n",
    "print('Training class shape:', y_train.shape)\n",
    "print('Example  X:', X_train[0])\n",
    "print(\"Example  y:\", y_train[0])\n",
    "# I got the code structure from here:\n",
    "# https://stackoverflow.com/questions/77812013/pandas-dataframe-to-sliding-window"
   ]
  },
  {
   "cell_type": "code",
   "execution_count": 15,
   "id": "7156e00c",
   "metadata": {},
   "outputs": [
    {
     "data": {
      "text/plain": [
       "{0: 0.6373618784530387, 1: 2.320010055304173}"
      ]
     },
     "execution_count": 15,
     "metadata": {},
     "output_type": "execute_result"
    }
   ],
   "source": [
    "# The occupancy is imbalanced, So I will compute the class weights\n",
    "\n",
    "classes = np.unique(y_train)\n",
    "weights = compute_class_weight('balanced', classes=classes, y=y_train)\n",
    "Class_weight = dict(zip(classes, weights))\n",
    "Class_weight"
   ]
  },
  {
   "cell_type": "code",
   "execution_count": 16,
   "id": "c6b4d33b",
   "metadata": {},
   "outputs": [
    {
     "name": "stderr",
     "output_type": "stream",
     "text": [
      "d:\\ML&DE\\Deep_Learning\\.venv\\lib\\site-packages\\keras\\src\\layers\\convolutional\\base_conv.py:113: UserWarning: Do not pass an `input_shape`/`input_dim` argument to a layer. When using Sequential models, prefer using an `Input(shape)` object as the first layer in the model instead.\n",
      "  super().__init__(activity_regularizer=activity_regularizer, **kwargs)\n"
     ]
    },
    {
     "data": {
      "text/html": [
       "<pre style=\"white-space:pre;overflow-x:auto;line-height:normal;font-family:Menlo,'DejaVu Sans Mono',consolas,'Courier New',monospace\"><span style=\"font-weight: bold\">Model: \"sequential\"</span>\n",
       "</pre>\n"
      ],
      "text/plain": [
       "\u001b[1mModel: \"sequential\"\u001b[0m\n"
      ]
     },
     "metadata": {},
     "output_type": "display_data"
    },
    {
     "data": {
      "text/html": [
       "<pre style=\"white-space:pre;overflow-x:auto;line-height:normal;font-family:Menlo,'DejaVu Sans Mono',consolas,'Courier New',monospace\">┏━━━━━━━━━━━━━━━━━━━━━━━━━━━━━━━━━┳━━━━━━━━━━━━━━━━━━━━━━━━┳━━━━━━━━━━━━━━━┓\n",
       "┃<span style=\"font-weight: bold\"> Layer (type)                    </span>┃<span style=\"font-weight: bold\"> Output Shape           </span>┃<span style=\"font-weight: bold\">       Param # </span>┃\n",
       "┡━━━━━━━━━━━━━━━━━━━━━━━━━━━━━━━━━╇━━━━━━━━━━━━━━━━━━━━━━━━╇━━━━━━━━━━━━━━━┩\n",
       "│ conv1d (<span style=\"color: #0087ff; text-decoration-color: #0087ff\">Conv1D</span>)                 │ (<span style=\"color: #00d7ff; text-decoration-color: #00d7ff\">None</span>, <span style=\"color: #00af00; text-decoration-color: #00af00\">20</span>, <span style=\"color: #00af00; text-decoration-color: #00af00\">64</span>)         │         <span style=\"color: #00af00; text-decoration-color: #00af00\">1,344</span> │\n",
       "├─────────────────────────────────┼────────────────────────┼───────────────┤\n",
       "│ batch_normalization             │ (<span style=\"color: #00d7ff; text-decoration-color: #00d7ff\">None</span>, <span style=\"color: #00af00; text-decoration-color: #00af00\">20</span>, <span style=\"color: #00af00; text-decoration-color: #00af00\">64</span>)         │           <span style=\"color: #00af00; text-decoration-color: #00af00\">256</span> │\n",
       "│ (<span style=\"color: #0087ff; text-decoration-color: #0087ff\">BatchNormalization</span>)            │                        │               │\n",
       "├─────────────────────────────────┼────────────────────────┼───────────────┤\n",
       "│ activation (<span style=\"color: #0087ff; text-decoration-color: #0087ff\">Activation</span>)         │ (<span style=\"color: #00d7ff; text-decoration-color: #00d7ff\">None</span>, <span style=\"color: #00af00; text-decoration-color: #00af00\">20</span>, <span style=\"color: #00af00; text-decoration-color: #00af00\">64</span>)         │             <span style=\"color: #00af00; text-decoration-color: #00af00\">0</span> │\n",
       "├─────────────────────────────────┼────────────────────────┼───────────────┤\n",
       "│ spatial_dropout1d               │ (<span style=\"color: #00d7ff; text-decoration-color: #00d7ff\">None</span>, <span style=\"color: #00af00; text-decoration-color: #00af00\">20</span>, <span style=\"color: #00af00; text-decoration-color: #00af00\">64</span>)         │             <span style=\"color: #00af00; text-decoration-color: #00af00\">0</span> │\n",
       "│ (<span style=\"color: #0087ff; text-decoration-color: #0087ff\">SpatialDropout1D</span>)              │                        │               │\n",
       "├─────────────────────────────────┼────────────────────────┼───────────────┤\n",
       "│ max_pooling1d (<span style=\"color: #0087ff; text-decoration-color: #0087ff\">MaxPooling1D</span>)    │ (<span style=\"color: #00d7ff; text-decoration-color: #00d7ff\">None</span>, <span style=\"color: #00af00; text-decoration-color: #00af00\">10</span>, <span style=\"color: #00af00; text-decoration-color: #00af00\">64</span>)         │             <span style=\"color: #00af00; text-decoration-color: #00af00\">0</span> │\n",
       "├─────────────────────────────────┼────────────────────────┼───────────────┤\n",
       "│ conv1d_1 (<span style=\"color: #0087ff; text-decoration-color: #0087ff\">Conv1D</span>)               │ (<span style=\"color: #00d7ff; text-decoration-color: #00d7ff\">None</span>, <span style=\"color: #00af00; text-decoration-color: #00af00\">10</span>, <span style=\"color: #00af00; text-decoration-color: #00af00\">128</span>)        │        <span style=\"color: #00af00; text-decoration-color: #00af00\">57,472</span> │\n",
       "├─────────────────────────────────┼────────────────────────┼───────────────┤\n",
       "│ batch_normalization_1           │ (<span style=\"color: #00d7ff; text-decoration-color: #00d7ff\">None</span>, <span style=\"color: #00af00; text-decoration-color: #00af00\">10</span>, <span style=\"color: #00af00; text-decoration-color: #00af00\">128</span>)        │           <span style=\"color: #00af00; text-decoration-color: #00af00\">512</span> │\n",
       "│ (<span style=\"color: #0087ff; text-decoration-color: #0087ff\">BatchNormalization</span>)            │                        │               │\n",
       "├─────────────────────────────────┼────────────────────────┼───────────────┤\n",
       "│ activation_1 (<span style=\"color: #0087ff; text-decoration-color: #0087ff\">Activation</span>)       │ (<span style=\"color: #00d7ff; text-decoration-color: #00d7ff\">None</span>, <span style=\"color: #00af00; text-decoration-color: #00af00\">10</span>, <span style=\"color: #00af00; text-decoration-color: #00af00\">128</span>)        │             <span style=\"color: #00af00; text-decoration-color: #00af00\">0</span> │\n",
       "├─────────────────────────────────┼────────────────────────┼───────────────┤\n",
       "│ spatial_dropout1d_1             │ (<span style=\"color: #00d7ff; text-decoration-color: #00d7ff\">None</span>, <span style=\"color: #00af00; text-decoration-color: #00af00\">10</span>, <span style=\"color: #00af00; text-decoration-color: #00af00\">128</span>)        │             <span style=\"color: #00af00; text-decoration-color: #00af00\">0</span> │\n",
       "│ (<span style=\"color: #0087ff; text-decoration-color: #0087ff\">SpatialDropout1D</span>)              │                        │               │\n",
       "├─────────────────────────────────┼────────────────────────┼───────────────┤\n",
       "│ global_average_pooling1d        │ (<span style=\"color: #00d7ff; text-decoration-color: #00d7ff\">None</span>, <span style=\"color: #00af00; text-decoration-color: #00af00\">128</span>)            │             <span style=\"color: #00af00; text-decoration-color: #00af00\">0</span> │\n",
       "│ (<span style=\"color: #0087ff; text-decoration-color: #0087ff\">GlobalAveragePooling1D</span>)        │                        │               │\n",
       "├─────────────────────────────────┼────────────────────────┼───────────────┤\n",
       "│ dense (<span style=\"color: #0087ff; text-decoration-color: #0087ff\">Dense</span>)                   │ (<span style=\"color: #00d7ff; text-decoration-color: #00d7ff\">None</span>, <span style=\"color: #00af00; text-decoration-color: #00af00\">128</span>)            │        <span style=\"color: #00af00; text-decoration-color: #00af00\">16,512</span> │\n",
       "├─────────────────────────────────┼────────────────────────┼───────────────┤\n",
       "│ batch_normalization_2           │ (<span style=\"color: #00d7ff; text-decoration-color: #00d7ff\">None</span>, <span style=\"color: #00af00; text-decoration-color: #00af00\">128</span>)            │           <span style=\"color: #00af00; text-decoration-color: #00af00\">512</span> │\n",
       "│ (<span style=\"color: #0087ff; text-decoration-color: #0087ff\">BatchNormalization</span>)            │                        │               │\n",
       "├─────────────────────────────────┼────────────────────────┼───────────────┤\n",
       "│ dropout (<span style=\"color: #0087ff; text-decoration-color: #0087ff\">Dropout</span>)               │ (<span style=\"color: #00d7ff; text-decoration-color: #00d7ff\">None</span>, <span style=\"color: #00af00; text-decoration-color: #00af00\">128</span>)            │             <span style=\"color: #00af00; text-decoration-color: #00af00\">0</span> │\n",
       "├─────────────────────────────────┼────────────────────────┼───────────────┤\n",
       "│ dense_1 (<span style=\"color: #0087ff; text-decoration-color: #0087ff\">Dense</span>)                 │ (<span style=\"color: #00d7ff; text-decoration-color: #00d7ff\">None</span>, <span style=\"color: #00af00; text-decoration-color: #00af00\">1</span>)              │           <span style=\"color: #00af00; text-decoration-color: #00af00\">129</span> │\n",
       "└─────────────────────────────────┴────────────────────────┴───────────────┘\n",
       "</pre>\n"
      ],
      "text/plain": [
       "┏━━━━━━━━━━━━━━━━━━━━━━━━━━━━━━━━━┳━━━━━━━━━━━━━━━━━━━━━━━━┳━━━━━━━━━━━━━━━┓\n",
       "┃\u001b[1m \u001b[0m\u001b[1mLayer (type)                   \u001b[0m\u001b[1m \u001b[0m┃\u001b[1m \u001b[0m\u001b[1mOutput Shape          \u001b[0m\u001b[1m \u001b[0m┃\u001b[1m \u001b[0m\u001b[1m      Param #\u001b[0m\u001b[1m \u001b[0m┃\n",
       "┡━━━━━━━━━━━━━━━━━━━━━━━━━━━━━━━━━╇━━━━━━━━━━━━━━━━━━━━━━━━╇━━━━━━━━━━━━━━━┩\n",
       "│ conv1d (\u001b[38;5;33mConv1D\u001b[0m)                 │ (\u001b[38;5;45mNone\u001b[0m, \u001b[38;5;34m20\u001b[0m, \u001b[38;5;34m64\u001b[0m)         │         \u001b[38;5;34m1,344\u001b[0m │\n",
       "├─────────────────────────────────┼────────────────────────┼───────────────┤\n",
       "│ batch_normalization             │ (\u001b[38;5;45mNone\u001b[0m, \u001b[38;5;34m20\u001b[0m, \u001b[38;5;34m64\u001b[0m)         │           \u001b[38;5;34m256\u001b[0m │\n",
       "│ (\u001b[38;5;33mBatchNormalization\u001b[0m)            │                        │               │\n",
       "├─────────────────────────────────┼────────────────────────┼───────────────┤\n",
       "│ activation (\u001b[38;5;33mActivation\u001b[0m)         │ (\u001b[38;5;45mNone\u001b[0m, \u001b[38;5;34m20\u001b[0m, \u001b[38;5;34m64\u001b[0m)         │             \u001b[38;5;34m0\u001b[0m │\n",
       "├─────────────────────────────────┼────────────────────────┼───────────────┤\n",
       "│ spatial_dropout1d               │ (\u001b[38;5;45mNone\u001b[0m, \u001b[38;5;34m20\u001b[0m, \u001b[38;5;34m64\u001b[0m)         │             \u001b[38;5;34m0\u001b[0m │\n",
       "│ (\u001b[38;5;33mSpatialDropout1D\u001b[0m)              │                        │               │\n",
       "├─────────────────────────────────┼────────────────────────┼───────────────┤\n",
       "│ max_pooling1d (\u001b[38;5;33mMaxPooling1D\u001b[0m)    │ (\u001b[38;5;45mNone\u001b[0m, \u001b[38;5;34m10\u001b[0m, \u001b[38;5;34m64\u001b[0m)         │             \u001b[38;5;34m0\u001b[0m │\n",
       "├─────────────────────────────────┼────────────────────────┼───────────────┤\n",
       "│ conv1d_1 (\u001b[38;5;33mConv1D\u001b[0m)               │ (\u001b[38;5;45mNone\u001b[0m, \u001b[38;5;34m10\u001b[0m, \u001b[38;5;34m128\u001b[0m)        │        \u001b[38;5;34m57,472\u001b[0m │\n",
       "├─────────────────────────────────┼────────────────────────┼───────────────┤\n",
       "│ batch_normalization_1           │ (\u001b[38;5;45mNone\u001b[0m, \u001b[38;5;34m10\u001b[0m, \u001b[38;5;34m128\u001b[0m)        │           \u001b[38;5;34m512\u001b[0m │\n",
       "│ (\u001b[38;5;33mBatchNormalization\u001b[0m)            │                        │               │\n",
       "├─────────────────────────────────┼────────────────────────┼───────────────┤\n",
       "│ activation_1 (\u001b[38;5;33mActivation\u001b[0m)       │ (\u001b[38;5;45mNone\u001b[0m, \u001b[38;5;34m10\u001b[0m, \u001b[38;5;34m128\u001b[0m)        │             \u001b[38;5;34m0\u001b[0m │\n",
       "├─────────────────────────────────┼────────────────────────┼───────────────┤\n",
       "│ spatial_dropout1d_1             │ (\u001b[38;5;45mNone\u001b[0m, \u001b[38;5;34m10\u001b[0m, \u001b[38;5;34m128\u001b[0m)        │             \u001b[38;5;34m0\u001b[0m │\n",
       "│ (\u001b[38;5;33mSpatialDropout1D\u001b[0m)              │                        │               │\n",
       "├─────────────────────────────────┼────────────────────────┼───────────────┤\n",
       "│ global_average_pooling1d        │ (\u001b[38;5;45mNone\u001b[0m, \u001b[38;5;34m128\u001b[0m)            │             \u001b[38;5;34m0\u001b[0m │\n",
       "│ (\u001b[38;5;33mGlobalAveragePooling1D\u001b[0m)        │                        │               │\n",
       "├─────────────────────────────────┼────────────────────────┼───────────────┤\n",
       "│ dense (\u001b[38;5;33mDense\u001b[0m)                   │ (\u001b[38;5;45mNone\u001b[0m, \u001b[38;5;34m128\u001b[0m)            │        \u001b[38;5;34m16,512\u001b[0m │\n",
       "├─────────────────────────────────┼────────────────────────┼───────────────┤\n",
       "│ batch_normalization_2           │ (\u001b[38;5;45mNone\u001b[0m, \u001b[38;5;34m128\u001b[0m)            │           \u001b[38;5;34m512\u001b[0m │\n",
       "│ (\u001b[38;5;33mBatchNormalization\u001b[0m)            │                        │               │\n",
       "├─────────────────────────────────┼────────────────────────┼───────────────┤\n",
       "│ dropout (\u001b[38;5;33mDropout\u001b[0m)               │ (\u001b[38;5;45mNone\u001b[0m, \u001b[38;5;34m128\u001b[0m)            │             \u001b[38;5;34m0\u001b[0m │\n",
       "├─────────────────────────────────┼────────────────────────┼───────────────┤\n",
       "│ dense_1 (\u001b[38;5;33mDense\u001b[0m)                 │ (\u001b[38;5;45mNone\u001b[0m, \u001b[38;5;34m1\u001b[0m)              │           \u001b[38;5;34m129\u001b[0m │\n",
       "└─────────────────────────────────┴────────────────────────┴───────────────┘\n"
      ]
     },
     "metadata": {},
     "output_type": "display_data"
    },
    {
     "data": {
      "text/html": [
       "<pre style=\"white-space:pre;overflow-x:auto;line-height:normal;font-family:Menlo,'DejaVu Sans Mono',consolas,'Courier New',monospace\"><span style=\"font-weight: bold\"> Total params: </span><span style=\"color: #00af00; text-decoration-color: #00af00\">76,737</span> (299.75 KB)\n",
       "</pre>\n"
      ],
      "text/plain": [
       "\u001b[1m Total params: \u001b[0m\u001b[38;5;34m76,737\u001b[0m (299.75 KB)\n"
      ]
     },
     "metadata": {},
     "output_type": "display_data"
    },
    {
     "data": {
      "text/html": [
       "<pre style=\"white-space:pre;overflow-x:auto;line-height:normal;font-family:Menlo,'DejaVu Sans Mono',consolas,'Courier New',monospace\"><span style=\"font-weight: bold\"> Trainable params: </span><span style=\"color: #00af00; text-decoration-color: #00af00\">76,097</span> (297.25 KB)\n",
       "</pre>\n"
      ],
      "text/plain": [
       "\u001b[1m Trainable params: \u001b[0m\u001b[38;5;34m76,097\u001b[0m (297.25 KB)\n"
      ]
     },
     "metadata": {},
     "output_type": "display_data"
    },
    {
     "data": {
      "text/html": [
       "<pre style=\"white-space:pre;overflow-x:auto;line-height:normal;font-family:Menlo,'DejaVu Sans Mono',consolas,'Courier New',monospace\"><span style=\"font-weight: bold\"> Non-trainable params: </span><span style=\"color: #00af00; text-decoration-color: #00af00\">640</span> (2.50 KB)\n",
       "</pre>\n"
      ],
      "text/plain": [
       "\u001b[1m Non-trainable params: \u001b[0m\u001b[38;5;34m640\u001b[0m (2.50 KB)\n"
      ]
     },
     "metadata": {},
     "output_type": "display_data"
    }
   ],
   "source": [
    "model = Sequential([\n",
    "    Conv1D(64, 5, padding='same', input_shape=(window_size, X_train.shape[2]), kernel_regularizer=l2(0.0002)),\n",
    "    BatchNormalization(), Activation('relu'),\n",
    "    SpatialDropout1D(0.25),\n",
    "    MaxPooling1D(2),\n",
    "\n",
    "    Conv1D(128, 7, padding='same'),\n",
    "    BatchNormalization(), Activation('relu'),\n",
    "    SpatialDropout1D(0.25),\n",
    "\n",
    "    GlobalAveragePooling1D(),\n",
    "    Dense(128, activation='relu', kernel_regularizer=l2(0.0002)),\n",
    "    BatchNormalization(),\n",
    "    Dropout(0.25),\n",
    "    Dense(1, activation='sigmoid')\n",
    "])\n",
    "model.summary()"
   ]
  },
  {
   "cell_type": "code",
   "execution_count": 17,
   "id": "2cdcc93f",
   "metadata": {},
   "outputs": [],
   "source": [
    "model.compile(\n",
    "    optimizer=tf.keras.optimizers.Adam(learning_rate=0.0005),\n",
    "    loss=BinaryCrossentropy(), metrics=['accuracy', tf.keras.metrics.Precision(name='precision')])"
   ]
  },
  {
   "cell_type": "code",
   "execution_count": 18,
   "id": "ac2570cd",
   "metadata": {},
   "outputs": [],
   "source": [
    "early_stop = EarlyStopping(monitor='val_loss', patience=2, restore_best_weights=True, verbose=1)\n",
    "# Reducing learning rate when stuck\n",
    "reduce_lr = ReduceLROnPlateau(monitor='val_loss',factor=0.5, patience=2, verbose=1)"
   ]
  },
  {
   "cell_type": "code",
   "execution_count": 19,
   "id": "a058278b",
   "metadata": {},
   "outputs": [
    {
     "name": "stdout",
     "output_type": "stream",
     "text": [
      "Epoch 1/50\n",
      "73/73 - 2s - 32ms/step - accuracy: 0.7636 - loss: 0.5167 - precision: 0.4749 - val_accuracy: 0.8508 - val_loss: 0.6110 - val_precision: 0.8094 - learning_rate: 5.0000e-04\n",
      "Epoch 2/50\n",
      "73/73 - 0s - 5ms/step - accuracy: 0.8308 - loss: 0.3918 - precision: 0.5644 - val_accuracy: 0.8619 - val_loss: 0.4679 - val_precision: 0.8065 - learning_rate: 5.0000e-04\n",
      "Epoch 3/50\n",
      "73/73 - 0s - 5ms/step - accuracy: 0.8503 - loss: 0.3486 - precision: 0.5971 - val_accuracy: 0.8855 - val_loss: 0.4318 - val_precision: 0.8057 - learning_rate: 5.0000e-04\n",
      "Epoch 4/50\n",
      "73/73 - 0s - 6ms/step - accuracy: 0.8607 - loss: 0.3286 - precision: 0.6161 - val_accuracy: 0.8851 - val_loss: 0.3152 - val_precision: 0.8335 - learning_rate: 5.0000e-04\n",
      "Epoch 5/50\n",
      "73/73 - 0s - 5ms/step - accuracy: 0.8601 - loss: 0.3101 - precision: 0.6138 - val_accuracy: 0.9194 - val_loss: 0.2636 - val_precision: 0.8888 - learning_rate: 5.0000e-04\n",
      "Epoch 6/50\n",
      "73/73 - 0s - 5ms/step - accuracy: 0.8699 - loss: 0.2955 - precision: 0.6332 - val_accuracy: 0.9198 - val_loss: 0.2439 - val_precision: 0.8669 - learning_rate: 5.0000e-04\n",
      "Epoch 7/50\n",
      "73/73 - 0s - 5ms/step - accuracy: 0.8789 - loss: 0.2784 - precision: 0.6503 - val_accuracy: 0.9194 - val_loss: 0.2622 - val_precision: 0.8675 - learning_rate: 5.0000e-04\n",
      "Epoch 8/50\n",
      "73/73 - 0s - 5ms/step - accuracy: 0.8890 - loss: 0.2585 - precision: 0.6704 - val_accuracy: 0.9162 - val_loss: 0.2401 - val_precision: 0.9071 - learning_rate: 5.0000e-04\n",
      "Epoch 9/50\n",
      "73/73 - 0s - 5ms/step - accuracy: 0.8860 - loss: 0.2576 - precision: 0.6654 - val_accuracy: 0.9030 - val_loss: 0.2389 - val_precision: 0.9045 - learning_rate: 5.0000e-04\n",
      "Epoch 10/50\n",
      "73/73 - 0s - 6ms/step - accuracy: 0.8968 - loss: 0.2410 - precision: 0.6901 - val_accuracy: 0.9310 - val_loss: 0.2383 - val_precision: 0.9038 - learning_rate: 5.0000e-04\n",
      "Epoch 11/50\n",
      "73/73 - 0s - 6ms/step - accuracy: 0.8994 - loss: 0.2379 - precision: 0.6940 - val_accuracy: 0.9018 - val_loss: 0.2507 - val_precision: 0.8994 - learning_rate: 5.0000e-04\n",
      "Epoch 12/50\n",
      "\n",
      "Epoch 12: ReduceLROnPlateau reducing learning rate to 0.0002500000118743628.\n",
      "73/73 - 0s - 6ms/step - accuracy: 0.9023 - loss: 0.2322 - precision: 0.7030 - val_accuracy: 0.9294 - val_loss: 0.2388 - val_precision: 0.9132 - learning_rate: 5.0000e-04\n",
      "Epoch 12: early stopping\n",
      "Restoring model weights from the end of the best epoch: 10.\n"
     ]
    }
   ],
   "source": [
    "history = model.fit(X_train, y_train, \n",
    "    epochs=50, batch_size=128, callbacks=[early_stop, reduce_lr], class_weight=Class_weight,\n",
    "    validation_data=(X_val, y_val), verbose=2)"
   ]
  },
  {
   "cell_type": "code",
   "execution_count": 20,
   "id": "9890c459",
   "metadata": {},
   "outputs": [
    {
     "data": {
      "text/plain": [
       "<matplotlib.legend.Legend at 0x258609236a0>"
      ]
     },
     "execution_count": 20,
     "metadata": {},
     "output_type": "execute_result"
    },
    {
     "data": {
      "image/png": "[encoded data removed]",
      "text/plain": [
       "<Figure size 1500x800 with 1 Axes>"
      ]
     },
     "metadata": {},
     "output_type": "display_data"
    },
    {
     "data": {
      "image/png": "[encoded data removed]",
      "text/plain": [
       "<Figure size 1500x800 with 1 Axes>"
      ]
     },
     "metadata": {},
     "output_type": "display_data"
    }
   ],
   "source": [
    "fig, ax = plt.subplots(figsize=(15, 8))\n",
    "ax.plot(history.history['loss'], label='Training loss', color='orange', linewidth=2, markersize=6)\n",
    "ax.plot(history.history['val_loss'], label='Validation loss', color='blue', linewidth=2, markersize=6)\n",
    "ax.set_title('Loss')\n",
    "ax.set_xlabel('Epoch')\n",
    "ax.set_ylabel('Loss')\n",
    "ax.legend()\n",
    "\n",
    "fig, ax = plt.subplots(figsize=(15, 8))\n",
    "ax.plot(history.history['accuracy'], label='Training Accuracy', color='orange', linewidth=2, markersize=6)\n",
    "ax.plot(history.history['val_accuracy'], label='Validation Accuracy', color='blue', linewidth=2, markersize=6)\n",
    "ax.set_title('Accuracy')\n",
    "ax.set_xlabel('Epoch')\n",
    "ax.set_ylabel('Accuracy')\n",
    "ax.legend()"
   ]
  },
  {
   "cell_type": "code",
   "execution_count": 21,
   "id": "3694c31d",
   "metadata": {},
   "outputs": [
    {
     "name": "stdout",
     "output_type": "stream",
     "text": [
      "\u001b[1m238/238\u001b[0m \u001b[32m━━━━━━━━━━━━━━━━━━━━\u001b[0m\u001b[37m\u001b[0m \u001b[1m0s\u001b[0m 1ms/step\n"
     ]
    },
    {
     "data": {
      "image/png": "[encoded data removed]",
      "text/plain": [
       "<Figure size 640x480 with 2 Axes>"
      ]
     },
     "metadata": {},
     "output_type": "display_data"
    }
   ],
   "source": [
    "# Predict on test\n",
    "y_pred_prob = model.predict(X_test)\n",
    "y_pred = (y_pred_prob > 0.5).astype(int)\n",
    "\n",
    "# Metrics\n",
    "Confusion_matrix = confusion_matrix(y_test, y_pred)\n",
    "sns.heatmap(Confusion_matrix, annot=True, fmt='d')\n",
    "plt.show()"
   ]
  },
  {
   "cell_type": "code",
   "execution_count": 22,
   "id": "a1755970",
   "metadata": {},
   "outputs": [
    {
     "name": "stdout",
     "output_type": "stream",
     "text": [
      "              precision    recall  f1-score   support\n",
      "\n",
      "           0       0.91      0.96      0.93      5920\n",
      "           1       0.82      0.65      0.73      1685\n",
      "\n",
      "    accuracy                           0.89      7605\n",
      "   macro avg       0.86      0.81      0.83      7605\n",
      "weighted avg       0.89      0.89      0.89      7605\n",
      "\n"
     ]
    }
   ],
   "source": [
    "# Classification report\n",
    "print(classification_report(y_test, y_pred))\n",
    "\n",
    "# Model has good overall accuracy, but what I can see that for 1 class the precision is low"
   ]
  }
 ],
 "metadata": {
  "kernelspec": {
   "display_name": ".venv",
   "language": "python",
   "name": "python3"
  },
  "language_info": {
   "codemirror_mode": {
    "name": "ipython",
    "version": 3
   },
   "file_extension": ".py",
   "mimetype": "text/x-python",
   "name": "python",
   "nbconvert_exporter": "python",
   "pygments_lexer": "ipython3",
   "version": "3.10.11"
  }
 },
 "nbformat": 4,
 "nbformat_minor": 5
}

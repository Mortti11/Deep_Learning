{
 "cells": [
  {
   "cell_type": "code",
   "execution_count": 23,
   "id": "bd2ef928",
   "metadata": {},
   "outputs": [],
   "source": [
    "import numpy as np\n",
    "import pandas as pd\n",
    "import matplotlib.pyplot as plt\n",
    "import seaborn as sns\n",
    "\n",
    "from sklearn.metrics import confusion_matrix, precision_score, recall_score, f1_score, roc_auc_score\n",
    "from sklearn.preprocessing import MinMaxScaler, StandardScaler, RobustScaler\n",
    "from sklearn.metrics import classification_report, confusion_matrix\n",
    "from sklearn.utils.class_weight import compute_class_weight\n",
    "\n",
    "\n",
    "import tensorflow as tf\n",
    "from tensorflow.keras import Sequential\n",
    "from tensorflow.keras.layers import Conv1D, BatchNormalization, Activation, MaxPooling1D\n",
    "from tensorflow.keras.layers import SpatialDropout1D, GlobalAveragePooling1D, Dense, Dropout\n",
    "from tensorflow.keras.regularizers import l2\n",
    "from tensorflow.keras.callbacks import EarlyStopping, ReduceLROnPlateau, ModelCheckpoint\n",
    "from tensorflow.keras.optimizers import Adam\n",
    "from tensorflow.keras.losses import BinaryCrossentropy"
   ]
  },
  {
   "cell_type": "code",
   "execution_count": 24,
   "id": "b50bbfb6",
   "metadata": {},
   "outputs": [
    {
     "data": {
      "application/vnd.microsoft.datawrangler.viewer.v0+json": {
       "columns": [
        {
         "name": "index",
         "rawType": "int64",
         "type": "integer"
        },
        {
         "name": "Temperature",
         "rawType": "float64",
         "type": "float"
        },
        {
         "name": "Humidity",
         "rawType": "float64",
         "type": "float"
        },
        {
         "name": "Occupancy",
         "rawType": "int64",
         "type": "integer"
        },
        {
         "name": "Hour",
         "rawType": "int64",
         "type": "integer"
        },
        {
         "name": "Minute",
         "rawType": "int64",
         "type": "integer"
        }
       ],
       "ref": "674c3e5b-ae9b-4d59-bd93-3802098f3c54",
       "rows": [
        [
         "0",
         "21.76",
         "31.13333",
         "1",
         "14",
         "48"
        ],
        [
         "1",
         "21.79",
         "31.0",
         "1",
         "14",
         "49"
        ],
        [
         "2",
         "21.77",
         "31.1225",
         "1",
         "14",
         "50"
        ],
        [
         "3",
         "21.77",
         "31.1225",
         "1",
         "14",
         "51"
        ],
        [
         "4",
         "21.79",
         "31.13333",
         "1",
         "14",
         "51"
        ]
       ],
       "shape": {
        "columns": 5,
        "rows": 5
       }
      },
      "text/html": [
       "<div>\n",
       "<style scoped>\n",
       "    .dataframe tbody tr th:only-of-type {\n",
       "        vertical-align: middle;\n",
       "    }\n",
       "\n",
       "    .dataframe tbody tr th {\n",
       "        vertical-align: top;\n",
       "    }\n",
       "\n",
       "    .dataframe thead th {\n",
       "        text-align: right;\n",
       "    }\n",
       "</style>\n",
       "<table border=\"1\" class=\"dataframe\">\n",
       "  <thead>\n",
       "    <tr style=\"text-align: right;\">\n",
       "      <th></th>\n",
       "      <th>Temperature</th>\n",
       "      <th>Humidity</th>\n",
       "      <th>Occupancy</th>\n",
       "      <th>Hour</th>\n",
       "      <th>Minute</th>\n",
       "    </tr>\n",
       "  </thead>\n",
       "  <tbody>\n",
       "    <tr>\n",
       "      <th>0</th>\n",
       "      <td>21.76</td>\n",
       "      <td>31.13333</td>\n",
       "      <td>1</td>\n",
       "      <td>14</td>\n",
       "      <td>48</td>\n",
       "    </tr>\n",
       "    <tr>\n",
       "      <th>1</th>\n",
       "      <td>21.79</td>\n",
       "      <td>31.00000</td>\n",
       "      <td>1</td>\n",
       "      <td>14</td>\n",
       "      <td>49</td>\n",
       "    </tr>\n",
       "    <tr>\n",
       "      <th>2</th>\n",
       "      <td>21.77</td>\n",
       "      <td>31.12250</td>\n",
       "      <td>1</td>\n",
       "      <td>14</td>\n",
       "      <td>50</td>\n",
       "    </tr>\n",
       "    <tr>\n",
       "      <th>3</th>\n",
       "      <td>21.77</td>\n",
       "      <td>31.12250</td>\n",
       "      <td>1</td>\n",
       "      <td>14</td>\n",
       "      <td>51</td>\n",
       "    </tr>\n",
       "    <tr>\n",
       "      <th>4</th>\n",
       "      <td>21.79</td>\n",
       "      <td>31.13333</td>\n",
       "      <td>1</td>\n",
       "      <td>14</td>\n",
       "      <td>51</td>\n",
       "    </tr>\n",
       "  </tbody>\n",
       "</table>\n",
       "</div>"
      ],
      "text/plain": [
       "   Temperature  Humidity  Occupancy  Hour  Minute\n",
       "0        21.76  31.13333          1    14      48\n",
       "1        21.79  31.00000          1    14      49\n",
       "2        21.77  31.12250          1    14      50\n",
       "3        21.77  31.12250          1    14      51\n",
       "4        21.79  31.13333          1    14      51"
      ]
     },
     "execution_count": 24,
     "metadata": {},
     "output_type": "execute_result"
    }
   ],
   "source": [
    "# Loading the DSs \n",
    "df_test = pd.read_csv('cleaned_datatest.csv')\n",
    "df_val = pd.read_csv('datavalidation.csv')\n",
    "df_train = pd.read_csv('datatraining.csv')\n",
    "df_train.head()"
   ]
  },
  {
   "cell_type": "code",
   "execution_count": 25,
   "id": "0c85aab3",
   "metadata": {},
   "outputs": [
    {
     "data": {
      "text/plain": [
       "503"
      ]
     },
     "execution_count": 25,
     "metadata": {},
     "output_type": "execute_result"
    }
   ],
   "source": [
    "df_train.duplicated().sum()\n"
   ]
  },
  {
   "cell_type": "code",
   "execution_count": 26,
   "id": "991ee7fe",
   "metadata": {},
   "outputs": [],
   "source": [
    "df_train = df_train.drop_duplicates(ignore_index=True)"
   ]
  },
  {
   "cell_type": "code",
   "execution_count": 27,
   "id": "30debb1f",
   "metadata": {},
   "outputs": [
    {
     "data": {
      "text/plain": [
       "(9249, 5)"
      ]
     },
     "execution_count": 27,
     "metadata": {},
     "output_type": "execute_result"
    }
   ],
   "source": [
    "df_train.shape"
   ]
  },
  {
   "cell_type": "code",
   "execution_count": 28,
   "id": "407ba437",
   "metadata": {},
   "outputs": [
    {
     "data": {
      "text/plain": [
       "139"
      ]
     },
     "execution_count": 28,
     "metadata": {},
     "output_type": "execute_result"
    }
   ],
   "source": [
    "df_val.duplicated().sum()"
   ]
  },
  {
   "cell_type": "code",
   "execution_count": 29,
   "id": "96350ce3",
   "metadata": {},
   "outputs": [],
   "source": [
    "df_val = df_val.drop_duplicates(ignore_index=True)"
   ]
  },
  {
   "cell_type": "code",
   "execution_count": 30,
   "id": "bb062e72",
   "metadata": {},
   "outputs": [
    {
     "data": {
      "text/plain": [
       "(2526, 5)"
      ]
     },
     "execution_count": 30,
     "metadata": {},
     "output_type": "execute_result"
    }
   ],
   "source": [
    "df_val.shape"
   ]
  },
  {
   "cell_type": "code",
   "execution_count": 31,
   "id": "7f6d112e",
   "metadata": {},
   "outputs": [
    {
     "data": {
      "text/plain": [
       "518"
      ]
     },
     "execution_count": 31,
     "metadata": {},
     "output_type": "execute_result"
    }
   ],
   "source": [
    "df_test.duplicated().sum()"
   ]
  },
  {
   "cell_type": "code",
   "execution_count": 32,
   "id": "6394ecf2",
   "metadata": {},
   "outputs": [],
   "source": [
    "df_test = df_test.drop_duplicates(ignore_index=True)"
   ]
  },
  {
   "cell_type": "code",
   "execution_count": 33,
   "id": "84154c3b",
   "metadata": {},
   "outputs": [
    {
     "data": {
      "text/plain": [
       "(7625, 5)"
      ]
     },
     "execution_count": 33,
     "metadata": {},
     "output_type": "execute_result"
    }
   ],
   "source": [
    "df_test.shape"
   ]
  },
  {
   "cell_type": "code",
   "execution_count": 34,
   "id": "6c99b5e8",
   "metadata": {},
   "outputs": [],
   "source": [
    "# Splitting into X and y\n",
    "X_train = df_train.drop('Occupancy', axis=1).values\n",
    "y_train = df_train['Occupancy'].values\n",
    "X_val = df_val.drop('Occupancy', axis=1).values\n",
    "y_val = df_val['Occupancy'].values\n",
    "X_test = df_test.drop('Occupancy', axis=1).values\n",
    "y_test = df_test['Occupancy'].values"
   ]
  },
  {
   "cell_type": "code",
   "execution_count": 35,
   "id": "b9430009",
   "metadata": {},
   "outputs": [
    {
     "name": "stdout",
     "output_type": "stream",
     "text": [
      "Shapes: (9249, 4) (2526, 4) (7625, 4)\n"
     ]
    }
   ],
   "source": [
    "# Scaling the data:\n",
    "# For continues columns like Temperature, Humidity, I will use StandardScaler\n",
    "# to avoid from outliers effect.\n",
    "# For minute and hour columns, I will use MinMaxScaler, because they are bounded. \n",
    "# While I was researching about this, there was another option, which is sin and cos encoding for cyclical features.\n",
    "\n",
    "\n",
    "# Column index for minute and hour\n",
    "time_columns = [2, 3]\n",
    "# First and second columns are continuous\n",
    "continuous_columns = [0, 1]\n",
    "\n",
    "# Scaling oonly first two columns\n",
    "scaler = StandardScaler()\n",
    "X_train[:, continuous_columns] = scaler.fit_transform(X_train[:, continuous_columns])\n",
    "X_test[:, continuous_columns]  = scaler.transform(X_test[:, continuous_columns])\n",
    "X_val[:, continuous_columns]  = scaler.transform(X_val[:, continuous_columns])\n",
    "\n",
    "time_scaler = MinMaxScaler()\n",
    "X_train[:, time_columns] = time_scaler.fit_transform(X_train[:, time_columns])\n",
    "X_test[:, time_columns]  = time_scaler.transform(X_test[:, time_columns])\n",
    "X_val[:, time_columns]  = time_scaler.transform(X_val[:, time_columns])\n",
    "print(\"Shapes:\", X_train.shape, X_val.shape, X_test.shape)"
   ]
  },
  {
   "cell_type": "code",
   "execution_count": 36,
   "id": "8c115a00",
   "metadata": {},
   "outputs": [
    {
     "name": "stdout",
     "output_type": "stream",
     "text": [
      "Training sequences shape: (9189, 60, 4)\n",
      "Training class shape: (9189,)\n",
      "Example  X: [[0.72887849 0.32646912 0.60869565 0.81355932]\n",
      " [0.7582453  0.2927464  0.60869565 0.83050847]\n",
      " [0.73866743 0.32372993 0.60869565 0.84745763]\n",
      " [0.73866743 0.32372993 0.60869565 0.86440678]\n",
      " [0.7582453  0.32646912 0.60869565 0.86440678]\n",
      " [0.72887849 0.35850735 0.60869565 0.89830508]\n",
      " [0.7582453  0.34269943 0.60869565 0.91525424]\n",
      " [0.7582453  0.39223007 0.60869565 0.93220339]\n",
      " [0.7582453  0.37305064 0.60869565 0.93220339]\n",
      " [0.7582453  0.40993495 0.60869565 0.96610169]\n",
      " [0.7582453  0.42553294 0.60869565 0.96610169]\n",
      " [0.7582453  0.43817927 0.60869565 0.98305085]\n",
      " [0.7582453  0.39265246 0.65217391 0.        ]\n",
      " [0.7582453  0.39202014 0.65217391 0.01694915]\n",
      " [0.7582453  0.41920977 0.65217391 0.03389831]\n",
      " [0.78761212 0.41920977 0.65217391 0.05084746]\n",
      " [0.78761212 0.41225428 0.65217391 0.06779661]\n",
      " [0.85613469 0.44450244 0.65217391 0.06779661]\n",
      " [0.7582453  0.43185611 0.65217391 0.10169492]\n",
      " [0.78761212 0.47738292 0.65217391 0.11864407]\n",
      " [0.82676787 0.47548597 0.65217391 0.13559322]\n",
      " [0.85613469 0.48117682 0.65217391 0.13559322]\n",
      " [0.85613469 0.48686767 0.65217391 0.16949153]\n",
      " [0.85613469 0.49255852 0.65217391 0.18644068]\n",
      " [0.85613469 0.49255852 0.65217391 0.22033898]\n",
      " [0.85613469 0.5178512  0.65217391 0.23728814]\n",
      " [0.85613469 0.5178512  0.65217391 0.25423729]\n",
      " [0.85613469 0.51152803 0.65217391 0.27118644]\n",
      " [0.85613469 0.49255852 0.65217391 0.27118644]\n",
      " [0.85613469 0.51152803 0.65217391 0.28813559]\n",
      " [0.85613469 0.47738292 0.65217391 0.3220339 ]\n",
      " [0.85613469 0.47548597 0.65217391 0.33898305]\n",
      " [0.85613469 0.46979512 0.65217391 0.3559322 ]\n",
      " [0.85613469 0.46853048 0.65217391 0.37288136]\n",
      " [0.85613469 0.43607239 0.65217391 0.38983051]\n",
      " [0.85613469 0.43185611 0.65217391 0.38983051]\n",
      " [0.85613469 0.38380003 0.65217391 0.40677966]\n",
      " [0.85613469 0.32436224 0.65217391 0.44067797]\n",
      " [0.85613469 0.33068541 0.65217391 0.45762712]\n",
      " [0.85613469 0.30876425 0.65217391 0.47457627]\n",
      " [0.85613469 0.23457325 0.65217391 0.49152542]\n",
      " [0.85613469 0.23394093 0.65217391 0.49152542]\n",
      " [0.85613469 0.27883543 0.65217391 0.50847458]\n",
      " [0.85613469 0.2402641  0.65217391 0.54237288]\n",
      " [0.85613469 0.23457325 0.65217391 0.55932203]\n",
      " [0.85613469 0.24089642 0.65217391 0.57627119]\n",
      " [0.85613469 0.24658727 0.65217391 0.59322034]\n",
      " [0.85613469 0.20422204 0.65217391 0.61016949]\n",
      " [0.85613469 0.2288824  0.65217391 0.61016949]\n",
      " [0.85613469 0.23288623 0.65217391 0.6440678 ]\n",
      " [0.85613469 0.23457325 0.65217391 0.66101695]\n",
      " [0.85613469 0.15237206 0.65217391 0.6779661 ]\n",
      " [0.85613469 0.18314566 0.65217391 0.6779661 ]\n",
      " [0.85613469 0.16628303 0.65217391 0.71186441]\n",
      " [0.85613469 0.18525254 0.65217391 0.71186441]\n",
      " [0.85613469 0.19157571 0.65217391 0.72881356]\n",
      " [0.85613469 0.17892937 0.65217391 0.76271186]\n",
      " [0.82676787 0.17892937 0.65217391 0.77966102]\n",
      " [0.85613469 0.19157571 0.65217391 0.79661017]\n",
      " [0.85613469 0.12581475 0.65217391 0.81355932]]\n",
      "Example  y: 1\n"
     ]
    }
   ],
   "source": [
    "# MAKING SEQUENCES:\n",
    "# Since The CNN needs sequences to capture the relevant patterns\n",
    "\n",
    "window_size = 60\n",
    "# I need to create a function for making windows\n",
    "def time_windows(X, y, window_size, step_ahead = 1):\n",
    "    # Creating two list for features and labels\n",
    "    X_windows = []\n",
    "    y_windows = []\n",
    "    for i in range(0, len(X) - window_size - step_ahead + 1):\n",
    "        X_windows.append(X[i:i+window_size])\n",
    "        # so the next step after the window must be predicted\n",
    "        # if window_size from 0 to 60, the next step is 60\n",
    "        y_windows.append(y[i+window_size-1 + step_ahead])\n",
    "    return np.array(X_windows), np.array(y_windows)\n",
    "# Applying the function:\n",
    "X_train, y_train = time_windows(X_train, y_train, window_size, step_ahead=1)\n",
    "X_val, y_val = time_windows(X_val, y_val, window_size, step_ahead=1)\n",
    "X_test, y_test = time_windows(X_test, y_test, window_size, step_ahead=1)\n",
    "\n",
    "print('Training sequences shape:', X_train.shape)\n",
    "print('Training class shape:', y_train.shape)\n",
    "print('Example  X:', X_train[0])\n",
    "print(\"Example  y:\", y_train[0])\n",
    "# I got the code structure from here:\n",
    "# https://stackoverflow.com/questions/77812013/pandas-dataframe-to-sliding-window"
   ]
  },
  {
   "cell_type": "code",
   "execution_count": null,
   "id": "16b1362f",
   "metadata": {},
   "outputs": [],
   "source": []
  },
  {
   "cell_type": "code",
   "execution_count": 37,
   "id": "7156e00c",
   "metadata": {},
   "outputs": [
    {
     "name": "stdout",
     "output_type": "stream",
     "text": [
      "class_weight for sklearn models: {1: 3.7074795081967213}\n"
     ]
    }
   ],
   "source": [
    "# The occupancy is imbalanced, So I will compute the class weights\n",
    "zero_count = (y_train == 0).sum()\n",
    "one_count = (y_train == 1).sum()\n",
    "one_weight = dict(zip([1], [zero_count / one_count]))\n",
    "print(\"class_weight for sklearn models:\", one_weight)"
   ]
  },
  {
   "cell_type": "code",
   "execution_count": 38,
   "id": "c6b4d33b",
   "metadata": {},
   "outputs": [
    {
     "name": "stderr",
     "output_type": "stream",
     "text": [
      "d:\\ML&DE\\Deep_Learning\\.venv\\lib\\site-packages\\keras\\src\\layers\\convolutional\\base_conv.py:113: UserWarning: Do not pass an `input_shape`/`input_dim` argument to a layer. When using Sequential models, prefer using an `Input(shape)` object as the first layer in the model instead.\n",
      "  super().__init__(activity_regularizer=activity_regularizer, **kwargs)\n"
     ]
    },
    {
     "data": {
      "text/html": [
       "<pre style=\"white-space:pre;overflow-x:auto;line-height:normal;font-family:Menlo,'DejaVu Sans Mono',consolas,'Courier New',monospace\"><span style=\"font-weight: bold\">Model: \"sequential_1\"</span>\n",
       "</pre>\n"
      ],
      "text/plain": [
       "\u001b[1mModel: \"sequential_1\"\u001b[0m\n"
      ]
     },
     "metadata": {},
     "output_type": "display_data"
    },
    {
     "data": {
      "text/html": [
       "<pre style=\"white-space:pre;overflow-x:auto;line-height:normal;font-family:Menlo,'DejaVu Sans Mono',consolas,'Courier New',monospace\">┏━━━━━━━━━━━━━━━━━━━━━━━━━━━━━━━━━┳━━━━━━━━━━━━━━━━━━━━━━━━┳━━━━━━━━━━━━━━━┓\n",
       "┃<span style=\"font-weight: bold\"> Layer (type)                    </span>┃<span style=\"font-weight: bold\"> Output Shape           </span>┃<span style=\"font-weight: bold\">       Param # </span>┃\n",
       "┡━━━━━━━━━━━━━━━━━━━━━━━━━━━━━━━━━╇━━━━━━━━━━━━━━━━━━━━━━━━╇━━━━━━━━━━━━━━━┩\n",
       "│ conv1d_2 (<span style=\"color: #0087ff; text-decoration-color: #0087ff\">Conv1D</span>)               │ (<span style=\"color: #00d7ff; text-decoration-color: #00d7ff\">None</span>, <span style=\"color: #00af00; text-decoration-color: #00af00\">60</span>, <span style=\"color: #00af00; text-decoration-color: #00af00\">64</span>)         │         <span style=\"color: #00af00; text-decoration-color: #00af00\">1,344</span> │\n",
       "├─────────────────────────────────┼────────────────────────┼───────────────┤\n",
       "│ batch_normalization_3           │ (<span style=\"color: #00d7ff; text-decoration-color: #00d7ff\">None</span>, <span style=\"color: #00af00; text-decoration-color: #00af00\">60</span>, <span style=\"color: #00af00; text-decoration-color: #00af00\">64</span>)         │           <span style=\"color: #00af00; text-decoration-color: #00af00\">256</span> │\n",
       "│ (<span style=\"color: #0087ff; text-decoration-color: #0087ff\">BatchNormalization</span>)            │                        │               │\n",
       "├─────────────────────────────────┼────────────────────────┼───────────────┤\n",
       "│ activation_2 (<span style=\"color: #0087ff; text-decoration-color: #0087ff\">Activation</span>)       │ (<span style=\"color: #00d7ff; text-decoration-color: #00d7ff\">None</span>, <span style=\"color: #00af00; text-decoration-color: #00af00\">60</span>, <span style=\"color: #00af00; text-decoration-color: #00af00\">64</span>)         │             <span style=\"color: #00af00; text-decoration-color: #00af00\">0</span> │\n",
       "├─────────────────────────────────┼────────────────────────┼───────────────┤\n",
       "│ spatial_dropout1d_2             │ (<span style=\"color: #00d7ff; text-decoration-color: #00d7ff\">None</span>, <span style=\"color: #00af00; text-decoration-color: #00af00\">60</span>, <span style=\"color: #00af00; text-decoration-color: #00af00\">64</span>)         │             <span style=\"color: #00af00; text-decoration-color: #00af00\">0</span> │\n",
       "│ (<span style=\"color: #0087ff; text-decoration-color: #0087ff\">SpatialDropout1D</span>)              │                        │               │\n",
       "├─────────────────────────────────┼────────────────────────┼───────────────┤\n",
       "│ max_pooling1d_1 (<span style=\"color: #0087ff; text-decoration-color: #0087ff\">MaxPooling1D</span>)  │ (<span style=\"color: #00d7ff; text-decoration-color: #00d7ff\">None</span>, <span style=\"color: #00af00; text-decoration-color: #00af00\">30</span>, <span style=\"color: #00af00; text-decoration-color: #00af00\">64</span>)         │             <span style=\"color: #00af00; text-decoration-color: #00af00\">0</span> │\n",
       "├─────────────────────────────────┼────────────────────────┼───────────────┤\n",
       "│ conv1d_3 (<span style=\"color: #0087ff; text-decoration-color: #0087ff\">Conv1D</span>)               │ (<span style=\"color: #00d7ff; text-decoration-color: #00d7ff\">None</span>, <span style=\"color: #00af00; text-decoration-color: #00af00\">30</span>, <span style=\"color: #00af00; text-decoration-color: #00af00\">128</span>)        │        <span style=\"color: #00af00; text-decoration-color: #00af00\">57,472</span> │\n",
       "├─────────────────────────────────┼────────────────────────┼───────────────┤\n",
       "│ batch_normalization_4           │ (<span style=\"color: #00d7ff; text-decoration-color: #00d7ff\">None</span>, <span style=\"color: #00af00; text-decoration-color: #00af00\">30</span>, <span style=\"color: #00af00; text-decoration-color: #00af00\">128</span>)        │           <span style=\"color: #00af00; text-decoration-color: #00af00\">512</span> │\n",
       "│ (<span style=\"color: #0087ff; text-decoration-color: #0087ff\">BatchNormalization</span>)            │                        │               │\n",
       "├─────────────────────────────────┼────────────────────────┼───────────────┤\n",
       "│ activation_3 (<span style=\"color: #0087ff; text-decoration-color: #0087ff\">Activation</span>)       │ (<span style=\"color: #00d7ff; text-decoration-color: #00d7ff\">None</span>, <span style=\"color: #00af00; text-decoration-color: #00af00\">30</span>, <span style=\"color: #00af00; text-decoration-color: #00af00\">128</span>)        │             <span style=\"color: #00af00; text-decoration-color: #00af00\">0</span> │\n",
       "├─────────────────────────────────┼────────────────────────┼───────────────┤\n",
       "│ spatial_dropout1d_3             │ (<span style=\"color: #00d7ff; text-decoration-color: #00d7ff\">None</span>, <span style=\"color: #00af00; text-decoration-color: #00af00\">30</span>, <span style=\"color: #00af00; text-decoration-color: #00af00\">128</span>)        │             <span style=\"color: #00af00; text-decoration-color: #00af00\">0</span> │\n",
       "│ (<span style=\"color: #0087ff; text-decoration-color: #0087ff\">SpatialDropout1D</span>)              │                        │               │\n",
       "├─────────────────────────────────┼────────────────────────┼───────────────┤\n",
       "│ global_average_pooling1d_1      │ (<span style=\"color: #00d7ff; text-decoration-color: #00d7ff\">None</span>, <span style=\"color: #00af00; text-decoration-color: #00af00\">128</span>)            │             <span style=\"color: #00af00; text-decoration-color: #00af00\">0</span> │\n",
       "│ (<span style=\"color: #0087ff; text-decoration-color: #0087ff\">GlobalAveragePooling1D</span>)        │                        │               │\n",
       "├─────────────────────────────────┼────────────────────────┼───────────────┤\n",
       "│ dense_2 (<span style=\"color: #0087ff; text-decoration-color: #0087ff\">Dense</span>)                 │ (<span style=\"color: #00d7ff; text-decoration-color: #00d7ff\">None</span>, <span style=\"color: #00af00; text-decoration-color: #00af00\">128</span>)            │        <span style=\"color: #00af00; text-decoration-color: #00af00\">16,512</span> │\n",
       "├─────────────────────────────────┼────────────────────────┼───────────────┤\n",
       "│ batch_normalization_5           │ (<span style=\"color: #00d7ff; text-decoration-color: #00d7ff\">None</span>, <span style=\"color: #00af00; text-decoration-color: #00af00\">128</span>)            │           <span style=\"color: #00af00; text-decoration-color: #00af00\">512</span> │\n",
       "│ (<span style=\"color: #0087ff; text-decoration-color: #0087ff\">BatchNormalization</span>)            │                        │               │\n",
       "├─────────────────────────────────┼────────────────────────┼───────────────┤\n",
       "│ dropout_1 (<span style=\"color: #0087ff; text-decoration-color: #0087ff\">Dropout</span>)             │ (<span style=\"color: #00d7ff; text-decoration-color: #00d7ff\">None</span>, <span style=\"color: #00af00; text-decoration-color: #00af00\">128</span>)            │             <span style=\"color: #00af00; text-decoration-color: #00af00\">0</span> │\n",
       "├─────────────────────────────────┼────────────────────────┼───────────────┤\n",
       "│ dense_3 (<span style=\"color: #0087ff; text-decoration-color: #0087ff\">Dense</span>)                 │ (<span style=\"color: #00d7ff; text-decoration-color: #00d7ff\">None</span>, <span style=\"color: #00af00; text-decoration-color: #00af00\">1</span>)              │           <span style=\"color: #00af00; text-decoration-color: #00af00\">129</span> │\n",
       "└─────────────────────────────────┴────────────────────────┴───────────────┘\n",
       "</pre>\n"
      ],
      "text/plain": [
       "┏━━━━━━━━━━━━━━━━━━━━━━━━━━━━━━━━━┳━━━━━━━━━━━━━━━━━━━━━━━━┳━━━━━━━━━━━━━━━┓\n",
       "┃\u001b[1m \u001b[0m\u001b[1mLayer (type)                   \u001b[0m\u001b[1m \u001b[0m┃\u001b[1m \u001b[0m\u001b[1mOutput Shape          \u001b[0m\u001b[1m \u001b[0m┃\u001b[1m \u001b[0m\u001b[1m      Param #\u001b[0m\u001b[1m \u001b[0m┃\n",
       "┡━━━━━━━━━━━━━━━━━━━━━━━━━━━━━━━━━╇━━━━━━━━━━━━━━━━━━━━━━━━╇━━━━━━━━━━━━━━━┩\n",
       "│ conv1d_2 (\u001b[38;5;33mConv1D\u001b[0m)               │ (\u001b[38;5;45mNone\u001b[0m, \u001b[38;5;34m60\u001b[0m, \u001b[38;5;34m64\u001b[0m)         │         \u001b[38;5;34m1,344\u001b[0m │\n",
       "├─────────────────────────────────┼────────────────────────┼───────────────┤\n",
       "│ batch_normalization_3           │ (\u001b[38;5;45mNone\u001b[0m, \u001b[38;5;34m60\u001b[0m, \u001b[38;5;34m64\u001b[0m)         │           \u001b[38;5;34m256\u001b[0m │\n",
       "│ (\u001b[38;5;33mBatchNormalization\u001b[0m)            │                        │               │\n",
       "├─────────────────────────────────┼────────────────────────┼───────────────┤\n",
       "│ activation_2 (\u001b[38;5;33mActivation\u001b[0m)       │ (\u001b[38;5;45mNone\u001b[0m, \u001b[38;5;34m60\u001b[0m, \u001b[38;5;34m64\u001b[0m)         │             \u001b[38;5;34m0\u001b[0m │\n",
       "├─────────────────────────────────┼────────────────────────┼───────────────┤\n",
       "│ spatial_dropout1d_2             │ (\u001b[38;5;45mNone\u001b[0m, \u001b[38;5;34m60\u001b[0m, \u001b[38;5;34m64\u001b[0m)         │             \u001b[38;5;34m0\u001b[0m │\n",
       "│ (\u001b[38;5;33mSpatialDropout1D\u001b[0m)              │                        │               │\n",
       "├─────────────────────────────────┼────────────────────────┼───────────────┤\n",
       "│ max_pooling1d_1 (\u001b[38;5;33mMaxPooling1D\u001b[0m)  │ (\u001b[38;5;45mNone\u001b[0m, \u001b[38;5;34m30\u001b[0m, \u001b[38;5;34m64\u001b[0m)         │             \u001b[38;5;34m0\u001b[0m │\n",
       "├─────────────────────────────────┼────────────────────────┼───────────────┤\n",
       "│ conv1d_3 (\u001b[38;5;33mConv1D\u001b[0m)               │ (\u001b[38;5;45mNone\u001b[0m, \u001b[38;5;34m30\u001b[0m, \u001b[38;5;34m128\u001b[0m)        │        \u001b[38;5;34m57,472\u001b[0m │\n",
       "├─────────────────────────────────┼────────────────────────┼───────────────┤\n",
       "│ batch_normalization_4           │ (\u001b[38;5;45mNone\u001b[0m, \u001b[38;5;34m30\u001b[0m, \u001b[38;5;34m128\u001b[0m)        │           \u001b[38;5;34m512\u001b[0m │\n",
       "│ (\u001b[38;5;33mBatchNormalization\u001b[0m)            │                        │               │\n",
       "├─────────────────────────────────┼────────────────────────┼───────────────┤\n",
       "│ activation_3 (\u001b[38;5;33mActivation\u001b[0m)       │ (\u001b[38;5;45mNone\u001b[0m, \u001b[38;5;34m30\u001b[0m, \u001b[38;5;34m128\u001b[0m)        │             \u001b[38;5;34m0\u001b[0m │\n",
       "├─────────────────────────────────┼────────────────────────┼───────────────┤\n",
       "│ spatial_dropout1d_3             │ (\u001b[38;5;45mNone\u001b[0m, \u001b[38;5;34m30\u001b[0m, \u001b[38;5;34m128\u001b[0m)        │             \u001b[38;5;34m0\u001b[0m │\n",
       "│ (\u001b[38;5;33mSpatialDropout1D\u001b[0m)              │                        │               │\n",
       "├─────────────────────────────────┼────────────────────────┼───────────────┤\n",
       "│ global_average_pooling1d_1      │ (\u001b[38;5;45mNone\u001b[0m, \u001b[38;5;34m128\u001b[0m)            │             \u001b[38;5;34m0\u001b[0m │\n",
       "│ (\u001b[38;5;33mGlobalAveragePooling1D\u001b[0m)        │                        │               │\n",
       "├─────────────────────────────────┼────────────────────────┼───────────────┤\n",
       "│ dense_2 (\u001b[38;5;33mDense\u001b[0m)                 │ (\u001b[38;5;45mNone\u001b[0m, \u001b[38;5;34m128\u001b[0m)            │        \u001b[38;5;34m16,512\u001b[0m │\n",
       "├─────────────────────────────────┼────────────────────────┼───────────────┤\n",
       "│ batch_normalization_5           │ (\u001b[38;5;45mNone\u001b[0m, \u001b[38;5;34m128\u001b[0m)            │           \u001b[38;5;34m512\u001b[0m │\n",
       "│ (\u001b[38;5;33mBatchNormalization\u001b[0m)            │                        │               │\n",
       "├─────────────────────────────────┼────────────────────────┼───────────────┤\n",
       "│ dropout_1 (\u001b[38;5;33mDropout\u001b[0m)             │ (\u001b[38;5;45mNone\u001b[0m, \u001b[38;5;34m128\u001b[0m)            │             \u001b[38;5;34m0\u001b[0m │\n",
       "├─────────────────────────────────┼────────────────────────┼───────────────┤\n",
       "│ dense_3 (\u001b[38;5;33mDense\u001b[0m)                 │ (\u001b[38;5;45mNone\u001b[0m, \u001b[38;5;34m1\u001b[0m)              │           \u001b[38;5;34m129\u001b[0m │\n",
       "└─────────────────────────────────┴────────────────────────┴───────────────┘\n"
      ]
     },
     "metadata": {},
     "output_type": "display_data"
    },
    {
     "data": {
      "text/html": [
       "<pre style=\"white-space:pre;overflow-x:auto;line-height:normal;font-family:Menlo,'DejaVu Sans Mono',consolas,'Courier New',monospace\"><span style=\"font-weight: bold\"> Total params: </span><span style=\"color: #00af00; text-decoration-color: #00af00\">76,737</span> (299.75 KB)\n",
       "</pre>\n"
      ],
      "text/plain": [
       "\u001b[1m Total params: \u001b[0m\u001b[38;5;34m76,737\u001b[0m (299.75 KB)\n"
      ]
     },
     "metadata": {},
     "output_type": "display_data"
    },
    {
     "data": {
      "text/html": [
       "<pre style=\"white-space:pre;overflow-x:auto;line-height:normal;font-family:Menlo,'DejaVu Sans Mono',consolas,'Courier New',monospace\"><span style=\"font-weight: bold\"> Trainable params: </span><span style=\"color: #00af00; text-decoration-color: #00af00\">76,097</span> (297.25 KB)\n",
       "</pre>\n"
      ],
      "text/plain": [
       "\u001b[1m Trainable params: \u001b[0m\u001b[38;5;34m76,097\u001b[0m (297.25 KB)\n"
      ]
     },
     "metadata": {},
     "output_type": "display_data"
    },
    {
     "data": {
      "text/html": [
       "<pre style=\"white-space:pre;overflow-x:auto;line-height:normal;font-family:Menlo,'DejaVu Sans Mono',consolas,'Courier New',monospace\"><span style=\"font-weight: bold\"> Non-trainable params: </span><span style=\"color: #00af00; text-decoration-color: #00af00\">640</span> (2.50 KB)\n",
       "</pre>\n"
      ],
      "text/plain": [
       "\u001b[1m Non-trainable params: \u001b[0m\u001b[38;5;34m640\u001b[0m (2.50 KB)\n"
      ]
     },
     "metadata": {},
     "output_type": "display_data"
    }
   ],
   "source": [
    "model = Sequential([\n",
    "    Conv1D(64, 5, padding='same', input_shape=(window_size, X_train.shape[2]), kernel_regularizer=l2(0.0005)),\n",
    "    BatchNormalization(), Activation('relu'),\n",
    "    SpatialDropout1D(0.25),\n",
    "    MaxPooling1D(2),\n",
    "\n",
    "    Conv1D(128, 7, padding='same'),\n",
    "    BatchNormalization(), Activation('relu'),\n",
    "    SpatialDropout1D(0.25),\n",
    "\n",
    "    GlobalAveragePooling1D(),\n",
    "    Dense(128, activation='relu', kernel_regularizer=l2(0.0005)),\n",
    "    BatchNormalization(),\n",
    "    Dropout(0.25),\n",
    "    Dense(1, activation='sigmoid')\n",
    "])\n",
    "model.summary()"
   ]
  },
  {
   "cell_type": "code",
   "execution_count": 39,
   "id": "2cdcc93f",
   "metadata": {},
   "outputs": [],
   "source": [
    "model.compile(\n",
    "    optimizer=tf.keras.optimizers.Adam(learning_rate=0.001),\n",
    "    loss=BinaryCrossentropy(), metrics=['accuracy', tf.keras.metrics.Precision(name='precision')])"
   ]
  },
  {
   "cell_type": "code",
   "execution_count": 40,
   "id": "ac2570cd",
   "metadata": {},
   "outputs": [],
   "source": [
    "early_stop = EarlyStopping(monitor='val_loss', patience=2, restore_best_weights=True, verbose=1)\n",
    "# Reducing learning rate when stuck\n",
    "reduce_lr = ReduceLROnPlateau(monitor='val_loss',factor=0.5, patience=2, verbose=1)"
   ]
  },
  {
   "cell_type": "code",
   "execution_count": 41,
   "id": "a058278b",
   "metadata": {},
   "outputs": [
    {
     "name": "stdout",
     "output_type": "stream",
     "text": [
      "Epoch 1/50\n",
      "72/72 - 3s - 35ms/step - accuracy: 0.7856 - loss: 0.7477 - precision: 0.4975 - val_accuracy: 0.8569 - val_loss: 0.5883 - val_precision: 0.8284 - learning_rate: 0.0010\n",
      "Epoch 2/50\n",
      "72/72 - 1s - 10ms/step - accuracy: 0.8468 - loss: 0.5968 - precision: 0.5887 - val_accuracy: 0.8796 - val_loss: 0.4654 - val_precision: 0.8274 - learning_rate: 0.0010\n",
      "Epoch 3/50\n",
      "72/72 - 1s - 9ms/step - accuracy: 0.8632 - loss: 0.5067 - precision: 0.6181 - val_accuracy: 0.8690 - val_loss: 0.3751 - val_precision: 0.7335 - learning_rate: 0.0010\n",
      "Epoch 4/50\n",
      "72/72 - 1s - 10ms/step - accuracy: 0.8684 - loss: 0.4803 - precision: 0.6257 - val_accuracy: 0.9424 - val_loss: 0.3049 - val_precision: 0.8969 - learning_rate: 0.0010\n",
      "Epoch 5/50\n",
      "72/72 - 1s - 10ms/step - accuracy: 0.8757 - loss: 0.4584 - precision: 0.6419 - val_accuracy: 0.9189 - val_loss: 0.2892 - val_precision: 0.8669 - learning_rate: 0.0010\n",
      "Epoch 6/50\n",
      "72/72 - 1s - 9ms/step - accuracy: 0.8828 - loss: 0.4251 - precision: 0.6542 - val_accuracy: 0.9294 - val_loss: 0.2565 - val_precision: 0.8977 - learning_rate: 0.0010\n",
      "Epoch 7/50\n",
      "72/72 - 1s - 10ms/step - accuracy: 0.8914 - loss: 0.4081 - precision: 0.6722 - val_accuracy: 0.8925 - val_loss: 0.3240 - val_precision: 0.7791 - learning_rate: 0.0010\n",
      "Epoch 8/50\n",
      "72/72 - 1s - 10ms/step - accuracy: 0.8978 - loss: 0.3848 - precision: 0.6879 - val_accuracy: 0.9436 - val_loss: 0.2530 - val_precision: 0.8964 - learning_rate: 0.0010\n",
      "Epoch 9/50\n",
      "72/72 - 1s - 9ms/step - accuracy: 0.9000 - loss: 0.3786 - precision: 0.6917 - val_accuracy: 0.9157 - val_loss: 0.2730 - val_precision: 0.8883 - learning_rate: 0.0010\n",
      "Epoch 10/50\n",
      "\n",
      "Epoch 10: ReduceLROnPlateau reducing learning rate to 0.0005000000237487257.\n",
      "72/72 - 1s - 9ms/step - accuracy: 0.9066 - loss: 0.3715 - precision: 0.7080 - val_accuracy: 0.8808 - val_loss: 0.2818 - val_precision: 0.8790 - learning_rate: 0.0010\n",
      "Epoch 10: early stopping\n",
      "Restoring model weights from the end of the best epoch: 8.\n"
     ]
    }
   ],
   "source": [
    "history = model.fit(X_train, y_train, \n",
    "    epochs=50, batch_size=128, callbacks=[early_stop, reduce_lr], class_weight=one_weight,\n",
    "    validation_data=(X_val, y_val), verbose=2)"
   ]
  },
  {
   "cell_type": "code",
   "execution_count": 42,
   "id": "9890c459",
   "metadata": {},
   "outputs": [
    {
     "data": {
      "text/plain": [
       "<matplotlib.legend.Legend at 0x1c9b307eb60>"
      ]
     },
     "execution_count": 42,
     "metadata": {},
     "output_type": "execute_result"
    },
    {
     "data": {
      "image/png": "[encoded data removed]",
      "text/plain": [
       "<Figure size 1500x800 with 1 Axes>"
      ]
     },
     "metadata": {},
     "output_type": "display_data"
    },
    {
     "data": {
      "image/png": "[encoded data removed]",
      "text/plain": [
       "<Figure size 1500x800 with 1 Axes>"
      ]
     },
     "metadata": {},
     "output_type": "display_data"
    }
   ],
   "source": [
    "fig, ax = plt.subplots(figsize=(15, 8))\n",
    "ax.plot(history.history['loss'], label='Training loss', color='orange', linewidth=2, markersize=6)\n",
    "ax.plot(history.history['val_loss'], label='Validation loss', color='blue', linewidth=2, markersize=6)\n",
    "ax.set_title('Loss')\n",
    "ax.set_xlabel('Epoch')\n",
    "ax.set_ylabel('Loss')\n",
    "ax.legend()\n",
    "\n",
    "fig, ax = plt.subplots(figsize=(15, 8))\n",
    "ax.plot(history.history['accuracy'], label='Training Accuracy', color='orange', linewidth=2, markersize=6)\n",
    "ax.plot(history.history['val_accuracy'], label='Validation Accuracy', color='blue', linewidth=2, markersize=6)\n",
    "ax.set_title('Accuracy')\n",
    "ax.set_xlabel('Epoch')\n",
    "ax.set_ylabel('Accuracy')\n",
    "ax.legend()"
   ]
  },
  {
   "cell_type": "code",
   "execution_count": 43,
   "id": "3694c31d",
   "metadata": {},
   "outputs": [
    {
     "name": "stdout",
     "output_type": "stream",
     "text": [
      "\u001b[1m237/237\u001b[0m \u001b[32m━━━━━━━━━━━━━━━━━━━━\u001b[0m\u001b[37m\u001b[0m \u001b[1m1s\u001b[0m 2ms/step\n"
     ]
    },
    {
     "data": {
      "image/png": "[encoded data removed]",
      "text/plain": [
       "<Figure size 640x480 with 2 Axes>"
      ]
     },
     "metadata": {},
     "output_type": "display_data"
    }
   ],
   "source": [
    "# Predict on test\n",
    "y_pred_prob = model.predict(X_test)\n",
    "y_pred = (y_pred_prob > 0.5).astype(int)\n",
    "\n",
    "# Metrics\n",
    "Confusion_matrix = confusion_matrix(y_test, y_pred)\n",
    "sns.heatmap(Confusion_matrix, annot=True, fmt='d')\n",
    "plt.show()"
   ]
  },
  {
   "cell_type": "code",
   "execution_count": 44,
   "id": "a1755970",
   "metadata": {},
   "outputs": [
    {
     "name": "stdout",
     "output_type": "stream",
     "text": [
      "              precision    recall  f1-score   support\n",
      "\n",
      "           0       0.91      0.98      0.94      5880\n",
      "           1       0.89      0.65      0.75      1685\n",
      "\n",
      "    accuracy                           0.90      7565\n",
      "   macro avg       0.90      0.81      0.84      7565\n",
      "weighted avg       0.90      0.90      0.90      7565\n",
      "\n"
     ]
    }
   ],
   "source": [
    "# Classification report\n",
    "print(classification_report(y_test, y_pred))\n",
    "\n",
    "# Model has good overall accuracy, but what I can see that for 1 class the precision is low"
   ]
  }
 ],
 "metadata": {
  "kernelspec": {
   "display_name": ".venv",
   "language": "python",
   "name": "python3"
  },
  "language_info": {
   "codemirror_mode": {
    "name": "ipython",
    "version": 3
   },
   "file_extension": ".py",
   "mimetype": "text/x-python",
   "name": "python",
   "nbconvert_exporter": "python",
   "pygments_lexer": "ipython3",
   "version": "3.10.11"
  }
 },
 "nbformat": 4,
 "nbformat_minor": 5
}

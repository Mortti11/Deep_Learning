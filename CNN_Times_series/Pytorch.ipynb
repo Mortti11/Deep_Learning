{
 "cells": [
  {
   "cell_type": "code",
   "execution_count": 1,
   "id": "ff13fbc0",
   "metadata": {},
   "outputs": [],
   "source": [
    "import pandas as pd\n",
    "import numpy as np\n",
    "import matplotlib.pyplot as plt\n",
    "import seaborn as sns\n",
    "\n",
    "from sklearn.preprocessing import StandardScaler\n",
    "import torch\n",
    "from torch.utils.data import TensorDataset, DataLoader\n",
    "import torch.nn as nn\n",
    "import torch.optim as optim\n",
    "from torchmetrics import Accuracy, Precision, Recall, F1Score\n",
    "import torch.nn.functional as F\n",
    "\n",
    "from sklearn.metrics import confusion_matrix\n",
    "from sklearn.metrics import classification_report\n",
    "from sklearn.utils.class_weight import compute_class_weight\n",
    "from sklearn.preprocessing import StandardScaler, MinMaxScaler\n",
    "from sklearn.metrics import accuracy_score, precision_score, recall_score, f1_score"
   ]
  },
  {
   "cell_type": "code",
   "execution_count": 2,
   "id": "78b6a75e",
   "metadata": {},
   "outputs": [
    {
     "data": {
      "text/plain": [
       "device(type='cpu')"
      ]
     },
     "execution_count": 2,
     "metadata": {},
     "output_type": "execute_result"
    }
   ],
   "source": [
    "device = torch.device('cuda' if torch.cuda.is_available() else 'cpu')\n",
    "device"
   ]
  },
  {
   "cell_type": "code",
   "execution_count": 3,
   "id": "ccebe953",
   "metadata": {},
   "outputs": [
    {
     "data": {
      "application/vnd.microsoft.datawrangler.viewer.v0+json": {
       "columns": [
        {
         "name": "index",
         "rawType": "int64",
         "type": "integer"
        },
        {
         "name": "Temperature",
         "rawType": "float64",
         "type": "float"
        },
        {
         "name": "Humidity",
         "rawType": "float64",
         "type": "float"
        },
        {
         "name": "Occupancy",
         "rawType": "int64",
         "type": "integer"
        },
        {
         "name": "Hour",
         "rawType": "int64",
         "type": "integer"
        },
        {
         "name": "Minute",
         "rawType": "int64",
         "type": "integer"
        }
       ],
       "ref": "ec4cf616-f87c-4539-9f67-0875894e5538",
       "rows": [
        [
         "0",
         "21.76",
         "31.13333",
         "1",
         "14",
         "48"
        ],
        [
         "1",
         "21.79",
         "31.0",
         "1",
         "14",
         "49"
        ],
        [
         "2",
         "21.77",
         "31.1225",
         "1",
         "14",
         "50"
        ],
        [
         "3",
         "21.77",
         "31.1225",
         "1",
         "14",
         "51"
        ],
        [
         "4",
         "21.79",
         "31.13333",
         "1",
         "14",
         "51"
        ]
       ],
       "shape": {
        "columns": 5,
        "rows": 5
       }
      },
      "text/html": [
       "<div>\n",
       "<style scoped>\n",
       "    .dataframe tbody tr th:only-of-type {\n",
       "        vertical-align: middle;\n",
       "    }\n",
       "\n",
       "    .dataframe tbody tr th {\n",
       "        vertical-align: top;\n",
       "    }\n",
       "\n",
       "    .dataframe thead th {\n",
       "        text-align: right;\n",
       "    }\n",
       "</style>\n",
       "<table border=\"1\" class=\"dataframe\">\n",
       "  <thead>\n",
       "    <tr style=\"text-align: right;\">\n",
       "      <th></th>\n",
       "      <th>Temperature</th>\n",
       "      <th>Humidity</th>\n",
       "      <th>Occupancy</th>\n",
       "      <th>Hour</th>\n",
       "      <th>Minute</th>\n",
       "    </tr>\n",
       "  </thead>\n",
       "  <tbody>\n",
       "    <tr>\n",
       "      <th>0</th>\n",
       "      <td>21.76</td>\n",
       "      <td>31.13333</td>\n",
       "      <td>1</td>\n",
       "      <td>14</td>\n",
       "      <td>48</td>\n",
       "    </tr>\n",
       "    <tr>\n",
       "      <th>1</th>\n",
       "      <td>21.79</td>\n",
       "      <td>31.00000</td>\n",
       "      <td>1</td>\n",
       "      <td>14</td>\n",
       "      <td>49</td>\n",
       "    </tr>\n",
       "    <tr>\n",
       "      <th>2</th>\n",
       "      <td>21.77</td>\n",
       "      <td>31.12250</td>\n",
       "      <td>1</td>\n",
       "      <td>14</td>\n",
       "      <td>50</td>\n",
       "    </tr>\n",
       "    <tr>\n",
       "      <th>3</th>\n",
       "      <td>21.77</td>\n",
       "      <td>31.12250</td>\n",
       "      <td>1</td>\n",
       "      <td>14</td>\n",
       "      <td>51</td>\n",
       "    </tr>\n",
       "    <tr>\n",
       "      <th>4</th>\n",
       "      <td>21.79</td>\n",
       "      <td>31.13333</td>\n",
       "      <td>1</td>\n",
       "      <td>14</td>\n",
       "      <td>51</td>\n",
       "    </tr>\n",
       "  </tbody>\n",
       "</table>\n",
       "</div>"
      ],
      "text/plain": [
       "   Temperature  Humidity  Occupancy  Hour  Minute\n",
       "0        21.76  31.13333          1    14      48\n",
       "1        21.79  31.00000          1    14      49\n",
       "2        21.77  31.12250          1    14      50\n",
       "3        21.77  31.12250          1    14      51\n",
       "4        21.79  31.13333          1    14      51"
      ]
     },
     "execution_count": 3,
     "metadata": {},
     "output_type": "execute_result"
    }
   ],
   "source": [
    "# Loading the DSs \n",
    "df_test = pd.read_csv('cleaned_datatest.csv')\n",
    "df_val = pd.read_csv('datavalidation.csv')\n",
    "df_train = pd.read_csv('datatraining.csv')\n",
    "df_train.head()"
   ]
  },
  {
   "cell_type": "code",
   "execution_count": 4,
   "id": "3162e4fe",
   "metadata": {},
   "outputs": [
    {
     "data": {
      "text/plain": [
       "(9752, 5)"
      ]
     },
     "execution_count": 4,
     "metadata": {},
     "output_type": "execute_result"
    }
   ],
   "source": [
    "df_train.shape"
   ]
  },
  {
   "cell_type": "code",
   "execution_count": 5,
   "id": "9e3f1783",
   "metadata": {},
   "outputs": [],
   "source": [
    "df_train.duplicated().sum()\n",
    "df_train = df_train.drop_duplicates(ignore_index=True)"
   ]
  },
  {
   "cell_type": "code",
   "execution_count": 6,
   "id": "c810c248",
   "metadata": {},
   "outputs": [],
   "source": [
    "df_val.duplicated().sum()\n",
    "df_val = df_val.drop_duplicates(ignore_index=True)"
   ]
  },
  {
   "cell_type": "code",
   "execution_count": 7,
   "id": "0c3da0ad",
   "metadata": {},
   "outputs": [],
   "source": [
    "df_test.duplicated().sum()\n",
    "df_test = df_test.drop_duplicates(ignore_index=True)"
   ]
  },
  {
   "cell_type": "code",
   "execution_count": 8,
   "id": "ef2485e4",
   "metadata": {},
   "outputs": [
    {
     "data": {
      "text/plain": [
       "(2526, 5)"
      ]
     },
     "execution_count": 8,
     "metadata": {},
     "output_type": "execute_result"
    }
   ],
   "source": [
    "df_val.shape"
   ]
  },
  {
   "cell_type": "code",
   "execution_count": 9,
   "id": "33c0e6e7",
   "metadata": {},
   "outputs": [
    {
     "data": {
      "text/plain": [
       "(7625, 5)"
      ]
     },
     "execution_count": 9,
     "metadata": {},
     "output_type": "execute_result"
    }
   ],
   "source": [
    "df_test.shape\n"
   ]
  },
  {
   "cell_type": "code",
   "execution_count": 10,
   "id": "86a3d66c",
   "metadata": {},
   "outputs": [
    {
     "name": "stdout",
     "output_type": "stream",
     "text": [
      "Shapes: (9249, 4) (2526, 4) (7625, 4)\n"
     ]
    }
   ],
   "source": [
    "# Splitting into X and y\n",
    "X_train = df_train.drop('Occupancy', axis=1).values\n",
    "y_train = df_train['Occupancy'].values\n",
    "X_val = df_val.drop('Occupancy', axis=1).values\n",
    "y_val = df_val['Occupancy'].values\n",
    "X_test = df_test.drop('Occupancy', axis=1).values\n",
    "y_test = df_test['Occupancy'].values\n",
    "\n",
    " # Column index for minute and hour\n",
    "time_columns = [2, 3]\n",
    "# First and second columns are continuous\n",
    "continuous_columns = [0, 1]\n",
    "\n",
    "# Scaling oonly first two columns\n",
    "scaler = StandardScaler()\n",
    "X_train[:, continuous_columns] = scaler.fit_transform(X_train[:, continuous_columns])\n",
    "X_test[:, continuous_columns]  = scaler.transform(X_test[:, continuous_columns])\n",
    "X_val[:, continuous_columns]  = scaler.transform(X_val[:, continuous_columns])\n",
    "\n",
    "time_scaler = MinMaxScaler()\n",
    "X_train[:, time_columns] = time_scaler.fit_transform(X_train[:, time_columns])\n",
    "X_test[:, time_columns]  = time_scaler.transform(X_test[:, time_columns])\n",
    "X_val[:, time_columns]  = time_scaler.transform(X_val[:, time_columns])\n",
    "print(\"Shapes:\", X_train.shape, X_val.shape, X_test.shape)"
   ]
  },
  {
   "cell_type": "code",
   "execution_count": 11,
   "id": "2edb1e25",
   "metadata": {},
   "outputs": [
    {
     "name": "stdout",
     "output_type": "stream",
     "text": [
      "After Scaling :\n",
      " [[0.72887849 0.32646912 0.60869565 0.81355932]\n",
      " [0.7582453  0.2927464  0.60869565 0.83050847]\n",
      " [0.73866743 0.32372993 0.60869565 0.84745763]] \n",
      "Labels: [1 1 1]\n"
     ]
    }
   ],
   "source": [
    "# Let's see some values\n",
    "print(\"After Scaling :\\n\", X_train[:3], \"\\nLabels:\", y_train[:3])"
   ]
  },
  {
   "cell_type": "code",
   "execution_count": 12,
   "id": "3f0cb850",
   "metadata": {},
   "outputs": [
    {
     "name": "stdout",
     "output_type": "stream",
     "text": [
      "Training sequences shape: (9189, 60, 4)\n",
      "Training class shape: (9189,)\n",
      "Example  X: [[0.72887849 0.32646912 0.60869565 0.81355932]\n",
      " [0.7582453  0.2927464  0.60869565 0.83050847]\n",
      " [0.73866743 0.32372993 0.60869565 0.84745763]\n",
      " [0.73866743 0.32372993 0.60869565 0.86440678]\n",
      " [0.7582453  0.32646912 0.60869565 0.86440678]\n",
      " [0.72887849 0.35850735 0.60869565 0.89830508]\n",
      " [0.7582453  0.34269943 0.60869565 0.91525424]\n",
      " [0.7582453  0.39223007 0.60869565 0.93220339]\n",
      " [0.7582453  0.37305064 0.60869565 0.93220339]\n",
      " [0.7582453  0.40993495 0.60869565 0.96610169]\n",
      " [0.7582453  0.42553294 0.60869565 0.96610169]\n",
      " [0.7582453  0.43817927 0.60869565 0.98305085]\n",
      " [0.7582453  0.39265246 0.65217391 0.        ]\n",
      " [0.7582453  0.39202014 0.65217391 0.01694915]\n",
      " [0.7582453  0.41920977 0.65217391 0.03389831]\n",
      " [0.78761212 0.41920977 0.65217391 0.05084746]\n",
      " [0.78761212 0.41225428 0.65217391 0.06779661]\n",
      " [0.85613469 0.44450244 0.65217391 0.06779661]\n",
      " [0.7582453  0.43185611 0.65217391 0.10169492]\n",
      " [0.78761212 0.47738292 0.65217391 0.11864407]\n",
      " [0.82676787 0.47548597 0.65217391 0.13559322]\n",
      " [0.85613469 0.48117682 0.65217391 0.13559322]\n",
      " [0.85613469 0.48686767 0.65217391 0.16949153]\n",
      " [0.85613469 0.49255852 0.65217391 0.18644068]\n",
      " [0.85613469 0.49255852 0.65217391 0.22033898]\n",
      " [0.85613469 0.5178512  0.65217391 0.23728814]\n",
      " [0.85613469 0.5178512  0.65217391 0.25423729]\n",
      " [0.85613469 0.51152803 0.65217391 0.27118644]\n",
      " [0.85613469 0.49255852 0.65217391 0.27118644]\n",
      " [0.85613469 0.51152803 0.65217391 0.28813559]\n",
      " [0.85613469 0.47738292 0.65217391 0.3220339 ]\n",
      " [0.85613469 0.47548597 0.65217391 0.33898305]\n",
      " [0.85613469 0.46979512 0.65217391 0.3559322 ]\n",
      " [0.85613469 0.46853048 0.65217391 0.37288136]\n",
      " [0.85613469 0.43607239 0.65217391 0.38983051]\n",
      " [0.85613469 0.43185611 0.65217391 0.38983051]\n",
      " [0.85613469 0.38380003 0.65217391 0.40677966]\n",
      " [0.85613469 0.32436224 0.65217391 0.44067797]\n",
      " [0.85613469 0.33068541 0.65217391 0.45762712]\n",
      " [0.85613469 0.30876425 0.65217391 0.47457627]\n",
      " [0.85613469 0.23457325 0.65217391 0.49152542]\n",
      " [0.85613469 0.23394093 0.65217391 0.49152542]\n",
      " [0.85613469 0.27883543 0.65217391 0.50847458]\n",
      " [0.85613469 0.2402641  0.65217391 0.54237288]\n",
      " [0.85613469 0.23457325 0.65217391 0.55932203]\n",
      " [0.85613469 0.24089642 0.65217391 0.57627119]\n",
      " [0.85613469 0.24658727 0.65217391 0.59322034]\n",
      " [0.85613469 0.20422204 0.65217391 0.61016949]\n",
      " [0.85613469 0.2288824  0.65217391 0.61016949]\n",
      " [0.85613469 0.23288623 0.65217391 0.6440678 ]\n",
      " [0.85613469 0.23457325 0.65217391 0.66101695]\n",
      " [0.85613469 0.15237206 0.65217391 0.6779661 ]\n",
      " [0.85613469 0.18314566 0.65217391 0.6779661 ]\n",
      " [0.85613469 0.16628303 0.65217391 0.71186441]\n",
      " [0.85613469 0.18525254 0.65217391 0.71186441]\n",
      " [0.85613469 0.19157571 0.65217391 0.72881356]\n",
      " [0.85613469 0.17892937 0.65217391 0.76271186]\n",
      " [0.82676787 0.17892937 0.65217391 0.77966102]\n",
      " [0.85613469 0.19157571 0.65217391 0.79661017]\n",
      " [0.85613469 0.12581475 0.65217391 0.81355932]]\n",
      "Example  y: 1\n"
     ]
    }
   ],
   "source": [
    "# MAKING SEQUENCES:\n",
    "\n",
    "window_size = 60\n",
    "# I need to create a function for making windows\n",
    "def time_windows(X, y, window_size, step_ahead = 1):\n",
    "    # Creating two list for features and labels\n",
    "    X_windows = []\n",
    "    y_windows = []\n",
    "    for i in range(0, len(X) - window_size - step_ahead + 1):\n",
    "        X_windows.append(X[i:i+window_size])\n",
    "        # so the next step after the window must be predicted\n",
    "        # if window_size from 0 to 30, the next step is 30\n",
    "        y_windows.append(y[i+window_size-1 + step_ahead])\n",
    "    return np.array(X_windows), np.array(y_windows)\n",
    "# Applying the function:\n",
    "X_train, y_train = time_windows(X_train, y_train, window_size)\n",
    "X_val, y_val = time_windows(X_val, y_val, window_size)\n",
    "X_test, y_test = time_windows(X_test, y_test, window_size)\n",
    "\n",
    "print('Training sequences shape:', X_train.shape)\n",
    "print('Training class shape:', y_train.shape)\n",
    "print('Example  X:', X_train[0])\n",
    "print(\"Example  y:\", y_train[0])"
   ]
  },
  {
   "cell_type": "code",
   "execution_count": 13,
   "id": "11013871",
   "metadata": {},
   "outputs": [
    {
     "name": "stdout",
     "output_type": "stream",
     "text": [
      "1 class weight: tensor([3.7075])\n"
     ]
    }
   ],
   "source": [
    "zero_count = (y_train == 0).sum()\n",
    "one_count = (y_train == 1).sum()\n",
    "one_weight = torch.tensor([zero_count / max(one_count, 1)], dtype=torch.float32).to(device)\n",
    "print(\"1 class weight:\", one_weight)"
   ]
  },
  {
   "cell_type": "code",
   "execution_count": 14,
   "id": "10b86ea3",
   "metadata": {},
   "outputs": [],
   "source": [
    "X_train = torch.tensor(X_train, dtype=torch.float32)\n",
    "y_train = torch.tensor(y_train, dtype=torch.long) \n",
    "X_val = torch.tensor(X_val, dtype=torch.float32)\n",
    "y_val = torch.tensor(y_val, dtype=torch.long)\n",
    "X_test= torch.tensor(X_test, dtype=torch.float32)\n",
    "y_test= torch.tensor(y_test, dtype=torch.long)\n",
    "\n",
    "batch_size = 128\n",
    "train_dataset = TensorDataset(X_train, y_train)\n",
    "train_loader = DataLoader(train_dataset, batch_size=batch_size, shuffle=False)\n",
    "val_dataset = TensorDataset(X_val, y_val)\n",
    "val_loader = DataLoader(val_dataset, batch_size=batch_size, shuffle=False)\n",
    "test_dataset = TensorDataset(X_test, y_test)\n",
    "test_loader = DataLoader(test_dataset, batch_size=batch_size, shuffle=False)"
   ]
  },
  {
   "cell_type": "code",
   "execution_count": 15,
   "id": "b4abd361",
   "metadata": {},
   "outputs": [
    {
     "data": {
      "text/plain": [
       "OccupancyCNN(\n",
       "  (conv1): Conv1d(4, 16, kernel_size=(3,), stride=(1,), padding=(1,))\n",
       "  (conv2): Conv1d(16, 16, kernel_size=(3,), stride=(1,), padding=(1,))\n",
       "  (bn1): BatchNorm1d(16, eps=1e-05, momentum=0.1, affine=True, track_running_stats=True)\n",
       "  (pool1): MaxPool1d(kernel_size=2, stride=2, padding=0, dilation=1, ceil_mode=False)\n",
       "  (conv3): Conv1d(16, 32, kernel_size=(3,), stride=(1,), padding=(1,))\n",
       "  (conv4): Conv1d(32, 32, kernel_size=(3,), stride=(1,), padding=(1,))\n",
       "  (bn2): BatchNorm1d(32, eps=1e-05, momentum=0.1, affine=True, track_running_stats=True)\n",
       "  (pool2): MaxPool1d(kernel_size=2, stride=2, padding=0, dilation=1, ceil_mode=False)\n",
       "  (fc1): Linear(in_features=480, out_features=64, bias=True)\n",
       "  (fc2): Linear(in_features=64, out_features=1, bias=True)\n",
       "  (drop_conv): Dropout(p=0.5, inplace=False)\n",
       "  (drop_fc): Dropout(p=0.5, inplace=False)\n",
       ")"
      ]
     },
     "execution_count": 15,
     "metadata": {},
     "output_type": "execute_result"
    }
   ],
   "source": [
    "class OccupancyCNN(nn.Module):\n",
    "    def __init__(self):\n",
    "        super().__init__()\n",
    "        self.conv1 = nn.Conv1d(in_channels=4, out_channels=16, kernel_size=3, padding=1)\n",
    "        self.conv2 = nn.Conv1d(in_channels=16, out_channels=16, kernel_size=3, padding=1)\n",
    "        self.bn1   = nn.BatchNorm1d(16)\n",
    "        self.pool1 = nn.MaxPool1d(kernel_size=2)\n",
    "\n",
    "        self.conv3 = nn.Conv1d(in_channels=16, out_channels=32, kernel_size=3, padding=1)\n",
    "        self.conv4 = nn.Conv1d(in_channels=32, out_channels=32, kernel_size=3, padding=1)\n",
    "        self.bn2   = nn.BatchNorm1d(32)\n",
    "        self.pool2 = nn.MaxPool1d(kernel_size=2)\n",
    "\n",
    "        self.fc1   = nn.Linear(32 * 15, 64)  \n",
    "        self.fc2   = nn.Linear(64, 1)\n",
    "        self.drop_conv = nn.Dropout(p=0.5)  \n",
    "        self.drop_fc   = nn.Dropout(p=0.5) \n",
    "\n",
    "    def forward(self, x):\n",
    "        #x = x.transpose(1, 2)\n",
    "        x = F.relu(self.conv1(x))\n",
    "        x = F.relu(self.conv2(x))\n",
    "        x = self.bn1(x)\n",
    "        x = self.pool1(x)\n",
    "        x = self.drop_conv(x)\n",
    "\n",
    "        x = F.relu(self.conv3(x))\n",
    "        x = F.relu(self.conv4(x))\n",
    "        x = self.bn2(x)\n",
    "        x = self.pool2(x)\n",
    "        x = self.drop_conv(x)\n",
    "\n",
    "        x = torch.flatten(x, start_dim=1)  \n",
    "        x = F.relu(self.fc1(x))\n",
    "        x = self.drop_fc(x)\n",
    "        x = self.fc2(x)       \n",
    "        return x\n",
    "model = OccupancyCNN().to(device)\n",
    "model"
   ]
  },
  {
   "cell_type": "code",
   "execution_count": 16,
   "id": "6454a297",
   "metadata": {},
   "outputs": [
    {
     "name": "stdout",
     "output_type": "stream",
     "text": [
      "Loss function: BCEWithLogitsLoss()\n",
      "Loss function: BCEWithLogitsLoss()\n",
      "Optimizer: Adam (\n",
      "Parameter Group 0\n",
      "    amsgrad: False\n",
      "    betas: (0.9, 0.999)\n",
      "    capturable: False\n",
      "    decoupled_weight_decay: False\n",
      "    differentiable: False\n",
      "    eps: 1e-08\n",
      "    foreach: None\n",
      "    fused: None\n",
      "    lr: 0.0005\n",
      "    maximize: False\n",
      "    weight_decay: 5e-06\n",
      ")\n"
     ]
    }
   ],
   "source": [
    "criterion = nn.BCEWithLogitsLoss(pos_weight=one_weight)\n",
    "print('Loss function:', criterion)\n",
    "optimizer = optim.Adam(model.parameters(), lr=0.0005, weight_decay=0.000005)\n",
    "# If val loss does not improve for 5 epochs, lr is going to be cut by half\n",
    "scheduler = optim.lr_scheduler.ReduceLROnPlateau(optimizer, mode='min', factor=0.5, patience=3)\n",
    "print('Loss function:', criterion)\n",
    "print('Optimizer:', optimizer)"
   ]
  },
  {
   "cell_type": "code",
   "execution_count": 17,
   "id": "b7871d1c",
   "metadata": {},
   "outputs": [
    {
     "ename": "RuntimeError",
     "evalue": "Given groups=1, weight of size [16, 4, 3], expected input[128, 60, 4] to have 4 channels, but got 60 channels instead",
     "output_type": "error",
     "traceback": [
      "\u001b[1;31m---------------------------------------------------------------------------\u001b[0m",
      "\u001b[1;31mRuntimeError\u001b[0m                              Traceback (most recent call last)",
      "Cell \u001b[1;32mIn[17], line 17\u001b[0m\n\u001b[0;32m     15\u001b[0m y_batch \u001b[38;5;241m=\u001b[39m y_batch\u001b[38;5;241m.\u001b[39mto(device)\n\u001b[0;32m     16\u001b[0m optimizer\u001b[38;5;241m.\u001b[39mzero_grad()\n\u001b[1;32m---> 17\u001b[0m outputs \u001b[38;5;241m=\u001b[39m \u001b[43mmodel\u001b[49m\u001b[43m(\u001b[49m\u001b[43mX_batch\u001b[49m\u001b[43m)\u001b[49m            \n\u001b[0;32m     18\u001b[0m loss \u001b[38;5;241m=\u001b[39m criterion(outputs\u001b[38;5;241m.\u001b[39msqueeze(\u001b[38;5;241m1\u001b[39m), y_batch\u001b[38;5;241m.\u001b[39mfloat())\n\u001b[0;32m     19\u001b[0m loss\u001b[38;5;241m.\u001b[39mbackward()\n",
      "File \u001b[1;32md:\\ML&DE\\Deep_Learning\\.venv\\lib\\site-packages\\torch\\nn\\modules\\module.py:1773\u001b[0m, in \u001b[0;36mModule._wrapped_call_impl\u001b[1;34m(self, *args, **kwargs)\u001b[0m\n\u001b[0;32m   1771\u001b[0m     \u001b[38;5;28;01mreturn\u001b[39;00m \u001b[38;5;28mself\u001b[39m\u001b[38;5;241m.\u001b[39m_compiled_call_impl(\u001b[38;5;241m*\u001b[39margs, \u001b[38;5;241m*\u001b[39m\u001b[38;5;241m*\u001b[39mkwargs)  \u001b[38;5;66;03m# type: ignore[misc]\u001b[39;00m\n\u001b[0;32m   1772\u001b[0m \u001b[38;5;28;01melse\u001b[39;00m:\n\u001b[1;32m-> 1773\u001b[0m     \u001b[38;5;28;01mreturn\u001b[39;00m \u001b[38;5;28mself\u001b[39m\u001b[38;5;241m.\u001b[39m_call_impl(\u001b[38;5;241m*\u001b[39margs, \u001b[38;5;241m*\u001b[39m\u001b[38;5;241m*\u001b[39mkwargs)\n",
      "File \u001b[1;32md:\\ML&DE\\Deep_Learning\\.venv\\lib\\site-packages\\torch\\nn\\modules\\module.py:1784\u001b[0m, in \u001b[0;36mModule._call_impl\u001b[1;34m(self, *args, **kwargs)\u001b[0m\n\u001b[0;32m   1779\u001b[0m \u001b[38;5;66;03m# If we don't have any hooks, we want to skip the rest of the logic in\u001b[39;00m\n\u001b[0;32m   1780\u001b[0m \u001b[38;5;66;03m# this function, and just call forward.\u001b[39;00m\n\u001b[0;32m   1781\u001b[0m \u001b[38;5;28;01mif\u001b[39;00m \u001b[38;5;129;01mnot\u001b[39;00m (\u001b[38;5;28mself\u001b[39m\u001b[38;5;241m.\u001b[39m_backward_hooks \u001b[38;5;129;01mor\u001b[39;00m \u001b[38;5;28mself\u001b[39m\u001b[38;5;241m.\u001b[39m_backward_pre_hooks \u001b[38;5;129;01mor\u001b[39;00m \u001b[38;5;28mself\u001b[39m\u001b[38;5;241m.\u001b[39m_forward_hooks \u001b[38;5;129;01mor\u001b[39;00m \u001b[38;5;28mself\u001b[39m\u001b[38;5;241m.\u001b[39m_forward_pre_hooks\n\u001b[0;32m   1782\u001b[0m         \u001b[38;5;129;01mor\u001b[39;00m _global_backward_pre_hooks \u001b[38;5;129;01mor\u001b[39;00m _global_backward_hooks\n\u001b[0;32m   1783\u001b[0m         \u001b[38;5;129;01mor\u001b[39;00m _global_forward_hooks \u001b[38;5;129;01mor\u001b[39;00m _global_forward_pre_hooks):\n\u001b[1;32m-> 1784\u001b[0m     \u001b[38;5;28;01mreturn\u001b[39;00m forward_call(\u001b[38;5;241m*\u001b[39margs, \u001b[38;5;241m*\u001b[39m\u001b[38;5;241m*\u001b[39mkwargs)\n\u001b[0;32m   1786\u001b[0m result \u001b[38;5;241m=\u001b[39m \u001b[38;5;28;01mNone\u001b[39;00m\n\u001b[0;32m   1787\u001b[0m called_always_called_hooks \u001b[38;5;241m=\u001b[39m \u001b[38;5;28mset\u001b[39m()\n",
      "Cell \u001b[1;32mIn[15], line 21\u001b[0m, in \u001b[0;36mOccupancyCNN.forward\u001b[1;34m(self, x)\u001b[0m\n\u001b[0;32m     19\u001b[0m \u001b[38;5;28;01mdef\u001b[39;00m\u001b[38;5;250m \u001b[39m\u001b[38;5;21mforward\u001b[39m(\u001b[38;5;28mself\u001b[39m, x):\n\u001b[0;32m     20\u001b[0m     \u001b[38;5;66;03m#x = x.transpose(1, 2)\u001b[39;00m\n\u001b[1;32m---> 21\u001b[0m     x \u001b[38;5;241m=\u001b[39m F\u001b[38;5;241m.\u001b[39mrelu(\u001b[38;5;28;43mself\u001b[39;49m\u001b[38;5;241;43m.\u001b[39;49m\u001b[43mconv1\u001b[49m\u001b[43m(\u001b[49m\u001b[43mx\u001b[49m\u001b[43m)\u001b[49m)\n\u001b[0;32m     22\u001b[0m     x \u001b[38;5;241m=\u001b[39m F\u001b[38;5;241m.\u001b[39mrelu(\u001b[38;5;28mself\u001b[39m\u001b[38;5;241m.\u001b[39mconv2(x))\n\u001b[0;32m     23\u001b[0m     x \u001b[38;5;241m=\u001b[39m \u001b[38;5;28mself\u001b[39m\u001b[38;5;241m.\u001b[39mbn1(x)\n",
      "File \u001b[1;32md:\\ML&DE\\Deep_Learning\\.venv\\lib\\site-packages\\torch\\nn\\modules\\module.py:1773\u001b[0m, in \u001b[0;36mModule._wrapped_call_impl\u001b[1;34m(self, *args, **kwargs)\u001b[0m\n\u001b[0;32m   1771\u001b[0m     \u001b[38;5;28;01mreturn\u001b[39;00m \u001b[38;5;28mself\u001b[39m\u001b[38;5;241m.\u001b[39m_compiled_call_impl(\u001b[38;5;241m*\u001b[39margs, \u001b[38;5;241m*\u001b[39m\u001b[38;5;241m*\u001b[39mkwargs)  \u001b[38;5;66;03m# type: ignore[misc]\u001b[39;00m\n\u001b[0;32m   1772\u001b[0m \u001b[38;5;28;01melse\u001b[39;00m:\n\u001b[1;32m-> 1773\u001b[0m     \u001b[38;5;28;01mreturn\u001b[39;00m \u001b[38;5;28mself\u001b[39m\u001b[38;5;241m.\u001b[39m_call_impl(\u001b[38;5;241m*\u001b[39margs, \u001b[38;5;241m*\u001b[39m\u001b[38;5;241m*\u001b[39mkwargs)\n",
      "File \u001b[1;32md:\\ML&DE\\Deep_Learning\\.venv\\lib\\site-packages\\torch\\nn\\modules\\module.py:1784\u001b[0m, in \u001b[0;36mModule._call_impl\u001b[1;34m(self, *args, **kwargs)\u001b[0m\n\u001b[0;32m   1779\u001b[0m \u001b[38;5;66;03m# If we don't have any hooks, we want to skip the rest of the logic in\u001b[39;00m\n\u001b[0;32m   1780\u001b[0m \u001b[38;5;66;03m# this function, and just call forward.\u001b[39;00m\n\u001b[0;32m   1781\u001b[0m \u001b[38;5;28;01mif\u001b[39;00m \u001b[38;5;129;01mnot\u001b[39;00m (\u001b[38;5;28mself\u001b[39m\u001b[38;5;241m.\u001b[39m_backward_hooks \u001b[38;5;129;01mor\u001b[39;00m \u001b[38;5;28mself\u001b[39m\u001b[38;5;241m.\u001b[39m_backward_pre_hooks \u001b[38;5;129;01mor\u001b[39;00m \u001b[38;5;28mself\u001b[39m\u001b[38;5;241m.\u001b[39m_forward_hooks \u001b[38;5;129;01mor\u001b[39;00m \u001b[38;5;28mself\u001b[39m\u001b[38;5;241m.\u001b[39m_forward_pre_hooks\n\u001b[0;32m   1782\u001b[0m         \u001b[38;5;129;01mor\u001b[39;00m _global_backward_pre_hooks \u001b[38;5;129;01mor\u001b[39;00m _global_backward_hooks\n\u001b[0;32m   1783\u001b[0m         \u001b[38;5;129;01mor\u001b[39;00m _global_forward_hooks \u001b[38;5;129;01mor\u001b[39;00m _global_forward_pre_hooks):\n\u001b[1;32m-> 1784\u001b[0m     \u001b[38;5;28;01mreturn\u001b[39;00m forward_call(\u001b[38;5;241m*\u001b[39margs, \u001b[38;5;241m*\u001b[39m\u001b[38;5;241m*\u001b[39mkwargs)\n\u001b[0;32m   1786\u001b[0m result \u001b[38;5;241m=\u001b[39m \u001b[38;5;28;01mNone\u001b[39;00m\n\u001b[0;32m   1787\u001b[0m called_always_called_hooks \u001b[38;5;241m=\u001b[39m \u001b[38;5;28mset\u001b[39m()\n",
      "File \u001b[1;32md:\\ML&DE\\Deep_Learning\\.venv\\lib\\site-packages\\torch\\nn\\modules\\conv.py:371\u001b[0m, in \u001b[0;36mConv1d.forward\u001b[1;34m(self, input)\u001b[0m\n\u001b[0;32m    370\u001b[0m \u001b[38;5;28;01mdef\u001b[39;00m\u001b[38;5;250m \u001b[39m\u001b[38;5;21mforward\u001b[39m(\u001b[38;5;28mself\u001b[39m, \u001b[38;5;28minput\u001b[39m: Tensor) \u001b[38;5;241m-\u001b[39m\u001b[38;5;241m>\u001b[39m Tensor:\n\u001b[1;32m--> 371\u001b[0m     \u001b[38;5;28;01mreturn\u001b[39;00m \u001b[38;5;28;43mself\u001b[39;49m\u001b[38;5;241;43m.\u001b[39;49m\u001b[43m_conv_forward\u001b[49m\u001b[43m(\u001b[49m\u001b[38;5;28;43minput\u001b[39;49m\u001b[43m,\u001b[49m\u001b[43m \u001b[49m\u001b[38;5;28;43mself\u001b[39;49m\u001b[38;5;241;43m.\u001b[39;49m\u001b[43mweight\u001b[49m\u001b[43m,\u001b[49m\u001b[43m \u001b[49m\u001b[38;5;28;43mself\u001b[39;49m\u001b[38;5;241;43m.\u001b[39;49m\u001b[43mbias\u001b[49m\u001b[43m)\u001b[49m\n",
      "File \u001b[1;32md:\\ML&DE\\Deep_Learning\\.venv\\lib\\site-packages\\torch\\nn\\modules\\conv.py:366\u001b[0m, in \u001b[0;36mConv1d._conv_forward\u001b[1;34m(self, input, weight, bias)\u001b[0m\n\u001b[0;32m    354\u001b[0m \u001b[38;5;28;01mif\u001b[39;00m \u001b[38;5;28mself\u001b[39m\u001b[38;5;241m.\u001b[39mpadding_mode \u001b[38;5;241m!=\u001b[39m \u001b[38;5;124m\"\u001b[39m\u001b[38;5;124mzeros\u001b[39m\u001b[38;5;124m\"\u001b[39m:\n\u001b[0;32m    355\u001b[0m     \u001b[38;5;28;01mreturn\u001b[39;00m F\u001b[38;5;241m.\u001b[39mconv1d(\n\u001b[0;32m    356\u001b[0m         F\u001b[38;5;241m.\u001b[39mpad(\n\u001b[0;32m    357\u001b[0m             \u001b[38;5;28minput\u001b[39m, \u001b[38;5;28mself\u001b[39m\u001b[38;5;241m.\u001b[39m_reversed_padding_repeated_twice, mode\u001b[38;5;241m=\u001b[39m\u001b[38;5;28mself\u001b[39m\u001b[38;5;241m.\u001b[39mpadding_mode\n\u001b[1;32m   (...)\u001b[0m\n\u001b[0;32m    364\u001b[0m         \u001b[38;5;28mself\u001b[39m\u001b[38;5;241m.\u001b[39mgroups,\n\u001b[0;32m    365\u001b[0m     )\n\u001b[1;32m--> 366\u001b[0m \u001b[38;5;28;01mreturn\u001b[39;00m \u001b[43mF\u001b[49m\u001b[38;5;241;43m.\u001b[39;49m\u001b[43mconv1d\u001b[49m\u001b[43m(\u001b[49m\n\u001b[0;32m    367\u001b[0m \u001b[43m    \u001b[49m\u001b[38;5;28;43minput\u001b[39;49m\u001b[43m,\u001b[49m\u001b[43m \u001b[49m\u001b[43mweight\u001b[49m\u001b[43m,\u001b[49m\u001b[43m \u001b[49m\u001b[43mbias\u001b[49m\u001b[43m,\u001b[49m\u001b[43m \u001b[49m\u001b[38;5;28;43mself\u001b[39;49m\u001b[38;5;241;43m.\u001b[39;49m\u001b[43mstride\u001b[49m\u001b[43m,\u001b[49m\u001b[43m \u001b[49m\u001b[38;5;28;43mself\u001b[39;49m\u001b[38;5;241;43m.\u001b[39;49m\u001b[43mpadding\u001b[49m\u001b[43m,\u001b[49m\u001b[43m \u001b[49m\u001b[38;5;28;43mself\u001b[39;49m\u001b[38;5;241;43m.\u001b[39;49m\u001b[43mdilation\u001b[49m\u001b[43m,\u001b[49m\u001b[43m \u001b[49m\u001b[38;5;28;43mself\u001b[39;49m\u001b[38;5;241;43m.\u001b[39;49m\u001b[43mgroups\u001b[49m\n\u001b[0;32m    368\u001b[0m \u001b[43m\u001b[49m\u001b[43m)\u001b[49m\n",
      "\u001b[1;31mRuntimeError\u001b[0m: Given groups=1, weight of size [16, 4, 3], expected input[128, 60, 4] to have 4 channels, but got 60 channels instead"
     ]
    }
   ],
   "source": [
    "epochs = 50\n",
    "best_val_loss = float('inf')\n",
    "patience = 7\n",
    "patience_counter = 0\n",
    "\n",
    "for epoch in range(1, epochs+1):\n",
    "    model.train() \n",
    "    running_loss = 0.0\n",
    "    correct = 0\n",
    "    total = 0\n",
    "    \n",
    "    \n",
    "    for X_batch, y_batch in train_loader:\n",
    "        X_batch = X_batch.to(device)\n",
    "        y_batch = y_batch.to(device)\n",
    "        optimizer.zero_grad()\n",
    "        outputs = model(X_batch)            \n",
    "        loss = criterion(outputs.squeeze(1), y_batch.float())\n",
    "        loss.backward()\n",
    "        optimizer.step()\n",
    "\n",
    "\n",
    "        running_loss += loss.item() * X_batch.size(0)\n",
    "        preds = (torch.sigmoid(outputs) >= 0.5).float() \n",
    "        correct += (preds.squeeze() == y_batch).sum().item()\n",
    "        total += y_batch.size(0)\n",
    "    train_loss = running_loss / len(train_dataset)\n",
    "    train_acc = correct / total\n",
    "    \n",
    "\n",
    "\n",
    " \n",
    "    model.eval()  \n",
    "    val_loss = 0.0\n",
    "    val_preds = []\n",
    "    val_targets = []\n",
    "    with torch.no_grad():  \n",
    "        for X_batch, y_batch in val_loader:\n",
    "            X_batch = X_batch.to(device)\n",
    "            y_batch = y_batch.to(device)\n",
    "\n",
    "            logits = model(X_batch)\n",
    "            loss = criterion(logits.squeeze(1), y_batch.float())\n",
    "            val_loss += loss.item() * X_batch.size(0)\n",
    "\n",
    "\n",
    "            probs = torch.sigmoid(logits.squeeze(1))\n",
    "            preds = (probs >= 0.5).to(torch.int64)\n",
    "\n",
    "\n",
    "            val_preds.extend(preds)\n",
    "            val_targets.extend(y_batch)\n",
    "    val_loss = val_loss / len(val_dataset)\n",
    "\n",
    "\n",
    "    \n",
    "    # Convert predictions and targets to numpy for calculations\n",
    "    val_preds = np.array(val_preds)\n",
    "    val_targets = np.array(val_targets)\n",
    "    val_acc = accuracy_score(val_targets, val_preds)\n",
    "    val_prec = precision_score(val_targets, val_preds, pos_label=1.0, zero_division=0)\n",
    "    val_rec = recall_score(val_targets, val_preds, pos_label=1.0, zero_division=0)\n",
    "    val_f1 = f1_score(val_targets, val_preds, pos_label=1.0, zero_division=0)\n",
    "    learning_rate = optimizer.param_groups[0]['lr']\n",
    "    \n",
    "    # Print metrics for this epoch\n",
    "    print(f\"Epoch {epoch:2d}/{epochs} - \"\n",
    "          f\"Train Loss: {train_loss:.4f}, Train Acc: {train_acc:.3f} - \"\n",
    "          f\"Val Loss: {val_loss:.4f}, Val Acc: {val_acc:.3f}, \"\n",
    "          f\"Prec: {val_prec:.3f}, Rec: {val_rec:.3f}, F1: {val_f1:.3f} - \"\n",
    "          f\"Learning Rate: {learning_rate:.6f}\")\n",
    "    scheduler.step(val_loss)\n",
    "    # Early stopping check\n",
    "    if val_loss < best_val_loss:\n",
    "        best_val_loss = val_loss\n",
    "        patience_counter = 0\n",
    "        best_model_state = model.state_dict()\n",
    "    else:\n",
    "        \n",
    "        patience_counter += 1\n",
    "        if patience_counter >= patience:\n",
    "            print(\"Early stopping triggered.\")\n",
    "            break\n",
    "if patience_counter >= patience:\n",
    "    model.load_state_dict(best_model_state)\n"
   ]
  },
  {
   "cell_type": "code",
   "execution_count": null,
   "id": "36093e1c",
   "metadata": {},
   "outputs": [],
   "source": [
    "# Evaluate on test set\n",
    "model.eval()\n",
    "test_preds = []\n",
    "test_targets = []\n",
    "with torch.no_grad():\n",
    "    for X_batch, y_batch in test_loader:\n",
    "        X_batch = X_batch.to(device)\n",
    "        y_batch = y_batch.to(device)\n",
    "        \n",
    "        logits = model(X_batch)\n",
    "        loss = criterion(logits.squeeze(1), y_batch.float())\n",
    "        probs = torch.sigmoid(logits.squeeze(1))\n",
    "        preds = (probs >= 0.5).to(torch.int64)\n",
    "        val_loss += loss.item() * X_batch.size(0)\n",
    "\n",
    "        test_preds.extend(preds)\n",
    "        test_targets.extend(y_batch)\n",
    "test_preds = np.array(test_preds)\n",
    "test_targets = np.array(test_targets)"
   ]
  },
  {
   "cell_type": "code",
   "execution_count": null,
   "id": "aaf49ee0",
   "metadata": {},
   "outputs": [
    {
     "name": "stdout",
     "output_type": "stream",
     "text": [
      "Confusion Matrix:\n"
     ]
    },
    {
     "data": {
      "image/png": "[encoded data removed]",
      "text/plain": [
       "<Figure size 640x480 with 2 Axes>"
      ]
     },
     "metadata": {},
     "output_type": "display_data"
    }
   ],
   "source": [
    "Confusion_matrix = confusion_matrix(test_targets, test_preds)\n",
    "print(\"Confusion Matrix:\")\n",
    "sns.heatmap(Confusion_matrix, annot=True, fmt='d')\n",
    "plt.show()"
   ]
  },
  {
   "cell_type": "code",
   "execution_count": null,
   "id": "ddafa47e",
   "metadata": {},
   "outputs": [
    {
     "name": "stdout",
     "output_type": "stream",
     "text": [
      "Classification Report:\n",
      "               precision    recall  f1-score   support\n",
      "\n",
      "No Occupancy       0.91      0.44      0.59      5880\n",
      "   Occupancy       0.30      0.84      0.44      1685\n",
      "\n",
      "    accuracy                           0.53      7565\n",
      "   macro avg       0.60      0.64      0.51      7565\n",
      "weighted avg       0.77      0.53      0.56      7565\n",
      "\n"
     ]
    }
   ],
   "source": [
    "Classification_report = classification_report(test_targets, test_preds, target_names=['No Occupancy', 'Occupancy'], zero_division=0)\n",
    "print(\"Classification Report:\\n\", Classification_report)"
   ]
  }
 ],
 "metadata": {
  "kernelspec": {
   "display_name": ".venv",
   "language": "python",
   "name": "python3"
  },
  "language_info": {
   "codemirror_mode": {
    "name": "ipython",
    "version": 3
   },
   "file_extension": ".py",
   "mimetype": "text/x-python",
   "name": "python",
   "nbconvert_exporter": "python",
   "pygments_lexer": "ipython3",
   "version": "3.10.11"
  }
 },
 "nbformat": 4,
 "nbformat_minor": 5
}

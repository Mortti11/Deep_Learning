{
 "cells": [
  {
   "cell_type": "code",
   "execution_count": 1,
   "id": "ff13fbc0",
   "metadata": {},
   "outputs": [],
   "source": [
    "import pandas as pd\n",
    "import numpy as np\n",
    "import matplotlib.pyplot as plt\n",
    "import seaborn as sns\n",
    "\n",
    "from sklearn.preprocessing import StandardScaler\n",
    "import torch\n",
    "from torch.utils.data import TensorDataset, DataLoader\n",
    "import torch.nn as nn\n",
    "import torch.optim as optim\n",
    "from torchmetrics import Accuracy, Precision, Recall, F1Score\n",
    "import torch.nn.functional as F\n",
    "\n",
    "from sklearn.metrics import confusion_matrix\n",
    "from sklearn.metrics import classification_report\n",
    "from sklearn.utils.class_weight import compute_class_weight\n",
    "from sklearn.preprocessing import StandardScaler, MinMaxScaler\n",
    "from sklearn.metrics import accuracy_score, precision_score, recall_score, f1_score"
   ]
  },
  {
   "cell_type": "code",
   "execution_count": 2,
   "id": "78b6a75e",
   "metadata": {},
   "outputs": [
    {
     "data": {
      "text/plain": [
       "device(type='cpu')"
      ]
     },
     "execution_count": 2,
     "metadata": {},
     "output_type": "execute_result"
    }
   ],
   "source": [
    "device = torch.device('cuda' if torch.cuda.is_available() else 'cpu')\n",
    "device"
   ]
  },
  {
   "cell_type": "code",
   "execution_count": 3,
   "id": "ccebe953",
   "metadata": {},
   "outputs": [
    {
     "data": {
      "application/vnd.microsoft.datawrangler.viewer.v0+json": {
       "columns": [
        {
         "name": "index",
         "rawType": "int64",
         "type": "integer"
        },
        {
         "name": "Temperature",
         "rawType": "float64",
         "type": "float"
        },
        {
         "name": "Humidity",
         "rawType": "float64",
         "type": "float"
        },
        {
         "name": "Occupancy",
         "rawType": "int64",
         "type": "integer"
        },
        {
         "name": "Hour",
         "rawType": "int64",
         "type": "integer"
        },
        {
         "name": "Minute",
         "rawType": "int64",
         "type": "integer"
        }
       ],
       "ref": "f7dfb139-3df7-4d74-a10f-e0ac326386d6",
       "rows": [
        [
         "0",
         "21.76",
         "31.13333",
         "1",
         "14",
         "48"
        ],
        [
         "1",
         "21.79",
         "31.0",
         "1",
         "14",
         "49"
        ],
        [
         "2",
         "21.77",
         "31.1225",
         "1",
         "14",
         "50"
        ],
        [
         "3",
         "21.77",
         "31.1225",
         "1",
         "14",
         "51"
        ],
        [
         "4",
         "21.79",
         "31.13333",
         "1",
         "14",
         "51"
        ]
       ],
       "shape": {
        "columns": 5,
        "rows": 5
       }
      },
      "text/html": [
       "<div>\n",
       "<style scoped>\n",
       "    .dataframe tbody tr th:only-of-type {\n",
       "        vertical-align: middle;\n",
       "    }\n",
       "\n",
       "    .dataframe tbody tr th {\n",
       "        vertical-align: top;\n",
       "    }\n",
       "\n",
       "    .dataframe thead th {\n",
       "        text-align: right;\n",
       "    }\n",
       "</style>\n",
       "<table border=\"1\" class=\"dataframe\">\n",
       "  <thead>\n",
       "    <tr style=\"text-align: right;\">\n",
       "      <th></th>\n",
       "      <th>Temperature</th>\n",
       "      <th>Humidity</th>\n",
       "      <th>Occupancy</th>\n",
       "      <th>Hour</th>\n",
       "      <th>Minute</th>\n",
       "    </tr>\n",
       "  </thead>\n",
       "  <tbody>\n",
       "    <tr>\n",
       "      <th>0</th>\n",
       "      <td>21.76</td>\n",
       "      <td>31.13333</td>\n",
       "      <td>1</td>\n",
       "      <td>14</td>\n",
       "      <td>48</td>\n",
       "    </tr>\n",
       "    <tr>\n",
       "      <th>1</th>\n",
       "      <td>21.79</td>\n",
       "      <td>31.00000</td>\n",
       "      <td>1</td>\n",
       "      <td>14</td>\n",
       "      <td>49</td>\n",
       "    </tr>\n",
       "    <tr>\n",
       "      <th>2</th>\n",
       "      <td>21.77</td>\n",
       "      <td>31.12250</td>\n",
       "      <td>1</td>\n",
       "      <td>14</td>\n",
       "      <td>50</td>\n",
       "    </tr>\n",
       "    <tr>\n",
       "      <th>3</th>\n",
       "      <td>21.77</td>\n",
       "      <td>31.12250</td>\n",
       "      <td>1</td>\n",
       "      <td>14</td>\n",
       "      <td>51</td>\n",
       "    </tr>\n",
       "    <tr>\n",
       "      <th>4</th>\n",
       "      <td>21.79</td>\n",
       "      <td>31.13333</td>\n",
       "      <td>1</td>\n",
       "      <td>14</td>\n",
       "      <td>51</td>\n",
       "    </tr>\n",
       "  </tbody>\n",
       "</table>\n",
       "</div>"
      ],
      "text/plain": [
       "   Temperature  Humidity  Occupancy  Hour  Minute\n",
       "0        21.76  31.13333          1    14      48\n",
       "1        21.79  31.00000          1    14      49\n",
       "2        21.77  31.12250          1    14      50\n",
       "3        21.77  31.12250          1    14      51\n",
       "4        21.79  31.13333          1    14      51"
      ]
     },
     "execution_count": 3,
     "metadata": {},
     "output_type": "execute_result"
    }
   ],
   "source": [
    "# Loading the DSs \n",
    "df_test = pd.read_csv('cleaned_datatest.csv')\n",
    "df_val = pd.read_csv('datavalidation.csv')\n",
    "df_train = pd.read_csv('datatraining.csv')\n",
    "df_train.head()"
   ]
  },
  {
   "cell_type": "code",
   "execution_count": 4,
   "id": "3162e4fe",
   "metadata": {},
   "outputs": [
    {
     "data": {
      "text/plain": [
       "(9752, 5)"
      ]
     },
     "execution_count": 4,
     "metadata": {},
     "output_type": "execute_result"
    }
   ],
   "source": [
    "df_train.shape"
   ]
  },
  {
   "cell_type": "code",
   "execution_count": 5,
   "id": "9e3f1783",
   "metadata": {},
   "outputs": [],
   "source": [
    "df_train.duplicated().sum()\n",
    "df_train = df_train.drop_duplicates(ignore_index=True)"
   ]
  },
  {
   "cell_type": "code",
   "execution_count": 6,
   "id": "c810c248",
   "metadata": {},
   "outputs": [],
   "source": [
    "df_val.duplicated().sum()\n",
    "df_val = df_val.drop_duplicates(ignore_index=True)"
   ]
  },
  {
   "cell_type": "code",
   "execution_count": 7,
   "id": "0c3da0ad",
   "metadata": {},
   "outputs": [],
   "source": [
    "df_test.duplicated().sum()\n",
    "df_test = df_test.drop_duplicates(ignore_index=True)"
   ]
  },
  {
   "cell_type": "code",
   "execution_count": 8,
   "id": "dd9f495f",
   "metadata": {},
   "outputs": [
    {
     "data": {
      "text/plain": [
       "(9249, 5)"
      ]
     },
     "execution_count": 8,
     "metadata": {},
     "output_type": "execute_result"
    }
   ],
   "source": [
    "df_train.shape"
   ]
  },
  {
   "cell_type": "code",
   "execution_count": 9,
   "id": "ef2485e4",
   "metadata": {},
   "outputs": [
    {
     "data": {
      "text/plain": [
       "(2526, 5)"
      ]
     },
     "execution_count": 9,
     "metadata": {},
     "output_type": "execute_result"
    }
   ],
   "source": [
    "df_val.shape"
   ]
  },
  {
   "cell_type": "code",
   "execution_count": 10,
   "id": "33c0e6e7",
   "metadata": {},
   "outputs": [
    {
     "data": {
      "text/plain": [
       "(7625, 5)"
      ]
     },
     "execution_count": 10,
     "metadata": {},
     "output_type": "execute_result"
    }
   ],
   "source": [
    "df_test.shape\n"
   ]
  },
  {
   "cell_type": "code",
   "execution_count": 11,
   "id": "86a3d66c",
   "metadata": {},
   "outputs": [],
   "source": [
    "# Splitting into X and y\n",
    "X_train = df_train.drop('Occupancy', axis=1).values\n",
    "y_train = df_train['Occupancy'].values\n",
    "X_val = df_val.drop('Occupancy', axis=1).values\n",
    "y_val = df_val['Occupancy'].values\n",
    "X_test = df_test.drop('Occupancy', axis=1).values\n",
    "y_test = df_test['Occupancy'].values"
   ]
  },
  {
   "cell_type": "code",
   "execution_count": 12,
   "id": "153e0047",
   "metadata": {},
   "outputs": [
    {
     "name": "stdout",
     "output_type": "stream",
     "text": [
      "Shapes: (9249, 4) (2526, 4) (7625, 4)\n"
     ]
    }
   ],
   "source": [
    " # Column index for minute and hour\n",
    "time_columns = [2, 3]\n",
    "# First and second columns are continuous\n",
    "continuous_columns = [0, 1]\n",
    "\n",
    "# Scaling oonly first two columns\n",
    "scaler = StandardScaler()\n",
    "X_train[:, continuous_columns] = scaler.fit_transform(X_train[:, continuous_columns])\n",
    "X_test[:, continuous_columns]  = scaler.transform(X_test[:, continuous_columns])\n",
    "X_val[:, continuous_columns]  = scaler.transform(X_val[:, continuous_columns])\n",
    "\n",
    "time_scaler = MinMaxScaler()\n",
    "X_train[:, time_columns] = time_scaler.fit_transform(X_train[:, time_columns])\n",
    "X_test[:, time_columns]  = time_scaler.transform(X_test[:, time_columns])\n",
    "X_val[:, time_columns]  = time_scaler.transform(X_val[:, time_columns])\n",
    "print(\"Shapes:\", X_train.shape, X_val.shape, X_test.shape)"
   ]
  },
  {
   "cell_type": "code",
   "execution_count": 13,
   "id": "2edb1e25",
   "metadata": {},
   "outputs": [
    {
     "name": "stdout",
     "output_type": "stream",
     "text": [
      "After Scaling :\n",
      " [[0.72887849 0.32646912 0.60869565 0.81355932]\n",
      " [0.7582453  0.2927464  0.60869565 0.83050847]\n",
      " [0.73866743 0.32372993 0.60869565 0.84745763]] \n",
      "Labels: [1 1 1]\n"
     ]
    }
   ],
   "source": [
    "# Let's see some values\n",
    "print(\"After Scaling :\\n\", X_train[:3], \"\\nLabels:\", y_train[:3])"
   ]
  },
  {
   "cell_type": "code",
   "execution_count": 14,
   "id": "3f0cb850",
   "metadata": {},
   "outputs": [
    {
     "name": "stdout",
     "output_type": "stream",
     "text": [
      "Training sequences shape: (9229, 20, 4)\n",
      "Training class shape: (9229,)\n",
      "Example  X: [[0.72887849 0.32646912 0.60869565 0.81355932]\n",
      " [0.7582453  0.2927464  0.60869565 0.83050847]\n",
      " [0.73866743 0.32372993 0.60869565 0.84745763]\n",
      " [0.73866743 0.32372993 0.60869565 0.86440678]\n",
      " [0.7582453  0.32646912 0.60869565 0.86440678]\n",
      " [0.72887849 0.35850735 0.60869565 0.89830508]\n",
      " [0.7582453  0.34269943 0.60869565 0.91525424]\n",
      " [0.7582453  0.39223007 0.60869565 0.93220339]\n",
      " [0.7582453  0.37305064 0.60869565 0.93220339]\n",
      " [0.7582453  0.40993495 0.60869565 0.96610169]\n",
      " [0.7582453  0.42553294 0.60869565 0.96610169]\n",
      " [0.7582453  0.43817927 0.60869565 0.98305085]\n",
      " [0.7582453  0.39265246 0.65217391 0.        ]\n",
      " [0.7582453  0.39202014 0.65217391 0.01694915]\n",
      " [0.7582453  0.41920977 0.65217391 0.03389831]\n",
      " [0.78761212 0.41920977 0.65217391 0.05084746]\n",
      " [0.78761212 0.41225428 0.65217391 0.06779661]\n",
      " [0.85613469 0.44450244 0.65217391 0.06779661]\n",
      " [0.7582453  0.43185611 0.65217391 0.10169492]\n",
      " [0.78761212 0.47738292 0.65217391 0.11864407]]\n",
      "Example  y: 1\n"
     ]
    }
   ],
   "source": [
    "# MAKING SEQUENCES:\n",
    "window_size = 20\n",
    "# I need to create a function for making windows\n",
    "def time_windows(X, y, window_size, step_ahead = 1):\n",
    "    # Creating two list for features and labels\n",
    "    X_windows = []\n",
    "    y_windows = []\n",
    "    for i in range(0, len(X) - window_size - step_ahead + 1):\n",
    "        X_windows.append(X[i:i+window_size])\n",
    "        # so the next step after the window must be predicted\n",
    "        # if window_size from 0 to 20, the next step is 21\n",
    "        y_windows.append(y[i+window_size-1 + step_ahead])\n",
    "    return np.array(X_windows), np.array(y_windows)\n",
    "# Applying the function:\n",
    "X_train, y_train = time_windows(X_train, y_train, window_size)\n",
    "X_val, y_val = time_windows(X_val, y_val, window_size)\n",
    "X_test, y_test = time_windows(X_test, y_test, window_size)\n",
    "\n",
    "\n",
    "print('Training sequences shape:', X_train.shape)\n",
    "print('Training class shape:', y_train.shape)\n",
    "print('Example  X:', X_train[0])\n",
    "print(\"Example  y:\", y_train[0])"
   ]
  },
  {
   "cell_type": "code",
   "execution_count": 15,
   "id": "10b86ea3",
   "metadata": {},
   "outputs": [],
   "source": [
    "X_train = torch.tensor(X_train, dtype=torch.float32)\n",
    "y_train = torch.tensor(y_train, dtype=torch.long) \n",
    "X_val = torch.tensor(X_val, dtype=torch.float32)\n",
    "y_val = torch.tensor(y_val, dtype=torch.long)\n",
    "X_test= torch.tensor(X_test, dtype=torch.float32)\n",
    "y_test= torch.tensor(y_test, dtype=torch.long)\n",
    "\n",
    "batch_size = 128\n",
    "train_dataset = TensorDataset(X_train, y_train)\n",
    "val_dataset = TensorDataset(X_val, y_val)\n",
    "test_dataset = TensorDataset(X_test, y_test)\n",
    "\n",
    "train_loader = DataLoader(train_dataset, batch_size=batch_size, shuffle=True)\n",
    "val_loader = DataLoader(val_dataset, batch_size=batch_size, shuffle=False)\n",
    "test_loader = DataLoader(test_dataset, batch_size=batch_size, shuffle=False)"
   ]
  },
  {
   "cell_type": "code",
   "execution_count": 16,
   "id": "504a9af1",
   "metadata": {},
   "outputs": [
    {
     "name": "stdout",
     "output_type": "stream",
     "text": [
      "Batch input shape: torch.Size([128, 20, 4])\n",
      "Batch target shape: torch.Size([128])\n"
     ]
    }
   ],
   "source": [
    "# I nned to see shape of one batch\n",
    "for X_batch, y_batch in train_loader:\n",
    "    print(f\"Batch input shape: {X_batch.shape}\") \n",
    "    print(f\"Batch target shape: {y_batch.shape}\")\n",
    "    break  \n",
    "# In forward function, I will switch input shape and sequence lemght"
   ]
  },
  {
   "cell_type": "code",
   "execution_count": 17,
   "id": "b4abd361",
   "metadata": {},
   "outputs": [
    {
     "data": {
      "text/plain": [
       "OccupancyCNN(\n",
       "  (conv1): Conv1d(4, 16, kernel_size=(3,), stride=(1,), padding=(1,))\n",
       "  (conv2): Conv1d(16, 16, kernel_size=(3,), stride=(1,), padding=(1,))\n",
       "  (bn1): BatchNorm1d(16, eps=1e-05, momentum=0.1, affine=True, track_running_stats=True)\n",
       "  (pool1): MaxPool1d(kernel_size=2, stride=2, padding=0, dilation=1, ceil_mode=False)\n",
       "  (conv3): Conv1d(16, 32, kernel_size=(3,), stride=(1,), padding=(1,))\n",
       "  (conv4): Conv1d(32, 32, kernel_size=(3,), stride=(1,), padding=(1,))\n",
       "  (bn2): BatchNorm1d(32, eps=1e-05, momentum=0.1, affine=True, track_running_stats=True)\n",
       "  (pool2): MaxPool1d(kernel_size=2, stride=2, padding=0, dilation=1, ceil_mode=False)\n",
       "  (fc1): Linear(in_features=160, out_features=32, bias=True)\n",
       "  (fc2): Linear(in_features=32, out_features=1, bias=True)\n",
       "  (drop_conv): Dropout(p=0.5, inplace=False)\n",
       "  (drop_fc): Dropout(p=0.2, inplace=False)\n",
       ")"
      ]
     },
     "execution_count": 17,
     "metadata": {},
     "output_type": "execute_result"
    }
   ],
   "source": [
    "class OccupancyCNN(nn.Module):\n",
    "    def __init__(self):\n",
    "        super().__init__()\n",
    "\n",
    "        # First Block \n",
    "        self.conv1 = nn.Conv1d(in_channels=4, out_channels=16, kernel_size=3, padding=1)\n",
    "        self.conv2 = nn.Conv1d(in_channels=16, out_channels=16, kernel_size=3, padding=1)\n",
    "        self.bn1   = nn.BatchNorm1d(16)\n",
    "        self.pool1 = nn.MaxPool1d(kernel_size=2)\n",
    "        # In first block, the sequence length reduces from 20 to 10\n",
    "        # Second Block\n",
    "        self.conv3 = nn.Conv1d(in_channels=16, out_channels=32, kernel_size=3, padding=1)\n",
    "        self.conv4 = nn.Conv1d(in_channels=32, out_channels=32, kernel_size=3, padding=1)\n",
    "        self.bn2   = nn.BatchNorm1d(32)\n",
    "        self.pool2 = nn.MaxPool1d(kernel_size=2)\n",
    "        # In second block, the sequence length reduces from 10 to 5\n",
    "        self.fc1   = nn.Linear(32 * 5, 32)  \n",
    "        self.fc2   = nn.Linear(32, 1)\n",
    "        self.drop_conv = nn.Dropout(p=0.5)  \n",
    "        self.drop_fc   = nn.Dropout(p=0.2) \n",
    "\n",
    "    def forward(self, x):\n",
    "        x = x.transpose(1, 2)\n",
    "        x = F.relu(self.conv1(x))\n",
    "        x = F.relu(self.conv2(x))   \n",
    "        x = self.bn1(x)\n",
    "        x = self.pool1(x)\n",
    "        x = self.drop_conv(x)\n",
    "\n",
    "        x = F.relu(self.conv3(x))\n",
    "        x = F.relu(self.conv4(x))\n",
    "        x = self.bn2(x)\n",
    "        x = self.pool2(x)\n",
    "        x = self.drop_conv(x)\n",
    "\n",
    "        x = torch.flatten(x, start_dim=1)  \n",
    "        x = F.relu(self.fc1(x))\n",
    "        x = self.drop_fc(x)\n",
    "        x = self.fc2(x)       \n",
    "        return x\n",
    "model = OccupancyCNN().to(device)\n",
    "model\n",
    "# Sources :\n",
    "# https://medium.com/@ugamakelechi501/building-a-convolutional-neural-network-cnn-from-scratch-with-pytorch-eca3ffdcf2ff\n",
    "# https://www.dkneup.com/blog/cnn-time-series-forecasting-in-tensorflow-pytorch"
   ]
  },
  {
   "cell_type": "code",
   "execution_count": 18,
   "id": "7baa5610",
   "metadata": {},
   "outputs": [],
   "source": [
    "# My target column is imbalanced, there is more 0 than 1\n",
    "# I need to calculate class weights, that loss function focus more on the unoccupany class.\n",
    "# First I should convert it back to numpy\n",
    "y_np = y_train.numpy()\n",
    "class_weights = compute_class_weight('balanced', classes=np.unique(y_np), y=y_np)\n",
    "one_weight = torch.tensor(class_weights[1], dtype=torch.float32).to(device)\n",
    "criterion = nn.BCEWithLogitsLoss(pos_weight=one_weight)"
   ]
  },
  {
   "cell_type": "code",
   "execution_count": 19,
   "id": "6454a297",
   "metadata": {},
   "outputs": [
    {
     "name": "stdout",
     "output_type": "stream",
     "text": [
      "Optimizer: Adam (\n",
      "Parameter Group 0\n",
      "    amsgrad: False\n",
      "    betas: (0.9, 0.999)\n",
      "    capturable: False\n",
      "    decoupled_weight_decay: False\n",
      "    differentiable: False\n",
      "    eps: 1e-08\n",
      "    foreach: None\n",
      "    fused: None\n",
      "    lr: 0.0005\n",
      "    maximize: False\n",
      "    weight_decay: 1e-05\n",
      ")\n"
     ]
    }
   ],
   "source": [
    "optimizer = optim.Adam(model.parameters(), lr=0.0005, weight_decay=0.00001)\n",
    "# If val loss does not improve for 5 epochs, lr is going to be cut by half\n",
    "scheduler = optim.lr_scheduler.ReduceLROnPlateau(optimizer, mode='min', factor=0.5, patience=2)\n",
    "print('Optimizer:', optimizer)"
   ]
  },
  {
   "cell_type": "code",
   "execution_count": 20,
   "id": "b7871d1c",
   "metadata": {},
   "outputs": [
    {
     "name": "stdout",
     "output_type": "stream",
     "text": [
      "Epoch  1/20 - Train Loss: 0.6338 Val Loss: 0.6627, Prec: 0.772, Learning Rate: 0.000500\n",
      "Epoch  2/20 - Train Loss: 0.4094 Val Loss: 0.7322, Prec: 0.786, Learning Rate: 0.000500\n",
      "Epoch  3/20 - Train Loss: 0.3773 Val Loss: 0.6446, Prec: 0.756, Learning Rate: 0.000500\n",
      "Epoch  4/20 - Train Loss: 0.3425 Val Loss: 0.5454, Prec: 0.694, Learning Rate: 0.000500\n",
      "Epoch  5/20 - Train Loss: 0.3178 Val Loss: 0.5378, Prec: 0.800, Learning Rate: 0.000500\n",
      "Epoch  6/20 - Train Loss: 0.2912 Val Loss: 0.5164, Prec: 0.672, Learning Rate: 0.000500\n",
      "Epoch  7/20 - Train Loss: 0.2762 Val Loss: 0.4008, Prec: 0.861, Learning Rate: 0.000500\n",
      "Epoch  8/20 - Train Loss: 0.2603 Val Loss: 0.4759, Prec: 0.790, Learning Rate: 0.000500\n",
      "Epoch  9/20 - Train Loss: 0.2532 Val Loss: 0.4083, Prec: 0.901, Learning Rate: 0.000500\n",
      "Early stopping triggered.\n"
     ]
    }
   ],
   "source": [
    "epochs = 20\n",
    "best_val_loss = float('inf')\n",
    "patience = 2\n",
    "patience_counter = 0\n",
    "\n",
    "for epoch in range(1, epochs+1):\n",
    "    model.train() \n",
    "    running_loss = 0.0\n",
    "    correct = 0\n",
    "    total = 0\n",
    "    \n",
    "    \n",
    "    for X_batch, y_batch in train_loader:\n",
    "        X_batch = X_batch.to(device)\n",
    "        y_batch = y_batch.to(device)\n",
    "        optimizer.zero_grad()\n",
    "        outputs = model(X_batch)            \n",
    "        loss = criterion(outputs.squeeze(1), y_batch.float())\n",
    "        loss.backward()\n",
    "        optimizer.step()\n",
    "\n",
    "\n",
    "        running_loss += loss.item() * X_batch.size(0)\n",
    "        preds = (torch.sigmoid(outputs) >= 0.5).float() \n",
    "        correct += (preds.squeeze() == y_batch).sum().item()\n",
    "        total += y_batch.size(0)\n",
    "    train_loss = running_loss / len(train_dataset)\n",
    "    train_acc = correct / total\n",
    "    \n",
    "\n",
    "\n",
    "    val_loss = 0.0\n",
    "    val_preds = []\n",
    "    val_targets = []\n",
    "    model.eval()  \n",
    "     \n",
    "    with torch.no_grad():  \n",
    "        for X_batch, y_batch in val_loader:\n",
    "            X_batch = X_batch.to(device)\n",
    "            y_batch = y_batch.to(device)\n",
    "\n",
    "            logits = model(X_batch)\n",
    "            loss = criterion(logits.squeeze(1), y_batch.float())\n",
    "            val_loss += loss.item() * X_batch.size(0)\n",
    "\n",
    "\n",
    "            probs = torch.sigmoid(logits.squeeze(1))\n",
    "            preds = (probs >= 0.5).to(torch.int64)\n",
    "\n",
    "\n",
    "            val_preds.extend(preds.tolist())\n",
    "            val_targets.extend(y_batch.tolist())\n",
    "    val_loss = val_loss / len(val_dataset)\n",
    "\n",
    "\n",
    "    \n",
    "    # Converting predictions and targets to numpy for calculations\n",
    "    val_preds = np.array(val_preds)\n",
    "    val_targets = np.array(val_targets)\n",
    "    \n",
    "    val_prec = precision_score(val_targets, val_preds, pos_label=1.0, zero_division=0)\n",
    "    learning_rate = optimizer.param_groups[0]['lr']\n",
    "    \n",
    "    print(f\"Epoch {epoch:2d}/{epochs} - \"f\"Train Loss: {train_loss:.4f} \"f\"Val Loss: {val_loss:.4f}, \"\n",
    "          f\"Prec: {val_prec:.3f}, \"f\"Learning Rate: {learning_rate:.6f}\")\n",
    "    \n",
    "\n",
    "    scheduler.step(val_loss)\n",
    "\n",
    "\n",
    "    # Early stopping check\n",
    "    if val_loss < best_val_loss:\n",
    "        best_val_loss = val_loss\n",
    "        patience_counter = 0\n",
    "        best_model_state = model.state_dict()\n",
    "    else:\n",
    "        \n",
    "        patience_counter += 1\n",
    "        if patience_counter >= patience:\n",
    "            print(\"Early stopping triggered.\")\n",
    "            break\n",
    "if patience_counter >= patience:\n",
    "    model.load_state_dict(best_model_state)\n",
    "#Source: https://docs.pytorch.org/tutorials/beginner/introyt/trainingyt.html"
   ]
  },
  {
   "cell_type": "code",
   "execution_count": 21,
   "id": "36093e1c",
   "metadata": {},
   "outputs": [],
   "source": [
    "# Evaluation\n",
    "model.eval()\n",
    "test_preds = []\n",
    "test_targets = []\n",
    "test_loss = 0.0\n",
    "with torch.no_grad():\n",
    "    for X_batch, y_batch in test_loader:\n",
    "        X_batch = X_batch.to(device)\n",
    "        y_batch = y_batch.to(device)\n",
    "        \n",
    "        logits = model(X_batch)\n",
    "        loss = criterion(logits.squeeze(), y_batch.float())\n",
    "        probs = torch.sigmoid(logits.squeeze())\n",
    "        preds = (probs >= 0.5).to(torch.int64)\n",
    "        test_loss += loss.item() * X_batch.size(0)\n",
    "\n",
    "        test_preds.extend(preds.tolist())\n",
    "        test_targets.extend(y_batch.tolist())\n",
    "test_preds = np.array(test_preds)\n",
    "test_targets = np.array(test_targets)"
   ]
  },
  {
   "cell_type": "code",
   "execution_count": 22,
   "id": "aaf49ee0",
   "metadata": {},
   "outputs": [
    {
     "name": "stdout",
     "output_type": "stream",
     "text": [
      "Confusion Matrix:\n"
     ]
    },
    {
     "data": {
      "image/png": "[encoded data removed]",
      "text/plain": [
       "<Figure size 640x480 with 2 Axes>"
      ]
     },
     "metadata": {},
     "output_type": "display_data"
    }
   ],
   "source": [
    "Confusion_matrix = confusion_matrix(test_targets, test_preds)\n",
    "print(\"Confusion Matrix:\")\n",
    "sns.heatmap(Confusion_matrix, annot=True, fmt='d')\n",
    "plt.show()"
   ]
  },
  {
   "cell_type": "code",
   "execution_count": null,
   "id": "ddafa47e",
   "metadata": {},
   "outputs": [
    {
     "name": "stdout",
     "output_type": "stream",
     "text": [
      "Classification Report:\n",
      "               precision    recall  f1-score   support\n",
      "\n",
      "No Occupancy       0.94      0.92      0.93      5920\n",
      "   Occupancy       0.73      0.78      0.75      1685\n",
      "\n",
      "    accuracy                           0.89      7605\n",
      "   macro avg       0.83      0.85      0.84      7605\n",
      "weighted avg       0.89      0.89      0.89      7605\n",
      "\n"
     ]
    }
   ],
   "source": [
    "Classification_report = classification_report(test_targets, test_preds, target_names=['No Occupancy', 'Occupancy'], zero_division=0)\n",
    "print(\"Classification Report:\\n\", Classification_report)\n",
    "\n",
    "# Even though I have calculated class weights, but still the model is biased towards the class occupancy.\n",
    "# The gap between traning and validation loss is big, because the distribution of Occupancy is different in each DS."
   ]
  }
 ],
 "metadata": {
  "kernelspec": {
   "display_name": ".venv",
   "language": "python",
   "name": "python3"
  },
  "language_info": {
   "codemirror_mode": {
    "name": "ipython",
    "version": 3
   },
   "file_extension": ".py",
   "mimetype": "text/x-python",
   "name": "python",
   "nbconvert_exporter": "python",
   "pygments_lexer": "ipython3",
   "version": "3.10.11"
  }
 },
 "nbformat": 4,
 "nbformat_minor": 5
}

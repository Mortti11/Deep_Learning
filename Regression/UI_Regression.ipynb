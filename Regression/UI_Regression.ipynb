{
 "cells": [
  {
   "cell_type": "code",
   "execution_count": 1,
   "metadata": {},
   "outputs": [],
   "source": [
    "# library for GUI\n",
    "import tkinter as tk\n",
    "from tkinter import messagebox  \n",
    "\n",
    "           \n",
    "import numpy as n\n",
    "\n",
    "# For loading the pre-trained Keras model\n",
    "from tensorflow.keras.models import load_model \n",
    "\n",
    "# For loading the scalers\n",
    "import joblib \n",
    "\n",
    "# For loading the model\n",
    "from tensorflow.keras.layers import LeakyReLU"
   ]
  },
  {
   "cell_type": "code",
   "execution_count": 4,
   "metadata": {},
   "outputs": [],
   "source": [
    "# loading the model with custom objects\n",
    "model = load_model(\"Admission_model.keras\")\n",
    "\n",
    "# Loading the scalers for the input features\n",
    "scaler = joblib.load('Scaler.pkl')"
   ]
  },
  {
   "cell_type": "code",
   "execution_count": null,
   "metadata": {},
   "outputs": [
    {
     "name": "stdout",
     "output_type": "stream",
     "text": [
      "\u001b[1m1/1\u001b[0m \u001b[32m━━━━━━━━━━━━━━━━━━━━\u001b[0m\u001b[37m\u001b[0m \u001b[1m0s\u001b[0m 66ms/step\n"
     ]
    },
    {
     "name": "stderr",
     "output_type": "stream",
     "text": [
      "c:\\Users\\murta\\OneDrive\\Desktop\\ML&DE\\Third-semester\\Deep_Learning\\.venv\\lib\\site-packages\\sklearn\\base.py:493: UserWarning: X does not have valid feature names, but MinMaxScaler was fitted with feature names\n",
      "  warnings.warn(\n"
     ]
    },
    {
     "name": "stdout",
     "output_type": "stream",
     "text": [
      "\u001b[1m1/1\u001b[0m \u001b[32m━━━━━━━━━━━━━━━━━━━━\u001b[0m\u001b[37m\u001b[0m \u001b[1m0s\u001b[0m 26ms/step\n"
     ]
    }
   ],
   "source": [
    "# Using Tkinter for the GUI\n",
    "# Creating the function for getting the values from user\n",
    "def get_input():\n",
    "    # Getting the values from the user\n",
    "    rating = float(rating_entry.get())\n",
    "    sop = float(sop_entry.get())\n",
    "    lor = float(lor_entry.get())\n",
    "    research = float(research_entry.get())\n",
    "    ad_score = float(ad_score_entry.get())\n",
    "    \n",
    "    # Scaling the input values\n",
    "    scaled_input = scaler.transform([[rating, sop, lor, research, ad_score]])\n",
    "    \n",
    "    # Getting the prediction\n",
    "    prediction = model.predict(scaled_input)[0][0]\n",
    "    \n",
    "    # Displaying the prediction\n",
    "    messagebox.showinfo(\"Prediction\", f\"The chance of admission is {prediction}\")\n",
    "    \n",
    "    # Creating the message box\n",
    "    try:\n",
    "        # Getting the prediction\n",
    "        prediction = model.predict(scaled_input)[0][0]\n",
    "        \n",
    "        # Displaying the prediction\n",
    "        messagebox.showinfo(\"Prediction\", f\"The chance of admission is {prediction}\")\n",
    "    except ValueError:\n",
    "        messagebox.showinfo(\"Error\", \"Please enter valid values\")\n",
    "\n",
    "# Creating the Tkinter window\n",
    "root = tk.Tk()\n",
    "root.title(\"Admission Prediction\")\n",
    "\n",
    "# Creating the entry widgets\n",
    "tk.Label(root, text=\" University Rating\").grid(row=0)\n",
    "rating_entry = tk.Entry(root)\n",
    "rating_entry.grid(row=0, column=1)\n",
    "\n",
    "tk.Label(root, text=\"SOP\").grid(row=1)\n",
    "sop_entry = tk.Entry(root)\n",
    "sop_entry.grid(row=1, column=1)\n",
    "\n",
    "tk.Label(root, text=\"LOR\").grid(row=2)\n",
    "lor_entry = tk.Entry(root)\n",
    "lor_entry.grid(row=2, column=1)\n",
    "\n",
    "tk.Label(root, text=\"Research\").grid(row=3)\n",
    "research_entry = tk.Entry(root)\n",
    "research_entry.grid(row=3, column=1)\n",
    "\n",
    "tk.Label(root, text=\"Admission Score\").grid(row=4)\n",
    "ad_score_entry = tk.Entry(root)\n",
    "ad_score_entry.grid(row=4, column=1)\n",
    "\n",
    "# Creating the submit button\n",
    "submit_button = tk.Button(root, text=\"Submit\", command=get_input)\n",
    "submit_button.grid(row=5, column=1)\n",
    "\n",
    "# Running the Tkinter event loop\n",
    "root.mainloop()\n",
    "         \n",
    "    "
   ]
  }
 ],
 "metadata": {
  "kernelspec": {
   "display_name": ".venv",
   "language": "python",
   "name": "python3"
  },
  "language_info": {
   "codemirror_mode": {
    "name": "ipython",
    "version": 3
   },
   "file_extension": ".py",
   "mimetype": "text/x-python",
   "name": "python",
   "nbconvert_exporter": "python",
   "pygments_lexer": "ipython3",
   "version": "3.10.11"
  }
 },
 "nbformat": 4,
 "nbformat_minor": 2
}

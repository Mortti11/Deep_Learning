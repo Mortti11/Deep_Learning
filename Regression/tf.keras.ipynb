{
 "cells": [
  {
   "cell_type": "code",
   "execution_count": 9,
   "metadata": {},
   "outputs": [],
   "source": [
    "import matplotlib.pyplot as plt\n",
    "import seaborn as sns\n",
    "import numpy as np\n",
    "import pandas as pd\n",
    "\n",
    "\n",
    "from sklearn.preprocessing import StandardScaler, RobustScaler\n",
    "from sklearn.metrics import mean_squared_error, mean_absolute_error, r2_score\n",
    "from sklearn.model_selection import TimeSeriesSplit\n",
    "from sklearn.compose import ColumnTransformer\n",
    "\n",
    "\n",
    "import tensorflow as tf\n",
    "from tensorflow.keras import Sequential\n",
    "from tensorflow.keras.layers import Dense, Dropout\n",
    "from tensorflow.keras.callbacks import EarlyStopping\n",
    "import keras_tuner as kt\n",
    "from tensorflow.keras import layers\n",
    "from tensorflow.keras.optimizers import Adam, RMSprop, SGD\n",
    "import tensorflow.keras as keras"
   ]
  },
  {
   "cell_type": "code",
   "execution_count": 10,
   "metadata": {},
   "outputs": [
    {
     "data": {
      "application/vnd.microsoft.datawrangler.viewer.v0+json": {
       "columns": [
        {
         "name": "index",
         "rawType": "int64",
         "type": "integer"
        },
        {
         "name": "Usage_kWh",
         "rawType": "float64",
         "type": "float"
        },
        {
         "name": "Lagging_Current_Reactive.Power_kVarh",
         "rawType": "float64",
         "type": "float"
        },
        {
         "name": "Leading_Current_Reactive_Power_kVarh",
         "rawType": "float64",
         "type": "float"
        },
        {
         "name": "month",
         "rawType": "int64",
         "type": "integer"
        },
        {
         "name": "hour",
         "rawType": "int64",
         "type": "integer"
        },
        {
         "name": "Load_Type_Maximum_Load",
         "rawType": "int64",
         "type": "integer"
        },
        {
         "name": "Load_Type_Medium_Load",
         "rawType": "int64",
         "type": "integer"
        }
       ],
       "ref": "2b3bacea-1eeb-45ad-aa9c-0b88c2b74e8c",
       "rows": [
        [
         "0",
         "3.17",
         "2.95",
         "0.0",
         "1",
         "0",
         "0",
         "0"
        ],
        [
         "1",
         "4.0",
         "4.46",
         "0.0",
         "1",
         "0",
         "0",
         "0"
        ],
        [
         "2",
         "3.24",
         "3.28",
         "0.0",
         "1",
         "0",
         "0",
         "0"
        ],
        [
         "3",
         "3.31",
         "3.56",
         "0.0",
         "1",
         "1",
         "0",
         "0"
        ],
        [
         "4",
         "3.82",
         "4.5",
         "0.0",
         "1",
         "1",
         "0",
         "0"
        ]
       ],
       "shape": {
        "columns": 7,
        "rows": 5
       }
      },
      "text/html": [
       "<div>\n",
       "<style scoped>\n",
       "    .dataframe tbody tr th:only-of-type {\n",
       "        vertical-align: middle;\n",
       "    }\n",
       "\n",
       "    .dataframe tbody tr th {\n",
       "        vertical-align: top;\n",
       "    }\n",
       "\n",
       "    .dataframe thead th {\n",
       "        text-align: right;\n",
       "    }\n",
       "</style>\n",
       "<table border=\"1\" class=\"dataframe\">\n",
       "  <thead>\n",
       "    <tr style=\"text-align: right;\">\n",
       "      <th></th>\n",
       "      <th>Usage_kWh</th>\n",
       "      <th>Lagging_Current_Reactive.Power_kVarh</th>\n",
       "      <th>Leading_Current_Reactive_Power_kVarh</th>\n",
       "      <th>month</th>\n",
       "      <th>hour</th>\n",
       "      <th>Load_Type_Maximum_Load</th>\n",
       "      <th>Load_Type_Medium_Load</th>\n",
       "    </tr>\n",
       "  </thead>\n",
       "  <tbody>\n",
       "    <tr>\n",
       "      <th>0</th>\n",
       "      <td>3.17</td>\n",
       "      <td>2.95</td>\n",
       "      <td>0.0</td>\n",
       "      <td>1</td>\n",
       "      <td>0</td>\n",
       "      <td>0</td>\n",
       "      <td>0</td>\n",
       "    </tr>\n",
       "    <tr>\n",
       "      <th>1</th>\n",
       "      <td>4.00</td>\n",
       "      <td>4.46</td>\n",
       "      <td>0.0</td>\n",
       "      <td>1</td>\n",
       "      <td>0</td>\n",
       "      <td>0</td>\n",
       "      <td>0</td>\n",
       "    </tr>\n",
       "    <tr>\n",
       "      <th>2</th>\n",
       "      <td>3.24</td>\n",
       "      <td>3.28</td>\n",
       "      <td>0.0</td>\n",
       "      <td>1</td>\n",
       "      <td>0</td>\n",
       "      <td>0</td>\n",
       "      <td>0</td>\n",
       "    </tr>\n",
       "    <tr>\n",
       "      <th>3</th>\n",
       "      <td>3.31</td>\n",
       "      <td>3.56</td>\n",
       "      <td>0.0</td>\n",
       "      <td>1</td>\n",
       "      <td>1</td>\n",
       "      <td>0</td>\n",
       "      <td>0</td>\n",
       "    </tr>\n",
       "    <tr>\n",
       "      <th>4</th>\n",
       "      <td>3.82</td>\n",
       "      <td>4.50</td>\n",
       "      <td>0.0</td>\n",
       "      <td>1</td>\n",
       "      <td>1</td>\n",
       "      <td>0</td>\n",
       "      <td>0</td>\n",
       "    </tr>\n",
       "  </tbody>\n",
       "</table>\n",
       "</div>"
      ],
      "text/plain": [
       "   Usage_kWh  Lagging_Current_Reactive.Power_kVarh  \\\n",
       "0       3.17                                  2.95   \n",
       "1       4.00                                  4.46   \n",
       "2       3.24                                  3.28   \n",
       "3       3.31                                  3.56   \n",
       "4       3.82                                  4.50   \n",
       "\n",
       "   Leading_Current_Reactive_Power_kVarh  month  hour  Load_Type_Maximum_Load  \\\n",
       "0                                   0.0      1     0                       0   \n",
       "1                                   0.0      1     0                       0   \n",
       "2                                   0.0      1     0                       0   \n",
       "3                                   0.0      1     1                       0   \n",
       "4                                   0.0      1     1                       0   \n",
       "\n",
       "   Load_Type_Medium_Load  \n",
       "0                      0  \n",
       "1                      0  \n",
       "2                      0  \n",
       "3                      0  \n",
       "4                      0  "
      ]
     },
     "execution_count": 10,
     "metadata": {},
     "output_type": "execute_result"
    }
   ],
   "source": [
    "# Loading the cleaned DS \n",
    "df = pd.read_csv('cleaned_data.csv')\n",
    "df.head()"
   ]
  },
  {
   "cell_type": "code",
   "execution_count": 11,
   "metadata": {},
   "outputs": [
    {
     "data": {
      "text/plain": [
       "(26280, 7)"
      ]
     },
     "execution_count": 11,
     "metadata": {},
     "output_type": "execute_result"
    }
   ],
   "source": [
    "df.shape"
   ]
  },
  {
   "cell_type": "code",
   "execution_count": 12,
   "metadata": {},
   "outputs": [
    {
     "data": {
      "application/vnd.microsoft.datawrangler.viewer.v0+json": {
       "columns": [
        {
         "name": "index",
         "rawType": "int64",
         "type": "integer"
        },
        {
         "name": "Usage_kWh",
         "rawType": "float64",
         "type": "float"
        }
       ],
       "ref": "7c93819d-d691-4d70-b6cb-205bbe148177",
       "rows": [
        [
         "0",
         "3.17"
        ],
        [
         "1",
         "4.0"
        ],
        [
         "2",
         "3.24"
        ],
        [
         "3",
         "3.31"
        ],
        [
         "4",
         "3.82"
        ],
        [
         "5",
         "3.28"
        ],
        [
         "6",
         "3.6"
        ],
        [
         "7",
         "3.6"
        ],
        [
         "8",
         "3.28"
        ],
        [
         "9",
         "3.78"
        ],
        [
         "10",
         "3.46"
        ],
        [
         "11",
         "3.24"
        ],
        [
         "12",
         "3.96"
        ],
        [
         "13",
         "3.31"
        ],
        [
         "14",
         "3.31"
        ],
        [
         "15",
         "3.89"
        ],
        [
         "16",
         "3.28"
        ],
        [
         "17",
         "3.56"
        ],
        [
         "18",
         "3.74"
        ],
        [
         "19",
         "3.31"
        ],
        [
         "20",
         "3.56"
        ],
        [
         "21",
         "3.56"
        ],
        [
         "22",
         "3.28"
        ],
        [
         "23",
         "3.78"
        ],
        [
         "24",
         "3.35"
        ],
        [
         "25",
         "3.24"
        ],
        [
         "26",
         "3.89"
        ],
        [
         "27",
         "3.31"
        ],
        [
         "28",
         "3.28"
        ],
        [
         "29",
         "3.85"
        ],
        [
         "30",
         "3.2"
        ],
        [
         "31",
         "3.31"
        ],
        [
         "32",
         "3.78"
        ],
        [
         "33",
         "3.28"
        ],
        [
         "34",
         "3.49"
        ],
        [
         "35",
         "3.67"
        ],
        [
         "36",
         "3.24"
        ],
        [
         "37",
         "3.53"
        ],
        [
         "38",
         "3.53"
        ],
        [
         "39",
         "3.24"
        ],
        [
         "40",
         "3.67"
        ],
        [
         "41",
         "3.42"
        ],
        [
         "42",
         "3.2"
        ],
        [
         "43",
         "3.85"
        ],
        [
         "44",
         "3.28"
        ],
        [
         "45",
         "3.35"
        ],
        [
         "46",
         "3.89"
        ],
        [
         "47",
         "3.28"
        ],
        [
         "48",
         "3.46"
        ],
        [
         "49",
         "3.78"
        ]
       ],
       "shape": {
        "columns": 1,
        "rows": 26280
       }
      },
      "text/plain": [
       "0        3.17\n",
       "1        4.00\n",
       "2        3.24\n",
       "3        3.31\n",
       "4        3.82\n",
       "         ... \n",
       "26275    3.82\n",
       "26276    3.85\n",
       "26277    3.74\n",
       "26278    3.78\n",
       "26279    3.67\n",
       "Name: Usage_kWh, Length: 26280, dtype: float64"
      ]
     },
     "execution_count": 12,
     "metadata": {},
     "output_type": "execute_result"
    }
   ],
   "source": [
    "df['Usage_kWh']"
   ]
  },
  {
   "cell_type": "code",
   "execution_count": 13,
   "metadata": {},
   "outputs": [],
   "source": [
    "# In Explor_Prepro notebook the DS is preprocessed.  \n",
    "# In this notebook, I will build Deep Learning model to predict the energy consumption.\n",
    "\n",
    "# The DS has 26280 and 9 columns. The target value is Usage_KWh, it is right skewed.\n",
    "# I am going to handle the scaling, hyperparameter search, model building and finally evaluation my model."
   ]
  },
  {
   "cell_type": "code",
   "execution_count": 14,
   "metadata": {},
   "outputs": [],
   "source": [
    "# Picking up the target and features\n",
    "X = df.drop('Usage_kWh', axis=1).values\n",
    "y = df['Usage_kWh'].values\n",
    "\n",
    "\n",
    "# I can not use random splitting, because the DS is time series\n",
    "n = len(X)\n",
    "# Calculating where the training data should end\n",
    "train_end = int(n*0.80)\n",
    "# Calculating where the val data should end\n",
    "val_end = train_end + int(n*0.10)  \n",
    "# Taking first 80% of the DS for training\n",
    "X_train, y_train = X[:train_end], y[:train_end]\n",
    "# Taking next 10% of the DS for val \n",
    "X_val, y_val = X[train_end:val_end], y[train_end:val_end]\n",
    "# Taking last 10% of the DS for test\n",
    "X_test, y_test = X[val_end:], y[val_end:]\n",
    "# Source: https://stackoverflow.com/questions/50879915/splitting-data-using-time-based-splitting-in-test-and-train-datasets"
   ]
  },
  {
   "cell_type": "code",
   "execution_count": 15,
   "metadata": {},
   "outputs": [
    {
     "name": "stdout",
     "output_type": "stream",
     "text": [
      "Shape of training data: (21024, 6) (21024,)\n",
      "Shape of validation data: (2628, 6) (2628,)\n",
      "Shape of test data: (2628, 6) (2628,)\n"
     ]
    }
   ],
   "source": [
    "print('Shape of training data:', X_train.shape, y_train.shape)\n",
    "print('Shape of validation data:', X_val.shape, y_val.shape)\n",
    "print('Shape of test data:', X_test.shape, y_test.shape)"
   ]
  },
  {
   "cell_type": "code",
   "execution_count": 16,
   "metadata": {},
   "outputs": [],
   "source": [
    "scaler = RobustScaler()\n",
    "X_train = scaler.fit_transform(X_train)\n",
    "X_val = scaler.transform(X_val)\n",
    "X_test = scaler.transform(X_test)"
   ]
  },
  {
   "cell_type": "code",
   "execution_count": 17,
   "metadata": {},
   "outputs": [
    {
     "data": {
      "text/plain": [
       "\"\\ntime_columns = ['hour_sin', 'hour_cos', 'month_sin', 'month_cos']\\nnormal_features = [col for col in X_train.columns if col not in time_columns]\\npreprocessor = ColumnTransformer(transformers=[('robust', RobustScaler(),\\n    normal_features)],remainder='passthrough')\\n# Source: https://medium.com/@vinodkumargr/11-column-transformer-in-ml-sklearn-column-transformer-in-machine-learning-48479f8cb48f\\nX_train = preprocessor.fit_transform(X_train)\\nX_val = preprocessor.transform(X_val)\\nX_test = preprocessor.transform(X_test)\\n\""
      ]
     },
     "execution_count": 17,
     "metadata": {},
     "output_type": "execute_result"
    }
   ],
   "source": [
    "# Scaling my data\n",
    "# For scaling, there are many techniques:\n",
    "# Standard scaler, all features are centered around 0.0\n",
    "# Min Max scaler, the range is (0-1), it is good for bounded data, but my DS is skewed\n",
    "# RobustScaler can handle skewed data and outliers\n",
    "\n",
    "# In my case, RobustScaler is a good choice for handling outliers.\n",
    "# I dont need to scale time columns because they are already between -1 and 1\n",
    "# So I will use RobustScaler for normal features\n",
    "\"\"\"\n",
    "time_columns = ['hour_sin', 'hour_cos', 'month_sin', 'month_cos']\n",
    "normal_features = [col for col in X_train.columns if col not in time_columns]\n",
    "preprocessor = ColumnTransformer(transformers=[('robust', RobustScaler(),\n",
    "    normal_features)],remainder='passthrough')\n",
    "# Source: https://medium.com/@vinodkumargr/11-column-transformer-in-ml-sklearn-column-transformer-in-machine-learning-48479f8cb48f\n",
    "X_train = preprocessor.fit_transform(X_train)\n",
    "X_val = preprocessor.transform(X_val)\n",
    "X_test = preprocessor.transform(X_test)\n",
    "\"\"\""
   ]
  },
  {
   "cell_type": "markdown",
   "metadata": {},
   "source": [
    "<center><h2> Designing the Neural Network Architecture</center>"
   ]
  },
  {
   "cell_type": "code",
   "execution_count": 18,
   "metadata": {},
   "outputs": [
    {
     "name": "stderr",
     "output_type": "stream",
     "text": [
      "d:\\ML&DE\\Deep_Learning\\.venv\\lib\\site-packages\\keras\\src\\layers\\core\\dense.py:92: UserWarning: Do not pass an `input_shape`/`input_dim` argument to a layer. When using Sequential models, prefer using an `Input(shape)` object as the first layer in the model instead.\n",
      "  super().__init__(activity_regularizer=activity_regularizer, **kwargs)\n"
     ]
    },
    {
     "data": {
      "text/html": [
       "<pre style=\"white-space:pre;overflow-x:auto;line-height:normal;font-family:Menlo,'DejaVu Sans Mono',consolas,'Courier New',monospace\"><span style=\"font-weight: bold\">Model: \"sequential\"</span>\n",
       "</pre>\n"
      ],
      "text/plain": [
       "\u001b[1mModel: \"sequential\"\u001b[0m\n"
      ]
     },
     "metadata": {},
     "output_type": "display_data"
    },
    {
     "data": {
      "text/html": [
       "<pre style=\"white-space:pre;overflow-x:auto;line-height:normal;font-family:Menlo,'DejaVu Sans Mono',consolas,'Courier New',monospace\">┏━━━━━━━━━━━━━━━━━━━━━━━━━━━━━━━━━┳━━━━━━━━━━━━━━━━━━━━━━━━┳━━━━━━━━━━━━━━━┓\n",
       "┃<span style=\"font-weight: bold\"> Layer (type)                    </span>┃<span style=\"font-weight: bold\"> Output Shape           </span>┃<span style=\"font-weight: bold\">       Param # </span>┃\n",
       "┡━━━━━━━━━━━━━━━━━━━━━━━━━━━━━━━━━╇━━━━━━━━━━━━━━━━━━━━━━━━╇━━━━━━━━━━━━━━━┩\n",
       "│ dense (<span style=\"color: #0087ff; text-decoration-color: #0087ff\">Dense</span>)                   │ (<span style=\"color: #00d7ff; text-decoration-color: #00d7ff\">None</span>, <span style=\"color: #00af00; text-decoration-color: #00af00\">256</span>)            │         <span style=\"color: #00af00; text-decoration-color: #00af00\">1,792</span> │\n",
       "├─────────────────────────────────┼────────────────────────┼───────────────┤\n",
       "│ dense_1 (<span style=\"color: #0087ff; text-decoration-color: #0087ff\">Dense</span>)                 │ (<span style=\"color: #00d7ff; text-decoration-color: #00d7ff\">None</span>, <span style=\"color: #00af00; text-decoration-color: #00af00\">128</span>)            │        <span style=\"color: #00af00; text-decoration-color: #00af00\">32,896</span> │\n",
       "├─────────────────────────────────┼────────────────────────┼───────────────┤\n",
       "│ dense_2 (<span style=\"color: #0087ff; text-decoration-color: #0087ff\">Dense</span>)                 │ (<span style=\"color: #00d7ff; text-decoration-color: #00d7ff\">None</span>, <span style=\"color: #00af00; text-decoration-color: #00af00\">64</span>)             │         <span style=\"color: #00af00; text-decoration-color: #00af00\">8,256</span> │\n",
       "├─────────────────────────────────┼────────────────────────┼───────────────┤\n",
       "│ dense_3 (<span style=\"color: #0087ff; text-decoration-color: #0087ff\">Dense</span>)                 │ (<span style=\"color: #00d7ff; text-decoration-color: #00d7ff\">None</span>, <span style=\"color: #00af00; text-decoration-color: #00af00\">32</span>)             │         <span style=\"color: #00af00; text-decoration-color: #00af00\">2,080</span> │\n",
       "├─────────────────────────────────┼────────────────────────┼───────────────┤\n",
       "│ dense_4 (<span style=\"color: #0087ff; text-decoration-color: #0087ff\">Dense</span>)                 │ (<span style=\"color: #00d7ff; text-decoration-color: #00d7ff\">None</span>, <span style=\"color: #00af00; text-decoration-color: #00af00\">16</span>)             │           <span style=\"color: #00af00; text-decoration-color: #00af00\">528</span> │\n",
       "├─────────────────────────────────┼────────────────────────┼───────────────┤\n",
       "│ dense_5 (<span style=\"color: #0087ff; text-decoration-color: #0087ff\">Dense</span>)                 │ (<span style=\"color: #00d7ff; text-decoration-color: #00d7ff\">None</span>, <span style=\"color: #00af00; text-decoration-color: #00af00\">1</span>)              │            <span style=\"color: #00af00; text-decoration-color: #00af00\">17</span> │\n",
       "└─────────────────────────────────┴────────────────────────┴───────────────┘\n",
       "</pre>\n"
      ],
      "text/plain": [
       "┏━━━━━━━━━━━━━━━━━━━━━━━━━━━━━━━━━┳━━━━━━━━━━━━━━━━━━━━━━━━┳━━━━━━━━━━━━━━━┓\n",
       "┃\u001b[1m \u001b[0m\u001b[1mLayer (type)                   \u001b[0m\u001b[1m \u001b[0m┃\u001b[1m \u001b[0m\u001b[1mOutput Shape          \u001b[0m\u001b[1m \u001b[0m┃\u001b[1m \u001b[0m\u001b[1m      Param #\u001b[0m\u001b[1m \u001b[0m┃\n",
       "┡━━━━━━━━━━━━━━━━━━━━━━━━━━━━━━━━━╇━━━━━━━━━━━━━━━━━━━━━━━━╇━━━━━━━━━━━━━━━┩\n",
       "│ dense (\u001b[38;5;33mDense\u001b[0m)                   │ (\u001b[38;5;45mNone\u001b[0m, \u001b[38;5;34m256\u001b[0m)            │         \u001b[38;5;34m1,792\u001b[0m │\n",
       "├─────────────────────────────────┼────────────────────────┼───────────────┤\n",
       "│ dense_1 (\u001b[38;5;33mDense\u001b[0m)                 │ (\u001b[38;5;45mNone\u001b[0m, \u001b[38;5;34m128\u001b[0m)            │        \u001b[38;5;34m32,896\u001b[0m │\n",
       "├─────────────────────────────────┼────────────────────────┼───────────────┤\n",
       "│ dense_2 (\u001b[38;5;33mDense\u001b[0m)                 │ (\u001b[38;5;45mNone\u001b[0m, \u001b[38;5;34m64\u001b[0m)             │         \u001b[38;5;34m8,256\u001b[0m │\n",
       "├─────────────────────────────────┼────────────────────────┼───────────────┤\n",
       "│ dense_3 (\u001b[38;5;33mDense\u001b[0m)                 │ (\u001b[38;5;45mNone\u001b[0m, \u001b[38;5;34m32\u001b[0m)             │         \u001b[38;5;34m2,080\u001b[0m │\n",
       "├─────────────────────────────────┼────────────────────────┼───────────────┤\n",
       "│ dense_4 (\u001b[38;5;33mDense\u001b[0m)                 │ (\u001b[38;5;45mNone\u001b[0m, \u001b[38;5;34m16\u001b[0m)             │           \u001b[38;5;34m528\u001b[0m │\n",
       "├─────────────────────────────────┼────────────────────────┼───────────────┤\n",
       "│ dense_5 (\u001b[38;5;33mDense\u001b[0m)                 │ (\u001b[38;5;45mNone\u001b[0m, \u001b[38;5;34m1\u001b[0m)              │            \u001b[38;5;34m17\u001b[0m │\n",
       "└─────────────────────────────────┴────────────────────────┴───────────────┘\n"
      ]
     },
     "metadata": {},
     "output_type": "display_data"
    },
    {
     "data": {
      "text/html": [
       "<pre style=\"white-space:pre;overflow-x:auto;line-height:normal;font-family:Menlo,'DejaVu Sans Mono',consolas,'Courier New',monospace\"><span style=\"font-weight: bold\"> Total params: </span><span style=\"color: #00af00; text-decoration-color: #00af00\">45,569</span> (178.00 KB)\n",
       "</pre>\n"
      ],
      "text/plain": [
       "\u001b[1m Total params: \u001b[0m\u001b[38;5;34m45,569\u001b[0m (178.00 KB)\n"
      ]
     },
     "metadata": {},
     "output_type": "display_data"
    },
    {
     "data": {
      "text/html": [
       "<pre style=\"white-space:pre;overflow-x:auto;line-height:normal;font-family:Menlo,'DejaVu Sans Mono',consolas,'Courier New',monospace\"><span style=\"font-weight: bold\"> Trainable params: </span><span style=\"color: #00af00; text-decoration-color: #00af00\">45,569</span> (178.00 KB)\n",
       "</pre>\n"
      ],
      "text/plain": [
       "\u001b[1m Trainable params: \u001b[0m\u001b[38;5;34m45,569\u001b[0m (178.00 KB)\n"
      ]
     },
     "metadata": {},
     "output_type": "display_data"
    },
    {
     "data": {
      "text/html": [
       "<pre style=\"white-space:pre;overflow-x:auto;line-height:normal;font-family:Menlo,'DejaVu Sans Mono',consolas,'Courier New',monospace\"><span style=\"font-weight: bold\"> Non-trainable params: </span><span style=\"color: #00af00; text-decoration-color: #00af00\">0</span> (0.00 B)\n",
       "</pre>\n"
      ],
      "text/plain": [
       "\u001b[1m Non-trainable params: \u001b[0m\u001b[38;5;34m0\u001b[0m (0.00 B)\n"
      ]
     },
     "metadata": {},
     "output_type": "display_data"
    }
   ],
   "source": [
    "# Since there is not fixed formula to find perfect number of hidden layers and neurons.\n",
    "# I need to clean the DS as much as possible and then experiment with hyperparameters.\n",
    "# More layers and neurons can handle more complex data but the chance of overfitting is higher.\n",
    "# Less layers and neurons make the model underfit.\n",
    "\n",
    "# Good strategy for me is to start simple\n",
    "# I will start with three layers. 128, 64 and 64 neurons. L2 and Dropout are for overfitting\n",
    "# I will use ReLU for the hidden layers, it helps to learn non linearity, because in DS some columns might have non linear connection to each others\n",
    "# I wont use sigmoid and softmax in output layer, because they are for classification\n",
    "# The output can be unrestricted, So model can predict any range of values freely\n",
    "# Now, let's implement\n",
    "\n",
    "model = Sequential()\n",
    "# Input layer\n",
    "model.add(Dense(256, activation='relu',kernel_regularizer=tf.keras.regularizers.l2(0.0001), input_shape=(X_train.shape[1], )))\n",
    "# Hidden layer\n",
    "model.add(Dense(128, activation='relu'))\n",
    "model.add(Dense(64, activation='relu'))\n",
    "model.add(Dense(32, activation='relu'))\n",
    "model.add(Dense(16, activation='relu'))\n",
    "# Output layer\n",
    "model.add(Dense(1))\n",
    "\n",
    "# I created fully connected layers with 128, 64 and 64 neurons\n",
    "# X_train shape is 8\n",
    "# The output neuron is 1, because there is only one value to predict\n",
    "model.summary()"
   ]
  },
  {
   "cell_type": "code",
   "execution_count": 19,
   "metadata": {},
   "outputs": [],
   "source": [
    "# Until this point, I defined the structure but I did not tell Keras how to train the model\n",
    "# Before training, I need to compile the model with loss function and optimizer\n",
    "# Loss function is for regression problem, MSE is kind of common choice\n",
    "# Since I have skewed distribution, and MSE is sensitive to outliers.\n",
    "# I have a nother option, which is MAE. In my case, I will use MSE.\n",
    "# It is smoother, training with MSE will try to reduce large errors\n",
    "\n",
    "# Optimizer is the algorithm that adjust the network weights to minimize the loss\n",
    "# I have several options for optimizers in Keras\n",
    "# SGD, RMSProp, Adam. \n",
    "# I will use Adam\n",
    "\n",
    "\n",
    "# Now I can compile the model, MSE loss, Adam optimizer, I can use MAE as metrics \n",
    "model.compile(optimizer='adam', loss='mean_squared_error', metrics=['mean_absolute_error'])"
   ]
  },
  {
   "cell_type": "code",
   "execution_count": 20,
   "metadata": {},
   "outputs": [
    {
     "name": "stdout",
     "output_type": "stream",
     "text": [
      "Epoch 1/300\n",
      "\u001b[1m165/165\u001b[0m \u001b[32m━━━━━━━━━━━━━━━━━━━━\u001b[0m\u001b[37m\u001b[0m \u001b[1m1s\u001b[0m 2ms/step - loss: 315.8136 - mean_absolute_error: 9.0548 - val_loss: 56.7503 - val_mean_absolute_error: 3.9730\n",
      "Epoch 2/300\n",
      "\u001b[1m165/165\u001b[0m \u001b[32m━━━━━━━━━━━━━━━━━━━━\u001b[0m\u001b[37m\u001b[0m \u001b[1m0s\u001b[0m 2ms/step - loss: 66.1992 - mean_absolute_error: 4.1540 - val_loss: 55.7098 - val_mean_absolute_error: 3.6881\n",
      "Epoch 3/300\n",
      "\u001b[1m165/165\u001b[0m \u001b[32m━━━━━━━━━━━━━━━━━━━━\u001b[0m\u001b[37m\u001b[0m \u001b[1m0s\u001b[0m 1ms/step - loss: 62.8980 - mean_absolute_error: 3.9633 - val_loss: 53.5438 - val_mean_absolute_error: 3.6095\n",
      "Epoch 4/300\n",
      "\u001b[1m165/165\u001b[0m \u001b[32m━━━━━━━━━━━━━━━━━━━━\u001b[0m\u001b[37m\u001b[0m \u001b[1m0s\u001b[0m 2ms/step - loss: 61.5258 - mean_absolute_error: 3.9021 - val_loss: 47.7765 - val_mean_absolute_error: 3.4267\n",
      "Epoch 5/300\n",
      "\u001b[1m165/165\u001b[0m \u001b[32m━━━━━━━━━━━━━━━━━━━━\u001b[0m\u001b[37m\u001b[0m \u001b[1m0s\u001b[0m 2ms/step - loss: 60.4937 - mean_absolute_error: 3.8330 - val_loss: 50.6453 - val_mean_absolute_error: 3.7153\n",
      "Epoch 6/300\n",
      "\u001b[1m165/165\u001b[0m \u001b[32m━━━━━━━━━━━━━━━━━━━━\u001b[0m\u001b[37m\u001b[0m \u001b[1m0s\u001b[0m 2ms/step - loss: 60.0323 - mean_absolute_error: 3.8169 - val_loss: 46.5456 - val_mean_absolute_error: 3.3801\n",
      "Epoch 7/300\n",
      "\u001b[1m165/165\u001b[0m \u001b[32m━━━━━━━━━━━━━━━━━━━━\u001b[0m\u001b[37m\u001b[0m \u001b[1m0s\u001b[0m 2ms/step - loss: 59.7441 - mean_absolute_error: 3.7929 - val_loss: 44.2805 - val_mean_absolute_error: 3.2358\n",
      "Epoch 8/300\n",
      "\u001b[1m165/165\u001b[0m \u001b[32m━━━━━━━━━━━━━━━━━━━━\u001b[0m\u001b[37m\u001b[0m \u001b[1m0s\u001b[0m 2ms/step - loss: 60.0165 - mean_absolute_error: 3.8150 - val_loss: 44.4535 - val_mean_absolute_error: 3.2784\n",
      "Epoch 9/300\n",
      "\u001b[1m165/165\u001b[0m \u001b[32m━━━━━━━━━━━━━━━━━━━━\u001b[0m\u001b[37m\u001b[0m \u001b[1m0s\u001b[0m 2ms/step - loss: 58.0251 - mean_absolute_error: 3.7282 - val_loss: 42.2080 - val_mean_absolute_error: 3.2149\n",
      "Epoch 10/300\n",
      "\u001b[1m165/165\u001b[0m \u001b[32m━━━━━━━━━━━━━━━━━━━━\u001b[0m\u001b[37m\u001b[0m \u001b[1m0s\u001b[0m 2ms/step - loss: 57.9897 - mean_absolute_error: 3.7321 - val_loss: 48.6803 - val_mean_absolute_error: 3.5786\n",
      "Epoch 11/300\n",
      "\u001b[1m165/165\u001b[0m \u001b[32m━━━━━━━━━━━━━━━━━━━━\u001b[0m\u001b[37m\u001b[0m \u001b[1m0s\u001b[0m 2ms/step - loss: 57.2995 - mean_absolute_error: 3.7227 - val_loss: 43.5448 - val_mean_absolute_error: 3.3377\n",
      "Epoch 12/300\n",
      "\u001b[1m165/165\u001b[0m \u001b[32m━━━━━━━━━━━━━━━━━━━━\u001b[0m\u001b[37m\u001b[0m \u001b[1m0s\u001b[0m 1ms/step - loss: 57.4903 - mean_absolute_error: 3.7169 - val_loss: 44.4487 - val_mean_absolute_error: 3.2758\n",
      "Epoch 13/300\n",
      "\u001b[1m165/165\u001b[0m \u001b[32m━━━━━━━━━━━━━━━━━━━━\u001b[0m\u001b[37m\u001b[0m \u001b[1m0s\u001b[0m 2ms/step - loss: 57.2882 - mean_absolute_error: 3.7048 - val_loss: 50.0386 - val_mean_absolute_error: 3.4452\n",
      "Epoch 14/300\n",
      "\u001b[1m165/165\u001b[0m \u001b[32m━━━━━━━━━━━━━━━━━━━━\u001b[0m\u001b[37m\u001b[0m \u001b[1m0s\u001b[0m 2ms/step - loss: 56.3601 - mean_absolute_error: 3.6744 - val_loss: 45.1006 - val_mean_absolute_error: 3.3433\n",
      "Epoch 15/300\n",
      "\u001b[1m165/165\u001b[0m \u001b[32m━━━━━━━━━━━━━━━━━━━━\u001b[0m\u001b[37m\u001b[0m \u001b[1m0s\u001b[0m 2ms/step - loss: 56.1447 - mean_absolute_error: 3.6539 - val_loss: 45.1126 - val_mean_absolute_error: 3.3860\n",
      "Epoch 16/300\n",
      "\u001b[1m165/165\u001b[0m \u001b[32m━━━━━━━━━━━━━━━━━━━━\u001b[0m\u001b[37m\u001b[0m \u001b[1m0s\u001b[0m 2ms/step - loss: 56.0645 - mean_absolute_error: 3.6517 - val_loss: 49.7745 - val_mean_absolute_error: 3.4223\n",
      "Epoch 17/300\n",
      "\u001b[1m165/165\u001b[0m \u001b[32m━━━━━━━━━━━━━━━━━━━━\u001b[0m\u001b[37m\u001b[0m \u001b[1m0s\u001b[0m 2ms/step - loss: 55.2927 - mean_absolute_error: 3.6299 - val_loss: 51.6428 - val_mean_absolute_error: 3.6373\n",
      "Epoch 18/300\n",
      "\u001b[1m165/165\u001b[0m \u001b[32m━━━━━━━━━━━━━━━━━━━━\u001b[0m\u001b[37m\u001b[0m \u001b[1m0s\u001b[0m 2ms/step - loss: 55.9458 - mean_absolute_error: 3.6495 - val_loss: 58.6497 - val_mean_absolute_error: 3.8176\n",
      "Epoch 19/300\n",
      "\u001b[1m165/165\u001b[0m \u001b[32m━━━━━━━━━━━━━━━━━━━━\u001b[0m\u001b[37m\u001b[0m \u001b[1m0s\u001b[0m 2ms/step - loss: 55.0952 - mean_absolute_error: 3.5957 - val_loss: 48.1027 - val_mean_absolute_error: 3.3396\n",
      "Epoch 20/300\n",
      "\u001b[1m165/165\u001b[0m \u001b[32m━━━━━━━━━━━━━━━━━━━━\u001b[0m\u001b[37m\u001b[0m \u001b[1m0s\u001b[0m 2ms/step - loss: 53.7088 - mean_absolute_error: 3.5571 - val_loss: 54.7983 - val_mean_absolute_error: 3.6787\n",
      "Epoch 21/300\n",
      "\u001b[1m165/165\u001b[0m \u001b[32m━━━━━━━━━━━━━━━━━━━━\u001b[0m\u001b[37m\u001b[0m \u001b[1m0s\u001b[0m 2ms/step - loss: 53.6847 - mean_absolute_error: 3.5743 - val_loss: 72.2941 - val_mean_absolute_error: 4.4418\n",
      "Epoch 22/300\n",
      "\u001b[1m165/165\u001b[0m \u001b[32m━━━━━━━━━━━━━━━━━━━━\u001b[0m\u001b[37m\u001b[0m \u001b[1m0s\u001b[0m 1ms/step - loss: 53.5915 - mean_absolute_error: 3.5647 - val_loss: 59.0215 - val_mean_absolute_error: 3.8681\n",
      "Epoch 23/300\n",
      "\u001b[1m165/165\u001b[0m \u001b[32m━━━━━━━━━━━━━━━━━━━━\u001b[0m\u001b[37m\u001b[0m \u001b[1m0s\u001b[0m 1ms/step - loss: 53.4933 - mean_absolute_error: 3.5364 - val_loss: 57.4165 - val_mean_absolute_error: 3.8850\n",
      "Epoch 24/300\n",
      "\u001b[1m165/165\u001b[0m \u001b[32m━━━━━━━━━━━━━━━━━━━━\u001b[0m\u001b[37m\u001b[0m \u001b[1m0s\u001b[0m 2ms/step - loss: 52.8577 - mean_absolute_error: 3.5210 - val_loss: 61.2752 - val_mean_absolute_error: 3.8942\n",
      "Epoch 25/300\n",
      "\u001b[1m165/165\u001b[0m \u001b[32m━━━━━━━━━━━━━━━━━━━━\u001b[0m\u001b[37m\u001b[0m \u001b[1m0s\u001b[0m 2ms/step - loss: 52.5481 - mean_absolute_error: 3.5058 - val_loss: 52.3448 - val_mean_absolute_error: 3.5307\n",
      "Epoch 26/300\n",
      "\u001b[1m165/165\u001b[0m \u001b[32m━━━━━━━━━━━━━━━━━━━━\u001b[0m\u001b[37m\u001b[0m \u001b[1m0s\u001b[0m 1ms/step - loss: 52.7962 - mean_absolute_error: 3.5198 - val_loss: 58.2604 - val_mean_absolute_error: 3.8171\n",
      "Epoch 27/300\n",
      "\u001b[1m165/165\u001b[0m \u001b[32m━━━━━━━━━━━━━━━━━━━━\u001b[0m\u001b[37m\u001b[0m \u001b[1m0s\u001b[0m 2ms/step - loss: 51.6036 - mean_absolute_error: 3.4727 - val_loss: 63.4204 - val_mean_absolute_error: 4.0669\n",
      "Epoch 28/300\n",
      "\u001b[1m165/165\u001b[0m \u001b[32m━━━━━━━━━━━━━━━━━━━━\u001b[0m\u001b[37m\u001b[0m \u001b[1m0s\u001b[0m 2ms/step - loss: 51.4581 - mean_absolute_error: 3.4750 - val_loss: 49.6894 - val_mean_absolute_error: 3.4836\n",
      "Epoch 29/300\n",
      "\u001b[1m165/165\u001b[0m \u001b[32m━━━━━━━━━━━━━━━━━━━━\u001b[0m\u001b[37m\u001b[0m \u001b[1m0s\u001b[0m 2ms/step - loss: 50.5794 - mean_absolute_error: 3.4380 - val_loss: 68.0961 - val_mean_absolute_error: 4.2766\n"
     ]
    }
   ],
   "source": [
    "early_stop = EarlyStopping(monitor='val_loss', patience=20, restore_best_weights=True)\n",
    "\n",
    "# Train the model\n",
    "history = model.fit(X_train, y_train, validation_data=(X_val, y_val),\n",
    "        epochs=300,batch_size = 128,callbacks=[early_stop], verbose=1)"
   ]
  },
  {
   "cell_type": "code",
   "execution_count": 21,
   "metadata": {},
   "outputs": [
    {
     "data": {
      "text/plain": [
       "<matplotlib.legend.Legend at 0x24226c86c80>"
      ]
     },
     "execution_count": 21,
     "metadata": {},
     "output_type": "execute_result"
    },
    {
     "data": {
      "image/png": "[encoded data removed]",
      "text/plain": [
       "<Figure size 1500x800 with 1 Axes>"
      ]
     },
     "metadata": {},
     "output_type": "display_data"
    },
    {
     "data": {
      "image/png": "[encoded data removed]",
      "text/plain": [
       "<Figure size 1500x800 with 1 Axes>"
      ]
     },
     "metadata": {},
     "output_type": "display_data"
    }
   ],
   "source": [
    "fig, ax = plt.subplots(figsize=(15, 8))\n",
    "ax.plot(history.history['loss'], label='Training MSE', color='orange', linewidth=2, markersize=6)\n",
    "ax.plot(history.history['val_loss'], label='Validation MSE', color='blue', linewidth=2, markersize=6)\n",
    "ax.set_title('MSE (loss)')\n",
    "ax.set_xlabel('Epoch')\n",
    "ax.set_ylabel('MSE')\n",
    "ax.legend()\n",
    "\n",
    "fig, ax = plt.subplots(figsize=(15, 8))\n",
    "ax.plot(history.history['mean_absolute_error'], label='Training MAE', color='orange', linewidth=2, markersize=6)\n",
    "ax.plot(history.history['val_mean_absolute_error'], label='Validation MAE', color='blue', linewidth=2, markersize=6)\n",
    "ax.set_title('MAE')\n",
    "ax.set_xlabel('Epoch')\n",
    "ax.set_ylabel('MAE')\n",
    "ax.legend()"
   ]
  },
  {
   "cell_type": "code",
   "execution_count": 22,
   "metadata": {},
   "outputs": [],
   "source": [
    "# MAE is 2.4 Kwh is kind of acceptable, which means the model can monitor energy consumption.\n",
    "# Model does not overfit."
   ]
  },
  {
   "cell_type": "code",
   "execution_count": 23,
   "metadata": {},
   "outputs": [
    {
     "name": "stdout",
     "output_type": "stream",
     "text": [
      "\u001b[1m83/83\u001b[0m \u001b[32m━━━━━━━━━━━━━━━━━━━━\u001b[0m\u001b[37m\u001b[0m \u001b[1m0s\u001b[0m 1ms/step  \n"
     ]
    }
   ],
   "source": [
    "# Making predictions:\n",
    "y_pred = model.predict(X_test)\n",
    "# Calculate metrics\n",
    "mse = mean_squared_error(y_test, y_pred)\n",
    "rmse = np.sqrt(mse)\n",
    "mae = mean_absolute_error(y_test, y_pred)\n",
    "r2 = r2_score(y_test, y_pred)"
   ]
  },
  {
   "cell_type": "code",
   "execution_count": 24,
   "metadata": {},
   "outputs": [
    {
     "name": "stdout",
     "output_type": "stream",
     "text": [
      "Metrics:\n",
      "MSE: 52.5523\n",
      "RMSE: 7.2493\n",
      "MAE: 4.0393\n",
      "R²: 0.9092\n"
     ]
    }
   ],
   "source": [
    "metrics = {'MSE': mse,'RMSE': rmse,'MAE': mae,'R²': r2}\n",
    "print(\"Metrics:\")\n",
    "for metric, value in metrics.items():\n",
    "    print(f\"{metric}: {value:.4f}\")"
   ]
  },
  {
   "cell_type": "code",
   "execution_count": 25,
   "metadata": {},
   "outputs": [],
   "source": [
    "# It seems that the model is trained well.\n",
    "# R2 shows that the model explains 97.4 % of the variance in energy usage.\n",
    "# MAE is 1.91 kWh, the model predicts by average 1.91 kWh error."
   ]
  },
  {
   "cell_type": "code",
   "execution_count": 26,
   "metadata": {},
   "outputs": [
    {
     "data": {
      "image/png": "[encoded data removed]",
      "text/plain": [
       "<Figure size 800x600 with 1 Axes>"
      ]
     },
     "metadata": {},
     "output_type": "display_data"
    }
   ],
   "source": [
    "sns.set_style(\"whitegrid\")\n",
    "plt.figure(figsize=(8, 6))\n",
    "sns.scatterplot(x=y_test, y=y_pred.flatten(), alpha=0.6)\n",
    "plt.plot([y_test.min(), y_test.max()], [y_test.min(), y_test.max()], 'r--', lw=2)\n",
    "plt.xlabel('Actual Usage_kWh')\n",
    "plt.ylabel('Predicted Usage_kWh')\n",
    "plt.title('Predictions vs Actual')\n",
    "plt.tight_layout()\n",
    "plt.show()"
   ]
  },
  {
   "cell_type": "markdown",
   "metadata": {},
   "source": [
    "<center><h2>Hyperparameter Tuning the ANN Model<h2></center>"
   ]
  },
  {
   "cell_type": "code",
   "execution_count": 27,
   "metadata": {},
   "outputs": [
    {
     "name": "stdout",
     "output_type": "stream",
     "text": [
      "Reloading Tuner from tuner_results\\steel_energy\\tuner0.json\n"
     ]
    }
   ],
   "source": [
    "# After defining the model architecture and I picked the hyperameter manually.\n",
    "# Now I am going to use Keras Tuner to find the best hyperparameters for my model.\n",
    "# There are many algorithms for searching hyperparameters, Grid Search, Random Search, and Bayesian Optimization \n",
    "# I will use Bayesian Optimization, it uses past trail results to choose the next hyperparams\n",
    "\n",
    "def ann_model(hp):\n",
    "    model = Sequential()\n",
    "    # Here I will define number of layers and neurons\n",
    "    # 2-4 Hidden layers and 16 - 256 neurons\n",
    "    for i in range(hp.Int('num_layers', 2, 4)):\n",
    "        model.add(layers.Dense(units = hp.Int(f'layers_{i}', min_value=16, max_value=256, step=16),\n",
    "                               activation = hp.Choice('activation', values=['relu', 'tanh'])))\n",
    "        \n",
    "        # let's tune dropout \n",
    "        model.add(Dropout(rate=hp.Float(f'dropout_{i}', min_value=0.1, max_value=0.5, step=0.1)))\n",
    "\n",
    "    # Output layer (outside the loop)\n",
    "    model.add(layers.Dense(units=1))\n",
    "\n",
    "    \n",
    "    # Tuning Optimizer and learning rate \n",
    "    learning_rate_tune = hp.Float('learning_rate', 1e-4, 1e-2, sampling='LOG')\n",
    "    # The tuner will try each one to see which works best for energy DS\n",
    "    optimizer_tune = hp.Choice('optimizer', values=['adam', 'rmsprop', 'sgd'])\n",
    "   # Since each optimizer handles learning rates differently, I need to set the learning rate for each one\n",
    "    if optimizer_tune == 'adam':\n",
    "        optimizer = Adam(learning_rate=learning_rate_tune)\n",
    "    # RMSprop adjusts it based on recent gradients\n",
    "    elif optimizer_tune == 'rmsprop':\n",
    "        optimizer = RMSprop(learning_rate=learning_rate_tune)\n",
    "    else:\n",
    "        optimizer = SGD(learning_rate=learning_rate_tune)\n",
    "    # Compiling the Model\n",
    "    model.compile(optimizer=optimizer, loss='mean_squared_error', metrics=['mae'])\n",
    "    return model\n",
    "\n",
    "\n",
    "\n",
    "# Searching \n",
    "tuner = kt.BayesianOptimization(\n",
    "    ann_model,\n",
    "    objective='val_loss',\n",
    "    max_trials=20, \n",
    "    directory='tuner_results',\n",
    "    project_name='steel_energy')\n",
    "\n",
    "# Searching for best hyperparameters\n",
    "tuner.search(\n",
    "    X_train, y_train,\n",
    "    epochs=50,\n",
    "    validation_data=(X_val, y_val),\n",
    "    callbacks=[keras.callbacks.EarlyStopping(patience=5)],\n",
    "    verbose=1\n",
    ")\n",
    "\n",
    "# Getting best model and hyperparameters:\n",
    "# Finding the one with the lowest validation loss\n",
    "best_hyperparameters = tuner.get_best_hyperparameters(num_trials=1)[0]\n",
    "best_model = tuner.hypermodel.build(best_hyperparameters)"
   ]
  },
  {
   "cell_type": "code",
   "execution_count": 28,
   "metadata": {},
   "outputs": [
    {
     "data": {
      "application/vnd.microsoft.datawrangler.viewer.v0+json": {
       "columns": [
        {
         "name": "index",
         "rawType": "int64",
         "type": "integer"
        },
        {
         "name": "index",
         "rawType": "object",
         "type": "string"
        },
        {
         "name": "0",
         "rawType": "object",
         "type": "unknown"
        }
       ],
       "ref": "94752958-e404-4865-8cab-75ce9d522df7",
       "rows": [
        [
         "0",
         "num_layers",
         "2"
        ],
        [
         "1",
         "layers_0",
         "256"
        ],
        [
         "2",
         "activation",
         "tanh"
        ],
        [
         "3",
         "dropout_0",
         "0.2"
        ],
        [
         "4",
         "layers_1",
         "192"
        ],
        [
         "5",
         "dropout_1",
         "0.1"
        ],
        [
         "6",
         "optimizer",
         "adam"
        ],
        [
         "7",
         "learning_rate",
         "0.00031379448250526605"
        ],
        [
         "8",
         "layers_2",
         "32"
        ],
        [
         "9",
         "dropout_2",
         "0.1"
        ],
        [
         "10",
         "layers_3",
         "48"
        ],
        [
         "11",
         "dropout_3",
         "0.2"
        ]
       ],
       "shape": {
        "columns": 2,
        "rows": 12
       }
      },
      "text/html": [
       "<div>\n",
       "<style scoped>\n",
       "    .dataframe tbody tr th:only-of-type {\n",
       "        vertical-align: middle;\n",
       "    }\n",
       "\n",
       "    .dataframe tbody tr th {\n",
       "        vertical-align: top;\n",
       "    }\n",
       "\n",
       "    .dataframe thead th {\n",
       "        text-align: right;\n",
       "    }\n",
       "</style>\n",
       "<table border=\"1\" class=\"dataframe\">\n",
       "  <thead>\n",
       "    <tr style=\"text-align: right;\">\n",
       "      <th></th>\n",
       "      <th>index</th>\n",
       "      <th>0</th>\n",
       "    </tr>\n",
       "  </thead>\n",
       "  <tbody>\n",
       "    <tr>\n",
       "      <th>0</th>\n",
       "      <td>num_layers</td>\n",
       "      <td>2</td>\n",
       "    </tr>\n",
       "    <tr>\n",
       "      <th>1</th>\n",
       "      <td>layers_0</td>\n",
       "      <td>256</td>\n",
       "    </tr>\n",
       "    <tr>\n",
       "      <th>2</th>\n",
       "      <td>activation</td>\n",
       "      <td>tanh</td>\n",
       "    </tr>\n",
       "    <tr>\n",
       "      <th>3</th>\n",
       "      <td>dropout_0</td>\n",
       "      <td>0.2</td>\n",
       "    </tr>\n",
       "    <tr>\n",
       "      <th>4</th>\n",
       "      <td>layers_1</td>\n",
       "      <td>192</td>\n",
       "    </tr>\n",
       "    <tr>\n",
       "      <th>5</th>\n",
       "      <td>dropout_1</td>\n",
       "      <td>0.1</td>\n",
       "    </tr>\n",
       "    <tr>\n",
       "      <th>6</th>\n",
       "      <td>optimizer</td>\n",
       "      <td>adam</td>\n",
       "    </tr>\n",
       "    <tr>\n",
       "      <th>7</th>\n",
       "      <td>learning_rate</td>\n",
       "      <td>0.000314</td>\n",
       "    </tr>\n",
       "    <tr>\n",
       "      <th>8</th>\n",
       "      <td>layers_2</td>\n",
       "      <td>32</td>\n",
       "    </tr>\n",
       "    <tr>\n",
       "      <th>9</th>\n",
       "      <td>dropout_2</td>\n",
       "      <td>0.1</td>\n",
       "    </tr>\n",
       "    <tr>\n",
       "      <th>10</th>\n",
       "      <td>layers_3</td>\n",
       "      <td>48</td>\n",
       "    </tr>\n",
       "    <tr>\n",
       "      <th>11</th>\n",
       "      <td>dropout_3</td>\n",
       "      <td>0.2</td>\n",
       "    </tr>\n",
       "  </tbody>\n",
       "</table>\n",
       "</div>"
      ],
      "text/plain": [
       "            index         0\n",
       "0      num_layers         2\n",
       "1        layers_0       256\n",
       "2      activation      tanh\n",
       "3       dropout_0       0.2\n",
       "4        layers_1       192\n",
       "5       dropout_1       0.1\n",
       "6       optimizer      adam\n",
       "7   learning_rate  0.000314\n",
       "8        layers_2        32\n",
       "9       dropout_2       0.1\n",
       "10       layers_3        48\n",
       "11      dropout_3       0.2"
      ]
     },
     "execution_count": 28,
     "metadata": {},
     "output_type": "execute_result"
    }
   ],
   "source": [
    "tuned_params =  best_hyperparameters.values\n",
    "tuned_params = pd.DataFrame.from_dict(tuned_params, orient='index').reset_index()\n",
    "tuned_params"
   ]
  },
  {
   "cell_type": "code",
   "execution_count": 29,
   "metadata": {},
   "outputs": [
    {
     "data": {
      "application/vnd.microsoft.datawrangler.viewer.v0+json": {
       "columns": [
        {
         "name": "index",
         "rawType": "int64",
         "type": "integer"
        },
        {
         "name": "Usage_kWh",
         "rawType": "float64",
         "type": "float"
        },
        {
         "name": "Lagging_Current_Reactive.Power_kVarh",
         "rawType": "float64",
         "type": "float"
        },
        {
         "name": "Leading_Current_Reactive_Power_kVarh",
         "rawType": "float64",
         "type": "float"
        },
        {
         "name": "month",
         "rawType": "int64",
         "type": "integer"
        },
        {
         "name": "hour",
         "rawType": "int64",
         "type": "integer"
        },
        {
         "name": "Load_Type_Maximum_Load",
         "rawType": "int64",
         "type": "integer"
        },
        {
         "name": "Load_Type_Medium_Load",
         "rawType": "int64",
         "type": "integer"
        }
       ],
       "ref": "97350851-5716-49da-85f6-ece2654504b7",
       "rows": [
        [
         "0",
         "3.17",
         "2.95",
         "0.0",
         "1",
         "0",
         "0",
         "0"
        ],
        [
         "1",
         "4.0",
         "4.46",
         "0.0",
         "1",
         "0",
         "0",
         "0"
        ]
       ],
       "shape": {
        "columns": 7,
        "rows": 2
       }
      },
      "text/html": [
       "<div>\n",
       "<style scoped>\n",
       "    .dataframe tbody tr th:only-of-type {\n",
       "        vertical-align: middle;\n",
       "    }\n",
       "\n",
       "    .dataframe tbody tr th {\n",
       "        vertical-align: top;\n",
       "    }\n",
       "\n",
       "    .dataframe thead th {\n",
       "        text-align: right;\n",
       "    }\n",
       "</style>\n",
       "<table border=\"1\" class=\"dataframe\">\n",
       "  <thead>\n",
       "    <tr style=\"text-align: right;\">\n",
       "      <th></th>\n",
       "      <th>Usage_kWh</th>\n",
       "      <th>Lagging_Current_Reactive.Power_kVarh</th>\n",
       "      <th>Leading_Current_Reactive_Power_kVarh</th>\n",
       "      <th>month</th>\n",
       "      <th>hour</th>\n",
       "      <th>Load_Type_Maximum_Load</th>\n",
       "      <th>Load_Type_Medium_Load</th>\n",
       "    </tr>\n",
       "  </thead>\n",
       "  <tbody>\n",
       "    <tr>\n",
       "      <th>0</th>\n",
       "      <td>3.17</td>\n",
       "      <td>2.95</td>\n",
       "      <td>0.0</td>\n",
       "      <td>1</td>\n",
       "      <td>0</td>\n",
       "      <td>0</td>\n",
       "      <td>0</td>\n",
       "    </tr>\n",
       "    <tr>\n",
       "      <th>1</th>\n",
       "      <td>4.00</td>\n",
       "      <td>4.46</td>\n",
       "      <td>0.0</td>\n",
       "      <td>1</td>\n",
       "      <td>0</td>\n",
       "      <td>0</td>\n",
       "      <td>0</td>\n",
       "    </tr>\n",
       "  </tbody>\n",
       "</table>\n",
       "</div>"
      ],
      "text/plain": [
       "   Usage_kWh  Lagging_Current_Reactive.Power_kVarh  \\\n",
       "0       3.17                                  2.95   \n",
       "1       4.00                                  4.46   \n",
       "\n",
       "   Leading_Current_Reactive_Power_kVarh  month  hour  Load_Type_Maximum_Load  \\\n",
       "0                                   0.0      1     0                       0   \n",
       "1                                   0.0      1     0                       0   \n",
       "\n",
       "   Load_Type_Medium_Load  \n",
       "0                      0  \n",
       "1                      0  "
      ]
     },
     "execution_count": 29,
     "metadata": {},
     "output_type": "execute_result"
    }
   ],
   "source": [
    "df.head(2)"
   ]
  },
  {
   "cell_type": "code",
   "execution_count": 31,
   "metadata": {},
   "outputs": [
    {
     "name": "stdout",
     "output_type": "stream",
     "text": [
      "\u001b[1m1/1\u001b[0m \u001b[32m━━━━━━━━━━━━━━━━━━━━\u001b[0m\u001b[37m\u001b[0m \u001b[1m0s\u001b[0m 28ms/step\n",
      "Predicted Usage_kWh: 4.46 kWh\n"
     ]
    }
   ],
   "source": [
    "# Testing the model with new data\n",
    "new_data = {\n",
    "    'Lagging_Current_Reactive.Power_kVarh': 2.95,\n",
    "    'Leading_Current_Reactive_Power_kVarh': 0,\n",
    "    'month': 1,\n",
    "    'hour': 0,\n",
    "    'Load_Type_Maximum_Load': 0,\n",
    "    'Load_Type_Medium_Load': 0,\n",
    "}\n",
    "\n",
    "new_data_df = pd.DataFrame([new_data])\n",
    "# Scaling the new data\n",
    "new_data_scaled = scaler.transform(new_data_df.values)\n",
    "# Making prediction\n",
    "predicted_usage = model.predict(new_data_scaled)\n",
    "print(f\"Predicted Usage_kWh: {predicted_usage[0][0]:.2f} kWh\")"
   ]
  }
 ],
 "metadata": {
  "kernelspec": {
   "display_name": ".venv",
   "language": "python",
   "name": "python3"
  },
  "language_info": {
   "codemirror_mode": {
    "name": "ipython",
    "version": 3
   },
   "file_extension": ".py",
   "mimetype": "text/x-python",
   "name": "python",
   "nbconvert_exporter": "python",
   "pygments_lexer": "ipython3",
   "version": "3.10.11"
  }
 },
 "nbformat": 4,
 "nbformat_minor": 2
}

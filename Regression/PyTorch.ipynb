{
 "cells": [
  {
   "cell_type": "code",
   "execution_count": 1,
   "id": "ff6c050b",
   "metadata": {},
   "outputs": [],
   "source": [
    "import torch  \n",
    "import torch.nn as nn  \n",
    "import torch.optim as optim  \n",
    "from torch.utils.data import DataLoader, TensorDataset  \n",
    "import torch.nn.functional as F\n",
    "\n",
    "import numpy as np \n",
    "import pandas as pd \n",
    "import seaborn as sns\n",
    "import matplotlib.pyplot as plt\n",
    "\n",
    "from sklearn.preprocessing import RobustScaler \n",
    "from sklearn.metrics import mean_absolute_error, mean_squared_error, r2_score  \n",
    "from sklearn.compose import ColumnTransformer"
   ]
  },
  {
   "cell_type": "code",
   "execution_count": 2,
   "id": "c88020ec",
   "metadata": {},
   "outputs": [],
   "source": [
    "# I imported nn optim and DataLoader batches data for training \n",
    "# PyTorch does not bundle everything like keras."
   ]
  },
  {
   "cell_type": "code",
   "execution_count": 3,
   "id": "0c88ceab",
   "metadata": {},
   "outputs": [
    {
     "name": "stdout",
     "output_type": "stream",
     "text": [
      "Using device: cpu\n"
     ]
    }
   ],
   "source": [
    "device = torch.device(\"cuda\" if torch.cuda.is_available() else \"cpu\")\n",
    "print(f\"Using device: {device}\")"
   ]
  },
  {
   "cell_type": "code",
   "execution_count": 4,
   "id": "625fda7c",
   "metadata": {},
   "outputs": [
    {
     "data": {
      "text/plain": [
       "<torch._C.Generator at 0x1ffc800ab10>"
      ]
     },
     "execution_count": 4,
     "metadata": {},
     "output_type": "execute_result"
    }
   ],
   "source": [
    "# Setting up random seed for consistent results\n",
    "torch.manual_seed(42)"
   ]
  },
  {
   "cell_type": "code",
   "execution_count": 5,
   "id": "3e24bdfe",
   "metadata": {},
   "outputs": [
    {
     "data": {
      "application/vnd.microsoft.datawrangler.viewer.v0+json": {
       "columns": [
        {
         "name": "index",
         "rawType": "int64",
         "type": "integer"
        },
        {
         "name": "Usage_kWh",
         "rawType": "float64",
         "type": "float"
        },
        {
         "name": "Lagging_Current_Reactive.Power_kVarh",
         "rawType": "float64",
         "type": "float"
        },
        {
         "name": "Leading_Current_Reactive_Power_kVarh",
         "rawType": "float64",
         "type": "float"
        },
        {
         "name": "month",
         "rawType": "int64",
         "type": "integer"
        },
        {
         "name": "hour",
         "rawType": "int64",
         "type": "integer"
        },
        {
         "name": "Load_Type_Maximum_Load",
         "rawType": "int64",
         "type": "integer"
        },
        {
         "name": "Load_Type_Medium_Load",
         "rawType": "int64",
         "type": "integer"
        }
       ],
       "ref": "250c3dc7-35b8-41a0-843a-8efe3e840663",
       "rows": [
        [
         "0",
         "3.17",
         "2.95",
         "0.0",
         "1",
         "0",
         "0",
         "0"
        ],
        [
         "1",
         "4.0",
         "4.46",
         "0.0",
         "1",
         "0",
         "0",
         "0"
        ],
        [
         "2",
         "3.24",
         "3.28",
         "0.0",
         "1",
         "0",
         "0",
         "0"
        ],
        [
         "3",
         "3.31",
         "3.56",
         "0.0",
         "1",
         "1",
         "0",
         "0"
        ],
        [
         "4",
         "3.82",
         "4.5",
         "0.0",
         "1",
         "1",
         "0",
         "0"
        ],
        [
         "5",
         "3.28",
         "3.56",
         "0.0",
         "1",
         "1",
         "0",
         "0"
        ],
        [
         "6",
         "3.6",
         "4.14",
         "0.0",
         "1",
         "1",
         "0",
         "0"
        ],
        [
         "7",
         "3.6",
         "4.28",
         "0.0",
         "1",
         "2",
         "0",
         "0"
        ],
        [
         "8",
         "3.28",
         "3.64",
         "0.0",
         "1",
         "2",
         "0",
         "0"
        ],
        [
         "9",
         "3.78",
         "4.72",
         "0.0",
         "1",
         "2",
         "0",
         "0"
        ]
       ],
       "shape": {
        "columns": 7,
        "rows": 10
       }
      },
      "text/html": [
       "<div>\n",
       "<style scoped>\n",
       "    .dataframe tbody tr th:only-of-type {\n",
       "        vertical-align: middle;\n",
       "    }\n",
       "\n",
       "    .dataframe tbody tr th {\n",
       "        vertical-align: top;\n",
       "    }\n",
       "\n",
       "    .dataframe thead th {\n",
       "        text-align: right;\n",
       "    }\n",
       "</style>\n",
       "<table border=\"1\" class=\"dataframe\">\n",
       "  <thead>\n",
       "    <tr style=\"text-align: right;\">\n",
       "      <th></th>\n",
       "      <th>Usage_kWh</th>\n",
       "      <th>Lagging_Current_Reactive.Power_kVarh</th>\n",
       "      <th>Leading_Current_Reactive_Power_kVarh</th>\n",
       "      <th>month</th>\n",
       "      <th>hour</th>\n",
       "      <th>Load_Type_Maximum_Load</th>\n",
       "      <th>Load_Type_Medium_Load</th>\n",
       "    </tr>\n",
       "  </thead>\n",
       "  <tbody>\n",
       "    <tr>\n",
       "      <th>0</th>\n",
       "      <td>3.17</td>\n",
       "      <td>2.95</td>\n",
       "      <td>0.0</td>\n",
       "      <td>1</td>\n",
       "      <td>0</td>\n",
       "      <td>0</td>\n",
       "      <td>0</td>\n",
       "    </tr>\n",
       "    <tr>\n",
       "      <th>1</th>\n",
       "      <td>4.00</td>\n",
       "      <td>4.46</td>\n",
       "      <td>0.0</td>\n",
       "      <td>1</td>\n",
       "      <td>0</td>\n",
       "      <td>0</td>\n",
       "      <td>0</td>\n",
       "    </tr>\n",
       "    <tr>\n",
       "      <th>2</th>\n",
       "      <td>3.24</td>\n",
       "      <td>3.28</td>\n",
       "      <td>0.0</td>\n",
       "      <td>1</td>\n",
       "      <td>0</td>\n",
       "      <td>0</td>\n",
       "      <td>0</td>\n",
       "    </tr>\n",
       "    <tr>\n",
       "      <th>3</th>\n",
       "      <td>3.31</td>\n",
       "      <td>3.56</td>\n",
       "      <td>0.0</td>\n",
       "      <td>1</td>\n",
       "      <td>1</td>\n",
       "      <td>0</td>\n",
       "      <td>0</td>\n",
       "    </tr>\n",
       "    <tr>\n",
       "      <th>4</th>\n",
       "      <td>3.82</td>\n",
       "      <td>4.50</td>\n",
       "      <td>0.0</td>\n",
       "      <td>1</td>\n",
       "      <td>1</td>\n",
       "      <td>0</td>\n",
       "      <td>0</td>\n",
       "    </tr>\n",
       "    <tr>\n",
       "      <th>5</th>\n",
       "      <td>3.28</td>\n",
       "      <td>3.56</td>\n",
       "      <td>0.0</td>\n",
       "      <td>1</td>\n",
       "      <td>1</td>\n",
       "      <td>0</td>\n",
       "      <td>0</td>\n",
       "    </tr>\n",
       "    <tr>\n",
       "      <th>6</th>\n",
       "      <td>3.60</td>\n",
       "      <td>4.14</td>\n",
       "      <td>0.0</td>\n",
       "      <td>1</td>\n",
       "      <td>1</td>\n",
       "      <td>0</td>\n",
       "      <td>0</td>\n",
       "    </tr>\n",
       "    <tr>\n",
       "      <th>7</th>\n",
       "      <td>3.60</td>\n",
       "      <td>4.28</td>\n",
       "      <td>0.0</td>\n",
       "      <td>1</td>\n",
       "      <td>2</td>\n",
       "      <td>0</td>\n",
       "      <td>0</td>\n",
       "    </tr>\n",
       "    <tr>\n",
       "      <th>8</th>\n",
       "      <td>3.28</td>\n",
       "      <td>3.64</td>\n",
       "      <td>0.0</td>\n",
       "      <td>1</td>\n",
       "      <td>2</td>\n",
       "      <td>0</td>\n",
       "      <td>0</td>\n",
       "    </tr>\n",
       "    <tr>\n",
       "      <th>9</th>\n",
       "      <td>3.78</td>\n",
       "      <td>4.72</td>\n",
       "      <td>0.0</td>\n",
       "      <td>1</td>\n",
       "      <td>2</td>\n",
       "      <td>0</td>\n",
       "      <td>0</td>\n",
       "    </tr>\n",
       "  </tbody>\n",
       "</table>\n",
       "</div>"
      ],
      "text/plain": [
       "   Usage_kWh  Lagging_Current_Reactive.Power_kVarh  \\\n",
       "0       3.17                                  2.95   \n",
       "1       4.00                                  4.46   \n",
       "2       3.24                                  3.28   \n",
       "3       3.31                                  3.56   \n",
       "4       3.82                                  4.50   \n",
       "5       3.28                                  3.56   \n",
       "6       3.60                                  4.14   \n",
       "7       3.60                                  4.28   \n",
       "8       3.28                                  3.64   \n",
       "9       3.78                                  4.72   \n",
       "\n",
       "   Leading_Current_Reactive_Power_kVarh  month  hour  Load_Type_Maximum_Load  \\\n",
       "0                                   0.0      1     0                       0   \n",
       "1                                   0.0      1     0                       0   \n",
       "2                                   0.0      1     0                       0   \n",
       "3                                   0.0      1     1                       0   \n",
       "4                                   0.0      1     1                       0   \n",
       "5                                   0.0      1     1                       0   \n",
       "6                                   0.0      1     1                       0   \n",
       "7                                   0.0      1     2                       0   \n",
       "8                                   0.0      1     2                       0   \n",
       "9                                   0.0      1     2                       0   \n",
       "\n",
       "   Load_Type_Medium_Load  \n",
       "0                      0  \n",
       "1                      0  \n",
       "2                      0  \n",
       "3                      0  \n",
       "4                      0  \n",
       "5                      0  \n",
       "6                      0  \n",
       "7                      0  \n",
       "8                      0  \n",
       "9                      0  "
      ]
     },
     "execution_count": 5,
     "metadata": {},
     "output_type": "execute_result"
    }
   ],
   "source": [
    "# Load the DS \n",
    "df = pd.read_csv('cleaned_data.csv')\n",
    "df.head(10)"
   ]
  },
  {
   "cell_type": "code",
   "execution_count": 6,
   "id": "41d49a2e",
   "metadata": {},
   "outputs": [
    {
     "data": {
      "text/plain": [
       "(26280, 7)"
      ]
     },
     "execution_count": 6,
     "metadata": {},
     "output_type": "execute_result"
    }
   ],
   "source": [
    "df.shape"
   ]
  },
  {
   "cell_type": "code",
   "execution_count": 7,
   "id": "073595fa",
   "metadata": {},
   "outputs": [],
   "source": [
    "# Since I have done preprocessing already, I need to convert NumPy arrays to tensor, create data loaders for training."
   ]
  },
  {
   "cell_type": "code",
   "execution_count": 8,
   "id": "db1b2adf",
   "metadata": {},
   "outputs": [
    {
     "name": "stdout",
     "output_type": "stream",
     "text": [
      "Shape of training data: (21024, 6) (21024,)\n",
      "Shape of validation data: (2628, 6) (2628,)\n",
      "Shape of test data: (2628, 6) (2628,)\n"
     ]
    }
   ],
   "source": [
    "X = df.drop('Usage_kWh', axis=1)\n",
    "y = df['Usage_kWh']\n",
    "\n",
    "\n",
    "# I can not use random splitting, because the DS is time series\n",
    "n = len(X)\n",
    "# Calculating where the training data should end\n",
    "train_end = int(n*0.80)\n",
    "# Calculating where the val data should end\n",
    "val_end = train_end + int(n*0.10)  \n",
    "# Taking first 80% of the DS for training\n",
    "X_train, y_train = X.iloc[:train_end], y.iloc[:train_end]\n",
    "# Taking next 10% of the DS for val \n",
    "X_val, y_val = X.iloc[train_end:val_end], y.iloc[train_end:val_end]\n",
    "# Taking last 10% of the DS for test\n",
    "X_test, y_test = X.iloc[val_end:], y.iloc[val_end:]\n",
    "\n",
    "\n",
    "# I dont need to scale time columns because they are already between -1 and 1\n",
    "# So I will use RobustScaler for normal features\n",
    "#time_columns = ['time_minutes_sin', 'time_minutes_cos', 'month_sin', 'month_cos']\n",
    "#normal_features = [col for col in X_train.columns if col not in time_columns]\n",
    "#preprocessor = ColumnTransformer(transformers=[('robust', RobustScaler(),\n",
    "#    normal_features)],remainder='passthrough')\n",
    "\n",
    "#X_train = preprocessor.fit_transform(X_train)\n",
    "#X_val = preprocessor.transform(X_val)\n",
    "#X_test = preprocessor.transform(X_test)\n",
    "scaler = RobustScaler()\n",
    "X_train = scaler.fit_transform(X_train)\n",
    "X_val = scaler.transform(X_val)\n",
    "X_test = scaler.transform(X_test)\n",
    "\n",
    "print('Shape of training data:', X_train.shape, y_train.shape)\n",
    "print('Shape of validation data:', X_val.shape, y_val.shape)\n",
    "print('Shape of test data:', X_test.shape, y_test.shape)"
   ]
  },
  {
   "cell_type": "code",
   "execution_count": 9,
   "id": "8dfe8c91",
   "metadata": {},
   "outputs": [],
   "source": [
    "# Converting NumPy array to torch tensor:\n",
    "# I am going to convert the Numpy arrays to tensor of type float32, for y I will add extra dimension to make it 2D.\n",
    "# because PyTorch expects target tensor to have the same shape as model output, Finally I will pack the tensors into TensorDataset and DataLoader.\n",
    "\n",
    "X_train_tensor = torch.tensor(X_train, dtype=torch.float32)\n",
    "y_train_tensor = torch.tensor(y_train.values, dtype=torch.float32).unsqueeze(1)\n",
    "\n",
    "X_val_tensor = torch.tensor(X_val, dtype=torch.float32)\n",
    "y_val_tensor = torch.tensor(y_val.values, dtype=torch.float32).unsqueeze(1)\n",
    "\n",
    "X_test_tensor = torch.tensor(X_test, dtype=torch.float32)\n",
    "y_test_tensor = torch.tensor(y_test.values, dtype=torch.float32).unsqueeze(1)\n",
    "# I converted the NumPy arrays to torch.tensor with dtype=torch.float32\n",
    "\n",
    "# creating DS object when data is already in tensors:\n",
    "train_dataset = TensorDataset(X_train_tensor, y_train_tensor)\n",
    "val_dataset   = TensorDataset(X_val_tensor, y_val_tensor)\n",
    "test_dataset  = TensorDataset(X_test_tensor, y_test_tensor)\n",
    "\n",
    "# Creating DataLoader for batching\n",
    "batch_size = 128\n",
    "train_loader = DataLoader(train_dataset, batch_size=batch_size , shuffle=True)\n",
    "val_loader   = DataLoader(val_dataset, batch_size=batch_size , shuffle=False)\n",
    "test_loader  = DataLoader(test_dataset, batch_size=batch_size , shuffle=False)\n",
    "\n",
    "# I set shuffle to true for the training loader, so the model can see batches in random order each epochs. \n",
    "# Since time columns are encoded already, shuffling them wont leak data."
   ]
  },
  {
   "cell_type": "markdown",
   "id": "022a631d",
   "metadata": {},
   "source": [
    "<center><h2>Building the ANN Model<h2></center>"
   ]
  },
  {
   "cell_type": "code",
   "execution_count": 10,
   "id": "dd847cf8",
   "metadata": {},
   "outputs": [],
   "source": [
    "# I am going to create ANN in PyTorch, I define fully connected feed-forward network with hidden layers.\n",
    "# Since the target value is continuous, the output has 1 neuron like keras model.\n",
    "# I have 8 input columns, I will start with 5 layers, I will use ReLU to learn non linearity.\n",
    "# Dropout can be helpful for regularization."
   ]
  },
  {
   "cell_type": "code",
   "execution_count": 11,
   "id": "787a0ef4",
   "metadata": {},
   "outputs": [
    {
     "name": "stdout",
     "output_type": "stream",
     "text": [
      "EnergyANN(\n",
      "  (fc1): Linear(in_features=6, out_features=512, bias=False)\n",
      "  (fc2): Linear(in_features=512, out_features=256, bias=False)\n",
      "  (fc3): Linear(in_features=256, out_features=240, bias=False)\n",
      "  (fc4): Linear(in_features=240, out_features=128, bias=False)\n",
      "  (fc5): Linear(in_features=128, out_features=120, bias=False)\n",
      "  (fc6): Linear(in_features=120, out_features=1, bias=False)\n",
      "  (batch_norm1): BatchNorm1d(512, eps=1e-05, momentum=0.1, affine=True, track_running_stats=True)\n",
      "  (batch_norm2): BatchNorm1d(256, eps=1e-05, momentum=0.1, affine=True, track_running_stats=True)\n",
      "  (batch_norm3): BatchNorm1d(240, eps=1e-05, momentum=0.1, affine=True, track_running_stats=True)\n",
      "  (batch_norm4): BatchNorm1d(128, eps=1e-05, momentum=0.1, affine=True, track_running_stats=True)\n",
      "  (batch_norm5): BatchNorm1d(120, eps=1e-05, momentum=0.1, affine=True, track_running_stats=True)\n",
      "  (dropout1): Dropout(p=0.15, inplace=False)\n",
      "  (dropout2): Dropout(p=0.15, inplace=False)\n",
      "  (dropout3): Dropout(p=0.1, inplace=False)\n",
      ")\n"
     ]
    }
   ],
   "source": [
    "class EnergyANN(nn.Module):\n",
    "  def __init__(self):\n",
    "    super(EnergyANN, self).__init__()\n",
    "    \n",
    "    # Layers\n",
    "    # Since the DS is scaled, I wont use bias\n",
    "    self.fc1 = nn.Linear(X_train.shape[1], 512, bias=False)\n",
    "    self.fc2 = nn.Linear(512, 256, bias=False)\n",
    "    self.fc3 = nn.Linear(256, 240, bias=False)\n",
    "    self.fc4 = nn.Linear(240, 128, bias=False)\n",
    "    self.fc5 = nn.Linear(128, 120, bias=False)\n",
    "    self.fc6 = nn.Linear(120, 1, bias=False)\n",
    "\n",
    "    # Batch normalization for smooth training\n",
    "    self.batch_norm1 = nn.BatchNorm1d(512)\n",
    "    self.batch_norm2 = nn.BatchNorm1d(256)\n",
    "    self.batch_norm3 = nn.BatchNorm1d(240)\n",
    "    self.batch_norm4 = nn.BatchNorm1d(128)\n",
    "    self.batch_norm5 = nn.BatchNorm1d(120)\n",
    "\n",
    "    #  dropout layers\n",
    "    self.dropout1 = nn.Dropout(0.15)   \n",
    "    self.dropout2 = nn.Dropout(0.15)\n",
    "    self.dropout3 = nn.Dropout(0.1)\n",
    "    #self.dropout4 = nn.Dropout(0.1)\n",
    "    #self.dropout5 = nn.Dropout(0.05) \n",
    "\n",
    "  def forward(self, x):\n",
    "    x = self.fc1(x); x = self.batch_norm1(x); x = F.relu(x); x = self.dropout1(x)\n",
    "    x = self.fc2(x); x = self.batch_norm2(x); x = F.relu(x); x = self.dropout2(x)\n",
    "    x = self.fc3(x); x = self.batch_norm3(x); x = F.relu(x); x = self.dropout3(x)\n",
    "    x = self.fc4(x); x = self.batch_norm4(x); x = F.relu(x)\n",
    "    x = self.fc5(x); x = self.batch_norm5(x); x = F.relu(x)\n",
    "    x = self.fc6(x)\n",
    "    return x\n",
    "\n",
    "model = EnergyANN().to(device)\n",
    "print(model)\n",
    "\n",
    "# Source: https://machinelearningmastery.com/building-a-regression-model-in-pytorch/\n",
    "# https://medium.com/@hassaanidrees7/mastering-linear-regression-with-pytorch-from-basics-to-implementation-f5e348e036f6"
   ]
  },
  {
   "cell_type": "code",
   "execution_count": 12,
   "id": "92fb417d",
   "metadata": {},
   "outputs": [],
   "source": [
    "# Loss Function and Optimizer algorithm:\n",
    "\n",
    "# Since my target value is continuous, I have two options for the loss function:\n",
    "# MSE and MAE, mse is sensitive to outliers and mae is more robust. But has less smooth gradients.\n",
    "# In keras workflow, I used mse as the loss function for stability and mae as metrics.\n",
    "loss_function = nn.MSELoss()\n",
    "optimizer = optim.Adam(model.parameters(), lr=0.001, weight_decay=0.00005)\n",
    "# Scheduler to read the validation metrics and adjusts the learning rate, if they do not get improved for 10 epochs.\n",
    "scheduler = optim.lr_scheduler.ReduceLROnPlateau(optimizer, mode='min', factor=0.5, patience=7)"
   ]
  },
  {
   "cell_type": "markdown",
   "id": "84bb1a36",
   "metadata": {},
   "source": [
    "<center><h2>Training loop<h2></center>"
   ]
  },
  {
   "cell_type": "code",
   "execution_count": 13,
   "id": "4d7ecdf2",
   "metadata": {},
   "outputs": [
    {
     "name": "stdout",
     "output_type": "stream",
     "text": [
      "Epoch 1/150 - Train Loss: 816.2997 - Val Loss: 484.2118 - Val MAE: 14.3872 - Learning Rate: 0.001000\n",
      "Epoch 2/150 - Train Loss: 155.7946 - Val Loss: 48.0845 - Val MAE: 3.9034 - Learning Rate: 0.001000\n",
      "Epoch 3/150 - Train Loss: 75.7414 - Val Loss: 42.7928 - Val MAE: 3.8590 - Learning Rate: 0.001000\n",
      "Epoch 4/150 - Train Loss: 71.4307 - Val Loss: 50.4851 - Val MAE: 3.4289 - Learning Rate: 0.001000\n",
      "Epoch 5/150 - Train Loss: 70.6047 - Val Loss: 46.5829 - Val MAE: 3.3341 - Learning Rate: 0.001000\n",
      "Epoch 6/150 - Train Loss: 67.8716 - Val Loss: 44.8433 - Val MAE: 3.4338 - Learning Rate: 0.001000\n",
      "Epoch 7/150 - Train Loss: 68.1180 - Val Loss: 49.4886 - Val MAE: 3.4917 - Learning Rate: 0.001000\n",
      "Epoch 8/150 - Train Loss: 65.8675 - Val Loss: 50.0175 - Val MAE: 3.3586 - Learning Rate: 0.001000\n",
      "Epoch 9/150 - Train Loss: 64.6422 - Val Loss: 54.9937 - Val MAE: 3.6334 - Learning Rate: 0.001000\n",
      "Epoch 10/150 - Train Loss: 64.3195 - Val Loss: 54.4889 - Val MAE: 3.7051 - Learning Rate: 0.001000\n",
      "Epoch 11/150 - Train Loss: 64.0393 - Val Loss: 49.0932 - Val MAE: 3.4997 - Learning Rate: 0.001000\n",
      "Epoch 12/150 - Train Loss: 63.0240 - Val Loss: 42.9577 - Val MAE: 3.1938 - Learning Rate: 0.001000\n",
      "Epoch 13/150 - Train Loss: 62.3385 - Val Loss: 49.6411 - Val MAE: 3.3342 - Learning Rate: 0.001000\n",
      "Epoch 14/150 - Train Loss: 62.3315 - Val Loss: 56.1891 - Val MAE: 3.6326 - Learning Rate: 0.001000\n",
      "Epoch 15/150 - Train Loss: 61.2982 - Val Loss: 52.9376 - Val MAE: 3.5958 - Learning Rate: 0.001000\n",
      "Epoch 16/150 - Train Loss: 61.9757 - Val Loss: 49.0708 - Val MAE: 3.4261 - Learning Rate: 0.001000\n",
      "Epoch 17/150 - Train Loss: 60.5899 - Val Loss: 41.8497 - Val MAE: 3.1216 - Learning Rate: 0.001000\n",
      "Epoch 18/150 - Train Loss: 60.9013 - Val Loss: 53.8945 - Val MAE: 3.5520 - Learning Rate: 0.001000\n",
      "Epoch 19/150 - Train Loss: 61.0899 - Val Loss: 51.5778 - Val MAE: 3.6805 - Learning Rate: 0.001000\n",
      "Epoch 20/150 - Train Loss: 60.2048 - Val Loss: 45.1795 - Val MAE: 3.2497 - Learning Rate: 0.001000\n",
      "Epoch 21/150 - Train Loss: 59.9370 - Val Loss: 62.1747 - Val MAE: 3.9831 - Learning Rate: 0.001000\n",
      "Epoch 22/150 - Train Loss: 58.2976 - Val Loss: 57.9391 - Val MAE: 3.7938 - Learning Rate: 0.000500\n",
      "Epoch 23/150 - Train Loss: 59.1682 - Val Loss: 55.8983 - Val MAE: 3.8104 - Learning Rate: 0.000500\n",
      "Epoch 24/150 - Train Loss: 57.9844 - Val Loss: 56.2509 - Val MAE: 3.8317 - Learning Rate: 0.000500\n",
      "Epoch 25/150 - Train Loss: 56.6980 - Val Loss: 49.7489 - Val MAE: 3.4455 - Learning Rate: 0.000500\n",
      "Epoch 26/150 - Train Loss: 57.0858 - Val Loss: 49.1130 - Val MAE: 3.4774 - Learning Rate: 0.000500\n",
      "Epoch 27/150 - Train Loss: 57.3029 - Val Loss: 56.4388 - Val MAE: 3.7818 - Learning Rate: 0.000500\n",
      "Epoch 28/150 - Train Loss: 57.8581 - Val Loss: 45.7826 - Val MAE: 3.2506 - Learning Rate: 0.000500\n",
      "Epoch 29/150 - Train Loss: 57.2974 - Val Loss: 50.1501 - Val MAE: 3.5012 - Learning Rate: 0.000500\n",
      "Epoch 30/150 - Train Loss: 55.1643 - Val Loss: 50.2332 - Val MAE: 3.5163 - Learning Rate: 0.000250\n",
      "Epoch 31/150 - Train Loss: 56.4690 - Val Loss: 55.1141 - Val MAE: 3.7027 - Learning Rate: 0.000250\n",
      "Epoch 32/150 - Train Loss: 55.7470 - Val Loss: 52.3427 - Val MAE: 3.5211 - Learning Rate: 0.000250\n",
      "Epoch 33/150 - Train Loss: 55.3097 - Val Loss: 54.7298 - Val MAE: 3.7197 - Learning Rate: 0.000250\n",
      "Epoch 34/150 - Train Loss: 55.8846 - Val Loss: 49.3996 - Val MAE: 3.5041 - Learning Rate: 0.000250\n",
      "Epoch 35/150 - Train Loss: 55.2676 - Val Loss: 57.3350 - Val MAE: 3.8938 - Learning Rate: 0.000250\n",
      "Epoch 36/150 - Train Loss: 55.5830 - Val Loss: 51.5500 - Val MAE: 3.5299 - Learning Rate: 0.000250\n",
      "Epoch 37/150 - Train Loss: 55.1578 - Val Loss: 52.3619 - Val MAE: 3.6197 - Learning Rate: 0.000250\n",
      "Epoch 38/150 - Train Loss: 54.6973 - Val Loss: 55.7791 - Val MAE: 3.7240 - Learning Rate: 0.000125\n",
      "Epoch 39/150 - Train Loss: 54.7001 - Val Loss: 53.0300 - Val MAE: 3.6365 - Learning Rate: 0.000125\n",
      "Epoch 40/150 - Train Loss: 54.9558 - Val Loss: 58.0072 - Val MAE: 3.8305 - Learning Rate: 0.000125\n",
      "Epoch 41/150 - Train Loss: 54.5071 - Val Loss: 51.1269 - Val MAE: 3.4706 - Learning Rate: 0.000125\n",
      "Epoch 42/150 - Train Loss: 54.9869 - Val Loss: 54.2555 - Val MAE: 3.6980 - Learning Rate: 0.000125\n",
      "Epoch 43/150 - Train Loss: 54.8445 - Val Loss: 48.4845 - Val MAE: 3.3829 - Learning Rate: 0.000125\n",
      "Epoch 44/150 - Train Loss: 54.2559 - Val Loss: 57.9990 - Val MAE: 3.8150 - Learning Rate: 0.000125\n",
      "Epoch 45/150 - Train Loss: 53.9056 - Val Loss: 51.2400 - Val MAE: 3.5171 - Learning Rate: 0.000125\n",
      "Epoch 46/150 - Train Loss: 54.5031 - Val Loss: 47.8011 - Val MAE: 3.3542 - Learning Rate: 0.000063\n",
      "Epoch 47/150 - Train Loss: 53.7328 - Val Loss: 48.2493 - Val MAE: 3.3285 - Learning Rate: 0.000063\n",
      "Early stopping\n"
     ]
    }
   ],
   "source": [
    "# In this step, I will define the training loop for the model.\n",
    "# Training loop goes over epochs and batches, computing the loss and updating weights by backpropagation.\n",
    "# In keras I did not need to do this manually.\n",
    "\n",
    "# For monitoring the training process, I will define dictionary.\n",
    "history = {'train_loss': [], 'val_loss': [], 'val_mae': [], 'learning_rate': []}\n",
    "\n",
    "\n",
    "best_val_loss = float('inf')\n",
    "early_stopping = 30\n",
    "counter = 0\n",
    "epochs = 150\n",
    "\n",
    "# Training loop\n",
    "for epoch in range(1, epochs + 1):\n",
    "    model.train()\n",
    "    train_loss_sum = 0.0\n",
    "\n",
    "    for X_batch, y_batch in train_loader:\n",
    "        # Moving batches to the device\n",
    "        X_batch, y_batch = X_batch.to(device), y_batch.to(device)\n",
    "        # I should clear old gradient\n",
    "        optimizer.zero_grad()\n",
    "        # Forward pass:\n",
    "        y_pred = model(X_batch)\n",
    "        # Calculating loss \n",
    "        loss = loss_function(y_pred, y_batch)\n",
    "        # computing  gradients for this batch\n",
    "        loss.backward()\n",
    "        # Updating weights using the gradients from loss.backward()\n",
    "        optimizer.step()\n",
    "        # Converting the average to total error in batches\n",
    "        # The DS has 26 280 rows and the batches size is 128 \n",
    "        # 26 280 / 128 = 205 complete batches plus a mini baches.\n",
    "        train_loss_sum += loss.item() * X_batch.size(0) \n",
    "    train_loss = train_loss_sum / len(train_dataset)\n",
    "    history['train_loss'].append(train_loss)\n",
    "\n",
    "    # Evaluation:\n",
    "    model.eval()\n",
    "    val_mae_sum = 0.0\n",
    "    val_loss_sum = 0.0\n",
    "    \n",
    "    with torch.no_grad():\n",
    "        for X_batch, y_batch in val_loader:\n",
    "            X_batch, y_batch = X_batch.to(device), y_batch.to(device)\n",
    "            y_pred = model(X_batch)\n",
    "            loss = loss_function(y_pred, y_batch)\n",
    "            # I accumulate val_loss and val_mae \n",
    "            val_loss_sum += loss.item()*X_batch.size(0)\n",
    "            # I will divide by total samples later to get mae \n",
    "            val_mae_sum += torch.sum(torch.abs(y_pred - y_batch)).item()\n",
    "\n",
    "    # Calculating mse loss and mae\n",
    "    val_loss = val_loss_sum / len(val_dataset)\n",
    "    val_mae = val_mae_sum / len(val_dataset)\n",
    "\n",
    "    history['val_loss'].append(val_loss)\n",
    "    history['val_mae'].append(val_mae)\n",
    "    history['learning_rate'].append(optimizer.param_groups[0]['lr'])\n",
    "    \n",
    "    # Print epoch results\n",
    "    print(f\"Epoch {epoch}/{epochs} - \"f\"Train Loss: {train_loss:.4f} - \"\n",
    "          f\"Val Loss: {val_loss:.4f} - \" f\"Val MAE: {val_mae:.4f} - \"\n",
    "          f\"Learning Rate: {optimizer.param_groups[0]['lr']:.6f}\")\n",
    "    \n",
    "    # Early stop:\n",
    "    if val_loss < best_val_loss:\n",
    "        best_val_loss = val_loss\n",
    "        best_model = model.state_dict()\n",
    "        counter = 0\n",
    "       \n",
    "    else:\n",
    "        counter += 1\n",
    "        scheduler.step(val_loss)\n",
    "        if counter >= early_stopping:\n",
    "            print(\"Early stopping\")\n",
    "            break\n",
    "\n",
    "if best_model: \n",
    "    model.load_state_dict(best_model)\n",
    "\n",
    "# Source: https://matrixtrak.com/pytorch-training-workflow-best-practices-for-efficient-model-development/"
   ]
  },
  {
   "cell_type": "code",
   "execution_count": 14,
   "id": "b7973bbc",
   "metadata": {},
   "outputs": [
    {
     "data": {
      "image/png": "[encoded data removed]",
      "text/plain": [
       "<Figure size 1500x400 with 3 Axes>"
      ]
     },
     "metadata": {},
     "output_type": "display_data"
    }
   ],
   "source": [
    "fig, (ax1, ax2, ax3) = plt.subplots(1, 3, figsize=(15, 4))\n",
    "\n",
    "# MSE\n",
    "ax1.plot(history['train_loss'], label='Training Loss')\n",
    "ax1.plot(history['val_loss'], label='Validation Loss')\n",
    "ax1.set_xlabel('Epoch')\n",
    "ax1.set_ylabel('Loss')\n",
    "ax1.set_title('Training and Validation Loss')\n",
    "ax1.legend()\n",
    "ax1.grid(True)\n",
    "\n",
    "# Learning rate\n",
    "ax2.plot(history['learning_rate'])\n",
    "ax2.set_xlabel('Epoch')\n",
    "ax2.set_ylabel('Learning Rate')\n",
    "ax2.set_title('Learning Rate Schedule')\n",
    "ax2.grid(True)\n",
    "\n",
    "# MAE\n",
    "ax3.plot(history['val_mae'])\n",
    "ax3.set_xlabel('Epoch')\n",
    "ax3.set_ylabel('Validation MAE')\n",
    "ax3.set_title('MAE')\n",
    "ax3.grid(True)\n",
    "\n",
    "plt.tight_layout()\n",
    "plt.show()"
   ]
  },
  {
   "cell_type": "code",
   "execution_count": 15,
   "id": "7fd06ece",
   "metadata": {},
   "outputs": [
    {
     "name": "stdout",
     "output_type": "stream",
     "text": [
      "Test MAE = 4.5135\n",
      "Test MSE = 66.0810\n",
      "Test RMSE = 8.1290\n",
      "Test R2 Score = 0.8858\n"
     ]
    }
   ],
   "source": [
    "model.eval()\n",
    "test_mae = 0.0\n",
    "test_mse = 0.0\n",
    "predictions = []\n",
    "targets = []\n",
    "\n",
    "with torch.no_grad():\n",
    "    for X_batch, y_batch in test_loader:\n",
    "        X_batch = X_batch.to(device)\n",
    "        y_batch = y_batch.to(device)\n",
    "        y_pred = model(X_batch)\n",
    "        \n",
    "        # Collecting mae and mse \n",
    "        test_mae += torch.sum(torch.abs(y_pred - y_batch)).item()\n",
    "        test_mse += torch.sum((y_pred - y_batch) ** 2).item()\n",
    "        # Collecting arrays for R2\n",
    "        predictions.extend(y_pred.cpu().numpy().flatten())\n",
    "        targets.extend(y_batch.cpu().numpy().flatten())\n",
    "\n",
    "test_mae /= len(test_dataset)\n",
    "test_mse /= len(test_dataset)\n",
    "test_rmse = np.sqrt(test_mse)\n",
    "\n",
    "# Calculating R2 \n",
    "test_r2 = r2_score(targets, predictions)\n",
    "\n",
    "print(f\"Test MAE = {test_mae:.4f}\")\n",
    "print(f\"Test MSE = {test_mse:.4f}\")\n",
    "print(f\"Test RMSE = {test_rmse:.4f}\")\n",
    "print(f\"Test R2 Score = {test_r2:.4f}\")"
   ]
  },
  {
   "cell_type": "code",
   "execution_count": 16,
   "id": "265557ba",
   "metadata": {},
   "outputs": [
    {
     "name": "stdout",
     "output_type": "stream",
     "text": [
      "Predicted vs Actual:\n",
      "2.78 vs 3.78\n",
      "2.74 vs 4.64\n",
      "2.77 vs 4.18\n",
      "2.78 vs 3.67\n",
      "2.78 vs 3.67\n",
      "2.78 vs 3.60\n",
      "2.78 vs 3.64\n",
      "2.76 vs 3.67\n",
      "2.73 vs 3.20\n",
      "2.73 vs 3.06\n",
      "2.72 vs 3.02\n",
      "2.68 vs 3.02\n"
     ]
    }
   ],
   "source": [
    "# predictions\n",
    "examples = 12\n",
    "X_sample = X_test_tensor[:examples].to(device)\n",
    "y_sample = y_test_tensor[:examples]\n",
    "preds = model(X_sample)\n",
    "print(\"Predicted vs Actual:\")\n",
    "for pred, true in zip(preds.cpu().flatten(), y_sample.flatten()):\n",
    "    print(f\"{pred.item():.2f} vs {true.item():.2f}\")\n"
   ]
  },
  {
   "cell_type": "code",
   "execution_count": null,
   "id": "66c3aad9",
   "metadata": {},
   "outputs": [
    {
     "data": {
      "image/png": "[encoded data removed]",
      "text/plain": [
       "<Figure size 800x600 with 1 Axes>"
      ]
     },
     "metadata": {},
     "output_type": "display_data"
    }
   ],
   "source": [
    "actuals = np.array(targets)\n",
    "predictions = np.array(predictions)\n",
    "\n",
    "sns.set_style(\"whitegrid\")\n",
    "plt.figure(figsize=(8, 6))\n",
    "sns.scatterplot(x=actuals, y=predictions, alpha=0.6)\n",
    "plt.plot([actuals.min(), actuals.max()], [actuals.min(), actuals.max()], 'r--', lw=2)\n",
    "plt.xlabel('Actual Usage_kWh')\n",
    "plt.ylabel('Predicted Usage_kWh')\n",
    "plt.title('Predictions vs Actual')\n",
    "plt.tight_layout()\n",
    "plt.show()\n"
   ]
  },
  {
   "cell_type": "code",
   "execution_count": null,
   "id": "0d16f2c6",
   "metadata": {},
   "outputs": [
    {
     "name": "stdout",
     "output_type": "stream",
     "text": [
      "Predicted Usage_kWh: 4.1709\n"
     ]
    },
    {
     "name": "stderr",
     "output_type": "stream",
     "text": [
      "d:\\ML&DE\\Deep_Learning\\.venv\\lib\\site-packages\\sklearn\\utils\\validation.py:2749: UserWarning: X does not have valid feature names, but RobustScaler was fitted with feature names\n",
      "  warnings.warn(\n"
     ]
    }
   ],
   "source": [
    "# Testing the model with new data\n",
    "new_data = {\n",
    "    'Lagging_Current_Reactive.Power_kVarh': 2.95,\n",
    "    'Leading_Current_Reactive_Power_kVarh': 0,\n",
    "    'month': 1,\n",
    "    'hour': 0,\n",
    "    'Load_Type_Maximum_Load': 0,\n",
    "    'Load_Type_Medium_Load': 0,\n",
    "}\n",
    "\n",
    "\n",
    "new_data_df = pd.DataFrame([new_data])\n",
    "new_data_scaled = scaler.transform(new_data_df.values)\n",
    "# Making prediction:\n",
    "new_data_tensor = torch.tensor(new_data_scaled, dtype=torch.float32).to(device)\n",
    "\n",
    "model.eval()\n",
    "with torch.no_grad():\n",
    "    prediction = model(new_data_tensor)\n",
    "    \n",
    "print(f\"Predicted Usage_kWh: {prediction.item():.4f}\")\n"
   ]
  }
 ],
 "metadata": {
  "kernelspec": {
   "display_name": ".venv",
   "language": "python",
   "name": "python3"
  },
  "language_info": {
   "codemirror_mode": {
    "name": "ipython",
    "version": 3
   },
   "file_extension": ".py",
   "mimetype": "text/x-python",
   "name": "python",
   "nbconvert_exporter": "python",
   "pygments_lexer": "ipython3",
   "version": "3.10.11"
  }
 },
 "nbformat": 4,
 "nbformat_minor": 5
}

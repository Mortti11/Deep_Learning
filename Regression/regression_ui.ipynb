{
 "cells": [
  {
   "cell_type": "code",
   "execution_count": 50,
   "metadata": {},
   "outputs": [],
   "source": [
    "# GUI and messagebox handling for the UI\n",
    "import tkinter as tk              # Core tkinter library for creating graphical user interface (GUI)\n",
    "from tkinter import messagebox     # For displaying message boxes in tkinter\n",
    "\n",
    "# Numerical and data handling\n",
    "import numpy as np                 # For numerical computations and handling arrays\n",
    "import pandas as pd                # For data manipulation and analysis\n",
    "\n",
    "# Machine Learning and Deep Learning\n",
    "from tensorflow.keras.models import load_model  # For loading the pre-trained Keras model\n",
    "from sklearn.preprocessing import MinMaxScaler  # For scaling and normalizing input features\n",
    "\n",
    "# Utility\n",
    "import joblib                      # For saving and loading machine learning models and scalers\n"
   ]
  },
  {
   "cell_type": "code",
   "execution_count": 51,
   "metadata": {},
   "outputs": [],
   "source": [
    "# Load the saved regression model\n",
    "model = load_model('my_model.keras')\n",
    "\n",
    "# Load the saved MinMaxScaler\n",
    "scaler = joblib.load('scaler.pkl')  # Ensure this path is correct\n"
   ]
  },
  {
   "cell_type": "code",
   "execution_count": 52,
   "metadata": {},
   "outputs": [
    {
     "name": "stdout",
     "output_type": "stream",
     "text": [
      "\u001b[1m1/1\u001b[0m \u001b[32m━━━━━━━━━━━━━━━━━━━━\u001b[0m\u001b[37m\u001b[0m \u001b[1m0s\u001b[0m 95ms/step\n"
     ]
    },
    {
     "name": "stderr",
     "output_type": "stream",
     "text": [
      "c:\\Users\\murta\\OneDrive\\Desktop\\ML&DE\\Third-semester\\Deep-learning\\.venv\\lib\\site-packages\\sklearn\\base.py:493: UserWarning: X does not have valid feature names, but MinMaxScaler was fitted with feature names\n",
      "  warnings.warn(\n"
     ]
    },
    {
     "name": "stdout",
     "output_type": "stream",
     "text": [
      "\u001b[1m1/1\u001b[0m \u001b[32m━━━━━━━━━━━━━━━━━━━━\u001b[0m\u001b[37m\u001b[0m \u001b[1m0s\u001b[0m 22ms/step\n"
     ]
    },
    {
     "name": "stderr",
     "output_type": "stream",
     "text": [
      "c:\\Users\\murta\\OneDrive\\Desktop\\ML&DE\\Third-semester\\Deep-learning\\.venv\\lib\\site-packages\\sklearn\\base.py:493: UserWarning: X does not have valid feature names, but MinMaxScaler was fitted with feature names\n",
      "  warnings.warn(\n"
     ]
    },
    {
     "name": "stdout",
     "output_type": "stream",
     "text": [
      "\u001b[1m1/1\u001b[0m \u001b[32m━━━━━━━━━━━━━━━━━━━━\u001b[0m\u001b[37m\u001b[0m \u001b[1m0s\u001b[0m 22ms/step\n"
     ]
    },
    {
     "name": "stderr",
     "output_type": "stream",
     "text": [
      "c:\\Users\\murta\\OneDrive\\Desktop\\ML&DE\\Third-semester\\Deep-learning\\.venv\\lib\\site-packages\\sklearn\\base.py:493: UserWarning: X does not have valid feature names, but MinMaxScaler was fitted with feature names\n",
      "  warnings.warn(\n"
     ]
    },
    {
     "name": "stdout",
     "output_type": "stream",
     "text": [
      "\u001b[1m1/1\u001b[0m \u001b[32m━━━━━━━━━━━━━━━━━━━━\u001b[0m\u001b[37m\u001b[0m \u001b[1m0s\u001b[0m 26ms/step\n"
     ]
    },
    {
     "name": "stderr",
     "output_type": "stream",
     "text": [
      "c:\\Users\\murta\\OneDrive\\Desktop\\ML&DE\\Third-semester\\Deep-learning\\.venv\\lib\\site-packages\\sklearn\\base.py:493: UserWarning: X does not have valid feature names, but MinMaxScaler was fitted with feature names\n",
      "  warnings.warn(\n"
     ]
    },
    {
     "name": "stdout",
     "output_type": "stream",
     "text": [
      "\u001b[1m1/1\u001b[0m \u001b[32m━━━━━━━━━━━━━━━━━━━━\u001b[0m\u001b[37m\u001b[0m \u001b[1m0s\u001b[0m 24ms/step\n"
     ]
    },
    {
     "name": "stderr",
     "output_type": "stream",
     "text": [
      "c:\\Users\\murta\\OneDrive\\Desktop\\ML&DE\\Third-semester\\Deep-learning\\.venv\\lib\\site-packages\\sklearn\\base.py:493: UserWarning: X does not have valid feature names, but MinMaxScaler was fitted with feature names\n",
      "  warnings.warn(\n"
     ]
    },
    {
     "name": "stdout",
     "output_type": "stream",
     "text": [
      "\u001b[1m1/1\u001b[0m \u001b[32m━━━━━━━━━━━━━━━━━━━━\u001b[0m\u001b[37m\u001b[0m \u001b[1m0s\u001b[0m 22ms/step\n"
     ]
    },
    {
     "name": "stderr",
     "output_type": "stream",
     "text": [
      "c:\\Users\\murta\\OneDrive\\Desktop\\ML&DE\\Third-semester\\Deep-learning\\.venv\\lib\\site-packages\\sklearn\\base.py:493: UserWarning: X does not have valid feature names, but MinMaxScaler was fitted with feature names\n",
      "  warnings.warn(\n"
     ]
    },
    {
     "name": "stdout",
     "output_type": "stream",
     "text": [
      "\u001b[1m1/1\u001b[0m \u001b[32m━━━━━━━━━━━━━━━━━━━━\u001b[0m\u001b[37m\u001b[0m \u001b[1m0s\u001b[0m 25ms/step\n"
     ]
    },
    {
     "name": "stderr",
     "output_type": "stream",
     "text": [
      "c:\\Users\\murta\\OneDrive\\Desktop\\ML&DE\\Third-semester\\Deep-learning\\.venv\\lib\\site-packages\\sklearn\\base.py:493: UserWarning: X does not have valid feature names, but MinMaxScaler was fitted with feature names\n",
      "  warnings.warn(\n"
     ]
    }
   ],
   "source": [
    "# Function to predict based on user input\n",
    "def predict():\n",
    "    try:\n",
    "        # Get values from input fields and convert them to floats\n",
    "        gre_score = float(entry_gre.get())\n",
    "        toefl_score = float(entry_toefl.get())\n",
    "        university_rating = float(entry_university.get())\n",
    "        sop = float(entry_sop.get())\n",
    "        lor = float(entry_lor.get())\n",
    "        cgpa = float(entry_cgpa.get())\n",
    "        research = int(entry_research.get())\n",
    "\n",
    "        # Create input array with feature values\n",
    "        input_features = np.array([[gre_score, toefl_score, university_rating, sop, lor, cgpa, research]])\n",
    "        \n",
    "        # Scale the input values using the saved scaler\n",
    "        input_scaled = scaler.transform(input_features)\n",
    "        \n",
    "        # Make the prediction using the trained model\n",
    "        prediction = model.predict(input_scaled)\n",
    "        prediction_percentage = round(prediction[0][0] * 100)\n",
    "\n",
    "        # Display the prediction result in green text\n",
    "        result_label.config(text=f\"Chance of Admission: {prediction_percentage}%\", fg=\"green\")\n",
    "    except ValueError:\n",
    "        # Show an error message for invalid input\n",
    "        messagebox.showerror(\"Invalid Input\", \"Please enter valid numeric values.\")\n",
    "\n",
    "# Function to clear all input fields\n",
    "def clear_fields():\n",
    "    entry_gre.delete(0, tk.END)\n",
    "    entry_toefl.delete(0, tk.END)\n",
    "    entry_university.delete(0, tk.END)\n",
    "    entry_sop.delete(0, tk.END)\n",
    "    entry_lor.delete(0, tk.END)\n",
    "    entry_cgpa.delete(0, tk.END)\n",
    "    entry_research.delete(0, tk.END)\n",
    "    result_label.config(text=\"\")\n",
    "\n",
    "# Create the main window\n",
    "window = tk.Tk()\n",
    "window.title(\"Admission Predictor\")\n",
    "window.geometry(\"500x650\")  # Increased window size for better spacing\n",
    "window.config(bg=\"#fafafa\")\n",
    "\n",
    "# Create frames to organize the layout better\n",
    "label_frame = tk.Frame(window, bg=\"#fafafa\")\n",
    "label_frame.pack(side=\"left\", padx=20, pady=5)\n",
    "\n",
    "entry_frame = tk.Frame(window, bg=\"#fafafa\")\n",
    "entry_frame.pack(side=\"right\", padx=20, pady=5)\n",
    "\n",
    "# Function to create labeled input fields with proper alignment\n",
    "def create_labeled_entry(label_frame, entry_frame, label_text, placeholder):\n",
    "    label = tk.Label(label_frame, text=label_text, font=(\"Arial\", 12), bg=\"#fafafa\", anchor=\"w\", width=25)\n",
    "    label.pack(anchor=\"w\", pady=5)\n",
    "    \n",
    "    entry = tk.Entry(entry_frame, font=(\"Arial\", 12), width=25)\n",
    "    entry.pack(pady=5)\n",
    "    \n",
    "    # Add placeholder behavior\n",
    "    entry.insert(0, placeholder)\n",
    "    def clear_placeholder(event):\n",
    "        if entry.get() == placeholder:\n",
    "            entry.delete(0, tk.END)\n",
    "    entry.bind(\"<FocusIn>\", clear_placeholder)\n",
    "    \n",
    "    return entry\n",
    "\n",
    "# Create input fields with placeholders, left-aligned labels, and right-aligned entry boxes\n",
    "entry_gre = create_labeled_entry(label_frame, entry_frame, \"GRE Score:\", \"337\")\n",
    "entry_toefl = create_labeled_entry(label_frame, entry_frame, \"TOEFL Score:\", \"118\")\n",
    "entry_university = create_labeled_entry(label_frame, entry_frame, \"University Rating (1-5):\", \"4\")\n",
    "entry_sop = create_labeled_entry(label_frame, entry_frame, \"SOP Rating (1-5):\", \"4.5\")\n",
    "entry_lor = create_labeled_entry(label_frame, entry_frame, \"LOR Rating (1-5):\", \"4.5\")\n",
    "entry_cgpa = create_labeled_entry(label_frame, entry_frame, \"CGPA:\", \"9.65\")\n",
    "entry_research = create_labeled_entry(label_frame, entry_frame, \"Research (1 for Yes, 0 for No):\", \"1\")\n",
    "\n",
    "# Predict button \n",
    "predict_button = tk.Button(window, text=\"Predict\", font=(\"Arial\", 12), command=predict, bg=\"#007bff\", fg=\"white\", width=20)\n",
    "predict_button.pack(pady=15)\n",
    "\n",
    "# Clear button \n",
    "clear_button = tk.Button(window, text=\"Clear\", font=(\"Arial\", 12), command=clear_fields, bg=\"#ff4d4d\", fg=\"white\", width=20)\n",
    "clear_button.pack(pady=5)\n",
    "\n",
    "# Result label\n",
    "result_label = tk.Label(window, text=\"\", font=(\"Arial\", 14), bg=\"#fafafa\", fg=\"#007bff\")\n",
    "result_label.pack(pady=20)\n",
    "\n",
    "# Run the application\n",
    "window.mainloop()"
   ]
  }
 ],
 "metadata": {
  "kernelspec": {
   "display_name": ".venv",
   "language": "python",
   "name": "python3"
  },
  "language_info": {
   "codemirror_mode": {
    "name": "ipython",
    "version": 3
   },
   "file_extension": ".py",
   "mimetype": "text/x-python",
   "name": "python",
   "nbconvert_exporter": "python",
   "pygments_lexer": "ipython3",
   "version": "3.10.11"
  }
 },
 "nbformat": 4,
 "nbformat_minor": 2
}

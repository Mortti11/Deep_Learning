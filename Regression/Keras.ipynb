{
 "cells": [
  {
   "cell_type": "code",
   "execution_count": 1,
   "metadata": {},
   "outputs": [],
   "source": [
    "import matplotlib.pyplot as plt\n",
    "import seaborn as sns\n",
    "import numpy as np\n",
    "import pandas as pd\n",
    "\n",
    "\n",
    "from sklearn.preprocessing import StandardScaler, RobustScaler\n",
    "from sklearn.metrics import mean_squared_error, mean_absolute_error, r2_score\n",
    "from sklearn.model_selection import TimeSeriesSplit\n",
    "from sklearn.compose import ColumnTransformer\n",
    "\n",
    "\n",
    "import tensorflow as tf\n",
    "from tensorflow.keras import Sequential\n",
    "from tensorflow.keras.layers import Dense, Dropout\n",
    "from tensorflow.keras.callbacks import EarlyStopping\n",
    "import keras_tuner as kt\n",
    "from tensorflow.keras import layers\n",
    "from tensorflow.keras.optimizers import Adam, RMSprop, SGD\n",
    "import tensorflow.keras as keras"
   ]
  },
  {
   "cell_type": "code",
   "execution_count": 2,
   "metadata": {},
   "outputs": [
    {
     "data": {
      "application/vnd.microsoft.datawrangler.viewer.v0+json": {
       "columns": [
        {
         "name": "index",
         "rawType": "int64",
         "type": "integer"
        },
        {
         "name": "Usage_kWh",
         "rawType": "float64",
         "type": "float"
        },
        {
         "name": "Lagging_Current_Reactive.Power_kVarh",
         "rawType": "float64",
         "type": "float"
        },
        {
         "name": "Leading_Current_Reactive_Power_kVarh",
         "rawType": "float64",
         "type": "float"
        },
        {
         "name": "Load_Type_Maximum_Load",
         "rawType": "int64",
         "type": "integer"
        },
        {
         "name": "Load_Type_Medium_Load",
         "rawType": "int64",
         "type": "integer"
        },
        {
         "name": "time_minutes_sin",
         "rawType": "float64",
         "type": "float"
        },
        {
         "name": "time_minutes_cos",
         "rawType": "float64",
         "type": "float"
        },
        {
         "name": "month_sin",
         "rawType": "float64",
         "type": "float"
        },
        {
         "name": "month_cos",
         "rawType": "float64",
         "type": "float"
        }
       ],
       "ref": "cf571ffe-a025-4135-92d2-03518e98ab99",
       "rows": [
        [
         "0",
         "3.17",
         "2.95",
         "0.0",
         "0",
         "0",
         "0.065403129230143",
         "0.9978589232386036",
         "0.4999999999999999",
         "0.8660254037844387"
        ],
        [
         "1",
         "4.0",
         "4.46",
         "0.0",
         "0",
         "0",
         "0.1305261922200515",
         "0.9914448613738104",
         "0.4999999999999999",
         "0.8660254037844387"
        ],
        [
         "2",
         "3.24",
         "3.28",
         "0.0",
         "0",
         "0",
         "0.1950903220161282",
         "0.9807852804032304",
         "0.4999999999999999",
         "0.8660254037844387"
        ],
        [
         "3",
         "3.31",
         "3.56",
         "0.0",
         "0",
         "0",
         "0.2588190451025207",
         "0.9659258262890684",
         "0.4999999999999999",
         "0.8660254037844387"
        ],
        [
         "4",
         "3.82",
         "4.5",
         "0.0",
         "0",
         "0",
         "0.3214394653031616",
         "0.9469301294951056",
         "0.4999999999999999",
         "0.8660254037844387"
        ]
       ],
       "shape": {
        "columns": 9,
        "rows": 5
       }
      },
      "text/html": [
       "<div>\n",
       "<style scoped>\n",
       "    .dataframe tbody tr th:only-of-type {\n",
       "        vertical-align: middle;\n",
       "    }\n",
       "\n",
       "    .dataframe tbody tr th {\n",
       "        vertical-align: top;\n",
       "    }\n",
       "\n",
       "    .dataframe thead th {\n",
       "        text-align: right;\n",
       "    }\n",
       "</style>\n",
       "<table border=\"1\" class=\"dataframe\">\n",
       "  <thead>\n",
       "    <tr style=\"text-align: right;\">\n",
       "      <th></th>\n",
       "      <th>Usage_kWh</th>\n",
       "      <th>Lagging_Current_Reactive.Power_kVarh</th>\n",
       "      <th>Leading_Current_Reactive_Power_kVarh</th>\n",
       "      <th>Load_Type_Maximum_Load</th>\n",
       "      <th>Load_Type_Medium_Load</th>\n",
       "      <th>time_minutes_sin</th>\n",
       "      <th>time_minutes_cos</th>\n",
       "      <th>month_sin</th>\n",
       "      <th>month_cos</th>\n",
       "    </tr>\n",
       "  </thead>\n",
       "  <tbody>\n",
       "    <tr>\n",
       "      <th>0</th>\n",
       "      <td>3.17</td>\n",
       "      <td>2.95</td>\n",
       "      <td>0.0</td>\n",
       "      <td>0</td>\n",
       "      <td>0</td>\n",
       "      <td>0.065403</td>\n",
       "      <td>0.997859</td>\n",
       "      <td>0.5</td>\n",
       "      <td>0.866025</td>\n",
       "    </tr>\n",
       "    <tr>\n",
       "      <th>1</th>\n",
       "      <td>4.00</td>\n",
       "      <td>4.46</td>\n",
       "      <td>0.0</td>\n",
       "      <td>0</td>\n",
       "      <td>0</td>\n",
       "      <td>0.130526</td>\n",
       "      <td>0.991445</td>\n",
       "      <td>0.5</td>\n",
       "      <td>0.866025</td>\n",
       "    </tr>\n",
       "    <tr>\n",
       "      <th>2</th>\n",
       "      <td>3.24</td>\n",
       "      <td>3.28</td>\n",
       "      <td>0.0</td>\n",
       "      <td>0</td>\n",
       "      <td>0</td>\n",
       "      <td>0.195090</td>\n",
       "      <td>0.980785</td>\n",
       "      <td>0.5</td>\n",
       "      <td>0.866025</td>\n",
       "    </tr>\n",
       "    <tr>\n",
       "      <th>3</th>\n",
       "      <td>3.31</td>\n",
       "      <td>3.56</td>\n",
       "      <td>0.0</td>\n",
       "      <td>0</td>\n",
       "      <td>0</td>\n",
       "      <td>0.258819</td>\n",
       "      <td>0.965926</td>\n",
       "      <td>0.5</td>\n",
       "      <td>0.866025</td>\n",
       "    </tr>\n",
       "    <tr>\n",
       "      <th>4</th>\n",
       "      <td>3.82</td>\n",
       "      <td>4.50</td>\n",
       "      <td>0.0</td>\n",
       "      <td>0</td>\n",
       "      <td>0</td>\n",
       "      <td>0.321439</td>\n",
       "      <td>0.946930</td>\n",
       "      <td>0.5</td>\n",
       "      <td>0.866025</td>\n",
       "    </tr>\n",
       "  </tbody>\n",
       "</table>\n",
       "</div>"
      ],
      "text/plain": [
       "   Usage_kWh  Lagging_Current_Reactive.Power_kVarh  \\\n",
       "0       3.17                                  2.95   \n",
       "1       4.00                                  4.46   \n",
       "2       3.24                                  3.28   \n",
       "3       3.31                                  3.56   \n",
       "4       3.82                                  4.50   \n",
       "\n",
       "   Leading_Current_Reactive_Power_kVarh  Load_Type_Maximum_Load  \\\n",
       "0                                   0.0                       0   \n",
       "1                                   0.0                       0   \n",
       "2                                   0.0                       0   \n",
       "3                                   0.0                       0   \n",
       "4                                   0.0                       0   \n",
       "\n",
       "   Load_Type_Medium_Load  time_minutes_sin  time_minutes_cos  month_sin  \\\n",
       "0                      0          0.065403          0.997859        0.5   \n",
       "1                      0          0.130526          0.991445        0.5   \n",
       "2                      0          0.195090          0.980785        0.5   \n",
       "3                      0          0.258819          0.965926        0.5   \n",
       "4                      0          0.321439          0.946930        0.5   \n",
       "\n",
       "   month_cos  \n",
       "0   0.866025  \n",
       "1   0.866025  \n",
       "2   0.866025  \n",
       "3   0.866025  \n",
       "4   0.866025  "
      ]
     },
     "execution_count": 2,
     "metadata": {},
     "output_type": "execute_result"
    }
   ],
   "source": [
    "# Loading the cleaned DS \n",
    "df = pd.read_csv('cleaned_data.csv')\n",
    "df.head()"
   ]
  },
  {
   "cell_type": "code",
   "execution_count": 3,
   "metadata": {},
   "outputs": [
    {
     "data": {
      "text/plain": [
       "(26280, 9)"
      ]
     },
     "execution_count": 3,
     "metadata": {},
     "output_type": "execute_result"
    }
   ],
   "source": [
    "df.shape"
   ]
  },
  {
   "cell_type": "code",
   "execution_count": 4,
   "metadata": {},
   "outputs": [
    {
     "data": {
      "application/vnd.microsoft.datawrangler.viewer.v0+json": {
       "columns": [
        {
         "name": "index",
         "rawType": "int64",
         "type": "integer"
        },
        {
         "name": "Usage_kWh",
         "rawType": "float64",
         "type": "float"
        }
       ],
       "ref": "51c44dee-e747-4569-9c46-2482899971bb",
       "rows": [
        [
         "0",
         "3.17"
        ],
        [
         "1",
         "4.0"
        ],
        [
         "2",
         "3.24"
        ],
        [
         "3",
         "3.31"
        ],
        [
         "4",
         "3.82"
        ],
        [
         "5",
         "3.28"
        ],
        [
         "6",
         "3.6"
        ],
        [
         "7",
         "3.6"
        ],
        [
         "8",
         "3.28"
        ],
        [
         "9",
         "3.78"
        ],
        [
         "10",
         "3.46"
        ],
        [
         "11",
         "3.24"
        ],
        [
         "12",
         "3.96"
        ],
        [
         "13",
         "3.31"
        ],
        [
         "14",
         "3.31"
        ],
        [
         "15",
         "3.89"
        ],
        [
         "16",
         "3.28"
        ],
        [
         "17",
         "3.56"
        ],
        [
         "18",
         "3.74"
        ],
        [
         "19",
         "3.31"
        ],
        [
         "20",
         "3.56"
        ],
        [
         "21",
         "3.56"
        ],
        [
         "22",
         "3.28"
        ],
        [
         "23",
         "3.78"
        ],
        [
         "24",
         "3.35"
        ],
        [
         "25",
         "3.24"
        ],
        [
         "26",
         "3.89"
        ],
        [
         "27",
         "3.31"
        ],
        [
         "28",
         "3.28"
        ],
        [
         "29",
         "3.85"
        ],
        [
         "30",
         "3.2"
        ],
        [
         "31",
         "3.31"
        ],
        [
         "32",
         "3.78"
        ],
        [
         "33",
         "3.28"
        ],
        [
         "34",
         "3.49"
        ],
        [
         "35",
         "3.67"
        ],
        [
         "36",
         "3.24"
        ],
        [
         "37",
         "3.53"
        ],
        [
         "38",
         "3.53"
        ],
        [
         "39",
         "3.24"
        ],
        [
         "40",
         "3.67"
        ],
        [
         "41",
         "3.42"
        ],
        [
         "42",
         "3.2"
        ],
        [
         "43",
         "3.85"
        ],
        [
         "44",
         "3.28"
        ],
        [
         "45",
         "3.35"
        ],
        [
         "46",
         "3.89"
        ],
        [
         "47",
         "3.28"
        ],
        [
         "48",
         "3.46"
        ],
        [
         "49",
         "3.78"
        ]
       ],
       "shape": {
        "columns": 1,
        "rows": 26280
       }
      },
      "text/plain": [
       "0        3.17\n",
       "1        4.00\n",
       "2        3.24\n",
       "3        3.31\n",
       "4        3.82\n",
       "         ... \n",
       "26275    3.85\n",
       "26276    3.74\n",
       "26277    3.78\n",
       "26278    3.78\n",
       "26279    3.67\n",
       "Name: Usage_kWh, Length: 26280, dtype: float64"
      ]
     },
     "execution_count": 4,
     "metadata": {},
     "output_type": "execute_result"
    }
   ],
   "source": [
    "df['Usage_kWh']"
   ]
  },
  {
   "cell_type": "code",
   "execution_count": 5,
   "metadata": {},
   "outputs": [],
   "source": [
    "# In Explor_Prepro notebook the DS is preprocessed.  \n",
    "# In this notebook, I will build Deep Learning model to predict the energy consumption.\n",
    "\n",
    "# The DS has 26280 and 9 columns. The target value is Usage_KWh, it is right skewed.\n",
    "# I am going to handle the scaling, hyperparameter search, model building and finally evaluation my model."
   ]
  },
  {
   "cell_type": "code",
   "execution_count": 6,
   "metadata": {},
   "outputs": [],
   "source": [
    "# Picking up the target and features\n",
    "X = df.drop('Usage_kWh', axis=1)\n",
    "y = df['Usage_kWh']\n",
    "\n",
    "\n",
    "# I can not use random splitting, because the DS is time series\n",
    "n = len(X)\n",
    "# Calculating where the training data should end\n",
    "train_end = int(n*0.80)\n",
    "# Calculating where the val data should end\n",
    "val_end = train_end + int(n*0.10)  \n",
    "# Taking first 80% of the DS for training\n",
    "X_train, y_train = X.iloc[:train_end], y.iloc[:train_end]\n",
    "# Taking next 10% of the DS for val \n",
    "X_val, y_val = X.iloc[train_end:val_end], y.iloc[train_end:val_end]\n",
    "# Taking last 10% of the DS for test\n",
    "X_test, y_test = X.iloc[val_end:], y.iloc[val_end:]\n",
    "# Source: https://stackoverflow.com/questions/50879915/splitting-data-using-time-based-splitting-in-test-and-train-datasets"
   ]
  },
  {
   "cell_type": "code",
   "execution_count": 7,
   "metadata": {},
   "outputs": [
    {
     "name": "stdout",
     "output_type": "stream",
     "text": [
      "Shape of training data: (21024, 8) (21024,)\n",
      "Shape of validation data: (2628, 8) (2628,)\n",
      "Shape of test data: (2628, 8) (2628,)\n"
     ]
    }
   ],
   "source": [
    "print('Shape of training data:', X_train.shape, y_train.shape)\n",
    "print('Shape of validation data:', X_val.shape, y_val.shape)\n",
    "print('Shape of test data:', X_test.shape, y_test.shape)"
   ]
  },
  {
   "cell_type": "code",
   "execution_count": 8,
   "metadata": {},
   "outputs": [],
   "source": [
    "# Scaling my data\n",
    "# For scaling, there are many techniques:\n",
    "# Standard scaler, all features are centered around 0.0\n",
    "# Min Max scaler, the range is (0-1), it is good for bounded data, but my DS is skewed\n",
    "# RobustScaler can handle skewed data and outliers\n",
    "\n",
    "# In my case, RobustScaler is a good choice for handling outliers.\n",
    "# I dont need to scale time columns because they are already between -1 and 1\n",
    "# So I will use RobustScaler for normal features\n",
    "time_columns = ['hour_sin', 'hour_cos', 'month_sin', 'month_cos']\n",
    "normal_features = [col for col in X_train.columns if col not in time_columns]\n",
    "preprocessor = ColumnTransformer(transformers=[('robust', RobustScaler(),\n",
    "    normal_features)],remainder='passthrough')\n",
    "# Source: https://medium.com/@vinodkumargr/11-column-transformer-in-ml-sklearn-column-transformer-in-machine-learning-48479f8cb48f\n",
    "X_train = preprocessor.fit_transform(X_train)\n",
    "X_val = preprocessor.transform(X_val)\n",
    "X_test = preprocessor.transform(X_test)"
   ]
  },
  {
   "cell_type": "markdown",
   "metadata": {},
   "source": [
    "<center><h2> Designing the Neural Network Architecture</center>"
   ]
  },
  {
   "cell_type": "code",
   "execution_count": 9,
   "metadata": {},
   "outputs": [
    {
     "name": "stderr",
     "output_type": "stream",
     "text": [
      "d:\\ML&DE\\Deep_Learning\\.venv\\lib\\site-packages\\keras\\src\\layers\\core\\dense.py:92: UserWarning: Do not pass an `input_shape`/`input_dim` argument to a layer. When using Sequential models, prefer using an `Input(shape)` object as the first layer in the model instead.\n",
      "  super().__init__(activity_regularizer=activity_regularizer, **kwargs)\n"
     ]
    },
    {
     "data": {
      "text/html": [
       "<pre style=\"white-space:pre;overflow-x:auto;line-height:normal;font-family:Menlo,'DejaVu Sans Mono',consolas,'Courier New',monospace\"><span style=\"font-weight: bold\">Model: \"sequential\"</span>\n",
       "</pre>\n"
      ],
      "text/plain": [
       "\u001b[1mModel: \"sequential\"\u001b[0m\n"
      ]
     },
     "metadata": {},
     "output_type": "display_data"
    },
    {
     "data": {
      "text/html": [
       "<pre style=\"white-space:pre;overflow-x:auto;line-height:normal;font-family:Menlo,'DejaVu Sans Mono',consolas,'Courier New',monospace\">┏━━━━━━━━━━━━━━━━━━━━━━━━━━━━━━━━━┳━━━━━━━━━━━━━━━━━━━━━━━━┳━━━━━━━━━━━━━━━┓\n",
       "┃<span style=\"font-weight: bold\"> Layer (type)                    </span>┃<span style=\"font-weight: bold\"> Output Shape           </span>┃<span style=\"font-weight: bold\">       Param # </span>┃\n",
       "┡━━━━━━━━━━━━━━━━━━━━━━━━━━━━━━━━━╇━━━━━━━━━━━━━━━━━━━━━━━━╇━━━━━━━━━━━━━━━┩\n",
       "│ dense (<span style=\"color: #0087ff; text-decoration-color: #0087ff\">Dense</span>)                   │ (<span style=\"color: #00d7ff; text-decoration-color: #00d7ff\">None</span>, <span style=\"color: #00af00; text-decoration-color: #00af00\">256</span>)            │         <span style=\"color: #00af00; text-decoration-color: #00af00\">2,304</span> │\n",
       "├─────────────────────────────────┼────────────────────────┼───────────────┤\n",
       "│ dense_1 (<span style=\"color: #0087ff; text-decoration-color: #0087ff\">Dense</span>)                 │ (<span style=\"color: #00d7ff; text-decoration-color: #00d7ff\">None</span>, <span style=\"color: #00af00; text-decoration-color: #00af00\">128</span>)            │        <span style=\"color: #00af00; text-decoration-color: #00af00\">32,896</span> │\n",
       "├─────────────────────────────────┼────────────────────────┼───────────────┤\n",
       "│ dense_2 (<span style=\"color: #0087ff; text-decoration-color: #0087ff\">Dense</span>)                 │ (<span style=\"color: #00d7ff; text-decoration-color: #00d7ff\">None</span>, <span style=\"color: #00af00; text-decoration-color: #00af00\">64</span>)             │         <span style=\"color: #00af00; text-decoration-color: #00af00\">8,256</span> │\n",
       "├─────────────────────────────────┼────────────────────────┼───────────────┤\n",
       "│ dense_3 (<span style=\"color: #0087ff; text-decoration-color: #0087ff\">Dense</span>)                 │ (<span style=\"color: #00d7ff; text-decoration-color: #00d7ff\">None</span>, <span style=\"color: #00af00; text-decoration-color: #00af00\">32</span>)             │         <span style=\"color: #00af00; text-decoration-color: #00af00\">2,080</span> │\n",
       "├─────────────────────────────────┼────────────────────────┼───────────────┤\n",
       "│ dense_4 (<span style=\"color: #0087ff; text-decoration-color: #0087ff\">Dense</span>)                 │ (<span style=\"color: #00d7ff; text-decoration-color: #00d7ff\">None</span>, <span style=\"color: #00af00; text-decoration-color: #00af00\">16</span>)             │           <span style=\"color: #00af00; text-decoration-color: #00af00\">528</span> │\n",
       "├─────────────────────────────────┼────────────────────────┼───────────────┤\n",
       "│ dense_5 (<span style=\"color: #0087ff; text-decoration-color: #0087ff\">Dense</span>)                 │ (<span style=\"color: #00d7ff; text-decoration-color: #00d7ff\">None</span>, <span style=\"color: #00af00; text-decoration-color: #00af00\">1</span>)              │            <span style=\"color: #00af00; text-decoration-color: #00af00\">17</span> │\n",
       "└─────────────────────────────────┴────────────────────────┴───────────────┘\n",
       "</pre>\n"
      ],
      "text/plain": [
       "┏━━━━━━━━━━━━━━━━━━━━━━━━━━━━━━━━━┳━━━━━━━━━━━━━━━━━━━━━━━━┳━━━━━━━━━━━━━━━┓\n",
       "┃\u001b[1m \u001b[0m\u001b[1mLayer (type)                   \u001b[0m\u001b[1m \u001b[0m┃\u001b[1m \u001b[0m\u001b[1mOutput Shape          \u001b[0m\u001b[1m \u001b[0m┃\u001b[1m \u001b[0m\u001b[1m      Param #\u001b[0m\u001b[1m \u001b[0m┃\n",
       "┡━━━━━━━━━━━━━━━━━━━━━━━━━━━━━━━━━╇━━━━━━━━━━━━━━━━━━━━━━━━╇━━━━━━━━━━━━━━━┩\n",
       "│ dense (\u001b[38;5;33mDense\u001b[0m)                   │ (\u001b[38;5;45mNone\u001b[0m, \u001b[38;5;34m256\u001b[0m)            │         \u001b[38;5;34m2,304\u001b[0m │\n",
       "├─────────────────────────────────┼────────────────────────┼───────────────┤\n",
       "│ dense_1 (\u001b[38;5;33mDense\u001b[0m)                 │ (\u001b[38;5;45mNone\u001b[0m, \u001b[38;5;34m128\u001b[0m)            │        \u001b[38;5;34m32,896\u001b[0m │\n",
       "├─────────────────────────────────┼────────────────────────┼───────────────┤\n",
       "│ dense_2 (\u001b[38;5;33mDense\u001b[0m)                 │ (\u001b[38;5;45mNone\u001b[0m, \u001b[38;5;34m64\u001b[0m)             │         \u001b[38;5;34m8,256\u001b[0m │\n",
       "├─────────────────────────────────┼────────────────────────┼───────────────┤\n",
       "│ dense_3 (\u001b[38;5;33mDense\u001b[0m)                 │ (\u001b[38;5;45mNone\u001b[0m, \u001b[38;5;34m32\u001b[0m)             │         \u001b[38;5;34m2,080\u001b[0m │\n",
       "├─────────────────────────────────┼────────────────────────┼───────────────┤\n",
       "│ dense_4 (\u001b[38;5;33mDense\u001b[0m)                 │ (\u001b[38;5;45mNone\u001b[0m, \u001b[38;5;34m16\u001b[0m)             │           \u001b[38;5;34m528\u001b[0m │\n",
       "├─────────────────────────────────┼────────────────────────┼───────────────┤\n",
       "│ dense_5 (\u001b[38;5;33mDense\u001b[0m)                 │ (\u001b[38;5;45mNone\u001b[0m, \u001b[38;5;34m1\u001b[0m)              │            \u001b[38;5;34m17\u001b[0m │\n",
       "└─────────────────────────────────┴────────────────────────┴───────────────┘\n"
      ]
     },
     "metadata": {},
     "output_type": "display_data"
    },
    {
     "data": {
      "text/html": [
       "<pre style=\"white-space:pre;overflow-x:auto;line-height:normal;font-family:Menlo,'DejaVu Sans Mono',consolas,'Courier New',monospace\"><span style=\"font-weight: bold\"> Total params: </span><span style=\"color: #00af00; text-decoration-color: #00af00\">46,081</span> (180.00 KB)\n",
       "</pre>\n"
      ],
      "text/plain": [
       "\u001b[1m Total params: \u001b[0m\u001b[38;5;34m46,081\u001b[0m (180.00 KB)\n"
      ]
     },
     "metadata": {},
     "output_type": "display_data"
    },
    {
     "data": {
      "text/html": [
       "<pre style=\"white-space:pre;overflow-x:auto;line-height:normal;font-family:Menlo,'DejaVu Sans Mono',consolas,'Courier New',monospace\"><span style=\"font-weight: bold\"> Trainable params: </span><span style=\"color: #00af00; text-decoration-color: #00af00\">46,081</span> (180.00 KB)\n",
       "</pre>\n"
      ],
      "text/plain": [
       "\u001b[1m Trainable params: \u001b[0m\u001b[38;5;34m46,081\u001b[0m (180.00 KB)\n"
      ]
     },
     "metadata": {},
     "output_type": "display_data"
    },
    {
     "data": {
      "text/html": [
       "<pre style=\"white-space:pre;overflow-x:auto;line-height:normal;font-family:Menlo,'DejaVu Sans Mono',consolas,'Courier New',monospace\"><span style=\"font-weight: bold\"> Non-trainable params: </span><span style=\"color: #00af00; text-decoration-color: #00af00\">0</span> (0.00 B)\n",
       "</pre>\n"
      ],
      "text/plain": [
       "\u001b[1m Non-trainable params: \u001b[0m\u001b[38;5;34m0\u001b[0m (0.00 B)\n"
      ]
     },
     "metadata": {},
     "output_type": "display_data"
    }
   ],
   "source": [
    "# Since there is not fixed formula to find perfect number of hidden layers and neurons.\n",
    "# I need to clean the DS as much as possible and then experiment with hyperparameters.\n",
    "# More layers and neurons can handle more complex data but the chance of overfitting is higher.\n",
    "# Less layers and neurons make the model underfit.\n",
    "\n",
    "# Good strategy for me is to start simple\n",
    "# I will start with three layers. 128, 64 and 64 neurons. L2 and Dropout are for overfitting\n",
    "# I will use ReLU for the hidden layers, it helps to learn non linearity, because in DS some columns might have non linear connection to each others\n",
    "# I wont use sigmoid and softmax in output layer, because they are for classification\n",
    "# The output can be unrestricted, So model can predict any range of values freely\n",
    "# Now, let's implement\n",
    "\n",
    "model = Sequential()\n",
    "# Input layer\n",
    "model.add(Dense(256, activation='relu',kernel_regularizer=tf.keras.regularizers.l2(0.0001), input_shape=(X_train.shape[1], )))\n",
    "# Hidden layer\n",
    "model.add(Dense(128, activation='relu'))\n",
    "model.add(Dense(64, activation='relu'))\n",
    "model.add(Dense(32, activation='relu'))\n",
    "model.add(Dense(16, activation='relu'))\n",
    "# Output layer\n",
    "model.add(Dense(1))\n",
    "\n",
    "# I created fully connected layers with 128, 64 and 64 neurons\n",
    "# X_train shape is 8\n",
    "# The output neuron is 1, because there is only one value to predict\n",
    "model.summary()"
   ]
  },
  {
   "cell_type": "code",
   "execution_count": 10,
   "metadata": {},
   "outputs": [],
   "source": [
    "# Until this point, I defined the structure but I did not tell Keras how to train the model\n",
    "# Before training, I need to compile the model with loss function and optimizer\n",
    "# Loss function is for regression problem, MSE is kind of common choice\n",
    "# Since I have skewed distribution, and MSE is sensitive to outliers.\n",
    "# I have a nother option, which is MAE. In my case, I will use MSE.\n",
    "# It is smoother, training with MSE will try to reduce large errors\n",
    "\n",
    "# Optimizer is the algorithm that adjust the network weights to minimize the loss\n",
    "# I have several options for optimizers in Keras\n",
    "# SGD, RMSProp, Adam. \n",
    "# I will use Adam\n",
    "\n",
    "\n",
    "# Now I can compile the model, MSE loss, Adam optimizer, I can use MAE as metrics \n",
    "model.compile(optimizer='adam', loss='mean_squared_error', metrics=['mean_absolute_error'])"
   ]
  },
  {
   "cell_type": "code",
   "execution_count": 11,
   "metadata": {},
   "outputs": [
    {
     "name": "stdout",
     "output_type": "stream",
     "text": [
      "Epoch 1/300\n",
      "\u001b[1m165/165\u001b[0m \u001b[32m━━━━━━━━━━━━━━━━━━━━\u001b[0m\u001b[37m\u001b[0m \u001b[1m1s\u001b[0m 2ms/step - loss: 278.6598 - mean_absolute_error: 8.5781 - val_loss: 59.1042 - val_mean_absolute_error: 4.3714\n",
      "Epoch 2/300\n",
      "\u001b[1m165/165\u001b[0m \u001b[32m━━━━━━━━━━━━━━━━━━━━\u001b[0m\u001b[37m\u001b[0m \u001b[1m0s\u001b[0m 2ms/step - loss: 60.7169 - mean_absolute_error: 3.9519 - val_loss: 42.4072 - val_mean_absolute_error: 3.3534\n",
      "Epoch 3/300\n",
      "\u001b[1m165/165\u001b[0m \u001b[32m━━━━━━━━━━━━━━━━━━━━\u001b[0m\u001b[37m\u001b[0m \u001b[1m0s\u001b[0m 2ms/step - loss: 56.4453 - mean_absolute_error: 3.7354 - val_loss: 40.6582 - val_mean_absolute_error: 3.1606\n",
      "Epoch 4/300\n",
      "\u001b[1m165/165\u001b[0m \u001b[32m━━━━━━━━━━━━━━━━━━━━\u001b[0m\u001b[37m\u001b[0m \u001b[1m0s\u001b[0m 2ms/step - loss: 53.9764 - mean_absolute_error: 3.5913 - val_loss: 36.2571 - val_mean_absolute_error: 2.9896\n",
      "Epoch 5/300\n",
      "\u001b[1m165/165\u001b[0m \u001b[32m━━━━━━━━━━━━━━━━━━━━\u001b[0m\u001b[37m\u001b[0m \u001b[1m0s\u001b[0m 2ms/step - loss: 52.7649 - mean_absolute_error: 3.5095 - val_loss: 34.4743 - val_mean_absolute_error: 2.9758\n",
      "Epoch 6/300\n",
      "\u001b[1m165/165\u001b[0m \u001b[32m━━━━━━━━━━━━━━━━━━━━\u001b[0m\u001b[37m\u001b[0m \u001b[1m0s\u001b[0m 2ms/step - loss: 52.0034 - mean_absolute_error: 3.4847 - val_loss: 37.6485 - val_mean_absolute_error: 3.1488\n",
      "Epoch 7/300\n",
      "\u001b[1m165/165\u001b[0m \u001b[32m━━━━━━━━━━━━━━━━━━━━\u001b[0m\u001b[37m\u001b[0m \u001b[1m0s\u001b[0m 2ms/step - loss: 50.9277 - mean_absolute_error: 3.4426 - val_loss: 34.9016 - val_mean_absolute_error: 2.8378\n",
      "Epoch 8/300\n",
      "\u001b[1m165/165\u001b[0m \u001b[32m━━━━━━━━━━━━━━━━━━━━\u001b[0m\u001b[37m\u001b[0m \u001b[1m0s\u001b[0m 2ms/step - loss: 49.9675 - mean_absolute_error: 3.4180 - val_loss: 35.2527 - val_mean_absolute_error: 2.9568\n",
      "Epoch 9/300\n",
      "\u001b[1m165/165\u001b[0m \u001b[32m━━━━━━━━━━━━━━━━━━━━\u001b[0m\u001b[37m\u001b[0m \u001b[1m0s\u001b[0m 1ms/step - loss: 49.3964 - mean_absolute_error: 3.3690 - val_loss: 34.5075 - val_mean_absolute_error: 2.8635\n",
      "Epoch 10/300\n",
      "\u001b[1m165/165\u001b[0m \u001b[32m━━━━━━━━━━━━━━━━━━━━\u001b[0m\u001b[37m\u001b[0m \u001b[1m0s\u001b[0m 2ms/step - loss: 49.6786 - mean_absolute_error: 3.3804 - val_loss: 32.9561 - val_mean_absolute_error: 2.8497\n",
      "Epoch 11/300\n",
      "\u001b[1m165/165\u001b[0m \u001b[32m━━━━━━━━━━━━━━━━━━━━\u001b[0m\u001b[37m\u001b[0m \u001b[1m0s\u001b[0m 2ms/step - loss: 48.0518 - mean_absolute_error: 3.3268 - val_loss: 35.1543 - val_mean_absolute_error: 2.8133\n",
      "Epoch 12/300\n",
      "\u001b[1m165/165\u001b[0m \u001b[32m━━━━━━━━━━━━━━━━━━━━\u001b[0m\u001b[37m\u001b[0m \u001b[1m0s\u001b[0m 2ms/step - loss: 48.4252 - mean_absolute_error: 3.3302 - val_loss: 34.0574 - val_mean_absolute_error: 2.8794\n",
      "Epoch 13/300\n",
      "\u001b[1m165/165\u001b[0m \u001b[32m━━━━━━━━━━━━━━━━━━━━\u001b[0m\u001b[37m\u001b[0m \u001b[1m0s\u001b[0m 2ms/step - loss: 47.1470 - mean_absolute_error: 3.2951 - val_loss: 36.3208 - val_mean_absolute_error: 2.9605\n",
      "Epoch 14/300\n",
      "\u001b[1m165/165\u001b[0m \u001b[32m━━━━━━━━━━━━━━━━━━━━\u001b[0m\u001b[37m\u001b[0m \u001b[1m0s\u001b[0m 2ms/step - loss: 46.3375 - mean_absolute_error: 3.2539 - val_loss: 32.4918 - val_mean_absolute_error: 2.8580\n",
      "Epoch 15/300\n",
      "\u001b[1m165/165\u001b[0m \u001b[32m━━━━━━━━━━━━━━━━━━━━\u001b[0m\u001b[37m\u001b[0m \u001b[1m0s\u001b[0m 2ms/step - loss: 46.0282 - mean_absolute_error: 3.2463 - val_loss: 31.3852 - val_mean_absolute_error: 2.8199\n",
      "Epoch 16/300\n",
      "\u001b[1m165/165\u001b[0m \u001b[32m━━━━━━━━━━━━━━━━━━━━\u001b[0m\u001b[37m\u001b[0m \u001b[1m0s\u001b[0m 2ms/step - loss: 46.7493 - mean_absolute_error: 3.2818 - val_loss: 31.9686 - val_mean_absolute_error: 2.7152\n",
      "Epoch 17/300\n",
      "\u001b[1m165/165\u001b[0m \u001b[32m━━━━━━━━━━━━━━━━━━━━\u001b[0m\u001b[37m\u001b[0m \u001b[1m0s\u001b[0m 2ms/step - loss: 45.1321 - mean_absolute_error: 3.1856 - val_loss: 30.4655 - val_mean_absolute_error: 2.6898\n",
      "Epoch 18/300\n",
      "\u001b[1m165/165\u001b[0m \u001b[32m━━━━━━━━━━━━━━━━━━━━\u001b[0m\u001b[37m\u001b[0m \u001b[1m0s\u001b[0m 2ms/step - loss: 44.4519 - mean_absolute_error: 3.1644 - val_loss: 33.6371 - val_mean_absolute_error: 2.9810\n",
      "Epoch 19/300\n",
      "\u001b[1m165/165\u001b[0m \u001b[32m━━━━━━━━━━━━━━━━━━━━\u001b[0m\u001b[37m\u001b[0m \u001b[1m0s\u001b[0m 2ms/step - loss: 43.9677 - mean_absolute_error: 3.1475 - val_loss: 31.1138 - val_mean_absolute_error: 2.7633\n",
      "Epoch 20/300\n",
      "\u001b[1m165/165\u001b[0m \u001b[32m━━━━━━━━━━━━━━━━━━━━\u001b[0m\u001b[37m\u001b[0m \u001b[1m0s\u001b[0m 2ms/step - loss: 44.6327 - mean_absolute_error: 3.1900 - val_loss: 38.0310 - val_mean_absolute_error: 2.9178\n",
      "Epoch 21/300\n",
      "\u001b[1m165/165\u001b[0m \u001b[32m━━━━━━━━━━━━━━━━━━━━\u001b[0m\u001b[37m\u001b[0m \u001b[1m0s\u001b[0m 2ms/step - loss: 43.9019 - mean_absolute_error: 3.1344 - val_loss: 29.5138 - val_mean_absolute_error: 2.6185\n",
      "Epoch 22/300\n",
      "\u001b[1m165/165\u001b[0m \u001b[32m━━━━━━━━━━━━━━━━━━━━\u001b[0m\u001b[37m\u001b[0m \u001b[1m0s\u001b[0m 2ms/step - loss: 42.7799 - mean_absolute_error: 3.0980 - val_loss: 30.0266 - val_mean_absolute_error: 2.5763\n",
      "Epoch 23/300\n",
      "\u001b[1m165/165\u001b[0m \u001b[32m━━━━━━━━━━━━━━━━━━━━\u001b[0m\u001b[37m\u001b[0m \u001b[1m0s\u001b[0m 1ms/step - loss: 42.6740 - mean_absolute_error: 3.0752 - val_loss: 35.8878 - val_mean_absolute_error: 2.7553\n",
      "Epoch 24/300\n",
      "\u001b[1m165/165\u001b[0m \u001b[32m━━━━━━━━━━━━━━━━━━━━\u001b[0m\u001b[37m\u001b[0m \u001b[1m0s\u001b[0m 1ms/step - loss: 42.2613 - mean_absolute_error: 3.0796 - val_loss: 32.9045 - val_mean_absolute_error: 2.7261\n",
      "Epoch 25/300\n",
      "\u001b[1m165/165\u001b[0m \u001b[32m━━━━━━━━━━━━━━━━━━━━\u001b[0m\u001b[37m\u001b[0m \u001b[1m0s\u001b[0m 1ms/step - loss: 41.8967 - mean_absolute_error: 3.0534 - val_loss: 28.5007 - val_mean_absolute_error: 2.6989\n",
      "Epoch 26/300\n",
      "\u001b[1m165/165\u001b[0m \u001b[32m━━━━━━━━━━━━━━━━━━━━\u001b[0m\u001b[37m\u001b[0m \u001b[1m0s\u001b[0m 1ms/step - loss: 41.0948 - mean_absolute_error: 3.0138 - val_loss: 38.7120 - val_mean_absolute_error: 2.9270\n",
      "Epoch 27/300\n",
      "\u001b[1m165/165\u001b[0m \u001b[32m━━━━━━━━━━━━━━━━━━━━\u001b[0m\u001b[37m\u001b[0m \u001b[1m0s\u001b[0m 2ms/step - loss: 41.5327 - mean_absolute_error: 3.0430 - val_loss: 32.4675 - val_mean_absolute_error: 2.7236\n",
      "Epoch 28/300\n",
      "\u001b[1m165/165\u001b[0m \u001b[32m━━━━━━━━━━━━━━━━━━━━\u001b[0m\u001b[37m\u001b[0m \u001b[1m0s\u001b[0m 2ms/step - loss: 41.1469 - mean_absolute_error: 3.0048 - val_loss: 29.7259 - val_mean_absolute_error: 2.7340\n",
      "Epoch 29/300\n",
      "\u001b[1m165/165\u001b[0m \u001b[32m━━━━━━━━━━━━━━━━━━━━\u001b[0m\u001b[37m\u001b[0m \u001b[1m0s\u001b[0m 2ms/step - loss: 41.4390 - mean_absolute_error: 3.0405 - val_loss: 28.9209 - val_mean_absolute_error: 2.6983\n",
      "Epoch 30/300\n",
      "\u001b[1m165/165\u001b[0m \u001b[32m━━━━━━━━━━━━━━━━━━━━\u001b[0m\u001b[37m\u001b[0m \u001b[1m0s\u001b[0m 1ms/step - loss: 40.8651 - mean_absolute_error: 3.0110 - val_loss: 29.0062 - val_mean_absolute_error: 2.6351\n",
      "Epoch 31/300\n",
      "\u001b[1m165/165\u001b[0m \u001b[32m━━━━━━━━━━━━━━━━━━━━\u001b[0m\u001b[37m\u001b[0m \u001b[1m0s\u001b[0m 2ms/step - loss: 40.7311 - mean_absolute_error: 3.0183 - val_loss: 30.1419 - val_mean_absolute_error: 2.8148\n",
      "Epoch 32/300\n",
      "\u001b[1m165/165\u001b[0m \u001b[32m━━━━━━━━━━━━━━━━━━━━\u001b[0m\u001b[37m\u001b[0m \u001b[1m0s\u001b[0m 2ms/step - loss: 40.1827 - mean_absolute_error: 2.9835 - val_loss: 30.5717 - val_mean_absolute_error: 2.6466\n",
      "Epoch 33/300\n",
      "\u001b[1m165/165\u001b[0m \u001b[32m━━━━━━━━━━━━━━━━━━━━\u001b[0m\u001b[37m\u001b[0m \u001b[1m0s\u001b[0m 2ms/step - loss: 40.2836 - mean_absolute_error: 2.9676 - val_loss: 34.3219 - val_mean_absolute_error: 2.7245\n",
      "Epoch 34/300\n",
      "\u001b[1m165/165\u001b[0m \u001b[32m━━━━━━━━━━━━━━━━━━━━\u001b[0m\u001b[37m\u001b[0m \u001b[1m0s\u001b[0m 2ms/step - loss: 39.0726 - mean_absolute_error: 2.9192 - val_loss: 36.0010 - val_mean_absolute_error: 2.8544\n",
      "Epoch 35/300\n",
      "\u001b[1m165/165\u001b[0m \u001b[32m━━━━━━━━━━━━━━━━━━━━\u001b[0m\u001b[37m\u001b[0m \u001b[1m0s\u001b[0m 1ms/step - loss: 39.4348 - mean_absolute_error: 2.9506 - val_loss: 28.9709 - val_mean_absolute_error: 2.6634\n",
      "Epoch 36/300\n",
      "\u001b[1m165/165\u001b[0m \u001b[32m━━━━━━━━━━━━━━━━━━━━\u001b[0m\u001b[37m\u001b[0m \u001b[1m0s\u001b[0m 2ms/step - loss: 39.6044 - mean_absolute_error: 2.9337 - val_loss: 28.2431 - val_mean_absolute_error: 2.6866\n",
      "Epoch 37/300\n",
      "\u001b[1m165/165\u001b[0m \u001b[32m━━━━━━━━━━━━━━━━━━━━\u001b[0m\u001b[37m\u001b[0m \u001b[1m0s\u001b[0m 2ms/step - loss: 39.1435 - mean_absolute_error: 2.9262 - val_loss: 30.9774 - val_mean_absolute_error: 2.7050\n",
      "Epoch 38/300\n",
      "\u001b[1m165/165\u001b[0m \u001b[32m━━━━━━━━━━━━━━━━━━━━\u001b[0m\u001b[37m\u001b[0m \u001b[1m0s\u001b[0m 2ms/step - loss: 39.2844 - mean_absolute_error: 2.9340 - val_loss: 28.4656 - val_mean_absolute_error: 2.7002\n",
      "Epoch 39/300\n",
      "\u001b[1m165/165\u001b[0m \u001b[32m━━━━━━━━━━━━━━━━━━━━\u001b[0m\u001b[37m\u001b[0m \u001b[1m0s\u001b[0m 1ms/step - loss: 39.1105 - mean_absolute_error: 2.9317 - val_loss: 32.7107 - val_mean_absolute_error: 2.7072\n",
      "Epoch 40/300\n",
      "\u001b[1m165/165\u001b[0m \u001b[32m━━━━━━━━━━━━━━━━━━━━\u001b[0m\u001b[37m\u001b[0m \u001b[1m0s\u001b[0m 1ms/step - loss: 38.6017 - mean_absolute_error: 2.9060 - val_loss: 29.4265 - val_mean_absolute_error: 2.6105\n",
      "Epoch 41/300\n",
      "\u001b[1m165/165\u001b[0m \u001b[32m━━━━━━━━━━━━━━━━━━━━\u001b[0m\u001b[37m\u001b[0m \u001b[1m0s\u001b[0m 1ms/step - loss: 38.2065 - mean_absolute_error: 2.8955 - val_loss: 37.3189 - val_mean_absolute_error: 3.3196\n",
      "Epoch 42/300\n",
      "\u001b[1m165/165\u001b[0m \u001b[32m━━━━━━━━━━━━━━━━━━━━\u001b[0m\u001b[37m\u001b[0m \u001b[1m0s\u001b[0m 1ms/step - loss: 38.0698 - mean_absolute_error: 2.9004 - val_loss: 31.3612 - val_mean_absolute_error: 2.7382\n",
      "Epoch 43/300\n",
      "\u001b[1m165/165\u001b[0m \u001b[32m━━━━━━━━━━━━━━━━━━━━\u001b[0m\u001b[37m\u001b[0m \u001b[1m0s\u001b[0m 2ms/step - loss: 38.3408 - mean_absolute_error: 2.9090 - val_loss: 30.6683 - val_mean_absolute_error: 2.8439\n",
      "Epoch 44/300\n",
      "\u001b[1m165/165\u001b[0m \u001b[32m━━━━━━━━━━━━━━━━━━━━\u001b[0m\u001b[37m\u001b[0m \u001b[1m0s\u001b[0m 1ms/step - loss: 38.4162 - mean_absolute_error: 2.9002 - val_loss: 30.3540 - val_mean_absolute_error: 2.6574\n",
      "Epoch 45/300\n",
      "\u001b[1m165/165\u001b[0m \u001b[32m━━━━━━━━━━━━━━━━━━━━\u001b[0m\u001b[37m\u001b[0m \u001b[1m0s\u001b[0m 1ms/step - loss: 37.8694 - mean_absolute_error: 2.8684 - val_loss: 30.1747 - val_mean_absolute_error: 2.6768\n",
      "Epoch 46/300\n",
      "\u001b[1m165/165\u001b[0m \u001b[32m━━━━━━━━━━━━━━━━━━━━\u001b[0m\u001b[37m\u001b[0m \u001b[1m0s\u001b[0m 1ms/step - loss: 37.8103 - mean_absolute_error: 2.8804 - val_loss: 29.2382 - val_mean_absolute_error: 2.7720\n",
      "Epoch 47/300\n",
      "\u001b[1m165/165\u001b[0m \u001b[32m━━━━━━━━━━━━━━━━━━━━\u001b[0m\u001b[37m\u001b[0m \u001b[1m0s\u001b[0m 2ms/step - loss: 39.1035 - mean_absolute_error: 2.9322 - val_loss: 30.7507 - val_mean_absolute_error: 2.7650\n",
      "Epoch 48/300\n",
      "\u001b[1m165/165\u001b[0m \u001b[32m━━━━━━━━━━━━━━━━━━━━\u001b[0m\u001b[37m\u001b[0m \u001b[1m0s\u001b[0m 2ms/step - loss: 38.4558 - mean_absolute_error: 2.9079 - val_loss: 33.4829 - val_mean_absolute_error: 2.7777\n",
      "Epoch 49/300\n",
      "\u001b[1m165/165\u001b[0m \u001b[32m━━━━━━━━━━━━━━━━━━━━\u001b[0m\u001b[37m\u001b[0m \u001b[1m0s\u001b[0m 2ms/step - loss: 37.8279 - mean_absolute_error: 2.8726 - val_loss: 29.7059 - val_mean_absolute_error: 2.5706\n",
      "Epoch 50/300\n",
      "\u001b[1m165/165\u001b[0m \u001b[32m━━━━━━━━━━━━━━━━━━━━\u001b[0m\u001b[37m\u001b[0m \u001b[1m0s\u001b[0m 2ms/step - loss: 37.4512 - mean_absolute_error: 2.8492 - val_loss: 31.7483 - val_mean_absolute_error: 2.7593\n",
      "Epoch 51/300\n",
      "\u001b[1m165/165\u001b[0m \u001b[32m━━━━━━━━━━━━━━━━━━━━\u001b[0m\u001b[37m\u001b[0m \u001b[1m0s\u001b[0m 1ms/step - loss: 37.8147 - mean_absolute_error: 2.8595 - val_loss: 31.2862 - val_mean_absolute_error: 2.6442\n",
      "Epoch 52/300\n",
      "\u001b[1m165/165\u001b[0m \u001b[32m━━━━━━━━━━━━━━━━━━━━\u001b[0m\u001b[37m\u001b[0m \u001b[1m0s\u001b[0m 2ms/step - loss: 38.1512 - mean_absolute_error: 2.8807 - val_loss: 32.2551 - val_mean_absolute_error: 2.9291\n",
      "Epoch 53/300\n",
      "\u001b[1m165/165\u001b[0m \u001b[32m━━━━━━━━━━━━━━━━━━━━\u001b[0m\u001b[37m\u001b[0m \u001b[1m0s\u001b[0m 2ms/step - loss: 36.8156 - mean_absolute_error: 2.8157 - val_loss: 32.1511 - val_mean_absolute_error: 2.7358\n",
      "Epoch 54/300\n",
      "\u001b[1m165/165\u001b[0m \u001b[32m━━━━━━━━━━━━━━━━━━━━\u001b[0m\u001b[37m\u001b[0m \u001b[1m0s\u001b[0m 1ms/step - loss: 36.6920 - mean_absolute_error: 2.8061 - val_loss: 31.3952 - val_mean_absolute_error: 2.6578\n",
      "Epoch 55/300\n",
      "\u001b[1m165/165\u001b[0m \u001b[32m━━━━━━━━━━━━━━━━━━━━\u001b[0m\u001b[37m\u001b[0m \u001b[1m0s\u001b[0m 2ms/step - loss: 37.0951 - mean_absolute_error: 2.8403 - val_loss: 30.7988 - val_mean_absolute_error: 2.6944\n",
      "Epoch 56/300\n",
      "\u001b[1m165/165\u001b[0m \u001b[32m━━━━━━━━━━━━━━━━━━━━\u001b[0m\u001b[37m\u001b[0m \u001b[1m0s\u001b[0m 1ms/step - loss: 36.5426 - mean_absolute_error: 2.7900 - val_loss: 30.9554 - val_mean_absolute_error: 2.7421\n"
     ]
    }
   ],
   "source": [
    "early_stop = EarlyStopping(monitor='val_loss', patience=20, restore_best_weights=True)\n",
    "\n",
    "# Train the model\n",
    "history = model.fit(X_train, y_train, validation_data=(X_val, y_val),\n",
    "        epochs=300,batch_size = 128,callbacks=[early_stop], verbose=1)"
   ]
  },
  {
   "cell_type": "code",
   "execution_count": 12,
   "metadata": {},
   "outputs": [
    {
     "data": {
      "text/plain": [
       "<matplotlib.legend.Legend at 0x287a06a5b40>"
      ]
     },
     "execution_count": 12,
     "metadata": {},
     "output_type": "execute_result"
    },
    {
     "data": {
      "image/png": "[encoded data removed]",
      "text/plain": [
       "<Figure size 1500x800 with 1 Axes>"
      ]
     },
     "metadata": {},
     "output_type": "display_data"
    },
    {
     "data": {
      "image/png": "[encoded data removed]",
      "text/plain": [
       "<Figure size 1500x800 with 1 Axes>"
      ]
     },
     "metadata": {},
     "output_type": "display_data"
    }
   ],
   "source": [
    "fig, ax = plt.subplots(figsize=(15, 8))\n",
    "ax.plot(history.history['loss'], label='Training MSE', color='orange', linewidth=2, markersize=6)\n",
    "ax.plot(history.history['val_loss'], label='Validation MSE', color='blue', linewidth=2, markersize=6)\n",
    "ax.set_title('MSE (loss)')\n",
    "ax.set_xlabel('Epoch')\n",
    "ax.set_ylabel('MSE')\n",
    "ax.legend()\n",
    "\n",
    "fig, ax = plt.subplots(figsize=(15, 8))\n",
    "ax.plot(history.history['mean_absolute_error'], label='Training MAE', color='orange', linewidth=2, markersize=6)\n",
    "ax.plot(history.history['val_mean_absolute_error'], label='Validation MAE', color='blue', linewidth=2, markersize=6)\n",
    "ax.set_title('MAE')\n",
    "ax.set_xlabel('Epoch')\n",
    "ax.set_ylabel('MAE')\n",
    "ax.legend()"
   ]
  },
  {
   "cell_type": "code",
   "execution_count": 13,
   "metadata": {},
   "outputs": [],
   "source": [
    "# MAE is 2.4 Kwh is kind of acceptable, which means the model can monitor energy consumption.\n",
    "# Model does not overfit."
   ]
  },
  {
   "cell_type": "code",
   "execution_count": 14,
   "metadata": {},
   "outputs": [
    {
     "name": "stdout",
     "output_type": "stream",
     "text": [
      "\u001b[1m83/83\u001b[0m \u001b[32m━━━━━━━━━━━━━━━━━━━━\u001b[0m\u001b[37m\u001b[0m \u001b[1m0s\u001b[0m 1ms/step  \n"
     ]
    }
   ],
   "source": [
    "# Making predictions:\n",
    "y_pred = model.predict(X_test)\n",
    "# Calculate metrics\n",
    "mse = mean_squared_error(y_test, y_pred)\n",
    "rmse = np.sqrt(mse)\n",
    "mae = mean_absolute_error(y_test, y_pred)\n",
    "r2 = r2_score(y_test, y_pred)"
   ]
  },
  {
   "cell_type": "code",
   "execution_count": 15,
   "metadata": {},
   "outputs": [
    {
     "name": "stdout",
     "output_type": "stream",
     "text": [
      "Metrics:\n",
      "MSE: 14.8015\n",
      "RMSE: 3.8473\n",
      "MAE: 1.9825\n",
      "R²: 0.9734\n"
     ]
    }
   ],
   "source": [
    "metrics = {'MSE': mse,'RMSE': rmse,'MAE': mae,'R²': r2}\n",
    "print(\"Metrics:\")\n",
    "for metric, value in metrics.items():\n",
    "    print(f\"{metric}: {value:.4f}\")"
   ]
  },
  {
   "cell_type": "code",
   "execution_count": 16,
   "metadata": {},
   "outputs": [],
   "source": [
    "# It seems that the model is trained well.\n",
    "# R2 shows that the model explains 97.4 % of the variance in energy usage.\n",
    "# MAE is 1.91 kWh, the model predicts by average 1.91 kWh error."
   ]
  },
  {
   "cell_type": "code",
   "execution_count": 17,
   "metadata": {},
   "outputs": [
    {
     "data": {
      "image/png": "[encoded data removed]",
      "text/plain": [
       "<Figure size 800x600 with 1 Axes>"
      ]
     },
     "metadata": {},
     "output_type": "display_data"
    }
   ],
   "source": [
    "sns.set_style(\"whitegrid\")\n",
    "plt.figure(figsize=(8, 6))\n",
    "sns.scatterplot(x=y_test, y=y_pred.flatten(), alpha=0.6)\n",
    "plt.plot([y_test.min(), y_test.max()], [y_test.min(), y_test.max()], 'r--', lw=2)\n",
    "plt.xlabel('Actual Usage_kWh')\n",
    "plt.ylabel('Predicted Usage_kWh')\n",
    "plt.title('Predictions vs Actual')\n",
    "plt.tight_layout()\n",
    "plt.show()"
   ]
  },
  {
   "cell_type": "markdown",
   "metadata": {},
   "source": [
    "<center><h2>Hyperparameter Tuning the ANN Model<h2></center>"
   ]
  },
  {
   "cell_type": "code",
   "execution_count": 18,
   "metadata": {},
   "outputs": [
    {
     "name": "stdout",
     "output_type": "stream",
     "text": [
      "Reloading Tuner from tuner_results\\steel_energy\\tuner0.json\n"
     ]
    }
   ],
   "source": [
    "# After defining the model architecture and I picked the hyperameter manually.\n",
    "# Now I am going to use Keras Tuner to find the best hyperparameters for my model.\n",
    "# There are many algorithms for searching hyperparameters, Grid Search, Random Search, and Bayesian Optimization \n",
    "# I will use Bayesian Optimization, it uses past trail results to choose the next hyperparams\n",
    "\n",
    "def ann_model(hp):\n",
    "    model = Sequential()\n",
    "    # Here I will define number of layers and neurons\n",
    "    # 2-4 Hidden layers and 16 - 256 neurons\n",
    "    for i in range(hp.Int('num_layers', 2, 4)):\n",
    "        model.add(layers.Dense(units = hp.Int(f'layers_{i}', min_value=16, max_value=256, step=16),\n",
    "                               activation = hp.Choice('activation', values=['relu', 'tanh'])))\n",
    "        \n",
    "        # let's tune dropout \n",
    "        model.add(Dropout(rate=hp.Float(f'dropout_{i}', min_value=0.1, max_value=0.5, step=0.1)))\n",
    "\n",
    "    # Output layer (outside the loop)\n",
    "    model.add(layers.Dense(units=1))\n",
    "\n",
    "    \n",
    "    # Tuning Optimizer and learning rate \n",
    "    learning_rate_tune = hp.Float('learning_rate', 1e-4, 1e-2, sampling='LOG')\n",
    "    # The tuner will try each one to see which works best for energy DS\n",
    "    optimizer_tune = hp.Choice('optimizer', values=['adam', 'rmsprop', 'sgd'])\n",
    "   # Since each optimizer handles learning rates differently, I need to set the learning rate for each one\n",
    "    if optimizer_tune == 'adam':\n",
    "        optimizer = Adam(learning_rate=learning_rate_tune)\n",
    "    # RMSprop adjusts it based on recent gradients\n",
    "    elif optimizer_tune == 'rmsprop':\n",
    "        optimizer = RMSprop(learning_rate=learning_rate_tune)\n",
    "    else:\n",
    "        optimizer = SGD(learning_rate=learning_rate_tune)\n",
    "    # Compiling the Model\n",
    "    model.compile(optimizer=optimizer, loss='mean_squared_error', metrics=['mae'])\n",
    "    return model\n",
    "\n",
    "\n",
    "\n",
    "# Searching \n",
    "tuner = kt.BayesianOptimization(\n",
    "    ann_model,\n",
    "    objective='val_loss',\n",
    "    max_trials=20, \n",
    "    directory='tuner_results',\n",
    "    project_name='steel_energy')\n",
    "\n",
    "# Searching for best hyperparameters\n",
    "tuner.search(\n",
    "    X_train, y_train,\n",
    "    epochs=50,\n",
    "    validation_data=(X_val, y_val),\n",
    "    callbacks=[keras.callbacks.EarlyStopping(patience=5)],\n",
    "    verbose=1\n",
    ")\n",
    "\n",
    "# Getting best model and hyperparameters:\n",
    "# Finding the one with the lowest validation loss\n",
    "best_hyperparameters = tuner.get_best_hyperparameters(num_trials=1)[0]\n",
    "best_model = tuner.hypermodel.build(best_hyperparameters)"
   ]
  },
  {
   "cell_type": "code",
   "execution_count": 19,
   "metadata": {},
   "outputs": [
    {
     "data": {
      "application/vnd.microsoft.datawrangler.viewer.v0+json": {
       "columns": [
        {
         "name": "index",
         "rawType": "int64",
         "type": "integer"
        },
        {
         "name": "index",
         "rawType": "object",
         "type": "string"
        },
        {
         "name": "0",
         "rawType": "object",
         "type": "unknown"
        }
       ],
       "ref": "ef696f28-750f-4659-b41c-d54768fe3aaa",
       "rows": [
        [
         "0",
         "num_layers",
         "2"
        ],
        [
         "1",
         "layers_0",
         "256"
        ],
        [
         "2",
         "activation",
         "tanh"
        ],
        [
         "3",
         "dropout_0",
         "0.2"
        ],
        [
         "4",
         "layers_1",
         "192"
        ],
        [
         "5",
         "dropout_1",
         "0.1"
        ],
        [
         "6",
         "optimizer",
         "adam"
        ],
        [
         "7",
         "learning_rate",
         "0.00031379448250526605"
        ],
        [
         "8",
         "layers_2",
         "32"
        ],
        [
         "9",
         "dropout_2",
         "0.1"
        ],
        [
         "10",
         "layers_3",
         "48"
        ],
        [
         "11",
         "dropout_3",
         "0.2"
        ]
       ],
       "shape": {
        "columns": 2,
        "rows": 12
       }
      },
      "text/html": [
       "<div>\n",
       "<style scoped>\n",
       "    .dataframe tbody tr th:only-of-type {\n",
       "        vertical-align: middle;\n",
       "    }\n",
       "\n",
       "    .dataframe tbody tr th {\n",
       "        vertical-align: top;\n",
       "    }\n",
       "\n",
       "    .dataframe thead th {\n",
       "        text-align: right;\n",
       "    }\n",
       "</style>\n",
       "<table border=\"1\" class=\"dataframe\">\n",
       "  <thead>\n",
       "    <tr style=\"text-align: right;\">\n",
       "      <th></th>\n",
       "      <th>index</th>\n",
       "      <th>0</th>\n",
       "    </tr>\n",
       "  </thead>\n",
       "  <tbody>\n",
       "    <tr>\n",
       "      <th>0</th>\n",
       "      <td>num_layers</td>\n",
       "      <td>2</td>\n",
       "    </tr>\n",
       "    <tr>\n",
       "      <th>1</th>\n",
       "      <td>layers_0</td>\n",
       "      <td>256</td>\n",
       "    </tr>\n",
       "    <tr>\n",
       "      <th>2</th>\n",
       "      <td>activation</td>\n",
       "      <td>tanh</td>\n",
       "    </tr>\n",
       "    <tr>\n",
       "      <th>3</th>\n",
       "      <td>dropout_0</td>\n",
       "      <td>0.2</td>\n",
       "    </tr>\n",
       "    <tr>\n",
       "      <th>4</th>\n",
       "      <td>layers_1</td>\n",
       "      <td>192</td>\n",
       "    </tr>\n",
       "    <tr>\n",
       "      <th>5</th>\n",
       "      <td>dropout_1</td>\n",
       "      <td>0.1</td>\n",
       "    </tr>\n",
       "    <tr>\n",
       "      <th>6</th>\n",
       "      <td>optimizer</td>\n",
       "      <td>adam</td>\n",
       "    </tr>\n",
       "    <tr>\n",
       "      <th>7</th>\n",
       "      <td>learning_rate</td>\n",
       "      <td>0.000314</td>\n",
       "    </tr>\n",
       "    <tr>\n",
       "      <th>8</th>\n",
       "      <td>layers_2</td>\n",
       "      <td>32</td>\n",
       "    </tr>\n",
       "    <tr>\n",
       "      <th>9</th>\n",
       "      <td>dropout_2</td>\n",
       "      <td>0.1</td>\n",
       "    </tr>\n",
       "    <tr>\n",
       "      <th>10</th>\n",
       "      <td>layers_3</td>\n",
       "      <td>48</td>\n",
       "    </tr>\n",
       "    <tr>\n",
       "      <th>11</th>\n",
       "      <td>dropout_3</td>\n",
       "      <td>0.2</td>\n",
       "    </tr>\n",
       "  </tbody>\n",
       "</table>\n",
       "</div>"
      ],
      "text/plain": [
       "            index         0\n",
       "0      num_layers         2\n",
       "1        layers_0       256\n",
       "2      activation      tanh\n",
       "3       dropout_0       0.2\n",
       "4        layers_1       192\n",
       "5       dropout_1       0.1\n",
       "6       optimizer      adam\n",
       "7   learning_rate  0.000314\n",
       "8        layers_2        32\n",
       "9       dropout_2       0.1\n",
       "10       layers_3        48\n",
       "11      dropout_3       0.2"
      ]
     },
     "execution_count": 19,
     "metadata": {},
     "output_type": "execute_result"
    }
   ],
   "source": [
    "tuned_params =  best_hyperparameters.values\n",
    "tuned_params = pd.DataFrame.from_dict(tuned_params, orient='index').reset_index()\n",
    "tuned_params"
   ]
  }
 ],
 "metadata": {
  "kernelspec": {
   "display_name": ".venv",
   "language": "python",
   "name": "python3"
  },
  "language_info": {
   "codemirror_mode": {
    "name": "ipython",
    "version": 3
   },
   "file_extension": ".py",
   "mimetype": "text/x-python",
   "name": "python",
   "nbconvert_exporter": "python",
   "pygments_lexer": "ipython3",
   "version": "3.10.11"
  }
 },
 "nbformat": 4,
 "nbformat_minor": 2
}

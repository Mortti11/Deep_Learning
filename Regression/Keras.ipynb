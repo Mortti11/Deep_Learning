{
 "cells": [
  {
   "cell_type": "code",
   "execution_count": 1,
   "metadata": {},
   "outputs": [],
   "source": [
    "import matplotlib.pyplot as plt\n",
    "import seaborn as sns\n",
    "import numpy as np\n",
    "import pandas as pd\n",
    "\n",
    "\n",
    "from sklearn.preprocessing import StandardScaler, RobustScaler\n",
    "from sklearn.metrics import mean_squared_error, mean_absolute_error, r2_score\n",
    "from sklearn.model_selection import TimeSeriesSplit\n",
    "from sklearn.compose import ColumnTransformer\n",
    "\n",
    "\n",
    "import tensorflow as tf\n",
    "from tensorflow.keras import Sequential\n",
    "from tensorflow.keras.layers import Dense, Dropout\n",
    "from tensorflow.keras.callbacks import EarlyStopping\n",
    "import keras_tuner as kt\n",
    "from tensorflow.keras import layers\n",
    "from tensorflow.keras.optimizers import Adam, RMSprop, SGD\n",
    "import tensorflow.keras as keras"
   ]
  },
  {
   "cell_type": "code",
   "execution_count": 4,
   "metadata": {},
   "outputs": [
    {
     "data": {
      "application/vnd.microsoft.datawrangler.viewer.v0+json": {
       "columns": [
        {
         "name": "index",
         "rawType": "int64",
         "type": "integer"
        },
        {
         "name": "Usage_kWh",
         "rawType": "float64",
         "type": "float"
        },
        {
         "name": "Lagging_Current_Reactive.Power_kVarh",
         "rawType": "float64",
         "type": "float"
        },
        {
         "name": "Leading_Current_Reactive_Power_kVarh",
         "rawType": "float64",
         "type": "float"
        },
        {
         "name": "Load_Type_Maximum_Load",
         "rawType": "int64",
         "type": "integer"
        },
        {
         "name": "Load_Type_Medium_Load",
         "rawType": "int64",
         "type": "integer"
        },
        {
         "name": "time_minutes_sin",
         "rawType": "float64",
         "type": "float"
        },
        {
         "name": "time_minutes_cos",
         "rawType": "float64",
         "type": "float"
        },
        {
         "name": "month_sin",
         "rawType": "float64",
         "type": "float"
        },
        {
         "name": "month_cos",
         "rawType": "float64",
         "type": "float"
        }
       ],
       "ref": "5756a161-bb28-428b-9b23-415529b37816",
       "rows": [
        [
         "0",
         "3.17",
         "2.95",
         "0.0",
         "0",
         "0",
         "0.065403129230143",
         "0.9978589232386036",
         "0.4999999999999999",
         "0.8660254037844387"
        ],
        [
         "1",
         "4.0",
         "4.46",
         "0.0",
         "0",
         "0",
         "0.1305261922200515",
         "0.9914448613738104",
         "0.4999999999999999",
         "0.8660254037844387"
        ],
        [
         "2",
         "3.24",
         "3.28",
         "0.0",
         "0",
         "0",
         "0.1950903220161282",
         "0.9807852804032304",
         "0.4999999999999999",
         "0.8660254037844387"
        ],
        [
         "3",
         "3.31",
         "3.56",
         "0.0",
         "0",
         "0",
         "0.2588190451025207",
         "0.9659258262890684",
         "0.4999999999999999",
         "0.8660254037844387"
        ],
        [
         "4",
         "3.82",
         "4.5",
         "0.0",
         "0",
         "0",
         "0.3214394653031616",
         "0.9469301294951056",
         "0.4999999999999999",
         "0.8660254037844387"
        ]
       ],
       "shape": {
        "columns": 9,
        "rows": 5
       }
      },
      "text/html": [
       "<div>\n",
       "<style scoped>\n",
       "    .dataframe tbody tr th:only-of-type {\n",
       "        vertical-align: middle;\n",
       "    }\n",
       "\n",
       "    .dataframe tbody tr th {\n",
       "        vertical-align: top;\n",
       "    }\n",
       "\n",
       "    .dataframe thead th {\n",
       "        text-align: right;\n",
       "    }\n",
       "</style>\n",
       "<table border=\"1\" class=\"dataframe\">\n",
       "  <thead>\n",
       "    <tr style=\"text-align: right;\">\n",
       "      <th></th>\n",
       "      <th>Usage_kWh</th>\n",
       "      <th>Lagging_Current_Reactive.Power_kVarh</th>\n",
       "      <th>Leading_Current_Reactive_Power_kVarh</th>\n",
       "      <th>Load_Type_Maximum_Load</th>\n",
       "      <th>Load_Type_Medium_Load</th>\n",
       "      <th>time_minutes_sin</th>\n",
       "      <th>time_minutes_cos</th>\n",
       "      <th>month_sin</th>\n",
       "      <th>month_cos</th>\n",
       "    </tr>\n",
       "  </thead>\n",
       "  <tbody>\n",
       "    <tr>\n",
       "      <th>0</th>\n",
       "      <td>3.17</td>\n",
       "      <td>2.95</td>\n",
       "      <td>0.0</td>\n",
       "      <td>0</td>\n",
       "      <td>0</td>\n",
       "      <td>0.065403</td>\n",
       "      <td>0.997859</td>\n",
       "      <td>0.5</td>\n",
       "      <td>0.866025</td>\n",
       "    </tr>\n",
       "    <tr>\n",
       "      <th>1</th>\n",
       "      <td>4.00</td>\n",
       "      <td>4.46</td>\n",
       "      <td>0.0</td>\n",
       "      <td>0</td>\n",
       "      <td>0</td>\n",
       "      <td>0.130526</td>\n",
       "      <td>0.991445</td>\n",
       "      <td>0.5</td>\n",
       "      <td>0.866025</td>\n",
       "    </tr>\n",
       "    <tr>\n",
       "      <th>2</th>\n",
       "      <td>3.24</td>\n",
       "      <td>3.28</td>\n",
       "      <td>0.0</td>\n",
       "      <td>0</td>\n",
       "      <td>0</td>\n",
       "      <td>0.195090</td>\n",
       "      <td>0.980785</td>\n",
       "      <td>0.5</td>\n",
       "      <td>0.866025</td>\n",
       "    </tr>\n",
       "    <tr>\n",
       "      <th>3</th>\n",
       "      <td>3.31</td>\n",
       "      <td>3.56</td>\n",
       "      <td>0.0</td>\n",
       "      <td>0</td>\n",
       "      <td>0</td>\n",
       "      <td>0.258819</td>\n",
       "      <td>0.965926</td>\n",
       "      <td>0.5</td>\n",
       "      <td>0.866025</td>\n",
       "    </tr>\n",
       "    <tr>\n",
       "      <th>4</th>\n",
       "      <td>3.82</td>\n",
       "      <td>4.50</td>\n",
       "      <td>0.0</td>\n",
       "      <td>0</td>\n",
       "      <td>0</td>\n",
       "      <td>0.321439</td>\n",
       "      <td>0.946930</td>\n",
       "      <td>0.5</td>\n",
       "      <td>0.866025</td>\n",
       "    </tr>\n",
       "  </tbody>\n",
       "</table>\n",
       "</div>"
      ],
      "text/plain": [
       "   Usage_kWh  Lagging_Current_Reactive.Power_kVarh  \\\n",
       "0       3.17                                  2.95   \n",
       "1       4.00                                  4.46   \n",
       "2       3.24                                  3.28   \n",
       "3       3.31                                  3.56   \n",
       "4       3.82                                  4.50   \n",
       "\n",
       "   Leading_Current_Reactive_Power_kVarh  Load_Type_Maximum_Load  \\\n",
       "0                                   0.0                       0   \n",
       "1                                   0.0                       0   \n",
       "2                                   0.0                       0   \n",
       "3                                   0.0                       0   \n",
       "4                                   0.0                       0   \n",
       "\n",
       "   Load_Type_Medium_Load  time_minutes_sin  time_minutes_cos  month_sin  \\\n",
       "0                      0          0.065403          0.997859        0.5   \n",
       "1                      0          0.130526          0.991445        0.5   \n",
       "2                      0          0.195090          0.980785        0.5   \n",
       "3                      0          0.258819          0.965926        0.5   \n",
       "4                      0          0.321439          0.946930        0.5   \n",
       "\n",
       "   month_cos  \n",
       "0   0.866025  \n",
       "1   0.866025  \n",
       "2   0.866025  \n",
       "3   0.866025  \n",
       "4   0.866025  "
      ]
     },
     "execution_count": 4,
     "metadata": {},
     "output_type": "execute_result"
    }
   ],
   "source": [
    "# Loading the cleaned DS \n",
    "df = pd.read_csv('cleaned_data.csv')\n",
    "df.head()"
   ]
  },
  {
   "cell_type": "code",
   "execution_count": 5,
   "metadata": {},
   "outputs": [
    {
     "data": {
      "text/plain": [
       "(26280, 9)"
      ]
     },
     "execution_count": 5,
     "metadata": {},
     "output_type": "execute_result"
    }
   ],
   "source": [
    "df.shape"
   ]
  },
  {
   "cell_type": "code",
   "execution_count": 9,
   "metadata": {},
   "outputs": [],
   "source": [
    "# In Explor_Prepro notebook the DS is preprocessed.  \n",
    "# In this notebook, I will build Deep Learning model to predict the energy consumption.\n",
    "\n",
    "# The DS has 26280 and 9 columns. The target value is Usage_KWh, it is right skewed.\n",
    "# I am going to handle the scaling, hyperparameter search, model building and finally evaluation my model."
   ]
  },
  {
   "cell_type": "code",
   "execution_count": 6,
   "metadata": {},
   "outputs": [],
   "source": [
    "# Picking up the target and features\n",
    "X = df.drop('Usage_kWh', axis=1)\n",
    "y = df['Usage_kWh']\n",
    "\n",
    "\n",
    "# I can not use random splitting, because the DS is time series\n",
    "n = len(X)\n",
    "# Calculating where the training data should end\n",
    "train_end = int(n*0.80)\n",
    "# Calculating where the val data should end\n",
    "val_end = train_end + int(n*0.10)  \n",
    "# Taking first 80% of the DS for training\n",
    "X_train, y_train = X.iloc[:train_end], y.iloc[:train_end]\n",
    "# Taking next 10% of the DS for val \n",
    "X_val, y_val = X.iloc[train_end:val_end], y.iloc[train_end:val_end]\n",
    "# Taking last 10% of the DS for test\n",
    "X_test, y_test = X.iloc[val_end:], y.iloc[val_end:]\n",
    "# Source: https://stackoverflow.com/questions/50879915/splitting-data-using-time-based-splitting-in-test-and-train-datasets"
   ]
  },
  {
   "cell_type": "code",
   "execution_count": 7,
   "metadata": {},
   "outputs": [
    {
     "name": "stdout",
     "output_type": "stream",
     "text": [
      "Shape of training data: (21024, 8) (21024,)\n",
      "Shape of validation data: (2628, 8) (2628,)\n",
      "Shape of test data: (2628, 8) (2628,)\n"
     ]
    }
   ],
   "source": [
    "print('Shape of training data:', X_train.shape, y_train.shape)\n",
    "print('Shape of validation data:', X_val.shape, y_val.shape)\n",
    "print('Shape of test data:', X_test.shape, y_test.shape)"
   ]
  },
  {
   "cell_type": "code",
   "execution_count": 8,
   "metadata": {},
   "outputs": [],
   "source": [
    "# Scaling my data\n",
    "# For scaling, there are many techniques:\n",
    "# Standard scaler, all features are centered around 0.0\n",
    "# Min Max scaler, the range is (0-1), it is good for bounded data, but my DS is skewed\n",
    "# RobustScaler can handle skewed data and outliers\n",
    "\n",
    "# In my case, RobustScaler is a good choice for handling outliers.\n",
    "\n",
    "# I dont need to scale time columns because they are already between -1 and 1\n",
    "# So I will use RobustScaler for normal features\n",
    "time_columns = ['time_minutes_sin', 'time_minutes_cos', 'month_sin', 'month_cos']\n",
    "normal_features = [col for col in X_train.columns if col not in time_columns]\n",
    "preprocessor = ColumnTransformer(transformers=[('robust', RobustScaler(),\n",
    "    normal_features)],remainder='passthrough')\n",
    "# Source: https://medium.com/@vinodkumargr/11-column-transformer-in-ml-sklearn-column-transformer-in-machine-learning-48479f8cb48f\n",
    "X_train = preprocessor.fit_transform(X_train)\n",
    "X_val = preprocessor.transform(X_val)\n",
    "X_test = preprocessor.transform(X_test)\n"
   ]
  },
  {
   "cell_type": "markdown",
   "metadata": {},
   "source": [
    "<center><h2> Designing the Neural Network Architecture</center>"
   ]
  },
  {
   "cell_type": "code",
   "execution_count": 9,
   "metadata": {},
   "outputs": [
    {
     "name": "stderr",
     "output_type": "stream",
     "text": [
      "d:\\ML&DE\\Deep_Learning\\.venv\\lib\\site-packages\\keras\\src\\layers\\core\\dense.py:92: UserWarning: Do not pass an `input_shape`/`input_dim` argument to a layer. When using Sequential models, prefer using an `Input(shape)` object as the first layer in the model instead.\n",
      "  super().__init__(activity_regularizer=activity_regularizer, **kwargs)\n"
     ]
    },
    {
     "data": {
      "text/html": [
       "<pre style=\"white-space:pre;overflow-x:auto;line-height:normal;font-family:Menlo,'DejaVu Sans Mono',consolas,'Courier New',monospace\"><span style=\"font-weight: bold\">Model: \"sequential\"</span>\n",
       "</pre>\n"
      ],
      "text/plain": [
       "\u001b[1mModel: \"sequential\"\u001b[0m\n"
      ]
     },
     "metadata": {},
     "output_type": "display_data"
    },
    {
     "data": {
      "text/html": [
       "<pre style=\"white-space:pre;overflow-x:auto;line-height:normal;font-family:Menlo,'DejaVu Sans Mono',consolas,'Courier New',monospace\">┏━━━━━━━━━━━━━━━━━━━━━━━━━━━━━━━━━┳━━━━━━━━━━━━━━━━━━━━━━━━┳━━━━━━━━━━━━━━━┓\n",
       "┃<span style=\"font-weight: bold\"> Layer (type)                    </span>┃<span style=\"font-weight: bold\"> Output Shape           </span>┃<span style=\"font-weight: bold\">       Param # </span>┃\n",
       "┡━━━━━━━━━━━━━━━━━━━━━━━━━━━━━━━━━╇━━━━━━━━━━━━━━━━━━━━━━━━╇━━━━━━━━━━━━━━━┩\n",
       "│ dense (<span style=\"color: #0087ff; text-decoration-color: #0087ff\">Dense</span>)                   │ (<span style=\"color: #00d7ff; text-decoration-color: #00d7ff\">None</span>, <span style=\"color: #00af00; text-decoration-color: #00af00\">128</span>)            │         <span style=\"color: #00af00; text-decoration-color: #00af00\">1,152</span> │\n",
       "├─────────────────────────────────┼────────────────────────┼───────────────┤\n",
       "│ dropout (<span style=\"color: #0087ff; text-decoration-color: #0087ff\">Dropout</span>)               │ (<span style=\"color: #00d7ff; text-decoration-color: #00d7ff\">None</span>, <span style=\"color: #00af00; text-decoration-color: #00af00\">128</span>)            │             <span style=\"color: #00af00; text-decoration-color: #00af00\">0</span> │\n",
       "├─────────────────────────────────┼────────────────────────┼───────────────┤\n",
       "│ dense_1 (<span style=\"color: #0087ff; text-decoration-color: #0087ff\">Dense</span>)                 │ (<span style=\"color: #00d7ff; text-decoration-color: #00d7ff\">None</span>, <span style=\"color: #00af00; text-decoration-color: #00af00\">64</span>)             │         <span style=\"color: #00af00; text-decoration-color: #00af00\">8,256</span> │\n",
       "├─────────────────────────────────┼────────────────────────┼───────────────┤\n",
       "│ dropout_1 (<span style=\"color: #0087ff; text-decoration-color: #0087ff\">Dropout</span>)             │ (<span style=\"color: #00d7ff; text-decoration-color: #00d7ff\">None</span>, <span style=\"color: #00af00; text-decoration-color: #00af00\">64</span>)             │             <span style=\"color: #00af00; text-decoration-color: #00af00\">0</span> │\n",
       "├─────────────────────────────────┼────────────────────────┼───────────────┤\n",
       "│ dense_2 (<span style=\"color: #0087ff; text-decoration-color: #0087ff\">Dense</span>)                 │ (<span style=\"color: #00d7ff; text-decoration-color: #00d7ff\">None</span>, <span style=\"color: #00af00; text-decoration-color: #00af00\">64</span>)             │         <span style=\"color: #00af00; text-decoration-color: #00af00\">4,160</span> │\n",
       "├─────────────────────────────────┼────────────────────────┼───────────────┤\n",
       "│ dropout_2 (<span style=\"color: #0087ff; text-decoration-color: #0087ff\">Dropout</span>)             │ (<span style=\"color: #00d7ff; text-decoration-color: #00d7ff\">None</span>, <span style=\"color: #00af00; text-decoration-color: #00af00\">64</span>)             │             <span style=\"color: #00af00; text-decoration-color: #00af00\">0</span> │\n",
       "├─────────────────────────────────┼────────────────────────┼───────────────┤\n",
       "│ dense_3 (<span style=\"color: #0087ff; text-decoration-color: #0087ff\">Dense</span>)                 │ (<span style=\"color: #00d7ff; text-decoration-color: #00d7ff\">None</span>, <span style=\"color: #00af00; text-decoration-color: #00af00\">1</span>)              │            <span style=\"color: #00af00; text-decoration-color: #00af00\">65</span> │\n",
       "└─────────────────────────────────┴────────────────────────┴───────────────┘\n",
       "</pre>\n"
      ],
      "text/plain": [
       "┏━━━━━━━━━━━━━━━━━━━━━━━━━━━━━━━━━┳━━━━━━━━━━━━━━━━━━━━━━━━┳━━━━━━━━━━━━━━━┓\n",
       "┃\u001b[1m \u001b[0m\u001b[1mLayer (type)                   \u001b[0m\u001b[1m \u001b[0m┃\u001b[1m \u001b[0m\u001b[1mOutput Shape          \u001b[0m\u001b[1m \u001b[0m┃\u001b[1m \u001b[0m\u001b[1m      Param #\u001b[0m\u001b[1m \u001b[0m┃\n",
       "┡━━━━━━━━━━━━━━━━━━━━━━━━━━━━━━━━━╇━━━━━━━━━━━━━━━━━━━━━━━━╇━━━━━━━━━━━━━━━┩\n",
       "│ dense (\u001b[38;5;33mDense\u001b[0m)                   │ (\u001b[38;5;45mNone\u001b[0m, \u001b[38;5;34m128\u001b[0m)            │         \u001b[38;5;34m1,152\u001b[0m │\n",
       "├─────────────────────────────────┼────────────────────────┼───────────────┤\n",
       "│ dropout (\u001b[38;5;33mDropout\u001b[0m)               │ (\u001b[38;5;45mNone\u001b[0m, \u001b[38;5;34m128\u001b[0m)            │             \u001b[38;5;34m0\u001b[0m │\n",
       "├─────────────────────────────────┼────────────────────────┼───────────────┤\n",
       "│ dense_1 (\u001b[38;5;33mDense\u001b[0m)                 │ (\u001b[38;5;45mNone\u001b[0m, \u001b[38;5;34m64\u001b[0m)             │         \u001b[38;5;34m8,256\u001b[0m │\n",
       "├─────────────────────────────────┼────────────────────────┼───────────────┤\n",
       "│ dropout_1 (\u001b[38;5;33mDropout\u001b[0m)             │ (\u001b[38;5;45mNone\u001b[0m, \u001b[38;5;34m64\u001b[0m)             │             \u001b[38;5;34m0\u001b[0m │\n",
       "├─────────────────────────────────┼────────────────────────┼───────────────┤\n",
       "│ dense_2 (\u001b[38;5;33mDense\u001b[0m)                 │ (\u001b[38;5;45mNone\u001b[0m, \u001b[38;5;34m64\u001b[0m)             │         \u001b[38;5;34m4,160\u001b[0m │\n",
       "├─────────────────────────────────┼────────────────────────┼───────────────┤\n",
       "│ dropout_2 (\u001b[38;5;33mDropout\u001b[0m)             │ (\u001b[38;5;45mNone\u001b[0m, \u001b[38;5;34m64\u001b[0m)             │             \u001b[38;5;34m0\u001b[0m │\n",
       "├─────────────────────────────────┼────────────────────────┼───────────────┤\n",
       "│ dense_3 (\u001b[38;5;33mDense\u001b[0m)                 │ (\u001b[38;5;45mNone\u001b[0m, \u001b[38;5;34m1\u001b[0m)              │            \u001b[38;5;34m65\u001b[0m │\n",
       "└─────────────────────────────────┴────────────────────────┴───────────────┘\n"
      ]
     },
     "metadata": {},
     "output_type": "display_data"
    },
    {
     "data": {
      "text/html": [
       "<pre style=\"white-space:pre;overflow-x:auto;line-height:normal;font-family:Menlo,'DejaVu Sans Mono',consolas,'Courier New',monospace\"><span style=\"font-weight: bold\"> Total params: </span><span style=\"color: #00af00; text-decoration-color: #00af00\">13,633</span> (53.25 KB)\n",
       "</pre>\n"
      ],
      "text/plain": [
       "\u001b[1m Total params: \u001b[0m\u001b[38;5;34m13,633\u001b[0m (53.25 KB)\n"
      ]
     },
     "metadata": {},
     "output_type": "display_data"
    },
    {
     "data": {
      "text/html": [
       "<pre style=\"white-space:pre;overflow-x:auto;line-height:normal;font-family:Menlo,'DejaVu Sans Mono',consolas,'Courier New',monospace\"><span style=\"font-weight: bold\"> Trainable params: </span><span style=\"color: #00af00; text-decoration-color: #00af00\">13,633</span> (53.25 KB)\n",
       "</pre>\n"
      ],
      "text/plain": [
       "\u001b[1m Trainable params: \u001b[0m\u001b[38;5;34m13,633\u001b[0m (53.25 KB)\n"
      ]
     },
     "metadata": {},
     "output_type": "display_data"
    },
    {
     "data": {
      "text/html": [
       "<pre style=\"white-space:pre;overflow-x:auto;line-height:normal;font-family:Menlo,'DejaVu Sans Mono',consolas,'Courier New',monospace\"><span style=\"font-weight: bold\"> Non-trainable params: </span><span style=\"color: #00af00; text-decoration-color: #00af00\">0</span> (0.00 B)\n",
       "</pre>\n"
      ],
      "text/plain": [
       "\u001b[1m Non-trainable params: \u001b[0m\u001b[38;5;34m0\u001b[0m (0.00 B)\n"
      ]
     },
     "metadata": {},
     "output_type": "display_data"
    }
   ],
   "source": [
    "# Since there is not fixed formula to find perfect number of hidden layers and neurons.\n",
    "# I need to clean the DS as much as possible and then experiment with hyperparameters.\n",
    "# More layers and neurons can handle more complex data but the chance of overfitting is higher.\n",
    "# Less layers and neurons make the model underfit.\n",
    "\n",
    "# Good strategy for me is to start simple\n",
    "# I will start with three layers. 128, 64 and 64 neurons. L2 and Dropout are for overfitting\n",
    "# I will use ReLU for the hidden layers, it helps to learn non linearity, because in DS some columns might have non linear connection to each others\n",
    "# I wont use sigmoid and softmax in output layer, because they are for classification\n",
    "# The output can be unrestricted, So model can predict any range of values freely\n",
    "# Now, let's implement\n",
    "\n",
    "model = Sequential()\n",
    "# Input layer\n",
    "model.add(Dense(128, activation='relu',kernel_regularizer=tf.keras.regularizers.l2(0.0002), input_shape=(X_train.shape[1], )))\n",
    "# Hidden layer\n",
    "model.add(Dropout(0.1))\n",
    "model.add(Dense(64, activation='relu'))\n",
    "model.add(Dropout(0.05))\n",
    "model.add(Dense(64, activation='relu'))\n",
    "model.add(Dropout(0.05))\n",
    "# Output layer\n",
    "model.add(Dense(1))\n",
    "\n",
    "# I created fully connected layers with 128, 64 and 64 neurons\n",
    "# X_train shape is 8\n",
    "# The output neuron is 1, because there is only one value to predict\n",
    "model.summary()"
   ]
  },
  {
   "cell_type": "code",
   "execution_count": 14,
   "metadata": {},
   "outputs": [],
   "source": [
    "# Until this point, I defined the structure but I did not tell Keras how to train the model\n",
    "# Before training, I need to compile the model with loss function and optimizer\n",
    "# Loss function is for regression problem, MSE is kind of common choice\n",
    "# Since I have skewed distribution, and MSE is sensitive to outliers.\n",
    "# I have a nother option, which is MAE. In my case, I will use MSE.\n",
    "# It is smoother, training with MSE will try to reduce large errors\n",
    "\n",
    "# Optimizer is the algorithm that adjust the network weights to minimize the loss\n",
    "# I have several options for optimizers in Keras\n",
    "# SGD, RMSProp, Adam. \n",
    "# I will use Adam\n",
    "\n",
    "\n",
    "# Now I can compile the model, MSE loss, Adam optimizer, I can use MAE as metrics \n",
    "model.compile(optimizer='adam', loss='mean_squared_error', metrics=['mean_absolute_error'])"
   ]
  },
  {
   "cell_type": "code",
   "execution_count": 15,
   "metadata": {},
   "outputs": [
    {
     "name": "stdout",
     "output_type": "stream",
     "text": [
      "Epoch 1/300\n",
      "\u001b[1m165/165\u001b[0m \u001b[32m━━━━━━━━━━━━━━━━━━━━\u001b[0m\u001b[37m\u001b[0m \u001b[1m1s\u001b[0m 2ms/step - loss: 342.1194 - mean_absolute_error: 9.7272 - val_loss: 52.5078 - val_mean_absolute_error: 4.3362\n",
      "Epoch 2/300\n",
      "\u001b[1m165/165\u001b[0m \u001b[32m━━━━━━━━━━━━━━━━━━━━\u001b[0m\u001b[37m\u001b[0m \u001b[1m0s\u001b[0m 1ms/step - loss: 71.0386 - mean_absolute_error: 4.5618 - val_loss: 44.8462 - val_mean_absolute_error: 3.7580\n",
      "Epoch 3/300\n",
      "\u001b[1m165/165\u001b[0m \u001b[32m━━━━━━━━━━━━━━━━━━━━\u001b[0m\u001b[37m\u001b[0m \u001b[1m0s\u001b[0m 2ms/step - loss: 65.9348 - mean_absolute_error: 4.1571 - val_loss: 42.5801 - val_mean_absolute_error: 3.4232\n",
      "Epoch 4/300\n",
      "\u001b[1m165/165\u001b[0m \u001b[32m━━━━━━━━━━━━━━━━━━━━\u001b[0m\u001b[37m\u001b[0m \u001b[1m0s\u001b[0m 1ms/step - loss: 61.9465 - mean_absolute_error: 3.9709 - val_loss: 41.1847 - val_mean_absolute_error: 3.3974\n",
      "Epoch 5/300\n",
      "\u001b[1m165/165\u001b[0m \u001b[32m━━━━━━━━━━━━━━━━━━━━\u001b[0m\u001b[37m\u001b[0m \u001b[1m0s\u001b[0m 1ms/step - loss: 59.9001 - mean_absolute_error: 3.8802 - val_loss: 36.7308 - val_mean_absolute_error: 3.0487\n",
      "Epoch 6/300\n",
      "\u001b[1m165/165\u001b[0m \u001b[32m━━━━━━━━━━━━━━━━━━━━\u001b[0m\u001b[37m\u001b[0m \u001b[1m0s\u001b[0m 1ms/step - loss: 59.2318 - mean_absolute_error: 3.8437 - val_loss: 35.5612 - val_mean_absolute_error: 3.0426\n",
      "Epoch 7/300\n",
      "\u001b[1m165/165\u001b[0m \u001b[32m━━━━━━━━━━━━━━━━━━━━\u001b[0m\u001b[37m\u001b[0m \u001b[1m0s\u001b[0m 1ms/step - loss: 57.9600 - mean_absolute_error: 3.7804 - val_loss: 36.8169 - val_mean_absolute_error: 3.0893\n",
      "Epoch 8/300\n",
      "\u001b[1m165/165\u001b[0m \u001b[32m━━━━━━━━━━━━━━━━━━━━\u001b[0m\u001b[37m\u001b[0m \u001b[1m0s\u001b[0m 1ms/step - loss: 56.9890 - mean_absolute_error: 3.7466 - val_loss: 36.6417 - val_mean_absolute_error: 3.0663\n",
      "Epoch 9/300\n",
      "\u001b[1m165/165\u001b[0m \u001b[32m━━━━━━━━━━━━━━━━━━━━\u001b[0m\u001b[37m\u001b[0m \u001b[1m0s\u001b[0m 1ms/step - loss: 57.1003 - mean_absolute_error: 3.7528 - val_loss: 34.7372 - val_mean_absolute_error: 2.8784\n",
      "Epoch 10/300\n",
      "\u001b[1m165/165\u001b[0m \u001b[32m━━━━━━━━━━━━━━━━━━━━\u001b[0m\u001b[37m\u001b[0m \u001b[1m0s\u001b[0m 1ms/step - loss: 56.8514 - mean_absolute_error: 3.7424 - val_loss: 36.4300 - val_mean_absolute_error: 2.9043\n",
      "Epoch 11/300\n",
      "\u001b[1m165/165\u001b[0m \u001b[32m━━━━━━━━━━━━━━━━━━━━\u001b[0m\u001b[37m\u001b[0m \u001b[1m0s\u001b[0m 1ms/step - loss: 56.5407 - mean_absolute_error: 3.7200 - val_loss: 34.5980 - val_mean_absolute_error: 2.8780\n",
      "Epoch 12/300\n",
      "\u001b[1m165/165\u001b[0m \u001b[32m━━━━━━━━━━━━━━━━━━━━\u001b[0m\u001b[37m\u001b[0m \u001b[1m0s\u001b[0m 1ms/step - loss: 56.2438 - mean_absolute_error: 3.7049 - val_loss: 33.9076 - val_mean_absolute_error: 2.8799\n",
      "Epoch 13/300\n",
      "\u001b[1m165/165\u001b[0m \u001b[32m━━━━━━━━━━━━━━━━━━━━\u001b[0m\u001b[37m\u001b[0m \u001b[1m0s\u001b[0m 1ms/step - loss: 55.8760 - mean_absolute_error: 3.6794 - val_loss: 36.1492 - val_mean_absolute_error: 3.0335\n",
      "Epoch 14/300\n",
      "\u001b[1m165/165\u001b[0m \u001b[32m━━━━━━━━━━━━━━━━━━━━\u001b[0m\u001b[37m\u001b[0m \u001b[1m0s\u001b[0m 1ms/step - loss: 56.1874 - mean_absolute_error: 3.6966 - val_loss: 36.2577 - val_mean_absolute_error: 3.0120\n",
      "Epoch 15/300\n",
      "\u001b[1m165/165\u001b[0m \u001b[32m━━━━━━━━━━━━━━━━━━━━\u001b[0m\u001b[37m\u001b[0m \u001b[1m0s\u001b[0m 1ms/step - loss: 55.2060 - mean_absolute_error: 3.6511 - val_loss: 34.0309 - val_mean_absolute_error: 2.8859\n",
      "Epoch 16/300\n",
      "\u001b[1m165/165\u001b[0m \u001b[32m━━━━━━━━━━━━━━━━━━━━\u001b[0m\u001b[37m\u001b[0m \u001b[1m0s\u001b[0m 1ms/step - loss: 54.8030 - mean_absolute_error: 3.6376 - val_loss: 37.2261 - val_mean_absolute_error: 3.1541\n",
      "Epoch 17/300\n",
      "\u001b[1m165/165\u001b[0m \u001b[32m━━━━━━━━━━━━━━━━━━━━\u001b[0m\u001b[37m\u001b[0m \u001b[1m0s\u001b[0m 1ms/step - loss: 54.5632 - mean_absolute_error: 3.6209 - val_loss: 35.9850 - val_mean_absolute_error: 3.0081\n",
      "Epoch 18/300\n",
      "\u001b[1m165/165\u001b[0m \u001b[32m━━━━━━━━━━━━━━━━━━━━\u001b[0m\u001b[37m\u001b[0m \u001b[1m0s\u001b[0m 1ms/step - loss: 55.1012 - mean_absolute_error: 3.6358 - val_loss: 34.3812 - val_mean_absolute_error: 2.8929\n",
      "Epoch 19/300\n",
      "\u001b[1m165/165\u001b[0m \u001b[32m━━━━━━━━━━━━━━━━━━━━\u001b[0m\u001b[37m\u001b[0m \u001b[1m0s\u001b[0m 1ms/step - loss: 54.8661 - mean_absolute_error: 3.6172 - val_loss: 32.9937 - val_mean_absolute_error: 2.8207\n",
      "Epoch 20/300\n",
      "\u001b[1m165/165\u001b[0m \u001b[32m━━━━━━━━━━━━━━━━━━━━\u001b[0m\u001b[37m\u001b[0m \u001b[1m0s\u001b[0m 1ms/step - loss: 53.2832 - mean_absolute_error: 3.5698 - val_loss: 34.0165 - val_mean_absolute_error: 2.7824\n",
      "Epoch 21/300\n",
      "\u001b[1m165/165\u001b[0m \u001b[32m━━━━━━━━━━━━━━━━━━━━\u001b[0m\u001b[37m\u001b[0m \u001b[1m0s\u001b[0m 1ms/step - loss: 53.2613 - mean_absolute_error: 3.5788 - val_loss: 33.8048 - val_mean_absolute_error: 2.8157\n",
      "Epoch 22/300\n",
      "\u001b[1m165/165\u001b[0m \u001b[32m━━━━━━━━━━━━━━━━━━━━\u001b[0m\u001b[37m\u001b[0m \u001b[1m0s\u001b[0m 1ms/step - loss: 52.8801 - mean_absolute_error: 3.5482 - val_loss: 32.4070 - val_mean_absolute_error: 2.8042\n",
      "Epoch 23/300\n",
      "\u001b[1m165/165\u001b[0m \u001b[32m━━━━━━━━━━━━━━━━━━━━\u001b[0m\u001b[37m\u001b[0m \u001b[1m0s\u001b[0m 2ms/step - loss: 52.8275 - mean_absolute_error: 3.5470 - val_loss: 36.5183 - val_mean_absolute_error: 3.1394\n",
      "Epoch 24/300\n",
      "\u001b[1m165/165\u001b[0m \u001b[32m━━━━━━━━━━━━━━━━━━━━\u001b[0m\u001b[37m\u001b[0m \u001b[1m0s\u001b[0m 1ms/step - loss: 52.8805 - mean_absolute_error: 3.5601 - val_loss: 32.8234 - val_mean_absolute_error: 2.7964\n",
      "Epoch 25/300\n",
      "\u001b[1m165/165\u001b[0m \u001b[32m━━━━━━━━━━━━━━━━━━━━\u001b[0m\u001b[37m\u001b[0m \u001b[1m0s\u001b[0m 1ms/step - loss: 53.5805 - mean_absolute_error: 3.5756 - val_loss: 34.7924 - val_mean_absolute_error: 2.8439\n",
      "Epoch 26/300\n",
      "\u001b[1m165/165\u001b[0m \u001b[32m━━━━━━━━━━━━━━━━━━━━\u001b[0m\u001b[37m\u001b[0m \u001b[1m0s\u001b[0m 2ms/step - loss: 52.8905 - mean_absolute_error: 3.5501 - val_loss: 32.0088 - val_mean_absolute_error: 2.7685\n",
      "Epoch 27/300\n",
      "\u001b[1m165/165\u001b[0m \u001b[32m━━━━━━━━━━━━━━━━━━━━\u001b[0m\u001b[37m\u001b[0m \u001b[1m0s\u001b[0m 1ms/step - loss: 52.1129 - mean_absolute_error: 3.5083 - val_loss: 32.4940 - val_mean_absolute_error: 2.8176\n",
      "Epoch 28/300\n",
      "\u001b[1m165/165\u001b[0m \u001b[32m━━━━━━━━━━━━━━━━━━━━\u001b[0m\u001b[37m\u001b[0m \u001b[1m0s\u001b[0m 1ms/step - loss: 52.5266 - mean_absolute_error: 3.5222 - val_loss: 32.2459 - val_mean_absolute_error: 2.8099\n",
      "Epoch 29/300\n",
      "\u001b[1m165/165\u001b[0m \u001b[32m━━━━━━━━━━━━━━━━━━━━\u001b[0m\u001b[37m\u001b[0m \u001b[1m0s\u001b[0m 1ms/step - loss: 51.4939 - mean_absolute_error: 3.4994 - val_loss: 33.9019 - val_mean_absolute_error: 2.9515\n",
      "Epoch 30/300\n",
      "\u001b[1m165/165\u001b[0m \u001b[32m━━━━━━━━━━━━━━━━━━━━\u001b[0m\u001b[37m\u001b[0m \u001b[1m0s\u001b[0m 1ms/step - loss: 51.6419 - mean_absolute_error: 3.4906 - val_loss: 30.6992 - val_mean_absolute_error: 2.6130\n",
      "Epoch 31/300\n",
      "\u001b[1m165/165\u001b[0m \u001b[32m━━━━━━━━━━━━━━━━━━━━\u001b[0m\u001b[37m\u001b[0m \u001b[1m0s\u001b[0m 2ms/step - loss: 49.8951 - mean_absolute_error: 3.4296 - val_loss: 31.5806 - val_mean_absolute_error: 2.7541\n",
      "Epoch 32/300\n",
      "\u001b[1m165/165\u001b[0m \u001b[32m━━━━━━━━━━━━━━━━━━━━\u001b[0m\u001b[37m\u001b[0m \u001b[1m0s\u001b[0m 1ms/step - loss: 50.5974 - mean_absolute_error: 3.4538 - val_loss: 30.1984 - val_mean_absolute_error: 2.6807\n",
      "Epoch 33/300\n",
      "\u001b[1m165/165\u001b[0m \u001b[32m━━━━━━━━━━━━━━━━━━━━\u001b[0m\u001b[37m\u001b[0m \u001b[1m0s\u001b[0m 2ms/step - loss: 50.8067 - mean_absolute_error: 3.4676 - val_loss: 31.3153 - val_mean_absolute_error: 2.7086\n",
      "Epoch 34/300\n",
      "\u001b[1m165/165\u001b[0m \u001b[32m━━━━━━━━━━━━━━━━━━━━\u001b[0m\u001b[37m\u001b[0m \u001b[1m0s\u001b[0m 1ms/step - loss: 50.0618 - mean_absolute_error: 3.4326 - val_loss: 30.7135 - val_mean_absolute_error: 2.6112\n",
      "Epoch 35/300\n",
      "\u001b[1m165/165\u001b[0m \u001b[32m━━━━━━━━━━━━━━━━━━━━\u001b[0m\u001b[37m\u001b[0m \u001b[1m0s\u001b[0m 1ms/step - loss: 50.2932 - mean_absolute_error: 3.4348 - val_loss: 30.0115 - val_mean_absolute_error: 2.6271\n",
      "Epoch 36/300\n",
      "\u001b[1m165/165\u001b[0m \u001b[32m━━━━━━━━━━━━━━━━━━━━\u001b[0m\u001b[37m\u001b[0m \u001b[1m0s\u001b[0m 1ms/step - loss: 49.5794 - mean_absolute_error: 3.4130 - val_loss: 31.1897 - val_mean_absolute_error: 2.6598\n",
      "Epoch 37/300\n",
      "\u001b[1m165/165\u001b[0m \u001b[32m━━━━━━━━━━━━━━━━━━━━\u001b[0m\u001b[37m\u001b[0m \u001b[1m0s\u001b[0m 1ms/step - loss: 49.1860 - mean_absolute_error: 3.3931 - val_loss: 37.6969 - val_mean_absolute_error: 2.8174\n",
      "Epoch 38/300\n",
      "\u001b[1m165/165\u001b[0m \u001b[32m━━━━━━━━━━━━━━━━━━━━\u001b[0m\u001b[37m\u001b[0m \u001b[1m0s\u001b[0m 1ms/step - loss: 48.7725 - mean_absolute_error: 3.3930 - val_loss: 29.7203 - val_mean_absolute_error: 2.5968\n",
      "Epoch 39/300\n",
      "\u001b[1m165/165\u001b[0m \u001b[32m━━━━━━━━━━━━━━━━━━━━\u001b[0m\u001b[37m\u001b[0m \u001b[1m0s\u001b[0m 2ms/step - loss: 48.6018 - mean_absolute_error: 3.3817 - val_loss: 28.8695 - val_mean_absolute_error: 2.5560\n",
      "Epoch 40/300\n",
      "\u001b[1m165/165\u001b[0m \u001b[32m━━━━━━━━━━━━━━━━━━━━\u001b[0m\u001b[37m\u001b[0m \u001b[1m0s\u001b[0m 1ms/step - loss: 48.8058 - mean_absolute_error: 3.3997 - val_loss: 38.2614 - val_mean_absolute_error: 2.9655\n",
      "Epoch 41/300\n",
      "\u001b[1m165/165\u001b[0m \u001b[32m━━━━━━━━━━━━━━━━━━━━\u001b[0m\u001b[37m\u001b[0m \u001b[1m0s\u001b[0m 1ms/step - loss: 48.9652 - mean_absolute_error: 3.3761 - val_loss: 31.0748 - val_mean_absolute_error: 2.6336\n",
      "Epoch 42/300\n",
      "\u001b[1m165/165\u001b[0m \u001b[32m━━━━━━━━━━━━━━━━━━━━\u001b[0m\u001b[37m\u001b[0m \u001b[1m0s\u001b[0m 2ms/step - loss: 47.5930 - mean_absolute_error: 3.3371 - val_loss: 32.1240 - val_mean_absolute_error: 2.5971\n",
      "Epoch 43/300\n",
      "\u001b[1m165/165\u001b[0m \u001b[32m━━━━━━━━━━━━━━━━━━━━\u001b[0m\u001b[37m\u001b[0m \u001b[1m0s\u001b[0m 1ms/step - loss: 47.6538 - mean_absolute_error: 3.3268 - val_loss: 28.9713 - val_mean_absolute_error: 2.5481\n",
      "Epoch 44/300\n",
      "\u001b[1m165/165\u001b[0m \u001b[32m━━━━━━━━━━━━━━━━━━━━\u001b[0m\u001b[37m\u001b[0m \u001b[1m0s\u001b[0m 1ms/step - loss: 47.4380 - mean_absolute_error: 3.3386 - val_loss: 30.5524 - val_mean_absolute_error: 2.5938\n",
      "Epoch 45/300\n",
      "\u001b[1m165/165\u001b[0m \u001b[32m━━━━━━━━━━━━━━━━━━━━\u001b[0m\u001b[37m\u001b[0m \u001b[1m0s\u001b[0m 1ms/step - loss: 47.3188 - mean_absolute_error: 3.3090 - val_loss: 30.0288 - val_mean_absolute_error: 2.8600\n",
      "Epoch 46/300\n",
      "\u001b[1m165/165\u001b[0m \u001b[32m━━━━━━━━━━━━━━━━━━━━\u001b[0m\u001b[37m\u001b[0m \u001b[1m0s\u001b[0m 1ms/step - loss: 46.6875 - mean_absolute_error: 3.3180 - val_loss: 29.1933 - val_mean_absolute_error: 2.6089\n",
      "Epoch 47/300\n",
      "\u001b[1m165/165\u001b[0m \u001b[32m━━━━━━━━━━━━━━━━━━━━\u001b[0m\u001b[37m\u001b[0m \u001b[1m0s\u001b[0m 1ms/step - loss: 46.8475 - mean_absolute_error: 3.2924 - val_loss: 28.3985 - val_mean_absolute_error: 2.6653\n",
      "Epoch 48/300\n",
      "\u001b[1m165/165\u001b[0m \u001b[32m━━━━━━━━━━━━━━━━━━━━\u001b[0m\u001b[37m\u001b[0m \u001b[1m0s\u001b[0m 1ms/step - loss: 46.6867 - mean_absolute_error: 3.2799 - val_loss: 31.7490 - val_mean_absolute_error: 2.6615\n",
      "Epoch 49/300\n",
      "\u001b[1m165/165\u001b[0m \u001b[32m━━━━━━━━━━━━━━━━━━━━\u001b[0m\u001b[37m\u001b[0m \u001b[1m0s\u001b[0m 1ms/step - loss: 46.4056 - mean_absolute_error: 3.2883 - val_loss: 30.9481 - val_mean_absolute_error: 2.6423\n",
      "Epoch 50/300\n",
      "\u001b[1m165/165\u001b[0m \u001b[32m━━━━━━━━━━━━━━━━━━━━\u001b[0m\u001b[37m\u001b[0m \u001b[1m0s\u001b[0m 1ms/step - loss: 45.3702 - mean_absolute_error: 3.2458 - val_loss: 29.7050 - val_mean_absolute_error: 2.5736\n",
      "Epoch 51/300\n",
      "\u001b[1m165/165\u001b[0m \u001b[32m━━━━━━━━━━━━━━━━━━━━\u001b[0m\u001b[37m\u001b[0m \u001b[1m0s\u001b[0m 1ms/step - loss: 45.9159 - mean_absolute_error: 3.2677 - val_loss: 27.5957 - val_mean_absolute_error: 2.6063\n",
      "Epoch 52/300\n",
      "\u001b[1m165/165\u001b[0m \u001b[32m━━━━━━━━━━━━━━━━━━━━\u001b[0m\u001b[37m\u001b[0m \u001b[1m0s\u001b[0m 2ms/step - loss: 46.1902 - mean_absolute_error: 3.2933 - val_loss: 28.3478 - val_mean_absolute_error: 2.6494\n",
      "Epoch 53/300\n",
      "\u001b[1m165/165\u001b[0m \u001b[32m━━━━━━━━━━━━━━━━━━━━\u001b[0m\u001b[37m\u001b[0m \u001b[1m0s\u001b[0m 1ms/step - loss: 46.6226 - mean_absolute_error: 3.2685 - val_loss: 29.7720 - val_mean_absolute_error: 2.5972\n",
      "Epoch 54/300\n",
      "\u001b[1m165/165\u001b[0m \u001b[32m━━━━━━━━━━━━━━━━━━━━\u001b[0m\u001b[37m\u001b[0m \u001b[1m0s\u001b[0m 1ms/step - loss: 45.7907 - mean_absolute_error: 3.2537 - val_loss: 28.7126 - val_mean_absolute_error: 2.6380\n",
      "Epoch 55/300\n",
      "\u001b[1m165/165\u001b[0m \u001b[32m━━━━━━━━━━━━━━━━━━━━\u001b[0m\u001b[37m\u001b[0m \u001b[1m0s\u001b[0m 1ms/step - loss: 45.9678 - mean_absolute_error: 3.2556 - val_loss: 38.3120 - val_mean_absolute_error: 2.9548\n",
      "Epoch 56/300\n",
      "\u001b[1m165/165\u001b[0m \u001b[32m━━━━━━━━━━━━━━━━━━━━\u001b[0m\u001b[37m\u001b[0m \u001b[1m0s\u001b[0m 1ms/step - loss: 44.7908 - mean_absolute_error: 3.2271 - val_loss: 28.5312 - val_mean_absolute_error: 2.6178\n",
      "Epoch 57/300\n",
      "\u001b[1m165/165\u001b[0m \u001b[32m━━━━━━━━━━━━━━━━━━━━\u001b[0m\u001b[37m\u001b[0m \u001b[1m0s\u001b[0m 1ms/step - loss: 45.2152 - mean_absolute_error: 3.2213 - val_loss: 28.2095 - val_mean_absolute_error: 2.7312\n",
      "Epoch 58/300\n",
      "\u001b[1m165/165\u001b[0m \u001b[32m━━━━━━━━━━━━━━━━━━━━\u001b[0m\u001b[37m\u001b[0m \u001b[1m0s\u001b[0m 2ms/step - loss: 45.5325 - mean_absolute_error: 3.2543 - val_loss: 28.1048 - val_mean_absolute_error: 2.5962\n",
      "Epoch 59/300\n",
      "\u001b[1m165/165\u001b[0m \u001b[32m━━━━━━━━━━━━━━━━━━━━\u001b[0m\u001b[37m\u001b[0m \u001b[1m0s\u001b[0m 2ms/step - loss: 45.2582 - mean_absolute_error: 3.2298 - val_loss: 28.3548 - val_mean_absolute_error: 2.6115\n",
      "Epoch 60/300\n",
      "\u001b[1m165/165\u001b[0m \u001b[32m━━━━━━━━━━━━━━━━━━━━\u001b[0m\u001b[37m\u001b[0m \u001b[1m0s\u001b[0m 1ms/step - loss: 46.1449 - mean_absolute_error: 3.2780 - val_loss: 33.5363 - val_mean_absolute_error: 2.7368\n",
      "Epoch 61/300\n",
      "\u001b[1m165/165\u001b[0m \u001b[32m━━━━━━━━━━━━━━━━━━━━\u001b[0m\u001b[37m\u001b[0m \u001b[1m0s\u001b[0m 2ms/step - loss: 45.2951 - mean_absolute_error: 3.2056 - val_loss: 28.4032 - val_mean_absolute_error: 2.6784\n",
      "Epoch 62/300\n",
      "\u001b[1m165/165\u001b[0m \u001b[32m━━━━━━━━━━━━━━━━━━━━\u001b[0m\u001b[37m\u001b[0m \u001b[1m0s\u001b[0m 1ms/step - loss: 44.4288 - mean_absolute_error: 3.2028 - val_loss: 29.2289 - val_mean_absolute_error: 2.5429\n",
      "Epoch 63/300\n",
      "\u001b[1m165/165\u001b[0m \u001b[32m━━━━━━━━━━━━━━━━━━━━\u001b[0m\u001b[37m\u001b[0m \u001b[1m0s\u001b[0m 1ms/step - loss: 44.8149 - mean_absolute_error: 3.2379 - val_loss: 33.7732 - val_mean_absolute_error: 2.7209\n",
      "Epoch 64/300\n",
      "\u001b[1m165/165\u001b[0m \u001b[32m━━━━━━━━━━━━━━━━━━━━\u001b[0m\u001b[37m\u001b[0m \u001b[1m0s\u001b[0m 2ms/step - loss: 44.3009 - mean_absolute_error: 3.2102 - val_loss: 29.3264 - val_mean_absolute_error: 2.5468\n",
      "Epoch 65/300\n",
      "\u001b[1m165/165\u001b[0m \u001b[32m━━━━━━━━━━━━━━━━━━━━\u001b[0m\u001b[37m\u001b[0m \u001b[1m0s\u001b[0m 1ms/step - loss: 44.6860 - mean_absolute_error: 3.2097 - val_loss: 29.3768 - val_mean_absolute_error: 2.5876\n",
      "Epoch 66/300\n",
      "\u001b[1m165/165\u001b[0m \u001b[32m━━━━━━━━━━━━━━━━━━━━\u001b[0m\u001b[37m\u001b[0m \u001b[1m0s\u001b[0m 1ms/step - loss: 44.3219 - mean_absolute_error: 3.2049 - val_loss: 29.1022 - val_mean_absolute_error: 2.6415\n",
      "Epoch 67/300\n",
      "\u001b[1m165/165\u001b[0m \u001b[32m━━━━━━━━━━━━━━━━━━━━\u001b[0m\u001b[37m\u001b[0m \u001b[1m0s\u001b[0m 2ms/step - loss: 43.5333 - mean_absolute_error: 3.1771 - val_loss: 28.0323 - val_mean_absolute_error: 2.5682\n",
      "Epoch 68/300\n",
      "\u001b[1m165/165\u001b[0m \u001b[32m━━━━━━━━━━━━━━━━━━━━\u001b[0m\u001b[37m\u001b[0m \u001b[1m0s\u001b[0m 2ms/step - loss: 44.5304 - mean_absolute_error: 3.1947 - val_loss: 28.9111 - val_mean_absolute_error: 2.5631\n",
      "Epoch 69/300\n",
      "\u001b[1m165/165\u001b[0m \u001b[32m━━━━━━━━━━━━━━━━━━━━\u001b[0m\u001b[37m\u001b[0m \u001b[1m0s\u001b[0m 2ms/step - loss: 44.3464 - mean_absolute_error: 3.1972 - val_loss: 28.9589 - val_mean_absolute_error: 2.5558\n",
      "Epoch 70/300\n",
      "\u001b[1m165/165\u001b[0m \u001b[32m━━━━━━━━━━━━━━━━━━━━\u001b[0m\u001b[37m\u001b[0m \u001b[1m0s\u001b[0m 2ms/step - loss: 43.2513 - mean_absolute_error: 3.1470 - val_loss: 27.8552 - val_mean_absolute_error: 2.5053\n",
      "Epoch 71/300\n",
      "\u001b[1m165/165\u001b[0m \u001b[32m━━━━━━━━━━━━━━━━━━━━\u001b[0m\u001b[37m\u001b[0m \u001b[1m0s\u001b[0m 2ms/step - loss: 43.5035 - mean_absolute_error: 3.1607 - val_loss: 29.6267 - val_mean_absolute_error: 2.5767\n",
      "Epoch 72/300\n",
      "\u001b[1m165/165\u001b[0m \u001b[32m━━━━━━━━━━━━━━━━━━━━\u001b[0m\u001b[37m\u001b[0m \u001b[1m0s\u001b[0m 2ms/step - loss: 43.1352 - mean_absolute_error: 3.1373 - val_loss: 27.1772 - val_mean_absolute_error: 2.5323\n",
      "Epoch 73/300\n",
      "\u001b[1m165/165\u001b[0m \u001b[32m━━━━━━━━━━━━━━━━━━━━\u001b[0m\u001b[37m\u001b[0m \u001b[1m0s\u001b[0m 2ms/step - loss: 43.3080 - mean_absolute_error: 3.1552 - val_loss: 30.0932 - val_mean_absolute_error: 2.5750\n",
      "Epoch 74/300\n",
      "\u001b[1m165/165\u001b[0m \u001b[32m━━━━━━━━━━━━━━━━━━━━\u001b[0m\u001b[37m\u001b[0m \u001b[1m0s\u001b[0m 2ms/step - loss: 44.1007 - mean_absolute_error: 3.1577 - val_loss: 28.2416 - val_mean_absolute_error: 2.5664\n",
      "Epoch 75/300\n",
      "\u001b[1m165/165\u001b[0m \u001b[32m━━━━━━━━━━━━━━━━━━━━\u001b[0m\u001b[37m\u001b[0m \u001b[1m0s\u001b[0m 2ms/step - loss: 43.7103 - mean_absolute_error: 3.1555 - val_loss: 30.1206 - val_mean_absolute_error: 2.5420\n",
      "Epoch 76/300\n",
      "\u001b[1m165/165\u001b[0m \u001b[32m━━━━━━━━━━━━━━━━━━━━\u001b[0m\u001b[37m\u001b[0m \u001b[1m0s\u001b[0m 2ms/step - loss: 43.8252 - mean_absolute_error: 3.1564 - val_loss: 27.8598 - val_mean_absolute_error: 2.4960\n",
      "Epoch 77/300\n",
      "\u001b[1m165/165\u001b[0m \u001b[32m━━━━━━━━━━━━━━━━━━━━\u001b[0m\u001b[37m\u001b[0m \u001b[1m0s\u001b[0m 2ms/step - loss: 43.1058 - mean_absolute_error: 3.1366 - val_loss: 28.1841 - val_mean_absolute_error: 2.5198\n",
      "Epoch 78/300\n",
      "\u001b[1m165/165\u001b[0m \u001b[32m━━━━━━━━━━━━━━━━━━━━\u001b[0m\u001b[37m\u001b[0m \u001b[1m0s\u001b[0m 1ms/step - loss: 42.7288 - mean_absolute_error: 3.1390 - val_loss: 29.6536 - val_mean_absolute_error: 2.7522\n",
      "Epoch 79/300\n",
      "\u001b[1m165/165\u001b[0m \u001b[32m━━━━━━━━━━━━━━━━━━━━\u001b[0m\u001b[37m\u001b[0m \u001b[1m0s\u001b[0m 2ms/step - loss: 42.5994 - mean_absolute_error: 3.1077 - val_loss: 28.0039 - val_mean_absolute_error: 2.5154\n",
      "Epoch 80/300\n",
      "\u001b[1m165/165\u001b[0m \u001b[32m━━━━━━━━━━━━━━━━━━━━\u001b[0m\u001b[37m\u001b[0m \u001b[1m0s\u001b[0m 1ms/step - loss: 42.3271 - mean_absolute_error: 3.0923 - val_loss: 30.8692 - val_mean_absolute_error: 2.6129\n",
      "Epoch 81/300\n",
      "\u001b[1m165/165\u001b[0m \u001b[32m━━━━━━━━━━━━━━━━━━━━\u001b[0m\u001b[37m\u001b[0m \u001b[1m0s\u001b[0m 1ms/step - loss: 41.9704 - mean_absolute_error: 3.0753 - val_loss: 30.2374 - val_mean_absolute_error: 2.6251\n",
      "Epoch 82/300\n",
      "\u001b[1m165/165\u001b[0m \u001b[32m━━━━━━━━━━━━━━━━━━━━\u001b[0m\u001b[37m\u001b[0m \u001b[1m0s\u001b[0m 2ms/step - loss: 43.0561 - mean_absolute_error: 3.1391 - val_loss: 33.3729 - val_mean_absolute_error: 2.7128\n",
      "Epoch 83/300\n",
      "\u001b[1m165/165\u001b[0m \u001b[32m━━━━━━━━━━━━━━━━━━━━\u001b[0m\u001b[37m\u001b[0m \u001b[1m0s\u001b[0m 1ms/step - loss: 42.3071 - mean_absolute_error: 3.0871 - val_loss: 29.6484 - val_mean_absolute_error: 2.5621\n",
      "Epoch 84/300\n",
      "\u001b[1m165/165\u001b[0m \u001b[32m━━━━━━━━━━━━━━━━━━━━\u001b[0m\u001b[37m\u001b[0m \u001b[1m0s\u001b[0m 1ms/step - loss: 42.1910 - mean_absolute_error: 3.1163 - val_loss: 29.6516 - val_mean_absolute_error: 2.5644\n",
      "Epoch 85/300\n",
      "\u001b[1m165/165\u001b[0m \u001b[32m━━━━━━━━━━━━━━━━━━━━\u001b[0m\u001b[37m\u001b[0m \u001b[1m0s\u001b[0m 1ms/step - loss: 42.4181 - mean_absolute_error: 3.0970 - val_loss: 32.4328 - val_mean_absolute_error: 2.6568\n",
      "Epoch 86/300\n",
      "\u001b[1m165/165\u001b[0m \u001b[32m━━━━━━━━━━━━━━━━━━━━\u001b[0m\u001b[37m\u001b[0m \u001b[1m0s\u001b[0m 1ms/step - loss: 42.3867 - mean_absolute_error: 3.0916 - val_loss: 29.1767 - val_mean_absolute_error: 2.5035\n",
      "Epoch 87/300\n",
      "\u001b[1m165/165\u001b[0m \u001b[32m━━━━━━━━━━━━━━━━━━━━\u001b[0m\u001b[37m\u001b[0m \u001b[1m0s\u001b[0m 1ms/step - loss: 41.7685 - mean_absolute_error: 3.0762 - val_loss: 29.6660 - val_mean_absolute_error: 2.5323\n",
      "Epoch 88/300\n",
      "\u001b[1m165/165\u001b[0m \u001b[32m━━━━━━━━━━━━━━━━━━━━\u001b[0m\u001b[37m\u001b[0m \u001b[1m0s\u001b[0m 1ms/step - loss: 41.8391 - mean_absolute_error: 3.0728 - val_loss: 29.6063 - val_mean_absolute_error: 2.6325\n",
      "Epoch 89/300\n",
      "\u001b[1m165/165\u001b[0m \u001b[32m━━━━━━━━━━━━━━━━━━━━\u001b[0m\u001b[37m\u001b[0m \u001b[1m0s\u001b[0m 1ms/step - loss: 41.6683 - mean_absolute_error: 3.0706 - val_loss: 28.8966 - val_mean_absolute_error: 2.5877\n",
      "Epoch 90/300\n",
      "\u001b[1m165/165\u001b[0m \u001b[32m━━━━━━━━━━━━━━━━━━━━\u001b[0m\u001b[37m\u001b[0m \u001b[1m0s\u001b[0m 1ms/step - loss: 41.1192 - mean_absolute_error: 3.0630 - val_loss: 28.0317 - val_mean_absolute_error: 2.5037\n",
      "Epoch 91/300\n",
      "\u001b[1m165/165\u001b[0m \u001b[32m━━━━━━━━━━━━━━━━━━━━\u001b[0m\u001b[37m\u001b[0m \u001b[1m0s\u001b[0m 1ms/step - loss: 41.0727 - mean_absolute_error: 3.0441 - val_loss: 29.8127 - val_mean_absolute_error: 2.5184\n",
      "Epoch 92/300\n",
      "\u001b[1m165/165\u001b[0m \u001b[32m━━━━━━━━━━━━━━━━━━━━\u001b[0m\u001b[37m\u001b[0m \u001b[1m0s\u001b[0m 1ms/step - loss: 41.6012 - mean_absolute_error: 3.0681 - val_loss: 30.3287 - val_mean_absolute_error: 2.5763\n",
      "Epoch 93/300\n",
      "\u001b[1m165/165\u001b[0m \u001b[32m━━━━━━━━━━━━━━━━━━━━\u001b[0m\u001b[37m\u001b[0m \u001b[1m0s\u001b[0m 1ms/step - loss: 41.4511 - mean_absolute_error: 3.0403 - val_loss: 29.3272 - val_mean_absolute_error: 2.5406\n",
      "Epoch 94/300\n",
      "\u001b[1m165/165\u001b[0m \u001b[32m━━━━━━━━━━━━━━━━━━━━\u001b[0m\u001b[37m\u001b[0m \u001b[1m0s\u001b[0m 1ms/step - loss: 41.3329 - mean_absolute_error: 3.0684 - val_loss: 29.3405 - val_mean_absolute_error: 2.5124\n",
      "Epoch 95/300\n",
      "\u001b[1m165/165\u001b[0m \u001b[32m━━━━━━━━━━━━━━━━━━━━\u001b[0m\u001b[37m\u001b[0m \u001b[1m0s\u001b[0m 1ms/step - loss: 40.5165 - mean_absolute_error: 3.0223 - val_loss: 28.6938 - val_mean_absolute_error: 2.5528\n",
      "Epoch 96/300\n",
      "\u001b[1m165/165\u001b[0m \u001b[32m━━━━━━━━━━━━━━━━━━━━\u001b[0m\u001b[37m\u001b[0m \u001b[1m0s\u001b[0m 1ms/step - loss: 41.4503 - mean_absolute_error: 3.0459 - val_loss: 32.3232 - val_mean_absolute_error: 2.6296\n",
      "Epoch 97/300\n",
      "\u001b[1m165/165\u001b[0m \u001b[32m━━━━━━━━━━━━━━━━━━━━\u001b[0m\u001b[37m\u001b[0m \u001b[1m0s\u001b[0m 1ms/step - loss: 41.2682 - mean_absolute_error: 3.0429 - val_loss: 30.7148 - val_mean_absolute_error: 2.5723\n",
      "Epoch 98/300\n",
      "\u001b[1m165/165\u001b[0m \u001b[32m━━━━━━━━━━━━━━━━━━━━\u001b[0m\u001b[37m\u001b[0m \u001b[1m0s\u001b[0m 1ms/step - loss: 40.9151 - mean_absolute_error: 3.0395 - val_loss: 29.5964 - val_mean_absolute_error: 2.5075\n",
      "Epoch 99/300\n",
      "\u001b[1m165/165\u001b[0m \u001b[32m━━━━━━━━━━━━━━━━━━━━\u001b[0m\u001b[37m\u001b[0m \u001b[1m0s\u001b[0m 1ms/step - loss: 41.2910 - mean_absolute_error: 3.0515 - val_loss: 30.8298 - val_mean_absolute_error: 2.6067\n",
      "Epoch 100/300\n",
      "\u001b[1m165/165\u001b[0m \u001b[32m━━━━━━━━━━━━━━━━━━━━\u001b[0m\u001b[37m\u001b[0m \u001b[1m0s\u001b[0m 1ms/step - loss: 40.3721 - mean_absolute_error: 3.0138 - val_loss: 30.6004 - val_mean_absolute_error: 2.6039\n",
      "Epoch 101/300\n",
      "\u001b[1m165/165\u001b[0m \u001b[32m━━━━━━━━━━━━━━━━━━━━\u001b[0m\u001b[37m\u001b[0m \u001b[1m0s\u001b[0m 1ms/step - loss: 40.4225 - mean_absolute_error: 3.0182 - val_loss: 30.5740 - val_mean_absolute_error: 2.5747\n",
      "Epoch 102/300\n",
      "\u001b[1m165/165\u001b[0m \u001b[32m━━━━━━━━━━━━━━━━━━━━\u001b[0m\u001b[37m\u001b[0m \u001b[1m0s\u001b[0m 1ms/step - loss: 40.6388 - mean_absolute_error: 3.0039 - val_loss: 30.2108 - val_mean_absolute_error: 2.5643\n",
      "Epoch 103/300\n",
      "\u001b[1m165/165\u001b[0m \u001b[32m━━━━━━━━━━━━━━━━━━━━\u001b[0m\u001b[37m\u001b[0m \u001b[1m0s\u001b[0m 1ms/step - loss: 40.8789 - mean_absolute_error: 3.0170 - val_loss: 29.2234 - val_mean_absolute_error: 2.5256\n",
      "Epoch 104/300\n",
      "\u001b[1m165/165\u001b[0m \u001b[32m━━━━━━━━━━━━━━━━━━━━\u001b[0m\u001b[37m\u001b[0m \u001b[1m0s\u001b[0m 1ms/step - loss: 40.5623 - mean_absolute_error: 3.0307 - val_loss: 28.8051 - val_mean_absolute_error: 2.5016\n",
      "Epoch 105/300\n",
      "\u001b[1m165/165\u001b[0m \u001b[32m━━━━━━━━━━━━━━━━━━━━\u001b[0m\u001b[37m\u001b[0m \u001b[1m0s\u001b[0m 1ms/step - loss: 40.2356 - mean_absolute_error: 2.9979 - val_loss: 29.4798 - val_mean_absolute_error: 2.5409\n",
      "Epoch 106/300\n",
      "\u001b[1m165/165\u001b[0m \u001b[32m━━━━━━━━━━━━━━━━━━━━\u001b[0m\u001b[37m\u001b[0m \u001b[1m0s\u001b[0m 1ms/step - loss: 40.7901 - mean_absolute_error: 3.0076 - val_loss: 29.6030 - val_mean_absolute_error: 2.5159\n",
      "Epoch 107/300\n",
      "\u001b[1m165/165\u001b[0m \u001b[32m━━━━━━━━━━━━━━━━━━━━\u001b[0m\u001b[37m\u001b[0m \u001b[1m0s\u001b[0m 1ms/step - loss: 40.2674 - mean_absolute_error: 3.0204 - val_loss: 30.9826 - val_mean_absolute_error: 2.6201\n",
      "Epoch 108/300\n",
      "\u001b[1m165/165\u001b[0m \u001b[32m━━━━━━━━━━━━━━━━━━━━\u001b[0m\u001b[37m\u001b[0m \u001b[1m0s\u001b[0m 1ms/step - loss: 39.8704 - mean_absolute_error: 2.9785 - val_loss: 29.9225 - val_mean_absolute_error: 2.5438\n",
      "Epoch 109/300\n",
      "\u001b[1m165/165\u001b[0m \u001b[32m━━━━━━━━━━━━━━━━━━━━\u001b[0m\u001b[37m\u001b[0m \u001b[1m0s\u001b[0m 1ms/step - loss: 40.4878 - mean_absolute_error: 3.0009 - val_loss: 31.2089 - val_mean_absolute_error: 2.5567\n",
      "Epoch 110/300\n",
      "\u001b[1m165/165\u001b[0m \u001b[32m━━━━━━━━━━━━━━━━━━━━\u001b[0m\u001b[37m\u001b[0m \u001b[1m0s\u001b[0m 1ms/step - loss: 40.0076 - mean_absolute_error: 2.9876 - val_loss: 32.5255 - val_mean_absolute_error: 2.5971\n",
      "Epoch 111/300\n",
      "\u001b[1m165/165\u001b[0m \u001b[32m━━━━━━━━━━━━━━━━━━━━\u001b[0m\u001b[37m\u001b[0m \u001b[1m0s\u001b[0m 2ms/step - loss: 40.0967 - mean_absolute_error: 2.9936 - val_loss: 29.1170 - val_mean_absolute_error: 2.5738\n",
      "Epoch 112/300\n",
      "\u001b[1m165/165\u001b[0m \u001b[32m━━━━━━━━━━━━━━━━━━━━\u001b[0m\u001b[37m\u001b[0m \u001b[1m0s\u001b[0m 1ms/step - loss: 39.5094 - mean_absolute_error: 2.9530 - val_loss: 35.1423 - val_mean_absolute_error: 2.6934\n",
      "Epoch 113/300\n",
      "\u001b[1m165/165\u001b[0m \u001b[32m━━━━━━━━━━━━━━━━━━━━\u001b[0m\u001b[37m\u001b[0m \u001b[1m0s\u001b[0m 1ms/step - loss: 39.7824 - mean_absolute_error: 2.9780 - val_loss: 28.4659 - val_mean_absolute_error: 2.5328\n",
      "Epoch 114/300\n",
      "\u001b[1m165/165\u001b[0m \u001b[32m━━━━━━━━━━━━━━━━━━━━\u001b[0m\u001b[37m\u001b[0m \u001b[1m0s\u001b[0m 1ms/step - loss: 39.4514 - mean_absolute_error: 2.9656 - val_loss: 34.9311 - val_mean_absolute_error: 2.6915\n",
      "Epoch 115/300\n",
      "\u001b[1m165/165\u001b[0m \u001b[32m━━━━━━━━━━━━━━━━━━━━\u001b[0m\u001b[37m\u001b[0m \u001b[1m0s\u001b[0m 1ms/step - loss: 39.2788 - mean_absolute_error: 2.9458 - val_loss: 29.6242 - val_mean_absolute_error: 2.6070\n",
      "Epoch 116/300\n",
      "\u001b[1m165/165\u001b[0m \u001b[32m━━━━━━━━━━━━━━━━━━━━\u001b[0m\u001b[37m\u001b[0m \u001b[1m0s\u001b[0m 1ms/step - loss: 39.9496 - mean_absolute_error: 2.9691 - val_loss: 29.4655 - val_mean_absolute_error: 2.5222\n",
      "Epoch 117/300\n",
      "\u001b[1m165/165\u001b[0m \u001b[32m━━━━━━━━━━━━━━━━━━━━\u001b[0m\u001b[37m\u001b[0m \u001b[1m0s\u001b[0m 1ms/step - loss: 39.6473 - mean_absolute_error: 2.9717 - val_loss: 36.7592 - val_mean_absolute_error: 2.8082\n",
      "Epoch 118/300\n",
      "\u001b[1m165/165\u001b[0m \u001b[32m━━━━━━━━━━━━━━━━━━━━\u001b[0m\u001b[37m\u001b[0m \u001b[1m0s\u001b[0m 1ms/step - loss: 39.6080 - mean_absolute_error: 2.9567 - val_loss: 34.0817 - val_mean_absolute_error: 2.7111\n",
      "Epoch 119/300\n",
      "\u001b[1m165/165\u001b[0m \u001b[32m━━━━━━━━━━━━━━━━━━━━\u001b[0m\u001b[37m\u001b[0m \u001b[1m0s\u001b[0m 2ms/step - loss: 39.3901 - mean_absolute_error: 2.9582 - val_loss: 31.0957 - val_mean_absolute_error: 2.6146\n",
      "Epoch 120/300\n",
      "\u001b[1m165/165\u001b[0m \u001b[32m━━━━━━━━━━━━━━━━━━━━\u001b[0m\u001b[37m\u001b[0m \u001b[1m0s\u001b[0m 1ms/step - loss: 39.4769 - mean_absolute_error: 2.9448 - val_loss: 32.3207 - val_mean_absolute_error: 2.6711\n",
      "Epoch 121/300\n",
      "\u001b[1m165/165\u001b[0m \u001b[32m━━━━━━━━━━━━━━━━━━━━\u001b[0m\u001b[37m\u001b[0m \u001b[1m0s\u001b[0m 1ms/step - loss: 39.2022 - mean_absolute_error: 2.9577 - val_loss: 28.9687 - val_mean_absolute_error: 2.5030\n",
      "Epoch 122/300\n",
      "\u001b[1m165/165\u001b[0m \u001b[32m━━━━━━━━━━━━━━━━━━━━\u001b[0m\u001b[37m\u001b[0m \u001b[1m0s\u001b[0m 1ms/step - loss: 38.8299 - mean_absolute_error: 2.9368 - val_loss: 30.4617 - val_mean_absolute_error: 2.6428\n"
     ]
    }
   ],
   "source": [
    "early_stop = EarlyStopping(monitor='val_loss', patience=50, restore_best_weights=True)\n",
    "\n",
    "# Train the model\n",
    "history = model.fit(X_train, y_train, validation_data=(X_val, y_val),\n",
    "        epochs=300,batch_size = 128,callbacks=[early_stop], verbose=1)"
   ]
  },
  {
   "cell_type": "code",
   "execution_count": 16,
   "metadata": {},
   "outputs": [
    {
     "data": {
      "text/plain": [
       "<matplotlib.legend.Legend at 0x2c10d3fbe50>"
      ]
     },
     "execution_count": 16,
     "metadata": {},
     "output_type": "execute_result"
    },
    {
     "data": {
      "image/png": "[encoded data removed]",
      "text/plain": [
       "<Figure size 1500x800 with 1 Axes>"
      ]
     },
     "metadata": {},
     "output_type": "display_data"
    },
    {
     "data": {
      "image/png": "[encoded data removed]",
      "text/plain": [
       "<Figure size 1500x800 with 1 Axes>"
      ]
     },
     "metadata": {},
     "output_type": "display_data"
    }
   ],
   "source": [
    "fig, ax = plt.subplots(figsize=(15, 8))\n",
    "ax.plot(history.history['loss'], label='Training MSE', color='orange', linewidth=2, markersize=6)\n",
    "ax.plot(history.history['val_loss'], label='Validation MSE', color='blue', linewidth=2, markersize=6)\n",
    "ax.set_title('MSE (loss)')\n",
    "ax.set_xlabel('Epoch')\n",
    "ax.set_ylabel('MSE')\n",
    "ax.legend()\n",
    "\n",
    "fig, ax = plt.subplots(figsize=(15, 8))\n",
    "ax.plot(history.history['mean_absolute_error'], label='Training MAE', color='orange', linewidth=2, markersize=6)\n",
    "ax.plot(history.history['val_mean_absolute_error'], label='Validation MAE', color='blue', linewidth=2, markersize=6)\n",
    "ax.set_title('MAE')\n",
    "ax.set_xlabel('Epoch')\n",
    "ax.set_ylabel('MAE')\n",
    "ax.legend()"
   ]
  },
  {
   "cell_type": "code",
   "execution_count": 17,
   "metadata": {},
   "outputs": [],
   "source": [
    "# MAE is 2.4 Kwh is kind of acceptable, which means the model can monitor energy consumption.\n",
    "# Model does not overfit."
   ]
  },
  {
   "cell_type": "code",
   "execution_count": null,
   "metadata": {},
   "outputs": [
    {
     "name": "stdout",
     "output_type": "stream",
     "text": [
      "\u001b[1m83/83\u001b[0m \u001b[32m━━━━━━━━━━━━━━━━━━━━\u001b[0m\u001b[37m\u001b[0m \u001b[1m0s\u001b[0m 651us/step\n"
     ]
    }
   ],
   "source": [
    "# Making predictions:\n",
    "y_pred = model.predict(X_test)\n",
    "# Calculate metrics\n",
    "mse = mean_squared_error(y_test, y_pred)\n",
    "rmse = np.sqrt(mse)\n",
    "mae = mean_absolute_error(y_test, y_pred)\n",
    "r2 = r2_score(y_test, y_pred)"
   ]
  },
  {
   "cell_type": "code",
   "execution_count": null,
   "metadata": {},
   "outputs": [
    {
     "name": "stdout",
     "output_type": "stream",
     "text": [
      "Metrics:\n",
      "MSE: 12.8310\n",
      "RMSE: 3.5820\n",
      "MAE: 1.7731\n",
      "R²: 0.9770\n"
     ]
    }
   ],
   "source": [
    "metrics = {'MSE': mse,'RMSE': rmse,'MAE': mae,'R²': r2}\n",
    "print(\"Metrics:\")\n",
    "for metric, value in metrics.items():\n",
    "    print(f\"{metric}: {value:.4f}\")"
   ]
  },
  {
   "cell_type": "code",
   "execution_count": 20,
   "metadata": {},
   "outputs": [],
   "source": [
    "# It seems that the model is trained well.\n",
    "# R2 shows that the model explains 97.4 % of the variance in energy usage.\n",
    "# MAE is 1.91 kWh, the model predicts by average 1.91 kWh error."
   ]
  },
  {
   "cell_type": "code",
   "execution_count": 27,
   "metadata": {},
   "outputs": [
    {
     "data": {
      "image/png": "[encoded data removed]",
      "text/plain": [
       "<Figure size 800x600 with 1 Axes>"
      ]
     },
     "metadata": {},
     "output_type": "display_data"
    }
   ],
   "source": [
    "sns.set_style(\"whitegrid\")\n",
    "plt.figure(figsize=(8, 6))\n",
    "sns.scatterplot(x=y_test, y=y_pred.flatten(), alpha=0.6)\n",
    "plt.plot([y_test.min(), y_test.max()], [y_test.min(), y_test.max()], 'r--', lw=2)\n",
    "plt.xlabel('Actual Usage_kWh')\n",
    "plt.ylabel('Predicted Usage_kWh')\n",
    "plt.title('Predictions vs Actual')\n",
    "plt.tight_layout()\n",
    "plt.show()"
   ]
  },
  {
   "cell_type": "markdown",
   "metadata": {},
   "source": [
    "<center><h2>Hyperparameter Tuning the ANN Model<h2></center>"
   ]
  },
  {
   "cell_type": "code",
   "execution_count": null,
   "metadata": {},
   "outputs": [],
   "source": [
    "# After defining the model architecture and I picked the hyperameter manually.\n",
    "# Now I am going to use Keras Tuner to find the best hyperparameters for my model.\n",
    "# There are many algorithms for searching hyperparameters, Grid Search, Random Search, and Bayesian Optimization \n",
    "# I will use Bayesian Optimization, it uses past trail results to choose the next hyperparams\n",
    "\n",
    "def ann_model(hp):\n",
    "    model = Sequential()\n",
    "    # Here I will define number of layers and neurons\n",
    "    # 2-4 Hidden layers and 16 - 256 neurons\n",
    "    for i in range(hp.Int('num_layers', 2, 4)):\n",
    "        model.add(layers.Dense(units = hp.Int(f'layers_{i}', min_value=16, max_value=256, step=16),\n",
    "                               activation = hp.Choice('activation', values=['relu', 'tanh'])))\n",
    "        \n",
    "        # let's tune dropout \n",
    "        model.add(Dropout(rate=hp.Float(f'dropout_{i}', min_value=0.1, max_value=0.5, step=0.1)))\n",
    "\n",
    "    # Output layer (outside the loop)\n",
    "    model.add(layers.Dense(units=1))\n",
    "\n",
    "    \n",
    "    # Tuning Optimizer and learning rate \n",
    "    learning_rate_tune = hp.Float('learning_rate', 1e-4, 1e-2, sampling='LOG')\n",
    "    # The tuner will try each one to see which works best for energy DS\n",
    "    optimizer_tune = hp.Choice('optimizer', values=['adam', 'rmsprop', 'sgd'])\n",
    "   # Since each optimizer handles learning rates differently, I need to set the learning rate for each one\n",
    "    if optimizer_tune == 'adam':\n",
    "        optimizer = Adam(learning_rate=learning_rate_tune)\n",
    "    # RMSprop adjusts it based on recent gradients\n",
    "    elif optimizer_tune == 'rmsprop':\n",
    "        optimizer = RMSprop(learning_rate=learning_rate_tune)\n",
    "    else:\n",
    "        optimizer = SGD(learning_rate=learning_rate_tune)\n",
    "    # Compiling the Model\n",
    "    model.compile(optimizer=optimizer, loss='mean_squared_error', metrics=['mae'])\n",
    "    return model\n",
    "\n",
    "\n",
    "\n",
    "# Searching \n",
    "tuner = kt.BayesianOptimization(\n",
    "    ann_model,\n",
    "    objective='val_loss',\n",
    "    max_trials=20, \n",
    "    directory='tuner_results',\n",
    "    project_name='steel_energy')\n",
    "\n",
    "# Searching for best hyperparameters\n",
    "tuner.search(\n",
    "    X_train, y_train,\n",
    "    epochs=50,\n",
    "    validation_data=(X_val, y_val),\n",
    "    callbacks=[keras.callbacks.EarlyStopping(patience=5)],\n",
    "    verbose=1\n",
    ")\n",
    "\n",
    "# Getting best model and hyperparameters:\n",
    "# Finding the one with the lowest validation loss\n",
    "best_hyperparameters = tuner.get_best_hyperparameters(num_trials=1)[0]\n",
    "best_model = tuner.hypermodel.build(best_hyperparameters)"
   ]
  },
  {
   "cell_type": "code",
   "execution_count": 291,
   "metadata": {},
   "outputs": [
    {
     "data": {
      "application/vnd.microsoft.datawrangler.viewer.v0+json": {
       "columns": [
        {
         "name": "index",
         "rawType": "int64",
         "type": "integer"
        },
        {
         "name": "index",
         "rawType": "object",
         "type": "string"
        },
        {
         "name": "0",
         "rawType": "object",
         "type": "unknown"
        }
       ],
       "ref": "95dbd546-b76a-462f-8d99-8b2e877262e8",
       "rows": [
        [
         "0",
         "num_layers",
         "2"
        ],
        [
         "1",
         "layers_0",
         "256"
        ],
        [
         "2",
         "activation",
         "tanh"
        ],
        [
         "3",
         "dropout_0",
         "0.2"
        ],
        [
         "4",
         "layers_1",
         "192"
        ],
        [
         "5",
         "dropout_1",
         "0.1"
        ],
        [
         "6",
         "optimizer",
         "adam"
        ],
        [
         "7",
         "learning_rate",
         "0.00031379448250526605"
        ],
        [
         "8",
         "layers_2",
         "32"
        ],
        [
         "9",
         "dropout_2",
         "0.1"
        ],
        [
         "10",
         "layers_3",
         "48"
        ],
        [
         "11",
         "dropout_3",
         "0.2"
        ]
       ],
       "shape": {
        "columns": 2,
        "rows": 12
       }
      },
      "text/html": [
       "<div>\n",
       "<style scoped>\n",
       "    .dataframe tbody tr th:only-of-type {\n",
       "        vertical-align: middle;\n",
       "    }\n",
       "\n",
       "    .dataframe tbody tr th {\n",
       "        vertical-align: top;\n",
       "    }\n",
       "\n",
       "    .dataframe thead th {\n",
       "        text-align: right;\n",
       "    }\n",
       "</style>\n",
       "<table border=\"1\" class=\"dataframe\">\n",
       "  <thead>\n",
       "    <tr style=\"text-align: right;\">\n",
       "      <th></th>\n",
       "      <th>index</th>\n",
       "      <th>0</th>\n",
       "    </tr>\n",
       "  </thead>\n",
       "  <tbody>\n",
       "    <tr>\n",
       "      <th>0</th>\n",
       "      <td>num_layers</td>\n",
       "      <td>2</td>\n",
       "    </tr>\n",
       "    <tr>\n",
       "      <th>1</th>\n",
       "      <td>layers_0</td>\n",
       "      <td>256</td>\n",
       "    </tr>\n",
       "    <tr>\n",
       "      <th>2</th>\n",
       "      <td>activation</td>\n",
       "      <td>tanh</td>\n",
       "    </tr>\n",
       "    <tr>\n",
       "      <th>3</th>\n",
       "      <td>dropout_0</td>\n",
       "      <td>0.2</td>\n",
       "    </tr>\n",
       "    <tr>\n",
       "      <th>4</th>\n",
       "      <td>layers_1</td>\n",
       "      <td>192</td>\n",
       "    </tr>\n",
       "    <tr>\n",
       "      <th>5</th>\n",
       "      <td>dropout_1</td>\n",
       "      <td>0.1</td>\n",
       "    </tr>\n",
       "    <tr>\n",
       "      <th>6</th>\n",
       "      <td>optimizer</td>\n",
       "      <td>adam</td>\n",
       "    </tr>\n",
       "    <tr>\n",
       "      <th>7</th>\n",
       "      <td>learning_rate</td>\n",
       "      <td>0.000314</td>\n",
       "    </tr>\n",
       "    <tr>\n",
       "      <th>8</th>\n",
       "      <td>layers_2</td>\n",
       "      <td>32</td>\n",
       "    </tr>\n",
       "    <tr>\n",
       "      <th>9</th>\n",
       "      <td>dropout_2</td>\n",
       "      <td>0.1</td>\n",
       "    </tr>\n",
       "    <tr>\n",
       "      <th>10</th>\n",
       "      <td>layers_3</td>\n",
       "      <td>48</td>\n",
       "    </tr>\n",
       "    <tr>\n",
       "      <th>11</th>\n",
       "      <td>dropout_3</td>\n",
       "      <td>0.2</td>\n",
       "    </tr>\n",
       "  </tbody>\n",
       "</table>\n",
       "</div>"
      ],
      "text/plain": [
       "            index         0\n",
       "0      num_layers         2\n",
       "1        layers_0       256\n",
       "2      activation      tanh\n",
       "3       dropout_0       0.2\n",
       "4        layers_1       192\n",
       "5       dropout_1       0.1\n",
       "6       optimizer      adam\n",
       "7   learning_rate  0.000314\n",
       "8        layers_2        32\n",
       "9       dropout_2       0.1\n",
       "10       layers_3        48\n",
       "11      dropout_3       0.2"
      ]
     },
     "execution_count": 291,
     "metadata": {},
     "output_type": "execute_result"
    }
   ],
   "source": [
    "tuned_params =  best_hyperparameters.values\n",
    "tuned_params = pd.DataFrame.from_dict(tuned_params, orient='index').reset_index()\n",
    "tuned_params"
   ]
  }
 ],
 "metadata": {
  "kernelspec": {
   "display_name": ".venv",
   "language": "python",
   "name": "python3"
  },
  "language_info": {
   "codemirror_mode": {
    "name": "ipython",
    "version": 3
   },
   "file_extension": ".py",
   "mimetype": "text/x-python",
   "name": "python",
   "nbconvert_exporter": "python",
   "pygments_lexer": "ipython3",
   "version": "3.10.11"
  }
 },
 "nbformat": 4,
 "nbformat_minor": 2
}
